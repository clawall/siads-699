{
 "cells": [
  {
   "cell_type": "code",
   "execution_count": 1,
   "metadata": {
    "colab": {
     "base_uri": "https://localhost:8080/",
     "height": 360
    },
    "executionInfo": {
     "elapsed": 1068,
     "status": "ok",
     "timestamp": 1744751856280,
     "user": {
      "displayName": "Darienne Sautter",
      "userId": "10995788764880905589"
     },
     "user_tz": 240
    },
    "id": "7MLvCQCT9rJw",
    "outputId": "8a903e62-021c-48a2-8f70-c7e675e9f259"
   },
   "outputs": [
    {
     "data": {
      "text/html": [
       "<div>\n",
       "<style scoped>\n",
       "    .dataframe tbody tr th:only-of-type {\n",
       "        vertical-align: middle;\n",
       "    }\n",
       "\n",
       "    .dataframe tbody tr th {\n",
       "        vertical-align: top;\n",
       "    }\n",
       "\n",
       "    .dataframe thead th {\n",
       "        text-align: right;\n",
       "    }\n",
       "</style>\n",
       "<table border=\"1\" class=\"dataframe\">\n",
       "  <thead>\n",
       "    <tr style=\"text-align: right;\">\n",
       "      <th></th>\n",
       "      <th>timestamp</th>\n",
       "      <th>price</th>\n",
       "      <th>tweet_id</th>\n",
       "      <th>handle</th>\n",
       "      <th>ticker</th>\n",
       "      <th>sentiment_label</th>\n",
       "      <th>sentiment_score</th>\n",
       "      <th>top_topic</th>\n",
       "      <th>Technology</th>\n",
       "      <th>Healthcare and Pharmaceuticals</th>\n",
       "      <th>...</th>\n",
       "      <th>Energy</th>\n",
       "      <th>Agriculture</th>\n",
       "      <th>Automotive</th>\n",
       "      <th>minutes_since_tweet</th>\n",
       "      <th>log_return</th>\n",
       "      <th>volatility</th>\n",
       "      <th>price_change_pct</th>\n",
       "      <th>average_volatility</th>\n",
       "      <th>price_spike</th>\n",
       "      <th>weighted_volatility</th>\n",
       "    </tr>\n",
       "  </thead>\n",
       "  <tbody>\n",
       "    <tr>\n",
       "      <th>0</th>\n",
       "      <td>2016-12-05 12:15:00</td>\n",
       "      <td>99.002000</td>\n",
       "      <td>805384490533212160</td>\n",
       "      <td>@realDonaldTrump</td>\n",
       "      <td>WYNN</td>\n",
       "      <td>Neutral</td>\n",
       "      <td>0.949813</td>\n",
       "      <td>Technology</td>\n",
       "      <td>0.464619</td>\n",
       "      <td>0.449575</td>\n",
       "      <td>...</td>\n",
       "      <td>0.318766</td>\n",
       "      <td>0.122376</td>\n",
       "      <td>0.381047</td>\n",
       "      <td>1441.658</td>\n",
       "      <td>NaN</td>\n",
       "      <td>0.017418</td>\n",
       "      <td>NaN</td>\n",
       "      <td>0.321163</td>\n",
       "      <td>0</td>\n",
       "      <td>0.017418</td>\n",
       "    </tr>\n",
       "    <tr>\n",
       "      <th>1</th>\n",
       "      <td>2016-12-05 12:15:00</td>\n",
       "      <td>27.458544</td>\n",
       "      <td>805384490533212160</td>\n",
       "      <td>@realDonaldTrump</td>\n",
       "      <td>FOX</td>\n",
       "      <td>Neutral</td>\n",
       "      <td>0.949813</td>\n",
       "      <td>Technology</td>\n",
       "      <td>0.464619</td>\n",
       "      <td>0.449575</td>\n",
       "      <td>...</td>\n",
       "      <td>0.318766</td>\n",
       "      <td>0.122376</td>\n",
       "      <td>0.381047</td>\n",
       "      <td>1441.658</td>\n",
       "      <td>-1.282463</td>\n",
       "      <td>0.004898</td>\n",
       "      <td>NaN</td>\n",
       "      <td>0.058880</td>\n",
       "      <td>1</td>\n",
       "      <td>0.007542</td>\n",
       "    </tr>\n",
       "    <tr>\n",
       "      <th>2</th>\n",
       "      <td>2016-12-05 12:15:00</td>\n",
       "      <td>61.312195</td>\n",
       "      <td>805384490533212160</td>\n",
       "      <td>@realDonaldTrump</td>\n",
       "      <td>LVS</td>\n",
       "      <td>Neutral</td>\n",
       "      <td>0.949813</td>\n",
       "      <td>Technology</td>\n",
       "      <td>0.464619</td>\n",
       "      <td>0.449575</td>\n",
       "      <td>...</td>\n",
       "      <td>0.318766</td>\n",
       "      <td>0.122376</td>\n",
       "      <td>0.381047</td>\n",
       "      <td>1441.658</td>\n",
       "      <td>NaN</td>\n",
       "      <td>0.016306</td>\n",
       "      <td>NaN</td>\n",
       "      <td>0.125180</td>\n",
       "      <td>1</td>\n",
       "      <td>0.034060</td>\n",
       "    </tr>\n",
       "    <tr>\n",
       "      <th>3</th>\n",
       "      <td>2016-12-05 12:15:00</td>\n",
       "      <td>29.001725</td>\n",
       "      <td>805384490533212160</td>\n",
       "      <td>@realDonaldTrump</td>\n",
       "      <td>MGM</td>\n",
       "      <td>Neutral</td>\n",
       "      <td>0.949813</td>\n",
       "      <td>Technology</td>\n",
       "      <td>0.464619</td>\n",
       "      <td>0.449575</td>\n",
       "      <td>...</td>\n",
       "      <td>0.318766</td>\n",
       "      <td>0.122376</td>\n",
       "      <td>0.381047</td>\n",
       "      <td>1441.658</td>\n",
       "      <td>-0.748623</td>\n",
       "      <td>0.007139</td>\n",
       "      <td>NaN</td>\n",
       "      <td>0.062956</td>\n",
       "      <td>1</td>\n",
       "      <td>0.011124</td>\n",
       "    </tr>\n",
       "    <tr>\n",
       "      <th>4</th>\n",
       "      <td>2016-12-05 12:16:00</td>\n",
       "      <td>98.930269</td>\n",
       "      <td>805384490533212160</td>\n",
       "      <td>@realDonaldTrump</td>\n",
       "      <td>WYNN</td>\n",
       "      <td>Neutral</td>\n",
       "      <td>0.949813</td>\n",
       "      <td>Technology</td>\n",
       "      <td>0.464619</td>\n",
       "      <td>0.449575</td>\n",
       "      <td>...</td>\n",
       "      <td>0.318766</td>\n",
       "      <td>0.122376</td>\n",
       "      <td>0.381047</td>\n",
       "      <td>1442.658</td>\n",
       "      <td>1.227060</td>\n",
       "      <td>0.036447</td>\n",
       "      <td>NaN</td>\n",
       "      <td>0.321163</td>\n",
       "      <td>1</td>\n",
       "      <td>0.140217</td>\n",
       "    </tr>\n",
       "  </tbody>\n",
       "</table>\n",
       "<p>5 rows × 23 columns</p>\n",
       "</div>"
      ],
      "text/plain": [
       "            timestamp      price            tweet_id            handle ticker  \\\n",
       "0 2016-12-05 12:15:00  99.002000  805384490533212160  @realDonaldTrump   WYNN   \n",
       "1 2016-12-05 12:15:00  27.458544  805384490533212160  @realDonaldTrump    FOX   \n",
       "2 2016-12-05 12:15:00  61.312195  805384490533212160  @realDonaldTrump    LVS   \n",
       "3 2016-12-05 12:15:00  29.001725  805384490533212160  @realDonaldTrump    MGM   \n",
       "4 2016-12-05 12:16:00  98.930269  805384490533212160  @realDonaldTrump   WYNN   \n",
       "\n",
       "  sentiment_label  sentiment_score   top_topic  Technology  \\\n",
       "0         Neutral         0.949813  Technology    0.464619   \n",
       "1         Neutral         0.949813  Technology    0.464619   \n",
       "2         Neutral         0.949813  Technology    0.464619   \n",
       "3         Neutral         0.949813  Technology    0.464619   \n",
       "4         Neutral         0.949813  Technology    0.464619   \n",
       "\n",
       "   Healthcare and Pharmaceuticals  ...    Energy  Agriculture  Automotive  \\\n",
       "0                        0.449575  ...  0.318766     0.122376    0.381047   \n",
       "1                        0.449575  ...  0.318766     0.122376    0.381047   \n",
       "2                        0.449575  ...  0.318766     0.122376    0.381047   \n",
       "3                        0.449575  ...  0.318766     0.122376    0.381047   \n",
       "4                        0.449575  ...  0.318766     0.122376    0.381047   \n",
       "\n",
       "   minutes_since_tweet  log_return  volatility  price_change_pct  \\\n",
       "0             1441.658         NaN    0.017418               NaN   \n",
       "1             1441.658   -1.282463    0.004898               NaN   \n",
       "2             1441.658         NaN    0.016306               NaN   \n",
       "3             1441.658   -0.748623    0.007139               NaN   \n",
       "4             1442.658    1.227060    0.036447               NaN   \n",
       "\n",
       "   average_volatility  price_spike  weighted_volatility  \n",
       "0            0.321163            0             0.017418  \n",
       "1            0.058880            1             0.007542  \n",
       "2            0.125180            1             0.034060  \n",
       "3            0.062956            1             0.011124  \n",
       "4            0.321163            1             0.140217  \n",
       "\n",
       "[5 rows x 23 columns]"
      ]
     },
     "execution_count": 1,
     "metadata": {},
     "output_type": "execute_result"
    }
   ],
   "source": [
    "import pandas as pd\n",
    "\n",
    "volatility_df = pd.read_csv(\"../data/filtered_volatility_df.csv\", parse_dates=[\"timestamp\"])\n",
    "volatility_df.head()"
   ]
  },
  {
   "cell_type": "markdown",
   "metadata": {
    "id": "j3diWc_YQNhi"
   },
   "source": [
    "# Apply **ARIMA** forecasting"
   ]
  },
  {
   "cell_type": "code",
   "execution_count": 12,
   "metadata": {
    "executionInfo": {
     "elapsed": 981,
     "status": "ok",
     "timestamp": 1744751862476,
     "user": {
      "displayName": "Darienne Sautter",
      "userId": "10995788764880905589"
     },
     "user_tz": 240
    },
    "id": "z11aGC7dQHJV"
   },
   "outputs": [],
   "source": [
    "import pandas as pd\n",
    "from statsmodels.tsa.arima.model import ARIMA\n",
    "from statsmodels.tsa.holtwinters import ExponentialSmoothing\n",
    "import matplotlib.pyplot as plt"
   ]
  },
  {
   "cell_type": "code",
   "execution_count": 3,
   "metadata": {
    "id": "guur2XvMQFeU"
   },
   "outputs": [],
   "source": [
    "def arima_forecast(df, column='weighted_volatility', steps=10):\n",
    "\n",
    "    df.reset_index(inplace=True)\n",
    "    df.set_index('timestamp', inplace=True)\n",
    "\n",
    "    df = df.loc[~df.index.duplicated(keep='first')]\n",
    "\n",
    "    df = df.asfreq('s')  # Set frequency to 's' (seconds)\n",
    "\n",
    "    series = df[column].dropna()\n",
    "\n",
    "    #fit ARIMA model\n",
    "    model = ARIMA(series, order=(1, 1, 1))\n",
    "    model_fit = model.fit()\n",
    "\n",
    "    #forecast future values\n",
    "    forecast = model_fit.forecast(steps=steps)\n",
    "\n",
    "    # Create a date range\n",
    "    forecast_dates = pd.date_range(df.index[-1], periods=steps + 1, freq='s')[1:]\n",
    "\n",
    "    return pd.Series(forecast.values, index=forecast_dates, name=f'{column}_ARIMA_Forecast')"
   ]
  },
  {
   "cell_type": "code",
   "execution_count": 4,
   "metadata": {
    "id": "3h9D9ZfOQdxa"
   },
   "outputs": [
    {
     "name": "stderr",
     "output_type": "stream",
     "text": [
      "/Users/clawall/estudo/siads-699/.env/lib/python3.9/site-packages/statsmodels/tsa/base/tsa_model.py:473: ValueWarning: A date index has been provided, but it has no associated frequency information and so will be ignored when e.g. forecasting.\n",
      "  self._init_dates(dates, freq)\n",
      "/Users/clawall/estudo/siads-699/.env/lib/python3.9/site-packages/statsmodels/tsa/base/tsa_model.py:473: ValueWarning: A date index has been provided, but it has no associated frequency information and so will be ignored when e.g. forecasting.\n",
      "  self._init_dates(dates, freq)\n",
      "/Users/clawall/estudo/siads-699/.env/lib/python3.9/site-packages/statsmodels/tsa/base/tsa_model.py:473: ValueWarning: A date index has been provided, but it has no associated frequency information and so will be ignored when e.g. forecasting.\n",
      "  self._init_dates(dates, freq)\n",
      "/Users/clawall/estudo/siads-699/.env/lib/python3.9/site-packages/statsmodels/tsa/base/tsa_model.py:837: ValueWarning: No supported index is available. Prediction results will be given with an integer index beginning at `start`.\n",
      "  return get_prediction_index(\n",
      "/Users/clawall/estudo/siads-699/.env/lib/python3.9/site-packages/statsmodels/tsa/base/tsa_model.py:837: FutureWarning: No supported index is available. In the next version, calling this method in a model without a supported index will result in an exception.\n",
      "  return get_prediction_index(\n"
     ]
    }
   ],
   "source": [
    "arima_forecasted = arima_forecast(volatility_df, column='weighted_volatility', steps=10)"
   ]
  },
  {
   "cell_type": "code",
   "execution_count": 13,
   "metadata": {},
   "outputs": [
    {
     "data": {
      "text/plain": [
       "2020-12-30 16:00:01            NaN\n",
       "2020-12-30 16:00:02            NaN\n",
       "2020-12-30 16:00:03    1142.064110\n",
       "2020-12-30 16:00:04    1370.719516\n",
       "2020-12-30 16:00:05    1429.671086\n",
       "2020-12-30 16:00:06    1444.869885\n",
       "2020-12-30 16:00:07    1448.788416\n",
       "2020-12-30 16:00:08    1449.798685\n",
       "2020-12-30 16:00:09    1450.059151\n",
       "2020-12-30 16:00:10    1450.126304\n",
       "Freq: s, Name: weighted_volatility_ARIMA_Forecast, dtype: float64"
      ]
     },
     "execution_count": 13,
     "metadata": {},
     "output_type": "execute_result"
    }
   ],
   "source": [
    "forecasted_values_smoothed = arima_forecasted.rolling(window=3).mean()\n",
    "\n",
    "forecasted_values_smoothed"
   ]
  },
  {
   "cell_type": "markdown",
   "metadata": {
    "id": "HB9sLMy5RroJ"
   },
   "source": [
    "# Apply **GARCH** forecasting"
   ]
  },
  {
   "cell_type": "code",
   "execution_count": null,
   "metadata": {
    "colab": {
     "base_uri": "https://localhost:8080/"
    },
    "collapsed": true,
    "executionInfo": {
     "elapsed": 4021,
     "status": "ok",
     "timestamp": 1744733895335,
     "user": {
      "displayName": "Darienne Sautter",
      "userId": "10995788764880905589"
     },
     "user_tz": 240
    },
    "id": "MdFYYvr0KJ4K",
    "jupyter": {
     "outputs_hidden": true
    },
    "outputId": "7b992cab-ce1e-474a-9d60-2e4d3fdbe659"
   },
   "outputs": [
    {
     "name": "stdout",
     "output_type": "stream",
     "text": [
      "Collecting arch\n",
      "  Downloading arch-7.2.0-cp311-cp311-manylinux_2_17_x86_64.manylinux2014_x86_64.whl.metadata (13 kB)\n",
      "Requirement already satisfied: numpy>=1.22.3 in /usr/local/lib/python3.11/dist-packages (from arch) (2.0.2)\n",
      "Requirement already satisfied: scipy>=1.8 in /usr/local/lib/python3.11/dist-packages (from arch) (1.14.1)\n",
      "Requirement already satisfied: pandas>=1.4 in /usr/local/lib/python3.11/dist-packages (from arch) (2.2.2)\n",
      "Requirement already satisfied: statsmodels>=0.12 in /usr/local/lib/python3.11/dist-packages (from arch) (0.14.4)\n",
      "Requirement already satisfied: python-dateutil>=2.8.2 in /usr/local/lib/python3.11/dist-packages (from pandas>=1.4->arch) (2.8.2)\n",
      "Requirement already satisfied: pytz>=2020.1 in /usr/local/lib/python3.11/dist-packages (from pandas>=1.4->arch) (2025.2)\n",
      "Requirement already satisfied: tzdata>=2022.7 in /usr/local/lib/python3.11/dist-packages (from pandas>=1.4->arch) (2025.2)\n",
      "Requirement already satisfied: patsy>=0.5.6 in /usr/local/lib/python3.11/dist-packages (from statsmodels>=0.12->arch) (1.0.1)\n",
      "Requirement already satisfied: packaging>=21.3 in /usr/local/lib/python3.11/dist-packages (from statsmodels>=0.12->arch) (24.2)\n",
      "Requirement already satisfied: six>=1.5 in /usr/local/lib/python3.11/dist-packages (from python-dateutil>=2.8.2->pandas>=1.4->arch) (1.17.0)\n",
      "Downloading arch-7.2.0-cp311-cp311-manylinux_2_17_x86_64.manylinux2014_x86_64.whl (985 kB)\n",
      "\u001b[2K   \u001b[90m━━━━━━━━━━━━━━━━━━━━━━━━━━━━━━━━━━━━━━━━\u001b[0m \u001b[32m985.3/985.3 kB\u001b[0m \u001b[31m11.0 MB/s\u001b[0m eta \u001b[36m0:00:00\u001b[0m\n",
      "\u001b[?25hInstalling collected packages: arch\n",
      "Successfully installed arch-7.2.0\n"
     ]
    }
   ],
   "source": [
    "!pip install arch"
   ]
  },
  {
   "cell_type": "code",
   "execution_count": 9,
   "metadata": {
    "id": "7KrhYDZKKShh"
   },
   "outputs": [],
   "source": [
    "import pandas as pd\n",
    "import numpy as np\n",
    "from statsmodels.tsa.arima.model import ARIMA\n",
    "from arch import arch_model\n",
    "import matplotlib.pyplot as plt"
   ]
  },
  {
   "cell_type": "code",
   "execution_count": 26,
   "metadata": {
    "id": "G2iT0mMdQZVT"
   },
   "outputs": [],
   "source": [
    "def garch_forecast(df, column='weighted_volatility', steps=5):\n",
    "    if 'timestamp' not in df.columns:\n",
    "        df.reset_index(inplace=True)  # Ensure timestamp column is kept\n",
    "    df.set_index('timestamp', inplace=True)\n",
    "\n",
    "    df = df.loc[~df.index.duplicated(keep='first')]\n",
    "    df = df.asfreq('s')  # Set frequency to 's' (seconds)\n",
    "\n",
    "\n",
    "    returns = df[column].dropna()\n",
    "    returns_scaled = returns * 0.0001\n",
    "\n",
    "    # Fit GARCH(1, 1) model\n",
    "    model = arch_model(returns_scaled, vol='Garch', p=1, q=1)\n",
    "    model_fit = model.fit()\n",
    "\n",
    "    # Forecast volatility\n",
    "    forecast_volatility = model_fit.forecast(horizon=steps)\n",
    "\n",
    "    # Get forecasted variance\n",
    "    forecast_variance = forecast_volatility.variance.values[-1, :]\n",
    "    forecast_volatility = pd.Series(np.sqrt(forecast_variance), index=pd.date_range(df.index[-1], periods=steps + 1, freq='s')[1:], name=f'{column}_GARCH_Forecast')\n",
    "\n",
    "    return forecast_volatility\n"
   ]
  },
  {
   "cell_type": "code",
   "execution_count": null,
   "metadata": {
    "id": "YaTJHXarQSj3"
   },
   "outputs": [],
   "source": [
    "garch_forecasted = garch_forecast(volatility_df, column='weighted_volatility', steps=5)\n",
    "volatility_df['GARCH_Forecast'] = garch_forecasted\n",
    "\n",
    "volatility_df.head()"
   ]
  },
  {
   "cell_type": "code",
   "execution_count": null,
   "metadata": {},
   "outputs": [],
   "source": [
    "garch_forecasted"
   ]
  },
  {
   "cell_type": "code",
   "execution_count": null,
   "metadata": {},
   "outputs": [],
   "source": [
    "volatility_df.to_csv('../data/garch_forecasted.csv')"
   ]
  }
 ],
 "metadata": {
  "accelerator": "GPU",
  "colab": {
   "authorship_tag": "ABX9TyO93HQPCnk+3VmZf3qhz6Zg",
   "gpuType": "T4",
   "provenance": [
    {
     "file_id": "1cBWmcXX5aXZHmxWH4944C2WVZKgGw2TH",
     "timestamp": 1744733224545
    }
   ]
  },
  "kernelspec": {
   "display_name": "Python 3 (ipykernel)",
   "language": "python",
   "name": "python3"
  },
  "language_info": {
   "codemirror_mode": {
    "name": "ipython",
    "version": 3
   },
   "file_extension": ".py",
   "mimetype": "text/x-python",
   "name": "python",
   "nbconvert_exporter": "python",
   "pygments_lexer": "ipython3",
   "version": "3.9.6"
  }
 },
 "nbformat": 4,
 "nbformat_minor": 4
}
