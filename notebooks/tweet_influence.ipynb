{
 "cells": [
  {
   "cell_type": "code",
   "execution_count": 1,
   "id": "afe7dacd-c918-4617-9bd8-e5673cbbee32",
   "metadata": {},
   "outputs": [],
   "source": [
    "import pandas as pd\n",
    "import warnings\n",
    "from __future__ import annotations\n",
    "from statsmodels.tools.sm_exceptions import ConvergenceWarning\n",
    "from arch.univariate.base import DataScaleWarning\n",
    "\n",
    "warnings.filterwarnings('ignore')\n",
    "warnings.filterwarnings('ignore', category=DataScaleWarning)\n",
    "warnings.simplefilter(action='ignore', category=FutureWarning)\n",
    "warnings.filterwarnings('ignore', category=ConvergenceWarning)\n",
    "\n",
    "pd.set_option('display.max_colwidth', None)\n",
    "pd.set_option('display.max_columns', None)"
   ]
  },
  {
   "cell_type": "code",
   "execution_count": 2,
   "id": "a7ab7659-cf60-4f3f-a35e-d0fd2891fe63",
   "metadata": {},
   "outputs": [],
   "source": [
    "from typing import Optional\n",
    "import pandas as pd\n",
    "import numpy as np\n",
    "from zoneinfo import ZoneInfo\n",
    "from statsmodels.tsa.arima.model import ARIMA\n",
    "from arch import arch_model\n",
    "import statsmodels.api as sm\n",
    "\n",
    "###############################################################################\n",
    "# -----------------------------  CONFIG  --------------------------------------\n",
    "###############################################################################\n",
    "MARKET_TZ       = ZoneInfo('US/Eastern')\n",
    "TRADING_START   = '09:30'\n",
    "TRADING_END     = '16:00'\n",
    "TOPIC_THRESH    = 0.80\n",
    "ARIMA_ORDER     = (1, 0, 0)        # AR(1)\n",
    "KERNEL          = np.array([1.0])  # single‑minute impulse\n",
    "RET_SCALE = 1000        # 1 ≤ RET_SCALE ≤ 1000 recommended by arch\n",
    "###############################################################################\n",
    "\n",
    "# ────────────────────────  helpers  ───────────────────────────────────────────\n",
    "def to_market_time(utc_ts: pd.Timestamp) -> pd.Timestamp:\n",
    "    \"\"\"UTC → naive NY   (tz info stripped for speed).\"\"\"\n",
    "    return utc_ts.tz_convert(MARKET_TZ).tz_localize(None)\n",
    "\n",
    "def first_session_minute(ts_naive: pd.Timestamp,\n",
    "                         price_index: pd.DatetimeIndex) -> Optional[pd.Timestamp]:\n",
    "    \"\"\"Map a timestamp to first trading minute at/after ts in price_index.\"\"\"\n",
    "    if ts_naive > price_index[-1]:\n",
    "        return None\n",
    "    if ts_naive in price_index:\n",
    "        return ts_naive\n",
    "    pos = price_index.get_indexer([ts_naive], method='bfill')[0]\n",
    "    return price_index[pos] if pos != -1 else None\n",
    "\n",
    "def prepare_price_df(raw: pd.DataFrame) -> pd.Series:\n",
    "    \"\"\"Return minutely log‑returns on a *regular* grid (NaNs for gaps).\"\"\"\n",
    "    ts = (pd.to_datetime(raw['timestamp'])\n",
    "            .dt.tz_localize(MARKET_TZ, nonexistent='shift_forward',\n",
    "                            ambiguous='NaT')\n",
    "            .dt.tz_localize(None))\n",
    "\n",
    "    px = (raw.assign(timestamp=ts)\n",
    "              .set_index('timestamp')\n",
    "              .between_time(TRADING_START, TRADING_END)\n",
    "              ['avg_price']\n",
    "              .resample('1min')          # regular grid\n",
    "              .last()\n",
    "              .asfreq('1min')            # keep NaNs instead of dropping minutes\n",
    "           )\n",
    "\n",
    "    # convert to returns, drop NaNs from both resample and diff\n",
    "    returns = np.log(px).diff().dropna()\n",
    "\n",
    "    return returns\n",
    "\n",
    "def fit_baseline_garch(returns: pd.Series) -> pd.Series:\n",
    "    \"\"\"ARIMA(1) + GARCH(1,1) → squared standardised residuals.\"\"\"\n",
    "    ar_res   = ARIMA(returns, order=ARIMA_ORDER, trend='n').fit()\n",
    "    resid    = ar_res.resid\n",
    "    garch    = arch_model(resid, mean='Zero', vol='Garch', p=1, q=1).fit(disp='off')\n",
    "    return garch.std_resid ** 2\n",
    "\n",
    "def impulse_series(event_ts: pd.Timestamp,\n",
    "                   base_index: pd.DatetimeIndex,\n",
    "                   kernel: np.ndarray = KERNEL) -> pd.Series:\n",
    "    \"\"\"Series aligned to base_index, populated with kernel starting at event_ts.\"\"\"\n",
    "    s = pd.Series(0.0, index=base_index, name='impulse')\n",
    "    if event_ts in s.index:\n",
    "        start = s.index.get_loc(event_ts)\n",
    "        end   = min(start + len(kernel), len(s))\n",
    "        s.iloc[start:end] = kernel[:end - start]\n",
    "    return s\n",
    "\n",
    "# ──────────────────────  MAIN FUNCTION  ──────────────────────────────────────\n",
    "def run_event_study(tweets_df: pd.DataFrame,\n",
    "                    prices_df: pd.DataFrame,\n",
    "                    tickers_topics_df: pd.DataFrame,\n",
    "                    use_finbert:  bool = True\n",
    "                   ) -> pd.DataFrame:\n",
    "    \"\"\"\n",
    "    Parameters\n",
    "    ----------\n",
    "    tweets_df            : tweets + topic columns (FinBERT, zero‑shot, etc.)\n",
    "    prices_df            : *single big* TAQ‑style table with at least\n",
    "                           ['timestamp', 'avg_price', <ticker column>]\n",
    "    tickers_topics_df    : mapping table with columns ['ticker', 'topic']\n",
    "    \"\"\"\n",
    "    topic_to_tickers = (tickers_topics_df.groupby('topic')['ticker']\n",
    "                                        .apply(list)\n",
    "                                        .to_dict())\n",
    "    topic_cols = [c for c in tweets_df.columns if c in topic_to_tickers]\n",
    "\n",
    "    results = []\n",
    "\n",
    "    # 3) iterate over *each ticker* present in prices_df\n",
    "    for ticker, raw_px in prices_df.groupby('ticker', sort=False):\n",
    "        print(f'Evaluating stock {ticker}...')\n",
    "        \n",
    "        returns = prepare_price_df(raw_px)\n",
    "        if returns.empty:\n",
    "            continue\n",
    "        returns_scaled = returns * RET_SCALE\n",
    "        price_idx   = returns.index\n",
    "        std_resid2  = fit_baseline_garch(returns)\n",
    "\n",
    "        # select tweets whose high‑score topics map to THIS ticker\n",
    "        def tweet_relevant(row) -> bool:\n",
    "            high_topics = [t for t in topic_cols if row[t] >= TOPIC_THRESH]\n",
    "            return any(ticker in topic_to_tickers.get(t, []) for t in high_topics)\n",
    "\n",
    "        for _, tw in tweets_df.loc[tweets_df.apply(tweet_relevant, axis=1)].iterrows():\n",
    "            evt_ts = first_session_minute(\n",
    "                to_market_time(pd.to_datetime(tw['timestamp'])),\n",
    "                price_idx\n",
    "            )\n",
    "            if evt_ts is None:\n",
    "                continue\n",
    "\n",
    "            imp = None\n",
    "            if use_finbert:\n",
    "                # Use signed FinBERT sentiment to weight the impulse\n",
    "                if 'sentiment_label' in tw and 'sentiment_score' in tw:\n",
    "                    label = tw['sentiment_label']\n",
    "                    score = tw['sentiment_score']\n",
    "                    if label == 'Positive':\n",
    "                        weight = score\n",
    "                    elif label == 'Negative':\n",
    "                        weight = -score\n",
    "                    else:\n",
    "                        weight = 0.0\n",
    "                else:\n",
    "                    weight = 0.0\n",
    "                \n",
    "                imp = impulse_series(evt_ts, std_resid2.index, kernel=np.array([weight]))\n",
    "            else:\n",
    "                imp = impulse_series(evt_ts, std_resid2.index)\n",
    "\n",
    "            df_reg = pd.concat({'y': std_resid2, 'impulse': imp}, axis=1).dropna()\n",
    "\n",
    "            X   = sm.add_constant(df_reg['impulse'])\n",
    "            ols = sm.OLS(df_reg['y'], X).fit()\n",
    "\n",
    "            results.append({\n",
    "                'handle'  : tw['handle'],\n",
    "                'tweet_id': tw['id'],\n",
    "                'ticker'  : ticker,\n",
    "                'gamma'   : ols.params['impulse'],\n",
    "                'pvalue'  : ols.pvalues['impulse']\n",
    "            })\n",
    "\n",
    "    return pd.DataFrame(results)\n"
   ]
  },
  {
   "cell_type": "code",
   "execution_count": 3,
   "id": "e5d559d1-241b-4957-84f7-a30b2369ef07",
   "metadata": {},
   "outputs": [],
   "source": [
    "# --- 1. tweets ---------------------------------------------------------------\n",
    "# tweets_df = pd.read_parquet('tweets.parquet')           # already has topic columns\n",
    "tweets_df = pd.read_csv('../data/tweets_with_sentiment_and_topic.csv')\n",
    "\n",
    "# --- 2. prices ---------------------------------------------------------------\n",
    "prices_df = pd.read_parquet(\n",
    "    '../data/taq/',\n",
    "    engine='pyarrow' #,\n",
    "    # filters=[\n",
    "        # ('SYM_ROOT', '==', 'TSLA')\n",
    "        # ('year', '==', 2024)\n",
    "    # ]\n",
    ")\n",
    "prices_df.columns = ['timestamp', 'avg_price', 'ticker', 'year']\n",
    "del prices_df['year']\n",
    "\n",
    "# --- 3. ticker‑to‑topic map --------------------------------------------------\n",
    "tickers_topics_df = pd.read_csv('../data/05_people_stock_link_simplified.csv', sep=';')   # columns: ticker,topic\n",
    "tickers_topics_df = tickers_topics_df[['industry', 'ticker']]\n",
    "tickers_topics_df.columns = ['topic', 'ticker']"
   ]
  },
  {
   "cell_type": "markdown",
   "id": "45c7220b-ae43-48de-91fe-d0b3312cf00f",
   "metadata": {},
   "source": [
    "## Evaluation with FinBERT sentiment"
   ]
  },
  {
   "cell_type": "code",
   "execution_count": 4,
   "id": "548cbebd-7454-4d6b-a0b0-1a6546d88619",
   "metadata": {},
   "outputs": [
    {
     "name": "stdout",
     "output_type": "stream",
     "text": [
      "Evaluating stock AAL...\n"
     ]
    },
    {
     "name": "stderr",
     "output_type": "stream",
     "text": [
      "/Users/clawall/estudo/siads-699/.env/lib/python3.9/site-packages/arch/univariate/base.py:768: ConvergenceWarning: The optimizer returned code 4. The message is:\n",
      "Inequality constraints incompatible\n",
      "See scipy.optimize.fmin_slsqp for code meaning.\n",
      "\n",
      "  warnings.warn(\n"
     ]
    },
    {
     "name": "stdout",
     "output_type": "stream",
     "text": [
      "Evaluating stock AAPL...\n"
     ]
    },
    {
     "name": "stderr",
     "output_type": "stream",
     "text": [
      "/Users/clawall/estudo/siads-699/.env/lib/python3.9/site-packages/arch/univariate/base.py:768: ConvergenceWarning: The optimizer returned code 4. The message is:\n",
      "Inequality constraints incompatible\n",
      "See scipy.optimize.fmin_slsqp for code meaning.\n",
      "\n",
      "  warnings.warn(\n"
     ]
    },
    {
     "name": "stdout",
     "output_type": "stream",
     "text": [
      "Evaluating stock ABNB...\n"
     ]
    },
    {
     "name": "stderr",
     "output_type": "stream",
     "text": [
      "/Users/clawall/estudo/siads-699/.env/lib/python3.9/site-packages/arch/univariate/base.py:768: ConvergenceWarning: The optimizer returned code 4. The message is:\n",
      "Inequality constraints incompatible\n",
      "See scipy.optimize.fmin_slsqp for code meaning.\n",
      "\n",
      "  warnings.warn(\n"
     ]
    },
    {
     "name": "stdout",
     "output_type": "stream",
     "text": [
      "Evaluating stock ADBE...\n"
     ]
    },
    {
     "name": "stderr",
     "output_type": "stream",
     "text": [
      "/Users/clawall/estudo/siads-699/.env/lib/python3.9/site-packages/arch/univariate/base.py:768: ConvergenceWarning: The optimizer returned code 4. The message is:\n",
      "Inequality constraints incompatible\n",
      "See scipy.optimize.fmin_slsqp for code meaning.\n",
      "\n",
      "  warnings.warn(\n"
     ]
    },
    {
     "name": "stdout",
     "output_type": "stream",
     "text": [
      "Evaluating stock AMC...\n"
     ]
    },
    {
     "name": "stderr",
     "output_type": "stream",
     "text": [
      "/Users/clawall/estudo/siads-699/.env/lib/python3.9/site-packages/arch/univariate/base.py:768: ConvergenceWarning: The optimizer returned code 4. The message is:\n",
      "Inequality constraints incompatible\n",
      "See scipy.optimize.fmin_slsqp for code meaning.\n",
      "\n",
      "  warnings.warn(\n"
     ]
    },
    {
     "name": "stdout",
     "output_type": "stream",
     "text": [
      "Evaluating stock AMD...\n"
     ]
    },
    {
     "name": "stderr",
     "output_type": "stream",
     "text": [
      "/Users/clawall/estudo/siads-699/.env/lib/python3.9/site-packages/arch/univariate/base.py:768: ConvergenceWarning: The optimizer returned code 4. The message is:\n",
      "Inequality constraints incompatible\n",
      "See scipy.optimize.fmin_slsqp for code meaning.\n",
      "\n",
      "  warnings.warn(\n"
     ]
    },
    {
     "name": "stdout",
     "output_type": "stream",
     "text": [
      "Evaluating stock AMZN...\n"
     ]
    },
    {
     "name": "stderr",
     "output_type": "stream",
     "text": [
      "/Users/clawall/estudo/siads-699/.env/lib/python3.9/site-packages/arch/univariate/base.py:768: ConvergenceWarning: The optimizer returned code 4. The message is:\n",
      "Inequality constraints incompatible\n",
      "See scipy.optimize.fmin_slsqp for code meaning.\n",
      "\n",
      "  warnings.warn(\n"
     ]
    },
    {
     "name": "stdout",
     "output_type": "stream",
     "text": [
      "Evaluating stock ATVI...\n"
     ]
    },
    {
     "name": "stderr",
     "output_type": "stream",
     "text": [
      "/Users/clawall/estudo/siads-699/.env/lib/python3.9/site-packages/arch/univariate/base.py:768: ConvergenceWarning: The optimizer returned code 4. The message is:\n",
      "Inequality constraints incompatible\n",
      "See scipy.optimize.fmin_slsqp for code meaning.\n",
      "\n",
      "  warnings.warn(\n"
     ]
    },
    {
     "name": "stdout",
     "output_type": "stream",
     "text": [
      "Evaluating stock BA...\n"
     ]
    },
    {
     "name": "stderr",
     "output_type": "stream",
     "text": [
      "/Users/clawall/estudo/siads-699/.env/lib/python3.9/site-packages/arch/univariate/base.py:768: ConvergenceWarning: The optimizer returned code 4. The message is:\n",
      "Inequality constraints incompatible\n",
      "See scipy.optimize.fmin_slsqp for code meaning.\n",
      "\n",
      "  warnings.warn(\n"
     ]
    },
    {
     "name": "stdout",
     "output_type": "stream",
     "text": [
      "Evaluating stock BAC...\n",
      "Evaluating stock BAH...\n"
     ]
    },
    {
     "name": "stderr",
     "output_type": "stream",
     "text": [
      "/Users/clawall/estudo/siads-699/.env/lib/python3.9/site-packages/arch/univariate/base.py:768: ConvergenceWarning: The optimizer returned code 4. The message is:\n",
      "Inequality constraints incompatible\n",
      "See scipy.optimize.fmin_slsqp for code meaning.\n",
      "\n",
      "  warnings.warn(\n"
     ]
    },
    {
     "name": "stdout",
     "output_type": "stream",
     "text": [
      "Evaluating stock BYND...\n"
     ]
    },
    {
     "name": "stderr",
     "output_type": "stream",
     "text": [
      "/Users/clawall/estudo/siads-699/.env/lib/python3.9/site-packages/arch/univariate/base.py:768: ConvergenceWarning: The optimizer returned code 4. The message is:\n",
      "Inequality constraints incompatible\n",
      "See scipy.optimize.fmin_slsqp for code meaning.\n",
      "\n",
      "  warnings.warn(\n"
     ]
    },
    {
     "name": "stdout",
     "output_type": "stream",
     "text": [
      "Evaluating stock C...\n"
     ]
    },
    {
     "name": "stderr",
     "output_type": "stream",
     "text": [
      "/Users/clawall/estudo/siads-699/.env/lib/python3.9/site-packages/arch/univariate/base.py:768: ConvergenceWarning: The optimizer returned code 4. The message is:\n",
      "Inequality constraints incompatible\n",
      "See scipy.optimize.fmin_slsqp for code meaning.\n",
      "\n",
      "  warnings.warn(\n"
     ]
    },
    {
     "name": "stdout",
     "output_type": "stream",
     "text": [
      "Evaluating stock CAT...\n"
     ]
    },
    {
     "name": "stderr",
     "output_type": "stream",
     "text": [
      "/Users/clawall/estudo/siads-699/.env/lib/python3.9/site-packages/arch/univariate/base.py:768: ConvergenceWarning: The optimizer returned code 4. The message is:\n",
      "Inequality constraints incompatible\n",
      "See scipy.optimize.fmin_slsqp for code meaning.\n",
      "\n",
      "  warnings.warn(\n"
     ]
    },
    {
     "name": "stdout",
     "output_type": "stream",
     "text": [
      "Evaluating stock COIN...\n",
      "Evaluating stock CVX...\n"
     ]
    },
    {
     "name": "stderr",
     "output_type": "stream",
     "text": [
      "/Users/clawall/estudo/siads-699/.env/lib/python3.9/site-packages/arch/univariate/base.py:768: ConvergenceWarning: The optimizer returned code 4. The message is:\n",
      "Inequality constraints incompatible\n",
      "See scipy.optimize.fmin_slsqp for code meaning.\n",
      "\n",
      "  warnings.warn(\n"
     ]
    },
    {
     "name": "stdout",
     "output_type": "stream",
     "text": [
      "Evaluating stock DAL...\n"
     ]
    },
    {
     "name": "stderr",
     "output_type": "stream",
     "text": [
      "/Users/clawall/estudo/siads-699/.env/lib/python3.9/site-packages/arch/univariate/base.py:768: ConvergenceWarning: The optimizer returned code 4. The message is:\n",
      "Inequality constraints incompatible\n",
      "See scipy.optimize.fmin_slsqp for code meaning.\n",
      "\n",
      "  warnings.warn(\n"
     ]
    },
    {
     "name": "stdout",
     "output_type": "stream",
     "text": [
      "Evaluating stock DELL...\n"
     ]
    },
    {
     "name": "stderr",
     "output_type": "stream",
     "text": [
      "/Users/clawall/estudo/siads-699/.env/lib/python3.9/site-packages/arch/univariate/base.py:768: ConvergenceWarning: The optimizer returned code 4. The message is:\n",
      "Inequality constraints incompatible\n",
      "See scipy.optimize.fmin_slsqp for code meaning.\n",
      "\n",
      "  warnings.warn(\n"
     ]
    },
    {
     "name": "stdout",
     "output_type": "stream",
     "text": [
      "Evaluating stock DIS...\n"
     ]
    },
    {
     "name": "stderr",
     "output_type": "stream",
     "text": [
      "/Users/clawall/estudo/siads-699/.env/lib/python3.9/site-packages/arch/univariate/base.py:768: ConvergenceWarning: The optimizer returned code 4. The message is:\n",
      "Inequality constraints incompatible\n",
      "See scipy.optimize.fmin_slsqp for code meaning.\n",
      "\n",
      "  warnings.warn(\n"
     ]
    },
    {
     "name": "stdout",
     "output_type": "stream",
     "text": [
      "Evaluating stock DWAC...\n",
      "Evaluating stock F...\n"
     ]
    },
    {
     "name": "stderr",
     "output_type": "stream",
     "text": [
      "/Users/clawall/estudo/siads-699/.env/lib/python3.9/site-packages/arch/univariate/base.py:768: ConvergenceWarning: The optimizer returned code 4. The message is:\n",
      "Inequality constraints incompatible\n",
      "See scipy.optimize.fmin_slsqp for code meaning.\n",
      "\n",
      "  warnings.warn(\n"
     ]
    },
    {
     "name": "stdout",
     "output_type": "stream",
     "text": [
      "Evaluating stock FOX...\n"
     ]
    },
    {
     "name": "stderr",
     "output_type": "stream",
     "text": [
      "/Users/clawall/estudo/siads-699/.env/lib/python3.9/site-packages/arch/univariate/base.py:768: ConvergenceWarning: The optimizer returned code 4. The message is:\n",
      "Inequality constraints incompatible\n",
      "See scipy.optimize.fmin_slsqp for code meaning.\n",
      "\n",
      "  warnings.warn(\n"
     ]
    },
    {
     "name": "stdout",
     "output_type": "stream",
     "text": [
      "Evaluating stock GE...\n"
     ]
    },
    {
     "name": "stderr",
     "output_type": "stream",
     "text": [
      "/Users/clawall/estudo/siads-699/.env/lib/python3.9/site-packages/arch/univariate/base.py:768: ConvergenceWarning: The optimizer returned code 4. The message is:\n",
      "Inequality constraints incompatible\n",
      "See scipy.optimize.fmin_slsqp for code meaning.\n",
      "\n",
      "  warnings.warn(\n"
     ]
    },
    {
     "name": "stdout",
     "output_type": "stream",
     "text": [
      "Evaluating stock GM...\n"
     ]
    },
    {
     "name": "stderr",
     "output_type": "stream",
     "text": [
      "/Users/clawall/estudo/siads-699/.env/lib/python3.9/site-packages/arch/univariate/base.py:768: ConvergenceWarning: The optimizer returned code 4. The message is:\n",
      "Inequality constraints incompatible\n",
      "See scipy.optimize.fmin_slsqp for code meaning.\n",
      "\n",
      "  warnings.warn(\n"
     ]
    },
    {
     "name": "stdout",
     "output_type": "stream",
     "text": [
      "Evaluating stock GME...\n"
     ]
    },
    {
     "name": "stderr",
     "output_type": "stream",
     "text": [
      "/Users/clawall/estudo/siads-699/.env/lib/python3.9/site-packages/arch/univariate/base.py:768: ConvergenceWarning: The optimizer returned code 4. The message is:\n",
      "Inequality constraints incompatible\n",
      "See scipy.optimize.fmin_slsqp for code meaning.\n",
      "\n",
      "  warnings.warn(\n"
     ]
    },
    {
     "name": "stdout",
     "output_type": "stream",
     "text": [
      "Evaluating stock GS...\n"
     ]
    },
    {
     "name": "stderr",
     "output_type": "stream",
     "text": [
      "/Users/clawall/estudo/siads-699/.env/lib/python3.9/site-packages/arch/univariate/base.py:768: ConvergenceWarning: The optimizer returned code 4. The message is:\n",
      "Inequality constraints incompatible\n",
      "See scipy.optimize.fmin_slsqp for code meaning.\n",
      "\n",
      "  warnings.warn(\n"
     ]
    },
    {
     "name": "stdout",
     "output_type": "stream",
     "text": [
      "Evaluating stock HD...\n"
     ]
    },
    {
     "name": "stderr",
     "output_type": "stream",
     "text": [
      "/Users/clawall/estudo/siads-699/.env/lib/python3.9/site-packages/arch/univariate/base.py:768: ConvergenceWarning: The optimizer returned code 4. The message is:\n",
      "Inequality constraints incompatible\n",
      "See scipy.optimize.fmin_slsqp for code meaning.\n",
      "\n",
      "  warnings.warn(\n"
     ]
    },
    {
     "name": "stdout",
     "output_type": "stream",
     "text": [
      "Evaluating stock JNJ...\n"
     ]
    },
    {
     "name": "stderr",
     "output_type": "stream",
     "text": [
      "/Users/clawall/estudo/siads-699/.env/lib/python3.9/site-packages/arch/univariate/base.py:768: ConvergenceWarning: The optimizer returned code 4. The message is:\n",
      "Inequality constraints incompatible\n",
      "See scipy.optimize.fmin_slsqp for code meaning.\n",
      "\n",
      "  warnings.warn(\n"
     ]
    },
    {
     "name": "stdout",
     "output_type": "stream",
     "text": [
      "Evaluating stock JPM...\n"
     ]
    },
    {
     "name": "stderr",
     "output_type": "stream",
     "text": [
      "/Users/clawall/estudo/siads-699/.env/lib/python3.9/site-packages/arch/univariate/base.py:768: ConvergenceWarning: The optimizer returned code 4. The message is:\n",
      "Inequality constraints incompatible\n",
      "See scipy.optimize.fmin_slsqp for code meaning.\n",
      "\n",
      "  warnings.warn(\n"
     ]
    },
    {
     "name": "stdout",
     "output_type": "stream",
     "text": [
      "Evaluating stock KO...\n"
     ]
    },
    {
     "name": "stderr",
     "output_type": "stream",
     "text": [
      "/Users/clawall/estudo/siads-699/.env/lib/python3.9/site-packages/arch/univariate/base.py:768: ConvergenceWarning: The optimizer returned code 4. The message is:\n",
      "Inequality constraints incompatible\n",
      "See scipy.optimize.fmin_slsqp for code meaning.\n",
      "\n",
      "  warnings.warn(\n"
     ]
    },
    {
     "name": "stdout",
     "output_type": "stream",
     "text": [
      "Evaluating stock LDOS...\n"
     ]
    },
    {
     "name": "stderr",
     "output_type": "stream",
     "text": [
      "/Users/clawall/estudo/siads-699/.env/lib/python3.9/site-packages/arch/univariate/base.py:768: ConvergenceWarning: The optimizer returned code 4. The message is:\n",
      "Inequality constraints incompatible\n",
      "See scipy.optimize.fmin_slsqp for code meaning.\n",
      "\n",
      "  warnings.warn(\n"
     ]
    },
    {
     "name": "stdout",
     "output_type": "stream",
     "text": [
      "Evaluating stock LMT...\n"
     ]
    },
    {
     "name": "stderr",
     "output_type": "stream",
     "text": [
      "/Users/clawall/estudo/siads-699/.env/lib/python3.9/site-packages/arch/univariate/base.py:768: ConvergenceWarning: The optimizer returned code 4. The message is:\n",
      "Inequality constraints incompatible\n",
      "See scipy.optimize.fmin_slsqp for code meaning.\n",
      "\n",
      "  warnings.warn(\n"
     ]
    },
    {
     "name": "stdout",
     "output_type": "stream",
     "text": [
      "Evaluating stock LVS...\n"
     ]
    },
    {
     "name": "stderr",
     "output_type": "stream",
     "text": [
      "/Users/clawall/estudo/siads-699/.env/lib/python3.9/site-packages/arch/univariate/base.py:768: ConvergenceWarning: The optimizer returned code 4. The message is:\n",
      "Inequality constraints incompatible\n",
      "See scipy.optimize.fmin_slsqp for code meaning.\n",
      "\n",
      "  warnings.warn(\n"
     ]
    },
    {
     "name": "stdout",
     "output_type": "stream",
     "text": [
      "Evaluating stock MGM...\n"
     ]
    },
    {
     "name": "stderr",
     "output_type": "stream",
     "text": [
      "/Users/clawall/estudo/siads-699/.env/lib/python3.9/site-packages/arch/univariate/base.py:768: ConvergenceWarning: The optimizer returned code 4. The message is:\n",
      "Inequality constraints incompatible\n",
      "See scipy.optimize.fmin_slsqp for code meaning.\n",
      "\n",
      "  warnings.warn(\n"
     ]
    },
    {
     "name": "stdout",
     "output_type": "stream",
     "text": [
      "Evaluating stock MMS...\n"
     ]
    },
    {
     "name": "stderr",
     "output_type": "stream",
     "text": [
      "/Users/clawall/estudo/siads-699/.env/lib/python3.9/site-packages/arch/univariate/base.py:768: ConvergenceWarning: The optimizer returned code 4. The message is:\n",
      "Inequality constraints incompatible\n",
      "See scipy.optimize.fmin_slsqp for code meaning.\n",
      "\n",
      "  warnings.warn(\n"
     ]
    },
    {
     "name": "stdout",
     "output_type": "stream",
     "text": [
      "Evaluating stock MRNA...\n"
     ]
    },
    {
     "name": "stderr",
     "output_type": "stream",
     "text": [
      "/Users/clawall/estudo/siads-699/.env/lib/python3.9/site-packages/arch/univariate/base.py:768: ConvergenceWarning: The optimizer returned code 4. The message is:\n",
      "Inequality constraints incompatible\n",
      "See scipy.optimize.fmin_slsqp for code meaning.\n",
      "\n",
      "  warnings.warn(\n"
     ]
    },
    {
     "name": "stdout",
     "output_type": "stream",
     "text": [
      "Evaluating stock MSFT...\n"
     ]
    },
    {
     "name": "stderr",
     "output_type": "stream",
     "text": [
      "/Users/clawall/estudo/siads-699/.env/lib/python3.9/site-packages/arch/univariate/base.py:768: ConvergenceWarning: The optimizer returned code 4. The message is:\n",
      "Inequality constraints incompatible\n",
      "See scipy.optimize.fmin_slsqp for code meaning.\n",
      "\n",
      "  warnings.warn(\n"
     ]
    },
    {
     "name": "stdout",
     "output_type": "stream",
     "text": [
      "Evaluating stock MSTR...\n"
     ]
    },
    {
     "name": "stderr",
     "output_type": "stream",
     "text": [
      "/Users/clawall/estudo/siads-699/.env/lib/python3.9/site-packages/arch/univariate/base.py:768: ConvergenceWarning: The optimizer returned code 4. The message is:\n",
      "Inequality constraints incompatible\n",
      "See scipy.optimize.fmin_slsqp for code meaning.\n",
      "\n",
      "  warnings.warn(\n"
     ]
    },
    {
     "name": "stdout",
     "output_type": "stream",
     "text": [
      "Evaluating stock NFLX...\n"
     ]
    },
    {
     "name": "stderr",
     "output_type": "stream",
     "text": [
      "/Users/clawall/estudo/siads-699/.env/lib/python3.9/site-packages/arch/univariate/base.py:768: ConvergenceWarning: The optimizer returned code 4. The message is:\n",
      "Inequality constraints incompatible\n",
      "See scipy.optimize.fmin_slsqp for code meaning.\n",
      "\n",
      "  warnings.warn(\n"
     ]
    },
    {
     "name": "stdout",
     "output_type": "stream",
     "text": [
      "Evaluating stock NIO...\n"
     ]
    },
    {
     "name": "stderr",
     "output_type": "stream",
     "text": [
      "/Users/clawall/estudo/siads-699/.env/lib/python3.9/site-packages/arch/univariate/base.py:768: ConvergenceWarning: The optimizer returned code 4. The message is:\n",
      "Inequality constraints incompatible\n",
      "See scipy.optimize.fmin_slsqp for code meaning.\n",
      "\n",
      "  warnings.warn(\n"
     ]
    },
    {
     "name": "stdout",
     "output_type": "stream",
     "text": [
      "Evaluating stock NKE...\n"
     ]
    },
    {
     "name": "stderr",
     "output_type": "stream",
     "text": [
      "/Users/clawall/estudo/siads-699/.env/lib/python3.9/site-packages/arch/univariate/base.py:768: ConvergenceWarning: The optimizer returned code 4. The message is:\n",
      "Inequality constraints incompatible\n",
      "See scipy.optimize.fmin_slsqp for code meaning.\n",
      "\n",
      "  warnings.warn(\n"
     ]
    },
    {
     "name": "stdout",
     "output_type": "stream",
     "text": [
      "Evaluating stock NOC...\n"
     ]
    },
    {
     "name": "stderr",
     "output_type": "stream",
     "text": [
      "/Users/clawall/estudo/siads-699/.env/lib/python3.9/site-packages/arch/univariate/base.py:768: ConvergenceWarning: The optimizer returned code 4. The message is:\n",
      "Inequality constraints incompatible\n",
      "See scipy.optimize.fmin_slsqp for code meaning.\n",
      "\n",
      "  warnings.warn(\n"
     ]
    },
    {
     "name": "stdout",
     "output_type": "stream",
     "text": [
      "Evaluating stock NOK...\n"
     ]
    },
    {
     "name": "stderr",
     "output_type": "stream",
     "text": [
      "/Users/clawall/estudo/siads-699/.env/lib/python3.9/site-packages/arch/univariate/base.py:768: ConvergenceWarning: The optimizer returned code 4. The message is:\n",
      "Inequality constraints incompatible\n",
      "See scipy.optimize.fmin_slsqp for code meaning.\n",
      "\n",
      "  warnings.warn(\n"
     ]
    },
    {
     "name": "stdout",
     "output_type": "stream",
     "text": [
      "Evaluating stock NVAX...\n"
     ]
    },
    {
     "name": "stderr",
     "output_type": "stream",
     "text": [
      "/Users/clawall/estudo/siads-699/.env/lib/python3.9/site-packages/arch/univariate/base.py:768: ConvergenceWarning: The optimizer returned code 4. The message is:\n",
      "Inequality constraints incompatible\n",
      "See scipy.optimize.fmin_slsqp for code meaning.\n",
      "\n",
      "  warnings.warn(\n"
     ]
    },
    {
     "name": "stdout",
     "output_type": "stream",
     "text": [
      "Evaluating stock NVDA...\n"
     ]
    },
    {
     "name": "stderr",
     "output_type": "stream",
     "text": [
      "/Users/clawall/estudo/siads-699/.env/lib/python3.9/site-packages/arch/univariate/base.py:768: ConvergenceWarning: The optimizer returned code 4. The message is:\n",
      "Inequality constraints incompatible\n",
      "See scipy.optimize.fmin_slsqp for code meaning.\n",
      "\n",
      "  warnings.warn(\n"
     ]
    },
    {
     "name": "stdout",
     "output_type": "stream",
     "text": [
      "Evaluating stock PEP...\n"
     ]
    },
    {
     "name": "stderr",
     "output_type": "stream",
     "text": [
      "/Users/clawall/estudo/siads-699/.env/lib/python3.9/site-packages/arch/univariate/base.py:768: ConvergenceWarning: The optimizer returned code 4. The message is:\n",
      "Inequality constraints incompatible\n",
      "See scipy.optimize.fmin_slsqp for code meaning.\n",
      "\n",
      "  warnings.warn(\n"
     ]
    },
    {
     "name": "stdout",
     "output_type": "stream",
     "text": [
      "Evaluating stock PFE...\n"
     ]
    },
    {
     "name": "stderr",
     "output_type": "stream",
     "text": [
      "/Users/clawall/estudo/siads-699/.env/lib/python3.9/site-packages/arch/univariate/base.py:768: ConvergenceWarning: The optimizer returned code 4. The message is:\n",
      "Inequality constraints incompatible\n",
      "See scipy.optimize.fmin_slsqp for code meaning.\n",
      "\n",
      "  warnings.warn(\n"
     ]
    },
    {
     "name": "stdout",
     "output_type": "stream",
     "text": [
      "Evaluating stock PINS...\n"
     ]
    },
    {
     "name": "stderr",
     "output_type": "stream",
     "text": [
      "/Users/clawall/estudo/siads-699/.env/lib/python3.9/site-packages/arch/univariate/base.py:768: ConvergenceWarning: The optimizer returned code 4. The message is:\n",
      "Inequality constraints incompatible\n",
      "See scipy.optimize.fmin_slsqp for code meaning.\n",
      "\n",
      "  warnings.warn(\n"
     ]
    },
    {
     "name": "stdout",
     "output_type": "stream",
     "text": [
      "Evaluating stock PLTR...\n"
     ]
    },
    {
     "name": "stderr",
     "output_type": "stream",
     "text": [
      "/Users/clawall/estudo/siads-699/.env/lib/python3.9/site-packages/arch/univariate/base.py:768: ConvergenceWarning: The optimizer returned code 4. The message is:\n",
      "Inequality constraints incompatible\n",
      "See scipy.optimize.fmin_slsqp for code meaning.\n",
      "\n",
      "  warnings.warn(\n"
     ]
    },
    {
     "name": "stdout",
     "output_type": "stream",
     "text": [
      "Evaluating stock PYPL...\n"
     ]
    },
    {
     "name": "stderr",
     "output_type": "stream",
     "text": [
      "/Users/clawall/estudo/siads-699/.env/lib/python3.9/site-packages/arch/univariate/base.py:768: ConvergenceWarning: The optimizer returned code 4. The message is:\n",
      "Inequality constraints incompatible\n",
      "See scipy.optimize.fmin_slsqp for code meaning.\n",
      "\n",
      "  warnings.warn(\n"
     ]
    },
    {
     "name": "stdout",
     "output_type": "stream",
     "text": [
      "Evaluating stock SHOP...\n"
     ]
    },
    {
     "name": "stderr",
     "output_type": "stream",
     "text": [
      "/Users/clawall/estudo/siads-699/.env/lib/python3.9/site-packages/arch/univariate/base.py:768: ConvergenceWarning: The optimizer returned code 4. The message is:\n",
      "Inequality constraints incompatible\n",
      "See scipy.optimize.fmin_slsqp for code meaning.\n",
      "\n",
      "  warnings.warn(\n"
     ]
    },
    {
     "name": "stdout",
     "output_type": "stream",
     "text": [
      "Evaluating stock SNAP...\n"
     ]
    },
    {
     "name": "stderr",
     "output_type": "stream",
     "text": [
      "/Users/clawall/estudo/siads-699/.env/lib/python3.9/site-packages/arch/univariate/base.py:768: ConvergenceWarning: The optimizer returned code 4. The message is:\n",
      "Inequality constraints incompatible\n",
      "See scipy.optimize.fmin_slsqp for code meaning.\n",
      "\n",
      "  warnings.warn(\n"
     ]
    },
    {
     "name": "stdout",
     "output_type": "stream",
     "text": [
      "Evaluating stock SPCE...\n"
     ]
    },
    {
     "name": "stderr",
     "output_type": "stream",
     "text": [
      "/Users/clawall/estudo/siads-699/.env/lib/python3.9/site-packages/arch/univariate/base.py:768: ConvergenceWarning: The optimizer returned code 4. The message is:\n",
      "Inequality constraints incompatible\n",
      "See scipy.optimize.fmin_slsqp for code meaning.\n",
      "\n",
      "  warnings.warn(\n"
     ]
    },
    {
     "name": "stdout",
     "output_type": "stream",
     "text": [
      "Evaluating stock SPOT...\n"
     ]
    },
    {
     "name": "stderr",
     "output_type": "stream",
     "text": [
      "/Users/clawall/estudo/siads-699/.env/lib/python3.9/site-packages/arch/univariate/base.py:768: ConvergenceWarning: The optimizer returned code 4. The message is:\n",
      "Inequality constraints incompatible\n",
      "See scipy.optimize.fmin_slsqp for code meaning.\n",
      "\n",
      "  warnings.warn(\n"
     ]
    },
    {
     "name": "stdout",
     "output_type": "stream",
     "text": [
      "Evaluating stock SQ...\n"
     ]
    },
    {
     "name": "stderr",
     "output_type": "stream",
     "text": [
      "/Users/clawall/estudo/siads-699/.env/lib/python3.9/site-packages/arch/univariate/base.py:768: ConvergenceWarning: The optimizer returned code 4. The message is:\n",
      "Inequality constraints incompatible\n",
      "See scipy.optimize.fmin_slsqp for code meaning.\n",
      "\n",
      "  warnings.warn(\n"
     ]
    },
    {
     "name": "stdout",
     "output_type": "stream",
     "text": [
      "Evaluating stock TGT...\n"
     ]
    },
    {
     "name": "stderr",
     "output_type": "stream",
     "text": [
      "/Users/clawall/estudo/siads-699/.env/lib/python3.9/site-packages/arch/univariate/base.py:768: ConvergenceWarning: The optimizer returned code 4. The message is:\n",
      "Inequality constraints incompatible\n",
      "See scipy.optimize.fmin_slsqp for code meaning.\n",
      "\n",
      "  warnings.warn(\n"
     ]
    },
    {
     "name": "stdout",
     "output_type": "stream",
     "text": [
      "Evaluating stock TSLA...\n"
     ]
    },
    {
     "name": "stderr",
     "output_type": "stream",
     "text": [
      "/Users/clawall/estudo/siads-699/.env/lib/python3.9/site-packages/arch/univariate/base.py:768: ConvergenceWarning: The optimizer returned code 4. The message is:\n",
      "Inequality constraints incompatible\n",
      "See scipy.optimize.fmin_slsqp for code meaning.\n",
      "\n",
      "  warnings.warn(\n"
     ]
    },
    {
     "name": "stdout",
     "output_type": "stream",
     "text": [
      "Evaluating stock TSM...\n"
     ]
    },
    {
     "name": "stderr",
     "output_type": "stream",
     "text": [
      "/Users/clawall/estudo/siads-699/.env/lib/python3.9/site-packages/arch/univariate/base.py:768: ConvergenceWarning: The optimizer returned code 4. The message is:\n",
      "Inequality constraints incompatible\n",
      "See scipy.optimize.fmin_slsqp for code meaning.\n",
      "\n",
      "  warnings.warn(\n"
     ]
    },
    {
     "name": "stdout",
     "output_type": "stream",
     "text": [
      "Evaluating stock TTWO...\n"
     ]
    },
    {
     "name": "stderr",
     "output_type": "stream",
     "text": [
      "/Users/clawall/estudo/siads-699/.env/lib/python3.9/site-packages/arch/univariate/base.py:768: ConvergenceWarning: The optimizer returned code 4. The message is:\n",
      "Inequality constraints incompatible\n",
      "See scipy.optimize.fmin_slsqp for code meaning.\n",
      "\n",
      "  warnings.warn(\n"
     ]
    },
    {
     "name": "stdout",
     "output_type": "stream",
     "text": [
      "Evaluating stock TWTR...\n"
     ]
    },
    {
     "name": "stderr",
     "output_type": "stream",
     "text": [
      "/Users/clawall/estudo/siads-699/.env/lib/python3.9/site-packages/arch/univariate/base.py:768: ConvergenceWarning: The optimizer returned code 4. The message is:\n",
      "Inequality constraints incompatible\n",
      "See scipy.optimize.fmin_slsqp for code meaning.\n",
      "\n",
      "  warnings.warn(\n"
     ]
    },
    {
     "name": "stdout",
     "output_type": "stream",
     "text": [
      "Evaluating stock WFC...\n",
      "Evaluating stock WKHS...\n"
     ]
    },
    {
     "name": "stderr",
     "output_type": "stream",
     "text": [
      "/Users/clawall/estudo/siads-699/.env/lib/python3.9/site-packages/arch/univariate/base.py:768: ConvergenceWarning: The optimizer returned code 4. The message is:\n",
      "Inequality constraints incompatible\n",
      "See scipy.optimize.fmin_slsqp for code meaning.\n",
      "\n",
      "  warnings.warn(\n"
     ]
    },
    {
     "name": "stdout",
     "output_type": "stream",
     "text": [
      "Evaluating stock WMT...\n"
     ]
    },
    {
     "name": "stderr",
     "output_type": "stream",
     "text": [
      "/Users/clawall/estudo/siads-699/.env/lib/python3.9/site-packages/arch/univariate/base.py:768: ConvergenceWarning: The optimizer returned code 4. The message is:\n",
      "Inequality constraints incompatible\n",
      "See scipy.optimize.fmin_slsqp for code meaning.\n",
      "\n",
      "  warnings.warn(\n"
     ]
    },
    {
     "name": "stdout",
     "output_type": "stream",
     "text": [
      "Evaluating stock WYNN...\n"
     ]
    },
    {
     "name": "stderr",
     "output_type": "stream",
     "text": [
      "/Users/clawall/estudo/siads-699/.env/lib/python3.9/site-packages/arch/univariate/base.py:768: ConvergenceWarning: The optimizer returned code 4. The message is:\n",
      "Inequality constraints incompatible\n",
      "See scipy.optimize.fmin_slsqp for code meaning.\n",
      "\n",
      "  warnings.warn(\n"
     ]
    },
    {
     "name": "stdout",
     "output_type": "stream",
     "text": [
      "Evaluating stock XOM...\n"
     ]
    },
    {
     "name": "stderr",
     "output_type": "stream",
     "text": [
      "/Users/clawall/estudo/siads-699/.env/lib/python3.9/site-packages/arch/univariate/base.py:768: ConvergenceWarning: The optimizer returned code 4. The message is:\n",
      "Inequality constraints incompatible\n",
      "See scipy.optimize.fmin_slsqp for code meaning.\n",
      "\n",
      "  warnings.warn(\n"
     ]
    },
    {
     "name": "stdout",
     "output_type": "stream",
     "text": [
      "Evaluating stock ZM...\n"
     ]
    },
    {
     "name": "stderr",
     "output_type": "stream",
     "text": [
      "/Users/clawall/estudo/siads-699/.env/lib/python3.9/site-packages/arch/univariate/base.py:768: ConvergenceWarning: The optimizer returned code 4. The message is:\n",
      "Inequality constraints incompatible\n",
      "See scipy.optimize.fmin_slsqp for code meaning.\n",
      "\n",
      "  warnings.warn(\n"
     ]
    },
    {
     "data": {
      "text/html": [
       "<div>\n",
       "<style scoped>\n",
       "    .dataframe tbody tr th:only-of-type {\n",
       "        vertical-align: middle;\n",
       "    }\n",
       "\n",
       "    .dataframe tbody tr th {\n",
       "        vertical-align: top;\n",
       "    }\n",
       "\n",
       "    .dataframe thead th {\n",
       "        text-align: right;\n",
       "    }\n",
       "</style>\n",
       "<table border=\"1\" class=\"dataframe\">\n",
       "  <thead>\n",
       "    <tr style=\"text-align: right;\">\n",
       "      <th></th>\n",
       "      <th>handle</th>\n",
       "      <th>tweet_id</th>\n",
       "      <th>ticker</th>\n",
       "      <th>gamma</th>\n",
       "      <th>pvalue</th>\n",
       "    </tr>\n",
       "  </thead>\n",
       "  <tbody>\n",
       "    <tr>\n",
       "      <th>1425</th>\n",
       "      <td>elonmusk</td>\n",
       "      <td>1131393271400259584</td>\n",
       "      <td>XOM</td>\n",
       "      <td>124.701105</td>\n",
       "      <td>0.000000e+00</td>\n",
       "    </tr>\n",
       "    <tr>\n",
       "      <th>1173</th>\n",
       "      <td>richardbranson</td>\n",
       "      <td>1009057004554420224</td>\n",
       "      <td>SHOP</td>\n",
       "      <td>310.601282</td>\n",
       "      <td>0.000000e+00</td>\n",
       "    </tr>\n",
       "    <tr>\n",
       "      <th>1403</th>\n",
       "      <td>richardbranson</td>\n",
       "      <td>1174626364500119554</td>\n",
       "      <td>WYNN</td>\n",
       "      <td>287.054224</td>\n",
       "      <td>0.000000e+00</td>\n",
       "    </tr>\n",
       "    <tr>\n",
       "      <th>872</th>\n",
       "      <td>elonmusk</td>\n",
       "      <td>1127276856476987392</td>\n",
       "      <td>MSFT</td>\n",
       "      <td>74.658648</td>\n",
       "      <td>3.859427e-114</td>\n",
       "    </tr>\n",
       "    <tr>\n",
       "      <th>1252</th>\n",
       "      <td>elonmusk</td>\n",
       "      <td>1120872301178671105</td>\n",
       "      <td>SNAP</td>\n",
       "      <td>83.537864</td>\n",
       "      <td>2.022775e-51</td>\n",
       "    </tr>\n",
       "    <tr>\n",
       "      <th>1265</th>\n",
       "      <td>richardbranson</td>\n",
       "      <td>1152835756152500224</td>\n",
       "      <td>SNAP</td>\n",
       "      <td>75.517671</td>\n",
       "      <td>3.466923e-41</td>\n",
       "    </tr>\n",
       "    <tr>\n",
       "      <th>1352</th>\n",
       "      <td>elonmusk</td>\n",
       "      <td>1146392791062212608</td>\n",
       "      <td>TSLA</td>\n",
       "      <td>150.137612</td>\n",
       "      <td>9.571517e-32</td>\n",
       "    </tr>\n",
       "    <tr>\n",
       "      <th>1147</th>\n",
       "      <td>elonmusk</td>\n",
       "      <td>1131393271400259584</td>\n",
       "      <td>SHOP</td>\n",
       "      <td>64.846419</td>\n",
       "      <td>5.268009e-30</td>\n",
       "    </tr>\n",
       "    <tr>\n",
       "      <th>550</th>\n",
       "      <td>elonmusk</td>\n",
       "      <td>1283498475238363138</td>\n",
       "      <td>FOX</td>\n",
       "      <td>125.367764</td>\n",
       "      <td>1.101650e-17</td>\n",
       "    </tr>\n",
       "    <tr>\n",
       "      <th>549</th>\n",
       "      <td>elonmusk</td>\n",
       "      <td>1283498482150641667</td>\n",
       "      <td>FOX</td>\n",
       "      <td>123.512248</td>\n",
       "      <td>1.101650e-17</td>\n",
       "    </tr>\n",
       "    <tr>\n",
       "      <th>1129</th>\n",
       "      <td>elonmusk</td>\n",
       "      <td>1194761922572361729</td>\n",
       "      <td>SHOP</td>\n",
       "      <td>42.360788</td>\n",
       "      <td>9.708834e-14</td>\n",
       "    </tr>\n",
       "    <tr>\n",
       "      <th>821</th>\n",
       "      <td>realDonaldTrump</td>\n",
       "      <td>1329404785083232256</td>\n",
       "      <td>MRNA</td>\n",
       "      <td>47.250136</td>\n",
       "      <td>1.680195e-13</td>\n",
       "    </tr>\n",
       "    <tr>\n",
       "      <th>8</th>\n",
       "      <td>richardbranson</td>\n",
       "      <td>1187256464664154113</td>\n",
       "      <td>AAL</td>\n",
       "      <td>35.683927</td>\n",
       "      <td>6.843743e-12</td>\n",
       "    </tr>\n",
       "    <tr>\n",
       "      <th>1260</th>\n",
       "      <td>richardbranson</td>\n",
       "      <td>1174626364500119554</td>\n",
       "      <td>SNAP</td>\n",
       "      <td>42.451743</td>\n",
       "      <td>1.858570e-11</td>\n",
       "    </tr>\n",
       "    <tr>\n",
       "      <th>1259</th>\n",
       "      <td>richardbranson</td>\n",
       "      <td>1174677073845215235</td>\n",
       "      <td>SNAP</td>\n",
       "      <td>37.199689</td>\n",
       "      <td>1.858570e-11</td>\n",
       "    </tr>\n",
       "    <tr>\n",
       "      <th>884</th>\n",
       "      <td>richardbranson</td>\n",
       "      <td>1174626364500119554</td>\n",
       "      <td>MSFT</td>\n",
       "      <td>21.678902</td>\n",
       "      <td>4.220793e-10</td>\n",
       "    </tr>\n",
       "    <tr>\n",
       "      <th>883</th>\n",
       "      <td>richardbranson</td>\n",
       "      <td>1174677073845215235</td>\n",
       "      <td>MSFT</td>\n",
       "      <td>18.996826</td>\n",
       "      <td>4.220793e-10</td>\n",
       "    </tr>\n",
       "    <tr>\n",
       "      <th>1121</th>\n",
       "      <td>elonmusk</td>\n",
       "      <td>1283498475238363138</td>\n",
       "      <td>SHOP</td>\n",
       "      <td>33.022380</td>\n",
       "      <td>1.081002e-08</td>\n",
       "    </tr>\n",
       "    <tr>\n",
       "      <th>1120</th>\n",
       "      <td>elonmusk</td>\n",
       "      <td>1283498482150641667</td>\n",
       "      <td>SHOP</td>\n",
       "      <td>32.533629</td>\n",
       "      <td>1.081002e-08</td>\n",
       "    </tr>\n",
       "    <tr>\n",
       "      <th>781</th>\n",
       "      <td>richardbranson</td>\n",
       "      <td>1187256464664154113</td>\n",
       "      <td>LVS</td>\n",
       "      <td>30.664911</td>\n",
       "      <td>6.227611e-08</td>\n",
       "    </tr>\n",
       "  </tbody>\n",
       "</table>\n",
       "</div>"
      ],
      "text/plain": [
       "               handle             tweet_id ticker       gamma         pvalue\n",
       "1425         elonmusk  1131393271400259584    XOM  124.701105   0.000000e+00\n",
       "1173   richardbranson  1009057004554420224   SHOP  310.601282   0.000000e+00\n",
       "1403   richardbranson  1174626364500119554   WYNN  287.054224   0.000000e+00\n",
       "872          elonmusk  1127276856476987392   MSFT   74.658648  3.859427e-114\n",
       "1252         elonmusk  1120872301178671105   SNAP   83.537864   2.022775e-51\n",
       "1265   richardbranson  1152835756152500224   SNAP   75.517671   3.466923e-41\n",
       "1352         elonmusk  1146392791062212608   TSLA  150.137612   9.571517e-32\n",
       "1147         elonmusk  1131393271400259584   SHOP   64.846419   5.268009e-30\n",
       "550          elonmusk  1283498475238363138    FOX  125.367764   1.101650e-17\n",
       "549          elonmusk  1283498482150641667    FOX  123.512248   1.101650e-17\n",
       "1129         elonmusk  1194761922572361729   SHOP   42.360788   9.708834e-14\n",
       "821   realDonaldTrump  1329404785083232256   MRNA   47.250136   1.680195e-13\n",
       "8      richardbranson  1187256464664154113    AAL   35.683927   6.843743e-12\n",
       "1260   richardbranson  1174626364500119554   SNAP   42.451743   1.858570e-11\n",
       "1259   richardbranson  1174677073845215235   SNAP   37.199689   1.858570e-11\n",
       "884    richardbranson  1174626364500119554   MSFT   21.678902   4.220793e-10\n",
       "883    richardbranson  1174677073845215235   MSFT   18.996826   4.220793e-10\n",
       "1121         elonmusk  1283498475238363138   SHOP   33.022380   1.081002e-08\n",
       "1120         elonmusk  1283498482150641667   SHOP   32.533629   1.081002e-08\n",
       "781    richardbranson  1187256464664154113    LVS   30.664911   6.227611e-08"
      ]
     },
     "execution_count": 4,
     "metadata": {},
     "output_type": "execute_result"
    }
   ],
   "source": [
    "# --- 4. run study ------------------------------------------------------------\n",
    "result_df = run_event_study(tweets_df, prices_df, tickers_topics_df)\n",
    "\n",
    "# e.g. keep only strongly significant results\n",
    "sig = result_df[result_df['pvalue'] < 0.05]\n",
    "\n",
    "sig.sort_values('pvalue').head(20)"
   ]
  },
  {
   "cell_type": "code",
   "execution_count": 5,
   "id": "7a5f03c9-729c-4c0e-a14c-78b4f36de944",
   "metadata": {},
   "outputs": [
    {
     "data": {
      "text/html": [
       "<div>\n",
       "<style scoped>\n",
       "    .dataframe tbody tr th:only-of-type {\n",
       "        vertical-align: middle;\n",
       "    }\n",
       "\n",
       "    .dataframe tbody tr th {\n",
       "        vertical-align: top;\n",
       "    }\n",
       "\n",
       "    .dataframe thead th {\n",
       "        text-align: right;\n",
       "    }\n",
       "</style>\n",
       "<table border=\"1\" class=\"dataframe\">\n",
       "  <thead>\n",
       "    <tr style=\"text-align: right;\">\n",
       "      <th></th>\n",
       "      <th>handle</th>\n",
       "      <th>tweet_id</th>\n",
       "      <th>ticker</th>\n",
       "      <th>gamma</th>\n",
       "      <th>pvalue</th>\n",
       "    </tr>\n",
       "  </thead>\n",
       "  <tbody>\n",
       "    <tr>\n",
       "      <th>8</th>\n",
       "      <td>richardbranson</td>\n",
       "      <td>1187256464664154113</td>\n",
       "      <td>AAL</td>\n",
       "      <td>35.683927</td>\n",
       "      <td>6.843743e-12</td>\n",
       "    </tr>\n",
       "    <tr>\n",
       "      <th>54</th>\n",
       "      <td>elonmusk</td>\n",
       "      <td>1143678128423936000</td>\n",
       "      <td>AAPL</td>\n",
       "      <td>133.506942</td>\n",
       "      <td>1.011428e-05</td>\n",
       "    </tr>\n",
       "    <tr>\n",
       "      <th>62</th>\n",
       "      <td>elonmusk</td>\n",
       "      <td>1127276856476987392</td>\n",
       "      <td>AAPL</td>\n",
       "      <td>79.570779</td>\n",
       "      <td>2.182925e-04</td>\n",
       "    </tr>\n",
       "    <tr>\n",
       "      <th>406</th>\n",
       "      <td>richardbranson</td>\n",
       "      <td>1174626364500119554</td>\n",
       "      <td>DAL</td>\n",
       "      <td>17.956193</td>\n",
       "      <td>5.099097e-04</td>\n",
       "    </tr>\n",
       "    <tr>\n",
       "      <th>549</th>\n",
       "      <td>elonmusk</td>\n",
       "      <td>1283498482150641667</td>\n",
       "      <td>FOX</td>\n",
       "      <td>123.512248</td>\n",
       "      <td>1.101650e-17</td>\n",
       "    </tr>\n",
       "  </tbody>\n",
       "</table>\n",
       "</div>"
      ],
      "text/plain": [
       "             handle             tweet_id ticker       gamma        pvalue\n",
       "8    richardbranson  1187256464664154113    AAL   35.683927  6.843743e-12\n",
       "54         elonmusk  1143678128423936000   AAPL  133.506942  1.011428e-05\n",
       "62         elonmusk  1127276856476987392   AAPL   79.570779  2.182925e-04\n",
       "406  richardbranson  1174626364500119554    DAL   17.956193  5.099097e-04\n",
       "549        elonmusk  1283498482150641667    FOX  123.512248  1.101650e-17"
      ]
     },
     "execution_count": 5,
     "metadata": {},
     "output_type": "execute_result"
    }
   ],
   "source": [
    "sig.head()"
   ]
  },
  {
   "cell_type": "code",
   "execution_count": 6,
   "id": "5bffa3d4-d226-49d6-b013-622a8fcd31b9",
   "metadata": {},
   "outputs": [
    {
     "data": {
      "text/plain": [
       "39"
      ]
     },
     "execution_count": 6,
     "metadata": {},
     "output_type": "execute_result"
    }
   ],
   "source": [
    "len(sig)"
   ]
  },
  {
   "cell_type": "code",
   "execution_count": 7,
   "id": "9d8094d8-c319-4531-920b-6c9aa1ec2c43",
   "metadata": {},
   "outputs": [],
   "source": [
    "sig.to_csv('../data/06_tweet_influence_over_stock.csv')"
   ]
  },
  {
   "cell_type": "markdown",
   "id": "a0b6016e-5751-4782-8d9b-3573aaab03e3",
   "metadata": {},
   "source": [
    "### Sentiment vs Volatility Impact\n",
    "\n",
    "#### What it shows\n",
    "Plots FinBERT sentiment score vs. γ (tweet impact on volatility), colored by sentiment polarity.\n",
    "\n",
    "#### Why it matters\n",
    "Shows whether stronger emotions lead to greater volatility."
   ]
  },
  {
   "cell_type": "code",
   "execution_count": 20,
   "id": "f20f5450-06e0-402e-b831-d56ea82882b6",
   "metadata": {},
   "outputs": [
    {
     "data": {
      "text/html": [
       "\n",
       "<style>\n",
       "  #altair-viz-48118265c5a64e4db11f5902447cc9b0.vega-embed {\n",
       "    width: 100%;\n",
       "    display: flex;\n",
       "  }\n",
       "\n",
       "  #altair-viz-48118265c5a64e4db11f5902447cc9b0.vega-embed details,\n",
       "  #altair-viz-48118265c5a64e4db11f5902447cc9b0.vega-embed details summary {\n",
       "    position: relative;\n",
       "  }\n",
       "</style>\n",
       "<div id=\"altair-viz-48118265c5a64e4db11f5902447cc9b0\"></div>\n",
       "<script type=\"text/javascript\">\n",
       "  var VEGA_DEBUG = (typeof VEGA_DEBUG == \"undefined\") ? {} : VEGA_DEBUG;\n",
       "  (function(spec, embedOpt){\n",
       "    let outputDiv = document.currentScript.previousElementSibling;\n",
       "    if (outputDiv.id !== \"altair-viz-48118265c5a64e4db11f5902447cc9b0\") {\n",
       "      outputDiv = document.getElementById(\"altair-viz-48118265c5a64e4db11f5902447cc9b0\");\n",
       "    }\n",
       "\n",
       "    const paths = {\n",
       "      \"vega\": \"https://cdn.jsdelivr.net/npm/vega@5?noext\",\n",
       "      \"vega-lib\": \"https://cdn.jsdelivr.net/npm/vega-lib?noext\",\n",
       "      \"vega-lite\": \"https://cdn.jsdelivr.net/npm/vega-lite@5.20.1?noext\",\n",
       "      \"vega-embed\": \"https://cdn.jsdelivr.net/npm/vega-embed@6?noext\",\n",
       "    };\n",
       "\n",
       "    function maybeLoadScript(lib, version) {\n",
       "      var key = `${lib.replace(\"-\", \"\")}_version`;\n",
       "      return (VEGA_DEBUG[key] == version) ?\n",
       "        Promise.resolve(paths[lib]) :\n",
       "        new Promise(function(resolve, reject) {\n",
       "          var s = document.createElement('script');\n",
       "          document.getElementsByTagName(\"head\")[0].appendChild(s);\n",
       "          s.async = true;\n",
       "          s.onload = () => {\n",
       "            VEGA_DEBUG[key] = version;\n",
       "            return resolve(paths[lib]);\n",
       "          };\n",
       "          s.onerror = () => reject(`Error loading script: ${paths[lib]}`);\n",
       "          s.src = paths[lib];\n",
       "        });\n",
       "    }\n",
       "\n",
       "    function showError(err) {\n",
       "      outputDiv.innerHTML = `<div class=\"error\" style=\"color:red;\">${err}</div>`;\n",
       "      throw err;\n",
       "    }\n",
       "\n",
       "    function displayChart(vegaEmbed) {\n",
       "      vegaEmbed(outputDiv, spec, embedOpt)\n",
       "        .catch(err => showError(`Javascript Error: ${err.message}<br>This usually means there's a typo in your chart specification. See the javascript console for the full traceback.`));\n",
       "    }\n",
       "\n",
       "    if(typeof define === \"function\" && define.amd) {\n",
       "      requirejs.config({paths});\n",
       "      let deps = [\"vega-embed\"];\n",
       "      require(deps, displayChart, err => showError(`Error loading script: ${err.message}`));\n",
       "    } else {\n",
       "      maybeLoadScript(\"vega\", \"5\")\n",
       "        .then(() => maybeLoadScript(\"vega-lite\", \"5.20.1\"))\n",
       "        .then(() => maybeLoadScript(\"vega-embed\", \"6\"))\n",
       "        .catch(showError)\n",
       "        .then(() => displayChart(vegaEmbed));\n",
       "    }\n",
       "  })({\"config\": {\"background\": \"#1e1e1e\", \"title\": {\"color\": \"#ffffff\"}, \"axis\": {\"labelColor\": \"#ffffff\", \"titleColor\": \"#ffffff\", \"gridColor\": \"#444444\"}, \"legend\": {\"labelColor\": \"#ffffff\", \"titleColor\": \"#ffffff\"}, \"header\": {\"labelColor\": \"#ffffff\", \"titleColor\": \"#ffffff\"}, \"view\": {\"stroke\": \"#444444\"}}, \"data\": {\"name\": \"data-50c32235d65d2a72d287d03fbb912bf6\"}, \"mark\": {\"type\": \"circle\", \"size\": 60}, \"encoding\": {\"color\": {\"field\": \"sentiment_label\", \"title\": \"Sentiment\", \"type\": \"nominal\"}, \"tooltip\": [{\"field\": \"handle\", \"type\": \"nominal\"}, {\"field\": \"tweet_id\", \"type\": \"quantitative\"}, {\"field\": \"ticker\", \"type\": \"nominal\"}, {\"field\": \"sentiment_score\", \"type\": \"quantitative\"}, {\"field\": \"gamma\", \"type\": \"quantitative\"}, {\"field\": \"pvalue\", \"type\": \"quantitative\"}], \"x\": {\"field\": \"sentiment_score\", \"title\": \"FinBERT Sentiment Score\", \"type\": \"quantitative\"}, \"y\": {\"field\": \"gamma\", \"title\": \"Estimated \\u03b3 (Volatility Impact)\", \"type\": \"quantitative\"}}, \"height\": 400, \"params\": [{\"name\": \"param_4\", \"select\": {\"type\": \"interval\", \"encodings\": [\"x\", \"y\"]}, \"bind\": \"scales\"}], \"title\": \"Tweet Sentiment vs Estimated Volatility Impact (\\u03b3)\", \"width\": 600, \"$schema\": \"https://vega.github.io/schema/vega-lite/v5.20.1.json\", \"datasets\": {\"data-50c32235d65d2a72d287d03fbb912bf6\": [{\"handle\": \"realDonaldTrump\", \"tweet_id\": 1240783522534699009, \"ticker\": \"AAL\", \"gamma\": -0.9729304434854915, \"pvalue\": 0.84547831783666, \"id\": 1240783522534699009, \"sentiment_score\": 0.99986469745636, \"sentiment_label\": \"Positive\"}, {\"handle\": \"richardbranson\", \"tweet_id\": 1246087905593917441, \"ticker\": \"AAL\", \"gamma\": -0.9769085014159558, \"pvalue\": 0.8448350220958658, \"id\": 1246087905593917441, \"sentiment_score\": 0.9999920129776, \"sentiment_label\": \"Positive\"}, {\"handle\": \"richardbranson\", \"tweet_id\": 1187256464664154113, \"ticker\": \"AAL\", \"gamma\": 35.6839267056681, \"pvalue\": 6.843742683483875e-12, \"id\": 1187256464664154113, \"sentiment_score\": 0.9596904516220092, \"sentiment_label\": \"Positive\"}, {\"handle\": \"richardbranson\", \"tweet_id\": 1174626364500119554, \"ticker\": \"AAL\", \"gamma\": -0.5268221666394602, \"pvalue\": 0.9263119579862628, \"id\": 1174626364500119554, \"sentiment_score\": 0.8762803077697754, \"sentiment_label\": \"Positive\"}, {\"handle\": \"realDonaldTrump\", \"tweet_id\": 1167770738864140288, \"ticker\": \"AAPL\", \"gamma\": -1.020386889526757, \"pvalue\": 0.9683371266173288, \"id\": 1167770738864140288, \"sentiment_score\": 0.7744786739349365, \"sentiment_label\": \"Positive\"}, {\"handle\": \"elonmusk\", \"tweet_id\": 1283498482150641667, \"ticker\": \"AAPL\", \"gamma\": 14.37250574263371, \"pvalue\": 0.4703694776371543, \"id\": 1283498482150641667, \"sentiment_score\": 0.9999569654464722, \"sentiment_label\": \"Positive\"}, {\"handle\": \"elonmusk\", \"tweet_id\": 1283498475238363138, \"ticker\": \"AAPL\", \"gamma\": 14.588423002131005, \"pvalue\": 0.47036947763711956, \"id\": 1283498475238363138, \"sentiment_score\": 0.9851570129394532, \"sentiment_label\": \"Positive\"}, {\"handle\": \"elonmusk\", \"tweet_id\": 1194761922572361729, \"ticker\": \"AAPL\", \"gamma\": 1.0237575229548204, \"pvalue\": 0.9589902147200046, \"id\": 1194761922572361729, \"sentiment_score\": 0.999980926513672, \"sentiment_label\": \"Positive\"}, {\"handle\": \"elonmusk\", \"tweet_id\": 1146392791062212608, \"ticker\": \"AAPL\", \"gamma\": 0.22690394180000933, \"pvalue\": 0.9909066912115461, \"id\": 1146392791062212608, \"sentiment_score\": 0.9999983310699464, \"sentiment_label\": \"Positive\"}, {\"handle\": \"elonmusk\", \"tweet_id\": 1143678128423936000, \"ticker\": \"AAPL\", \"gamma\": 133.50694159607906, \"pvalue\": 1.011428324152757e-05, \"id\": 1143678128423936000, \"sentiment_score\": 0.6583350300788879, \"sentiment_label\": \"Positive\"}, {\"handle\": \"elonmusk\", \"tweet_id\": 1131393271400259584, \"ticker\": \"AAPL\", \"gamma\": 2.136084619870973, \"pvalue\": 0.9146868194860752, \"id\": 1131393271400259584, \"sentiment_score\": 0.9984762072563172, \"sentiment_label\": \"Positive\"}, {\"handle\": \"elonmusk\", \"tweet_id\": 1127276856476987392, \"ticker\": \"AAPL\", \"gamma\": 79.5707785416461, \"pvalue\": 0.00021829248618194695, \"id\": 1127276856476987392, \"sentiment_score\": 0.9249680042266846, \"sentiment_label\": \"Positive\"}, {\"handle\": \"elonmusk\", \"tweet_id\": 1120872301178671105, \"ticker\": \"AAPL\", \"gamma\": 38.328062997521336, \"pvalue\": 0.05420927787061404, \"id\": 1120872301178671105, \"sentiment_score\": 0.9999994039535522, \"sentiment_label\": \"Positive\"}, {\"handle\": \"elonmusk\", \"tweet_id\": 1114933691115921408, \"ticker\": \"AAPL\", \"gamma\": 25.52115376103986, \"pvalue\": 0.19989347689185288, \"id\": 1114933691115921408, \"sentiment_score\": 0.9999735355377196, \"sentiment_label\": \"Positive\"}, {\"handle\": \"richardbranson\", \"tweet_id\": 1174677073845215235, \"ticker\": \"AAPL\", \"gamma\": 7.715829172513126, \"pvalue\": 0.698346357610057, \"id\": 1174677073845215235, \"sentiment_score\": 0.9999983310699464, \"sentiment_label\": \"Positive\"}, {\"handle\": \"richardbranson\", \"tweet_id\": 1174626364500119554, \"ticker\": \"AAPL\", \"gamma\": 8.805191931058022, \"pvalue\": 0.6983463576100588, \"id\": 1174626364500119554, \"sentiment_score\": 0.8762803077697754, \"sentiment_label\": \"Positive\"}, {\"handle\": \"richardbranson\", \"tweet_id\": 1152835756152500224, \"ticker\": \"AAPL\", \"gamma\": 28.057932948674996, \"pvalue\": 0.16479817018348145, \"id\": 1152835756152500224, \"sentiment_score\": 0.9856709837913512, \"sentiment_label\": \"Positive\"}, {\"handle\": \"richardbranson\", \"tweet_id\": 1009057004554420224, \"ticker\": \"AAPL\", \"gamma\": 13.209441230681746, \"pvalue\": 0.5899058751813044, \"id\": 1009057004554420224, \"sentiment_score\": 0.8123292922973633, \"sentiment_label\": \"Positive\"}, {\"handle\": \"richardbranson\", \"tweet_id\": 951505093664309250, \"ticker\": \"AAPL\", \"gamma\": 0.22732909030424286, \"pvalue\": 0.9954386409789029, \"id\": 951505093664309250, \"sentiment_score\": 0.5006700158119202, \"sentiment_label\": \"Negative\"}, {\"handle\": \"richardbranson\", \"tweet_id\": 926446415173292033, \"ticker\": \"AAPL\", \"gamma\": -0.8863122440021569, \"pvalue\": 0.9664310155837967, \"id\": 926446415173292033, \"sentiment_score\": 0.9453434348106384, \"sentiment_label\": \"Positive\"}, {\"handle\": \"elonmusk\", \"tweet_id\": 941699319777837056, \"ticker\": \"AAPL\", \"gamma\": -0.8366052878755001, \"pvalue\": 0.966494898383762, \"id\": 941699319777837056, \"sentiment_score\": 0.9996040463447572, \"sentiment_label\": \"Positive\"}, {\"handle\": \"elonmusk\", \"tweet_id\": 875049999217963008, \"ticker\": \"AAPL\", \"gamma\": -0.16620697622251074, \"pvalue\": 0.993339101265455, \"id\": 875049999217963008, \"sentiment_score\": 0.999996781349182, \"sentiment_label\": \"Negative\"}, {\"handle\": \"realDonaldTrump\", \"tweet_id\": 1240783522534699009, \"ticker\": \"ABNB\", \"gamma\": -1.0624572676780752, \"pvalue\": 0.7122511247731371, \"id\": 1240783522534699009, \"sentiment_score\": 0.99986469745636, \"sentiment_label\": \"Positive\"}, {\"handle\": \"realDonaldTrump\", \"tweet_id\": 1167770738864140288, \"ticker\": \"ABNB\", \"gamma\": -1.3716497952225837, \"pvalue\": 0.7122511247731615, \"id\": 1167770738864140288, \"sentiment_score\": 0.7744786739349365, \"sentiment_label\": \"Positive\"}, {\"handle\": \"elonmusk\", \"tweet_id\": 1283498482150641667, \"ticker\": \"ABNB\", \"gamma\": -1.0623592326624354, \"pvalue\": 0.7122511247731583, \"id\": 1283498482150641667, \"sentiment_score\": 0.9999569654464722, \"sentiment_label\": \"Positive\"}, {\"handle\": \"elonmusk\", \"tweet_id\": 1283498475238363138, \"ticker\": \"ABNB\", \"gamma\": -1.0783189893130873, \"pvalue\": 0.7122511247730572, \"id\": 1283498475238363138, \"sentiment_score\": 0.9851570129394532, \"sentiment_label\": \"Positive\"}, {\"handle\": \"elonmusk\", \"tweet_id\": 1194761922572361729, \"ticker\": \"ABNB\", \"gamma\": -1.0623337769162, \"pvalue\": 0.712251124773094, \"id\": 1194761922572361729, \"sentiment_score\": 0.999980926513672, \"sentiment_label\": \"Positive\"}, {\"handle\": \"elonmusk\", \"tweet_id\": 1146392791062212608, \"ticker\": \"ABNB\", \"gamma\": -1.0623152874374162, \"pvalue\": 0.7122511247730724, \"id\": 1146392791062212608, \"sentiment_score\": 0.9999983310699464, \"sentiment_label\": \"Positive\"}, {\"handle\": \"elonmusk\", \"tweet_id\": 1143678128423936000, \"ticker\": \"ABNB\", \"gamma\": -1.613636622647689, \"pvalue\": 0.7122511247731524, \"id\": 1143678128423936000, \"sentiment_score\": 0.6583350300788879, \"sentiment_label\": \"Positive\"}, {\"handle\": \"elonmusk\", \"tweet_id\": 1131393271400259584, \"ticker\": \"ABNB\", \"gamma\": -1.063934730529395, \"pvalue\": 0.7122511247731327, \"id\": 1131393271400259584, \"sentiment_score\": 0.9984762072563172, \"sentiment_label\": \"Positive\"}, {\"handle\": \"elonmusk\", \"tweet_id\": 1127276856476987392, \"ticker\": \"ABNB\", \"gamma\": -1.1484867688970806, \"pvalue\": 0.7122511247730803, \"id\": 1127276856476987392, \"sentiment_score\": 0.9249680042266846, \"sentiment_label\": \"Positive\"}, {\"handle\": \"elonmusk\", \"tweet_id\": 1120872301178671105, \"ticker\": \"ABNB\", \"gamma\": -1.0623141476958453, \"pvalue\": 0.7122511247731215, \"id\": 1120872301178671105, \"sentiment_score\": 0.9999994039535522, \"sentiment_label\": \"Positive\"}, {\"handle\": \"elonmusk\", \"tweet_id\": 1114933691115921408, \"ticker\": \"ABNB\", \"gamma\": -1.0623416288072334, \"pvalue\": 0.7122511247731209, \"id\": 1114933691115921408, \"sentiment_score\": 0.9999735355377196, \"sentiment_label\": \"Positive\"}, {\"handle\": \"richardbranson\", \"tweet_id\": 1246087905593917441, \"ticker\": \"ABNB\", \"gamma\": -1.0623219992968729, \"pvalue\": 0.7122511247731256, \"id\": 1246087905593917441, \"sentiment_score\": 0.9999920129776, \"sentiment_label\": \"Positive\"}, {\"handle\": \"richardbranson\", \"tweet_id\": 1187256464664154113, \"ticker\": \"ABNB\", \"gamma\": -1.1069335041437023, \"pvalue\": 0.7122511247731347, \"id\": 1187256464664154113, \"sentiment_score\": 0.9596904516220092, \"sentiment_label\": \"Positive\"}, {\"handle\": \"richardbranson\", \"tweet_id\": 1174677073845215235, \"ticker\": \"ABNB\", \"gamma\": -1.0623152874374162, \"pvalue\": 0.7122511247730724, \"id\": 1174677073845215235, \"sentiment_score\": 0.9999983310699464, \"sentiment_label\": \"Positive\"}, {\"handle\": \"richardbranson\", \"tweet_id\": 1174626364500119554, \"ticker\": \"ABNB\", \"gamma\": -1.212298741724495, \"pvalue\": 0.7122511247731347, \"id\": 1174626364500119554, \"sentiment_score\": 0.8762803077697754, \"sentiment_label\": \"Positive\"}, {\"handle\": \"richardbranson\", \"tweet_id\": 1152835756152500224, \"ticker\": \"ABNB\", \"gamma\": -1.0777567078429102, \"pvalue\": 0.7122511247731325, \"id\": 1152835756152500224, \"sentiment_score\": 0.9856709837913512, \"sentiment_label\": \"Positive\"}, {\"handle\": \"richardbranson\", \"tweet_id\": 1009057004554420224, \"ticker\": \"ABNB\", \"gamma\": -1.3077375450820934, \"pvalue\": 0.7122511247731435, \"id\": 1009057004554420224, \"sentiment_score\": 0.8123292922973633, \"sentiment_label\": \"Positive\"}, {\"handle\": \"richardbranson\", \"tweet_id\": 951505093664309250, \"ticker\": \"ABNB\", \"gamma\": 2.121783771661807, \"pvalue\": 0.7122511247730946, \"id\": 951505093664309250, \"sentiment_score\": 0.5006700158119202, \"sentiment_label\": \"Negative\"}, {\"handle\": \"richardbranson\", \"tweet_id\": 926446415173292033, \"ticker\": \"ABNB\", \"gamma\": -1.1237328947230267, \"pvalue\": 0.7122511247731464, \"id\": 926446415173292033, \"sentiment_score\": 0.9453434348106384, \"sentiment_label\": \"Positive\"}, {\"handle\": \"elonmusk\", \"tweet_id\": 941699319777837056, \"ticker\": \"ABNB\", \"gamma\": -1.0627343080410194, \"pvalue\": 0.71225112477314, \"id\": 941699319777837056, \"sentiment_score\": 0.9996040463447572, \"sentiment_label\": \"Positive\"}, {\"handle\": \"elonmusk\", \"tweet_id\": 875049999217963008, \"ticker\": \"ABNB\", \"gamma\": 1.0623169337345737, \"pvalue\": 0.7122511247731205, \"id\": 875049999217963008, \"sentiment_score\": 0.999996781349182, \"sentiment_label\": \"Negative\"}, {\"handle\": \"realDonaldTrump\", \"tweet_id\": 1167770738864140288, \"ticker\": \"AMZN\", \"gamma\": -1.048073873079358, \"pvalue\": 0.9992691939188125, \"id\": 1167770738864140288, \"sentiment_score\": 0.7744786739349365, \"sentiment_label\": \"Positive\"}, {\"handle\": \"elonmusk\", \"tweet_id\": 1283498482150641667, \"ticker\": \"AMZN\", \"gamma\": 5.329551097114429, \"pvalue\": 0.9952018902492545, \"id\": 1283498482150641667, \"sentiment_score\": 0.9999569654464722, \"sentiment_label\": \"Positive\"}, {\"handle\": \"elonmusk\", \"tweet_id\": 1283498475238363138, \"ticker\": \"AMZN\", \"gamma\": 5.40961661163006, \"pvalue\": 0.9952018902492547, \"id\": 1283498475238363138, \"sentiment_score\": 0.9851570129394532, \"sentiment_label\": \"Positive\"}, {\"handle\": \"elonmusk\", \"tweet_id\": 1194761922572361729, \"ticker\": \"AMZN\", \"gamma\": -1.0276068780040997, \"pvalue\": 0.9990748343994654, \"id\": 1194761922572361729, \"sentiment_score\": 0.999980926513672, \"sentiment_label\": \"Positive\"}, {\"handle\": \"elonmusk\", \"tweet_id\": 1146392791062212608, \"ticker\": \"AMZN\", \"gamma\": -1.0886318118514169, \"pvalue\": 0.9990198759588822, \"id\": 1146392791062212608, \"sentiment_score\": 0.9999983310699464, \"sentiment_label\": \"Positive\"}, {\"handle\": \"elonmusk\", \"tweet_id\": 1143678128423936000, \"ticker\": \"AMZN\", \"gamma\": -1.7955804067566448, \"pvalue\": 0.9989357282154554, \"id\": 1143678128423936000, \"sentiment_score\": 0.6583350300788879, \"sentiment_label\": \"Positive\"}, {\"handle\": \"elonmusk\", \"tweet_id\": 1131393271400259584, \"ticker\": \"AMZN\", \"gamma\": 5.380098326231961, \"pvalue\": 0.9951635563872969, \"id\": 1131393271400259584, \"sentiment_score\": 0.9984762072563172, \"sentiment_label\": \"Positive\"}, {\"handle\": \"elonmusk\", \"tweet_id\": 1127276856476987392, \"ticker\": \"AMZN\", \"gamma\": 13.86945757409532, \"pvalue\": 0.9884502688803685, \"id\": 1127276856476987392, \"sentiment_score\": 0.9249680042266846, \"sentiment_label\": \"Positive\"}, {\"handle\": \"elonmusk\", \"tweet_id\": 1120872301178671105, \"ticker\": \"AMZN\", \"gamma\": -0.8429460085114677, \"pvalue\": 0.9992410725013509, \"id\": 1120872301178671105, \"sentiment_score\": 0.9999994039535522, \"sentiment_label\": \"Positive\"}, {\"handle\": \"elonmusk\", \"tweet_id\": 1114933691115921408, \"ticker\": \"AMZN\", \"gamma\": -0.9291239812842772, \"pvalue\": 0.9991635057663468, \"id\": 1114933691115921408, \"sentiment_score\": 0.9999735355377196, \"sentiment_label\": \"Positive\"}, {\"handle\": \"richardbranson\", \"tweet_id\": 1174677073845215235, \"ticker\": \"AMZN\", \"gamma\": -0.9883593602412775, \"pvalue\": 0.9991101538623949, \"id\": 1174677073845215235, \"sentiment_score\": 0.9999983310699464, \"sentiment_label\": \"Positive\"}, {\"handle\": \"richardbranson\", \"tweet_id\": 1174626364500119554, \"ticker\": \"AMZN\", \"gamma\": -1.1279013141975405, \"pvalue\": 0.9991101538623948, \"id\": 1174626364500119554, \"sentiment_score\": 0.8762803077697754, \"sentiment_label\": \"Positive\"}, {\"handle\": \"richardbranson\", \"tweet_id\": 1152835756152500224, \"ticker\": \"AMZN\", \"gamma\": -1.1997745297577227, \"pvalue\": 0.9989352875412232, \"id\": 1152835756152500224, \"sentiment_score\": 0.9856709837913512, \"sentiment_label\": \"Positive\"}, {\"handle\": \"richardbranson\", \"tweet_id\": 1009057004554420224, \"ticker\": \"AMZN\", \"gamma\": 1.742425777974644, \"pvalue\": 0.9987256548457202, \"id\": 1009057004554420224, \"sentiment_score\": 0.8123292922973633, \"sentiment_label\": \"Positive\"}, {\"handle\": \"richardbranson\", \"tweet_id\": 951505093664309250, \"ticker\": \"AMZN\", \"gamma\": 2.3731369708765713, \"pvalue\": 0.9989302676904959, \"id\": 951505093664309250, \"sentiment_score\": 0.5006700158119202, \"sentiment_label\": \"Negative\"}, {\"handle\": \"richardbranson\", \"tweet_id\": 926446415173292033, \"ticker\": \"AMZN\", \"gamma\": -0.9784958996568417, \"pvalue\": 0.9991671833509586, \"id\": 926446415173292033, \"sentiment_score\": 0.9453434348106384, \"sentiment_label\": \"Positive\"}, {\"handle\": \"elonmusk\", \"tweet_id\": 941699319777837056, \"ticker\": \"AMZN\", \"gamma\": -1.1690307812878635, \"pvalue\": 0.9989479056675246, \"id\": 941699319777837056, \"sentiment_score\": 0.9996040463447572, \"sentiment_label\": \"Positive\"}, {\"handle\": \"elonmusk\", \"tweet_id\": 875049999217963008, \"ticker\": \"AMZN\", \"gamma\": 1.1871874473291772, \"pvalue\": 0.9989311454183649, \"id\": 875049999217963008, \"sentiment_score\": 0.999996781349182, \"sentiment_label\": \"Negative\"}, {\"handle\": \"elonmusk\", \"tweet_id\": 1143678128423936000, \"ticker\": \"BA\", \"gamma\": 5.557781734518375, \"pvalue\": 0.9526089561669481, \"id\": 1143678128423936000, \"sentiment_score\": 0.6583350300788879, \"sentiment_label\": \"Positive\"}, {\"handle\": \"elonmusk\", \"tweet_id\": 941699319777837056, \"ticker\": \"BA\", \"gamma\": -0.8411671115289785, \"pvalue\": 0.9891031692131851, \"id\": 941699319777837056, \"sentiment_score\": 0.9996040463447572, \"sentiment_label\": \"Positive\"}, {\"handle\": \"realDonaldTrump\", \"tweet_id\": 1302985926809923589, \"ticker\": \"BAC\", \"gamma\": 2.232629572134192, \"pvalue\": 0.558212038974062, \"id\": 1302985926809923589, \"sentiment_score\": 0.9999986886978148, \"sentiment_label\": \"Positive\"}, {\"handle\": \"elonmusk\", \"tweet_id\": 1143678128423936000, \"ticker\": \"BAH\", \"gamma\": 1.368245481027314, \"pvalue\": 0.9087017135118165, \"id\": 1143678128423936000, \"sentiment_score\": 0.6583350300788879, \"sentiment_label\": \"Positive\"}, {\"handle\": \"elonmusk\", \"tweet_id\": 941699319777837056, \"ticker\": \"BAH\", \"gamma\": -0.8082270376940912, \"pvalue\": 0.9180783178187573, \"id\": 941699319777837056, \"sentiment_score\": 0.9996040463447572, \"sentiment_label\": \"Positive\"}, {\"handle\": \"realDonaldTrump\", \"tweet_id\": 1302985926809923589, \"ticker\": \"C\", \"gamma\": 0.17998761636225263, \"pvalue\": 0.9746058607906687, \"id\": 1302985926809923589, \"sentiment_score\": 0.9999986886978148, \"sentiment_label\": \"Positive\"}, {\"handle\": \"nntaleb\", \"tweet_id\": 1278400538397286403, \"ticker\": \"CAT\", \"gamma\": -1.3801557881721174, \"pvalue\": 0.9987818417959284, \"id\": 1278400538397286403, \"sentiment_score\": 0.92054945230484, \"sentiment_label\": \"Positive\"}, {\"handle\": \"realDonaldTrump\", \"tweet_id\": 1179928588738580486, \"ticker\": \"CAT\", \"gamma\": 15.199202104340433, \"pvalue\": 0.985427834951644, \"id\": 1179928588738580486, \"sentiment_score\": 0.9999972581863404, \"sentiment_label\": \"Positive\"}, {\"handle\": \"realDonaldTrump\", \"tweet_id\": 1167770620127514624, \"ticker\": \"CAT\", \"gamma\": 21.082712127258404, \"pvalue\": 0.9798191026586491, \"id\": 1167770620127514624, \"sentiment_score\": 0.9984623193740844, \"sentiment_label\": \"Positive\"}, {\"handle\": \"realDonaldTrump\", \"tweet_id\": 1167064301565358080, \"ticker\": \"CAT\", \"gamma\": -1.2807051466403867, \"pvalue\": 0.9987721112370627, \"id\": 1167064301565358080, \"sentiment_score\": 0.9999572038650512, \"sentiment_label\": \"Positive\"}, {\"handle\": \"elonmusk\", \"tweet_id\": 1194761922572361729, \"ticker\": \"CAT\", \"gamma\": 9.434094913699646, \"pvalue\": 0.9909549435119618, \"id\": 1194761922572361729, \"sentiment_score\": 0.999980926513672, \"sentiment_label\": \"Positive\"}, {\"handle\": \"elonmusk\", \"tweet_id\": 1146392791062212608, \"ticker\": \"CAT\", \"gamma\": -0.9238650291156784, \"pvalue\": 0.9991141986410448, \"id\": 1146392791062212608, \"sentiment_score\": 0.9999983310699464, \"sentiment_label\": \"Positive\"}, {\"handle\": \"elonmusk\", \"tweet_id\": 1131393271400259584, \"ticker\": \"CAT\", \"gamma\": -0.35014568337822405, \"pvalue\": 0.9996647914306404, \"id\": 1131393271400259584, \"sentiment_score\": 0.9984762072563172, \"sentiment_label\": \"Positive\"}, {\"handle\": \"elonmusk\", \"tweet_id\": 1120872301178671105, \"ticker\": \"CAT\", \"gamma\": 4.469454569956179, \"pvalue\": 0.9957147041675452, \"id\": 1120872301178671105, \"sentiment_score\": 0.9999994039535522, \"sentiment_label\": \"Positive\"}, {\"handle\": \"realDonaldTrump\", \"tweet_id\": 1240783522534699009, \"ticker\": \"DAL\", \"gamma\": -0.37985641803352355, \"pvalue\": 0.9331425436336205, \"id\": 1240783522534699009, \"sentiment_score\": 0.99986469745636, \"sentiment_label\": \"Positive\"}, {\"handle\": \"richardbranson\", \"tweet_id\": 1246087905593917441, \"ticker\": \"DAL\", \"gamma\": 0.32431715927090127, \"pvalue\": 0.9428924574552546, \"id\": 1246087905593917441, \"sentiment_score\": 0.9999920129776, \"sentiment_label\": \"Positive\"}, {\"handle\": \"richardbranson\", \"tweet_id\": 1187256464664154113, \"ticker\": \"DAL\", \"gamma\": 5.37752432346188, \"pvalue\": 0.2543222848340843, \"id\": 1187256464664154113, \"sentiment_score\": 0.9596904516220092, \"sentiment_label\": \"Positive\"}, {\"handle\": \"richardbranson\", \"tweet_id\": 1174626364500119554, \"ticker\": \"DAL\", \"gamma\": 17.956192549183996, \"pvalue\": 0.0005099097138222404, \"id\": 1174626364500119554, \"sentiment_score\": 0.8762803077697754, \"sentiment_label\": \"Positive\"}, {\"handle\": \"realDonaldTrump\", \"tweet_id\": 1167770738864140288, \"ticker\": \"DIS\", \"gamma\": -1.0979872681185507, \"pvalue\": 0.9850963746826938, \"id\": 1167770738864140288, \"sentiment_score\": 0.7744786739349365, \"sentiment_label\": \"Positive\"}, {\"handle\": \"elonmusk\", \"tweet_id\": 1283498482150641667, \"ticker\": \"DIS\", \"gamma\": 66.29138974433728, \"pvalue\": 0.145348485322504, \"id\": 1283498482150641667, \"sentiment_score\": 0.9999569654464722, \"sentiment_label\": \"Positive\"}, {\"handle\": \"elonmusk\", \"tweet_id\": 1283498475238363138, \"ticker\": \"DIS\", \"gamma\": 67.28728116768497, \"pvalue\": 0.14534848532246225, \"id\": 1283498475238363138, \"sentiment_score\": 0.9851570129394532, \"sentiment_label\": \"Positive\"}, {\"handle\": \"elonmusk\", \"tweet_id\": 1194761922572361729, \"ticker\": \"DIS\", \"gamma\": -0.7467805301811672, \"pvalue\": 0.9869119291246728, \"id\": 1194761922572361729, \"sentiment_score\": 0.999980926513672, \"sentiment_label\": \"Positive\"}, {\"handle\": \"elonmusk\", \"tweet_id\": 1146392791062212608, \"ticker\": \"DIS\", \"gamma\": 72.1405027333445, \"pvalue\": 0.1130328643681628, \"id\": 1146392791062212608, \"sentiment_score\": 0.9999983310699464, \"sentiment_label\": \"Positive\"}, {\"handle\": \"elonmusk\", \"tweet_id\": 1143678128423936000, \"ticker\": \"DIS\", \"gamma\": 14.326888740738939, \"pvalue\": 0.8358613210071161, \"id\": 1143678128423936000, \"sentiment_score\": 0.6583350300788879, \"sentiment_label\": \"Positive\"}, {\"handle\": \"elonmusk\", \"tweet_id\": 1131393271400259584, \"ticker\": \"DIS\", \"gamma\": 6.115424523686667, \"pvalue\": 0.8932976381984656, \"id\": 1131393271400259584, \"sentiment_score\": 0.9984762072563172, \"sentiment_label\": \"Positive\"}, {\"handle\": \"elonmusk\", \"tweet_id\": 1127276856476987392, \"ticker\": \"DIS\", \"gamma\": 1.7080548530183788, \"pvalue\": 0.9723145389126832, \"id\": 1127276856476987392, \"sentiment_score\": 0.9249680042266846, \"sentiment_label\": \"Positive\"}, {\"handle\": \"elonmusk\", \"tweet_id\": 1120872301178671105, \"ticker\": \"DIS\", \"gamma\": 9.573988587641319, \"pvalue\": 0.8334245673517332, \"id\": 1120872301178671105, \"sentiment_score\": 0.9999994039535522, \"sentiment_label\": \"Positive\"}, {\"handle\": \"elonmusk\", \"tweet_id\": 1114933691115921408, \"ticker\": \"DIS\", \"gamma\": 3.6925309609263133, \"pvalue\": 0.9353531953571634, \"id\": 1114933691115921408, \"sentiment_score\": 0.9999735355377196, \"sentiment_label\": \"Positive\"}, {\"handle\": \"richardbranson\", \"tweet_id\": 1174677073845215235, \"ticker\": \"DIS\", \"gamma\": -0.8668379156631978, \"pvalue\": 0.984807776439024, \"id\": 1174677073845215235, \"sentiment_score\": 0.9999983310699464, \"sentiment_label\": \"Positive\"}, {\"handle\": \"richardbranson\", \"tweet_id\": 1174626364500119554, \"ticker\": \"DIS\", \"gamma\": -0.989222810651234, \"pvalue\": 0.9848077764390055, \"id\": 1174626364500119554, \"sentiment_score\": 0.8762803077697754, \"sentiment_label\": \"Positive\"}, {\"handle\": \"richardbranson\", \"tweet_id\": 1152835756152500224, \"ticker\": \"DIS\", \"gamma\": 51.124737593182, \"pvalue\": 0.26830944762394343, \"id\": 1152835756152500224, \"sentiment_score\": 0.9856709837913512, \"sentiment_label\": \"Positive\"}, {\"handle\": \"richardbranson\", \"tweet_id\": 1009057004554420224, \"ticker\": \"DIS\", \"gamma\": 1.49058199127675, \"pvalue\": 0.9787799115556244, \"id\": 1009057004554420224, \"sentiment_score\": 0.8123292922973633, \"sentiment_label\": \"Positive\"}, {\"handle\": \"richardbranson\", \"tweet_id\": 951505093664309250, \"ticker\": \"DIS\", \"gamma\": 1.7480293919326502, \"pvalue\": 0.9846614617361151, \"id\": 951505093664309250, \"sentiment_score\": 0.5006700158119202, \"sentiment_label\": \"Negative\"}, {\"handle\": \"richardbranson\", \"tweet_id\": 926446415173292033, \"ticker\": \"DIS\", \"gamma\": -0.2982484350301377, \"pvalue\": 0.9950583108630132, \"id\": 926446415173292033, \"sentiment_score\": 0.9453434348106384, \"sentiment_label\": \"Positive\"}, {\"handle\": \"elonmusk\", \"tweet_id\": 941699319777837056, \"ticker\": \"DIS\", \"gamma\": -0.778448466005129, \"pvalue\": 0.9863621114587204, \"id\": 941699319777837056, \"sentiment_score\": 0.9996040463447572, \"sentiment_label\": \"Positive\"}, {\"handle\": \"elonmusk\", \"tweet_id\": 875049999217963008, \"ticker\": \"DIS\", \"gamma\": 0.7636853279807924, \"pvalue\": 0.9866154710381141, \"id\": 875049999217963008, \"sentiment_score\": 0.999996781349182, \"sentiment_label\": \"Negative\"}, {\"handle\": \"richardbranson\", \"tweet_id\": 951505093664309250, \"ticker\": \"DWAC\", \"gamma\": 2.0177010491543466, \"pvalue\": 0.9188674385140578, \"id\": 951505093664309250, \"sentiment_score\": 0.5006700158119202, \"sentiment_label\": \"Negative\"}, {\"handle\": \"richardbranson\", \"tweet_id\": 926446415173292033, \"ticker\": \"DWAC\", \"gamma\": -1.0686089086620545, \"pvalue\": 0.9188674385140578, \"id\": 926446415173292033, \"sentiment_score\": 0.9453434348106384, \"sentiment_label\": \"Positive\"}, {\"handle\": \"elonmusk\", \"tweet_id\": 941699319777837056, \"ticker\": \"DWAC\", \"gamma\": -1.0106025679646173, \"pvalue\": 0.9188674385140578, \"id\": 941699319777837056, \"sentiment_score\": 0.9996040463447572, \"sentiment_label\": \"Positive\"}, {\"handle\": \"elonmusk\", \"tweet_id\": 875049999217963008, \"ticker\": \"DWAC\", \"gamma\": 1.010023164186234, \"pvalue\": 0.9188820460784985, \"id\": 875049999217963008, \"sentiment_score\": 0.999996781349182, \"sentiment_label\": \"Negative\"}, {\"handle\": \"realDonaldTrump\", \"tweet_id\": 1167770738864140288, \"ticker\": \"FOX\", \"gamma\": 21.69418398642908, \"pvalue\": 0.244084074418148, \"id\": 1167770738864140288, \"sentiment_score\": 0.7744786739349365, \"sentiment_label\": \"Positive\"}, {\"handle\": \"elonmusk\", \"tweet_id\": 1283498482150641667, \"ticker\": \"FOX\", \"gamma\": 123.51224766472865, \"pvalue\": 1.1016501036899843e-17, \"id\": 1283498482150641667, \"sentiment_score\": 0.9999569654464722, \"sentiment_label\": \"Positive\"}, {\"handle\": \"elonmusk\", \"tweet_id\": 1283498475238363138, \"ticker\": \"FOX\", \"gamma\": 125.36776447620538, \"pvalue\": 1.1016501036868753e-17, \"id\": 1283498475238363138, \"sentiment_score\": 0.9851570129394532, \"sentiment_label\": \"Positive\"}, {\"handle\": \"elonmusk\", \"tweet_id\": 1194761922572361729, \"ticker\": \"FOX\", \"gamma\": 13.35553142419973, \"pvalue\": 0.35449580464476693, \"id\": 1194761922572361729, \"sentiment_score\": 0.999980926513672, \"sentiment_label\": \"Positive\"}, {\"handle\": \"elonmusk\", \"tweet_id\": 1146392791062212608, \"ticker\": \"FOX\", \"gamma\": -0.21359940728415147, \"pvalue\": 0.9881849243023272, \"id\": 1146392791062212608, \"sentiment_score\": 0.9999983310699464, \"sentiment_label\": \"Positive\"}, {\"handle\": \"elonmusk\", \"tweet_id\": 1143678128423936000, \"ticker\": \"FOX\", \"gamma\": 3.5785286255440245, \"pvalue\": 0.8702590576055209, \"id\": 1143678128423936000, \"sentiment_score\": 0.6583350300788879, \"sentiment_label\": \"Positive\"}, {\"handle\": \"elonmusk\", \"tweet_id\": 1131393271400259584, \"ticker\": \"FOX\", \"gamma\": 5.741491587565453, \"pvalue\": 0.6910403891583092, \"id\": 1131393271400259584, \"sentiment_score\": 0.9984762072563172, \"sentiment_label\": \"Positive\"}, {\"handle\": \"elonmusk\", \"tweet_id\": 1127276856476987392, \"ticker\": \"FOX\", \"gamma\": 4.289573810118723, \"pvalue\": 0.7832572816595281, \"id\": 1127276856476987392, \"sentiment_score\": 0.9249680042266846, \"sentiment_label\": \"Positive\"}, {\"handle\": \"elonmusk\", \"tweet_id\": 1120872301178671105, \"ticker\": \"FOX\", \"gamma\": 3.331572050855374, \"pvalue\": 0.8173354698694315, \"id\": 1120872301178671105, \"sentiment_score\": 0.9999994039535522, \"sentiment_label\": \"Positive\"}, {\"handle\": \"elonmusk\", \"tweet_id\": 1114933691115921408, \"ticker\": \"FOX\", \"gamma\": 0.007117979621468207, \"pvalue\": 0.9996062701949001, \"id\": 1114933691115921408, \"sentiment_score\": 0.9999735355377196, \"sentiment_label\": \"Positive\"}, {\"handle\": \"richardbranson\", \"tweet_id\": 1174677073845215235, \"ticker\": \"FOX\", \"gamma\": 27.818446993330774, \"pvalue\": 0.053778574732797464, \"id\": 1174677073845215235, \"sentiment_score\": 0.9999983310699464, \"sentiment_label\": \"Positive\"}, {\"handle\": \"richardbranson\", \"tweet_id\": 1174626364500119554, \"ticker\": \"FOX\", \"gamma\": 31.74600675107571, \"pvalue\": 0.05377857473277555, \"id\": 1174626364500119554, \"sentiment_score\": 0.8762803077697754, \"sentiment_label\": \"Positive\"}, {\"handle\": \"richardbranson\", \"tweet_id\": 1152835756152500224, \"ticker\": \"FOX\", \"gamma\": -0.7776427541515827, \"pvalue\": 0.9576200146560138, \"id\": 1152835756152500224, \"sentiment_score\": 0.9856709837913512, \"sentiment_label\": \"Positive\"}, {\"handle\": \"richardbranson\", \"tweet_id\": 1009057004554420224, \"ticker\": \"FOX\", \"gamma\": 67.60756812539145, \"pvalue\": 0.00014036520437036418, \"id\": 1009057004554420224, \"sentiment_score\": 0.8123292922973633, \"sentiment_label\": \"Positive\"}, {\"handle\": \"richardbranson\", \"tweet_id\": 951505093664309250, \"ticker\": \"FOX\", \"gamma\": 1.8715307691147949, \"pvalue\": 0.948203997559877, \"id\": 951505093664309250, \"sentiment_score\": 0.5006700158119202, \"sentiment_label\": \"Negative\"}, {\"handle\": \"richardbranson\", \"tweet_id\": 926446415173292033, \"ticker\": \"FOX\", \"gamma\": -0.9911070763390604, \"pvalue\": 0.9482085665470816, \"id\": 926446415173292033, \"sentiment_score\": 0.9453434348106384, \"sentiment_label\": \"Positive\"}, {\"handle\": \"elonmusk\", \"tweet_id\": 941699319777837056, \"ticker\": \"FOX\", \"gamma\": 7.325489505284342, \"pvalue\": 0.6116879095543214, \"id\": 941699319777837056, \"sentiment_score\": 0.9996040463447572, \"sentiment_label\": \"Positive\"}, {\"handle\": \"elonmusk\", \"tweet_id\": 875049999217963008, \"ticker\": \"FOX\", \"gamma\": -1.3896686776410314, \"pvalue\": 0.9232476837247549, \"id\": 875049999217963008, \"sentiment_score\": 0.999996781349182, \"sentiment_label\": \"Negative\"}, {\"handle\": \"realDonaldTrump\", \"tweet_id\": 1302985926809923589, \"ticker\": \"GS\", \"gamma\": 0.8182919576311555, \"pvalue\": 0.9093538449080479, \"id\": 1302985926809923589, \"sentiment_score\": 0.9999986886978148, \"sentiment_label\": \"Positive\"}, {\"handle\": \"realDonaldTrump\", \"tweet_id\": 1329404785083232256, \"ticker\": \"JNJ\", \"gamma\": 1.7069957971196572, \"pvalue\": 0.8800807367941799, \"id\": 1329404785083232256, \"sentiment_score\": 0.94602233171463, \"sentiment_label\": \"Positive\"}, {\"handle\": \"realDonaldTrump\", \"tweet_id\": 1179928588738580486, \"ticker\": \"JNJ\", \"gamma\": 3.677770285748055, \"pvalue\": 0.7311528983539104, \"id\": 1179928588738580486, \"sentiment_score\": 0.9999972581863404, \"sentiment_label\": \"Positive\"}, {\"handle\": \"nntaleb\", \"tweet_id\": 1254427322452783105, \"ticker\": \"JNJ\", \"gamma\": -1.02644794272525, \"pvalue\": 0.9236037906906841, \"id\": 1254427322452783105, \"sentiment_score\": 1.0, \"sentiment_label\": \"Positive\"}, {\"handle\": \"realDonaldTrump\", \"tweet_id\": 1302985926809923589, \"ticker\": \"JPM\", \"gamma\": 0.1170943333154176, \"pvalue\": 0.9848506070067179, \"id\": 1302985926809923589, \"sentiment_score\": 0.9999986886978148, \"sentiment_label\": \"Positive\"}, {\"handle\": \"realDonaldTrump\", \"tweet_id\": 1179928588738580486, \"ticker\": \"KO\", \"gamma\": -0.42325731693201074, \"pvalue\": 0.9984754139854549, \"id\": 1179928588738580486, \"sentiment_score\": 0.9999972581863404, \"sentiment_label\": \"Positive\"}, {\"handle\": \"realDonaldTrump\", \"tweet_id\": 1167770620127514624, \"ticker\": \"KO\", \"gamma\": 0.19191004642121823, \"pvalue\": 0.9993097947662897, \"id\": 1167770620127514624, \"sentiment_score\": 0.9984623193740844, \"sentiment_label\": \"Positive\"}, {\"handle\": \"realDonaldTrump\", \"tweet_id\": 1167064301565358080, \"ticker\": \"KO\", \"gamma\": 0.6491446841312709, \"pvalue\": 0.9976618562465058, \"id\": 1167064301565358080, \"sentiment_score\": 0.9999572038650512, \"sentiment_label\": \"Positive\"}, {\"handle\": \"realDonaldTrump\", \"tweet_id\": 1167770738864140288, \"ticker\": \"LDOS\", \"gamma\": -0.31712505644097455, \"pvalue\": 0.9963861979175583, \"id\": 1167770738864140288, \"sentiment_score\": 0.7744786739349365, \"sentiment_label\": \"Positive\"}, {\"handle\": \"elonmusk\", \"tweet_id\": 1283498482150641667, \"ticker\": \"LDOS\", \"gamma\": 1.968049114583938, \"pvalue\": 0.9710500547621919, \"id\": 1283498482150641667, \"sentiment_score\": 0.9999569654464722, \"sentiment_label\": \"Positive\"}, {\"handle\": \"elonmusk\", \"tweet_id\": 1283498475238363138, \"ticker\": \"LDOS\", \"gamma\": 1.9976149939765344, \"pvalue\": 0.971050054762193, \"id\": 1283498475238363138, \"sentiment_score\": 0.9851570129394532, \"sentiment_label\": \"Positive\"}, {\"handle\": \"elonmusk\", \"tweet_id\": 1194761922572361729, \"ticker\": \"LDOS\", \"gamma\": -0.413852175211141, \"pvalue\": 0.9939108233900452, \"id\": 1194761922572361729, \"sentiment_score\": 0.999980926513672, \"sentiment_label\": \"Positive\"}, {\"handle\": \"elonmusk\", \"tweet_id\": 1146392791062212608, \"ticker\": \"LDOS\", \"gamma\": 1.5435224186113221, \"pvalue\": 0.9772919729395964, \"id\": 1146392791062212608, \"sentiment_score\": 0.9999983310699464, \"sentiment_label\": \"Positive\"}, {\"handle\": \"elonmusk\", \"tweet_id\": 1143678128423936000, \"ticker\": \"LDOS\", \"gamma\": -0.27307300826670433, \"pvalue\": 0.9973548471586585, \"id\": 1143678128423936000, \"sentiment_score\": 0.6583350300788879, \"sentiment_label\": \"Positive\"}, {\"handle\": \"elonmusk\", \"tweet_id\": 1131393271400259584, \"ticker\": \"LDOS\", \"gamma\": 7.817464024481017, \"pvalue\": 0.8855457859098004, \"id\": 1131393271400259584, \"sentiment_score\": 0.9984762072563172, \"sentiment_label\": \"Positive\"}, {\"handle\": \"elonmusk\", \"tweet_id\": 1127276856476987392, \"ticker\": \"LDOS\", \"gamma\": -0.47345832680336986, \"pvalue\": 0.9935563851162993, \"id\": 1127276856476987392, \"sentiment_score\": 0.9249680042266846, \"sentiment_label\": \"Positive\"}, {\"handle\": \"elonmusk\", \"tweet_id\": 1120872301178671105, \"ticker\": \"LDOS\", \"gamma\": 0.31449732529859986, \"pvalue\": 0.9953725675220886, \"id\": 1120872301178671105, \"sentiment_score\": 0.9999994039535522, \"sentiment_label\": \"Positive\"}, {\"handle\": \"elonmusk\", \"tweet_id\": 1114933691115921408, \"ticker\": \"LDOS\", \"gamma\": 5.591084023935156, \"pvalue\": 0.9178814141226467, \"id\": 1114933691115921408, \"sentiment_score\": 0.9999735355377196, \"sentiment_label\": \"Positive\"}, {\"handle\": \"richardbranson\", \"tweet_id\": 1174677073845215235, \"ticker\": \"LDOS\", \"gamma\": 0.9752334550694386, \"pvalue\": 0.9856513750639164, \"id\": 1174677073845215235, \"sentiment_score\": 0.9999983310699464, \"sentiment_label\": \"Positive\"}, {\"handle\": \"richardbranson\", \"tweet_id\": 1174626364500119554, \"ticker\": \"LDOS\", \"gamma\": 1.112922222291658, \"pvalue\": 0.985651375063918, \"id\": 1174626364500119554, \"sentiment_score\": 0.8762803077697754, \"sentiment_label\": \"Positive\"}, {\"handle\": \"richardbranson\", \"tweet_id\": 1152835756152500224, \"ticker\": \"LDOS\", \"gamma\": -0.4610638621434554, \"pvalue\": 0.993313269811132, \"id\": 1152835756152500224, \"sentiment_score\": 0.9856709837913512, \"sentiment_label\": \"Positive\"}, {\"handle\": \"richardbranson\", \"tweet_id\": 1009057004554420224, \"ticker\": \"LDOS\", \"gamma\": 3.5567119197382726, \"pvalue\": 0.9575085850686698, \"id\": 1009057004554420224, \"sentiment_score\": 0.8123292922973633, \"sentiment_label\": \"Positive\"}, {\"handle\": \"richardbranson\", \"tweet_id\": 951505093664309250, \"ticker\": \"LDOS\", \"gamma\": 0.9277478666989849, \"pvalue\": 0.9931655737053144, \"id\": 951505093664309250, \"sentiment_score\": 0.5006700158119202, \"sentiment_label\": \"Negative\"}, {\"handle\": \"richardbranson\", \"tweet_id\": 926446415173292033, \"ticker\": \"LDOS\", \"gamma\": -0.2945491412970075, \"pvalue\": 0.9959029497313652, \"id\": 926446415173292033, \"sentiment_score\": 0.9453434348106384, \"sentiment_label\": \"Positive\"}, {\"handle\": \"elonmusk\", \"tweet_id\": 941699319777837056, \"ticker\": \"LDOS\", \"gamma\": -0.47633669541692203, \"pvalue\": 0.9929941264912836, \"id\": 941699319777837056, \"sentiment_score\": 0.9996040463447572, \"sentiment_label\": \"Positive\"}, {\"handle\": \"elonmusk\", \"tweet_id\": 875049999217963008, \"ticker\": \"LDOS\", \"gamma\": 0.4663245996597882, \"pvalue\": 0.9931386842881815, \"id\": 875049999217963008, \"sentiment_score\": 0.999996781349182, \"sentiment_label\": \"Negative\"}, {\"handle\": \"elonmusk\", \"tweet_id\": 1143678128423936000, \"ticker\": \"LMT\", \"gamma\": 18.059410465280397, \"pvalue\": 0.03332658821938771, \"id\": 1143678128423936000, \"sentiment_score\": 0.6583350300788879, \"sentiment_label\": \"Positive\"}, {\"handle\": \"elonmusk\", \"tweet_id\": 941699319777837056, \"ticker\": \"LMT\", \"gamma\": -0.15037151961197037, \"pvalue\": 0.9785351564167422, \"id\": 941699319777837056, \"sentiment_score\": 0.9996040463447572, \"sentiment_label\": \"Positive\"}, {\"handle\": \"realDonaldTrump\", \"tweet_id\": 1240783522534699009, \"ticker\": \"LVS\", \"gamma\": 2.7894954401578738, \"pvalue\": 0.6079986604477108, \"id\": 1240783522534699009, \"sentiment_score\": 0.99986469745636, \"sentiment_label\": \"Positive\"}, {\"handle\": \"richardbranson\", \"tweet_id\": 1246087905593917441, \"ticker\": \"LVS\", \"gamma\": -1.0452906131444266, \"pvalue\": 0.8475601157477711, \"id\": 1246087905593917441, \"sentiment_score\": 0.9999920129776, \"sentiment_label\": \"Positive\"}, {\"handle\": \"richardbranson\", \"tweet_id\": 1187256464664154113, \"ticker\": \"LVS\", \"gamma\": 30.6649106637006, \"pvalue\": 6.227611213677354e-08, \"id\": 1187256464664154113, \"sentiment_score\": 0.9596904516220092, \"sentiment_label\": \"Positive\"}, {\"handle\": \"richardbranson\", \"tweet_id\": 1174626364500119554, \"ticker\": \"LVS\", \"gamma\": -1.1270970143075205, \"pvalue\": 0.8558698463781832, \"id\": 1174626364500119554, \"sentiment_score\": 0.8762803077697754, \"sentiment_label\": \"Positive\"}, {\"handle\": \"realDonaldTrump\", \"tweet_id\": 1240783522534699009, \"ticker\": \"MGM\", \"gamma\": -0.8597197725193281, \"pvalue\": 0.9243018903061081, \"id\": 1240783522534699009, \"sentiment_score\": 0.99986469745636, \"sentiment_label\": \"Positive\"}, {\"handle\": \"richardbranson\", \"tweet_id\": 1246087905593917441, \"ticker\": \"MGM\", \"gamma\": -0.22670022110045107, \"pvalue\": 0.9800086099304959, \"id\": 1246087905593917441, \"sentiment_score\": 0.9999920129776, \"sentiment_label\": \"Positive\"}, {\"handle\": \"richardbranson\", \"tweet_id\": 1187256464664154113, \"ticker\": \"MGM\", \"gamma\": -0.19897201723026614, \"pvalue\": 0.9831604338857064, \"id\": 1187256464664154113, \"sentiment_score\": 0.9596904516220092, \"sentiment_label\": \"Positive\"}, {\"handle\": \"richardbranson\", \"tweet_id\": 1174626364500119554, \"ticker\": \"MGM\", \"gamma\": 32.39097392565544, \"pvalue\": 0.001704615319478926, \"id\": 1174626364500119554, \"sentiment_score\": 0.8762803077697754, \"sentiment_label\": \"Positive\"}, {\"handle\": \"elonmusk\", \"tweet_id\": 1143678128423936000, \"ticker\": \"MMS\", \"gamma\": -0.8186691797344687, \"pvalue\": 0.9651215713842416, \"id\": 1143678128423936000, \"sentiment_score\": 0.6583350300788879, \"sentiment_label\": \"Positive\"}, {\"handle\": \"elonmusk\", \"tweet_id\": 941699319777837056, \"ticker\": \"MMS\", \"gamma\": -0.7756655414437619, \"pvalue\": 0.9498401733598969, \"id\": 941699319777837056, \"sentiment_score\": 0.9996040463447572, \"sentiment_label\": \"Positive\"}, {\"handle\": \"realDonaldTrump\", \"tweet_id\": 1329404785083232256, \"ticker\": \"MRNA\", \"gamma\": 47.250136426196654, \"pvalue\": 1.680195365496803e-13, \"id\": 1329404785083232256, \"sentiment_score\": 0.94602233171463, \"sentiment_label\": \"Positive\"}, {\"handle\": \"realDonaldTrump\", \"tweet_id\": 1179928588738580486, \"ticker\": \"MRNA\", \"gamma\": -0.7282288510186691, \"pvalue\": 0.9044076994557702, \"id\": 1179928588738580486, \"sentiment_score\": 0.9999972581863404, \"sentiment_label\": \"Positive\"}, {\"handle\": \"nntaleb\", \"tweet_id\": 1254427322452783105, \"ticker\": \"MRNA\", \"gamma\": -0.8884953481025104, \"pvalue\": 0.8835062760685026, \"id\": 1254427322452783105, \"sentiment_score\": 1.0, \"sentiment_label\": \"Positive\"}, {\"handle\": \"realDonaldTrump\", \"tweet_id\": 1167770738864140288, \"ticker\": \"MSFT\", \"gamma\": -1.0996058151480823, \"pvalue\": 0.7794869655005907, \"id\": 1167770738864140288, \"sentiment_score\": 0.7744786739349365, \"sentiment_label\": \"Positive\"}, {\"handle\": \"elonmusk\", \"tweet_id\": 1283498482150641667, \"ticker\": \"MSFT\", \"gamma\": -0.8379460898905686, \"pvalue\": 0.7829476221253757, \"id\": 1283498482150641667, \"sentiment_score\": 0.9999569654464722, \"sentiment_label\": \"Positive\"}, {\"handle\": \"elonmusk\", \"tweet_id\": 1283498475238363138, \"ticker\": \"MSFT\", \"gamma\": -0.850534501860464, \"pvalue\": 0.7829476221253866, \"id\": 1283498475238363138, \"sentiment_score\": 0.9851570129394532, \"sentiment_label\": \"Positive\"}, {\"handle\": \"elonmusk\", \"tweet_id\": 1194761922572361729, \"ticker\": \"MSFT\", \"gamma\": 12.405044710484496, \"pvalue\": 4.53571108717246e-05, \"id\": 1194761922572361729, \"sentiment_score\": 0.999980926513672, \"sentiment_label\": \"Positive\"}, {\"handle\": \"elonmusk\", \"tweet_id\": 1146392791062212608, \"ticker\": \"MSFT\", \"gamma\": -0.7745771729194666, \"pvalue\": 0.7989876850680645, \"id\": 1146392791062212608, \"sentiment_score\": 0.9999983310699464, \"sentiment_label\": \"Positive\"}, {\"handle\": \"elonmusk\", \"tweet_id\": 1143678128423936000, \"ticker\": \"MSFT\", \"gamma\": -0.4408070832327161, \"pvalue\": 0.9239902135099185, \"id\": 1143678128423936000, \"sentiment_score\": 0.6583350300788879, \"sentiment_label\": \"Positive\"}, {\"handle\": \"elonmusk\", \"tweet_id\": 1131393271400259584, \"ticker\": \"MSFT\", \"gamma\": -0.263364934026665, \"pvalue\": 0.931105049460792, \"id\": 1131393271400259584, \"sentiment_score\": 0.9984762072563172, \"sentiment_label\": \"Positive\"}, {\"handle\": \"elonmusk\", \"tweet_id\": 1127276856476987392, \"ticker\": \"MSFT\", \"gamma\": 74.65864770057995, \"pvalue\": 3.859427166543778e-114, \"id\": 1127276856476987392, \"sentiment_score\": 0.9249680042266846, \"sentiment_label\": \"Positive\"}, {\"handle\": \"elonmusk\", \"tweet_id\": 1120872301178671105, \"ticker\": \"MSFT\", \"gamma\": -0.918840263476146, \"pvalue\": 0.7625856695622995, \"id\": 1120872301178671105, \"sentiment_score\": 0.9999994039535522, \"sentiment_label\": \"Positive\"}, {\"handle\": \"elonmusk\", \"tweet_id\": 1114933691115921408, \"ticker\": \"MSFT\", \"gamma\": 11.0853461829084, \"pvalue\": 0.00026796845749601524, \"id\": 1114933691115921408, \"sentiment_score\": 0.9999735355377196, \"sentiment_label\": \"Positive\"}, {\"handle\": \"richardbranson\", \"tweet_id\": 1174677073845215235, \"ticker\": \"MSFT\", \"gamma\": 18.99682621769635, \"pvalue\": 4.2207927347419213e-10, \"id\": 1174677073845215235, \"sentiment_score\": 0.9999983310699464, \"sentiment_label\": \"Positive\"}, {\"handle\": \"richardbranson\", \"tweet_id\": 1174626364500119554, \"ticker\": \"MSFT\", \"gamma\": 21.678901539694024, \"pvalue\": 4.2207927347409375e-10, \"id\": 1174626364500119554, \"sentiment_score\": 0.8762803077697754, \"sentiment_label\": \"Positive\"}, {\"handle\": \"richardbranson\", \"tweet_id\": 1152835756152500224, \"ticker\": \"MSFT\", \"gamma\": 0.07071393929799916, \"pvalue\": 0.9817176734373323, \"id\": 1152835756152500224, \"sentiment_score\": 0.9856709837913512, \"sentiment_label\": \"Positive\"}, {\"handle\": \"richardbranson\", \"tweet_id\": 1009057004554420224, \"ticker\": \"MSFT\", \"gamma\": 7.904908677587436, \"pvalue\": 0.034758278777566945, \"id\": 1009057004554420224, \"sentiment_score\": 0.8123292922973633, \"sentiment_label\": \"Positive\"}, {\"handle\": \"richardbranson\", \"tweet_id\": 951505093664309250, \"ticker\": \"MSFT\", \"gamma\": 1.367449467790093, \"pvalue\": 0.8219096315793126, \"id\": 951505093664309250, \"sentiment_score\": 0.5006700158119202, \"sentiment_label\": \"Negative\"}, {\"handle\": \"richardbranson\", \"tweet_id\": 926446415173292033, \"ticker\": \"MSFT\", \"gamma\": -0.6266894276539654, \"pvalue\": 0.8455686813527832, \"id\": 926446415173292033, \"sentiment_score\": 0.9453434348106384, \"sentiment_label\": \"Positive\"}, {\"handle\": \"elonmusk\", \"tweet_id\": 941699319777837056, \"ticker\": \"MSFT\", \"gamma\": 0.47333044848165495, \"pvalue\": 0.8763835491375931, \"id\": 941699319777837056, \"sentiment_score\": 0.9996040463447572, \"sentiment_label\": \"Positive\"}, {\"handle\": \"elonmusk\", \"tweet_id\": 875049999217963008, \"ticker\": \"MSFT\", \"gamma\": 0.9110052399424965, \"pvalue\": 0.7645506461831434, \"id\": 875049999217963008, \"sentiment_score\": 0.999996781349182, \"sentiment_label\": \"Negative\"}, {\"handle\": \"jack\", \"tweet_id\": 1311052005918388224, \"ticker\": \"MSTR\", \"gamma\": -1.2583945196745416, \"pvalue\": 0.9965517049837028, \"id\": 1311052005918388224, \"sentiment_score\": 0.8565406799316406, \"sentiment_label\": \"Positive\"}, {\"handle\": \"elonmusk\", \"tweet_id\": 1283498475238363138, \"ticker\": \"MSTR\", \"gamma\": 1.9878884603502118, \"pvalue\": 0.9937348141669421, \"id\": 1283498475238363138, \"sentiment_score\": 0.9851570129394532, \"sentiment_label\": \"Positive\"}, {\"handle\": \"nntaleb\", \"tweet_id\": 1278400538397286403, \"ticker\": \"NIO\", \"gamma\": -0.7528656375851244, \"pvalue\": 0.8815852971996899, \"id\": 1278400538397286403, \"sentiment_score\": 0.92054945230484, \"sentiment_label\": \"Positive\"}, {\"handle\": \"elonmusk\", \"tweet_id\": 1194761922572361729, \"ticker\": \"NIO\", \"gamma\": -0.6723316631134937, \"pvalue\": 0.8851024711443202, \"id\": 1194761922572361729, \"sentiment_score\": 0.999980926513672, \"sentiment_label\": \"Positive\"}, {\"handle\": \"elonmusk\", \"tweet_id\": 1146392791062212608, \"ticker\": \"NIO\", \"gamma\": -0.20078013601003974, \"pvalue\": 0.9655784847765837, \"id\": 1146392791062212608, \"sentiment_score\": 0.9999983310699464, \"sentiment_label\": \"Positive\"}, {\"handle\": \"elonmusk\", \"tweet_id\": 1131393271400259584, \"ticker\": \"NIO\", \"gamma\": -0.6741889042726907, \"pvalue\": 0.8849594505065962, \"id\": 1131393271400259584, \"sentiment_score\": 0.9984762072563172, \"sentiment_label\": \"Positive\"}, {\"handle\": \"elonmusk\", \"tweet_id\": 1120872301178671105, \"ticker\": \"NIO\", \"gamma\": -0.8716050926115391, \"pvalue\": 0.8513962002487161, \"id\": 1120872301178671105, \"sentiment_score\": 0.9999994039535522, \"sentiment_label\": \"Positive\"}, {\"handle\": \"elonmusk\", \"tweet_id\": 1143678128423936000, \"ticker\": \"NOC\", \"gamma\": -0.6294818814877595, \"pvalue\": 0.97964457523807, \"id\": 1143678128423936000, \"sentiment_score\": 0.6583350300788879, \"sentiment_label\": \"Positive\"}, {\"handle\": \"elonmusk\", \"tweet_id\": 941699319777837056, \"ticker\": \"NOC\", \"gamma\": -0.6460479862089403, \"pvalue\": 0.968284215714059, \"id\": 941699319777837056, \"sentiment_score\": 0.9996040463447572, \"sentiment_label\": \"Positive\"}, {\"handle\": \"realDonaldTrump\", \"tweet_id\": 1329404785083232256, \"ticker\": \"NVAX\", \"gamma\": 0.24403298523213635, \"pvalue\": 0.9671226022738224, \"id\": 1329404785083232256, \"sentiment_score\": 0.94602233171463, \"sentiment_label\": \"Positive\"}, {\"handle\": \"realDonaldTrump\", \"tweet_id\": 1179928588738580486, \"ticker\": \"NVAX\", \"gamma\": -0.7243990721658192, \"pvalue\": 0.8970946900946781, \"id\": 1179928588738580486, \"sentiment_score\": 0.9999972581863404, \"sentiment_label\": \"Positive\"}, {\"handle\": \"nntaleb\", \"tweet_id\": 1254427322452783105, \"ticker\": \"NVAX\", \"gamma\": 27.037199163066475, \"pvalue\": 1.3846828026258686e-06, \"id\": 1254427322452783105, \"sentiment_score\": 1.0, \"sentiment_label\": \"Positive\"}, {\"handle\": \"realDonaldTrump\", \"tweet_id\": 1329404785083232256, \"ticker\": \"PFE\", \"gamma\": 9.137470846131617, \"pvalue\": 0.7329869351906246, \"id\": 1329404785083232256, \"sentiment_score\": 0.94602233171463, \"sentiment_label\": \"Positive\"}, {\"handle\": \"realDonaldTrump\", \"tweet_id\": 1179928588738580486, \"ticker\": \"PFE\", \"gamma\": 48.47158581247471, \"pvalue\": 0.05575047141566939, \"id\": 1179928588738580486, \"sentiment_score\": 0.9999972581863404, \"sentiment_label\": \"Positive\"}, {\"handle\": \"nntaleb\", \"tweet_id\": 1254427322452783105, \"ticker\": \"PFE\", \"gamma\": 0.9777835267731352, \"pvalue\": 0.969217826990427, \"id\": 1254427322452783105, \"sentiment_score\": 1.0, \"sentiment_label\": \"Positive\"}, {\"handle\": \"realDonaldTrump\", \"tweet_id\": 1167770738864140288, \"ticker\": \"PINS\", \"gamma\": 2.668093063971144, \"pvalue\": 0.5216875588104977, \"id\": 1167770738864140288, \"sentiment_score\": 0.7744786739349365, \"sentiment_label\": \"Positive\"}, {\"handle\": \"elonmusk\", \"tweet_id\": 1283498482150641667, \"ticker\": \"PINS\", \"gamma\": -0.9444599878816323, \"pvalue\": 0.7696393488145624, \"id\": 1283498482150641667, \"sentiment_score\": 0.9999569654464722, \"sentiment_label\": \"Positive\"}, {\"handle\": \"elonmusk\", \"tweet_id\": 1283498475238363138, \"ticker\": \"PINS\", \"gamma\": -0.9586485515133748, \"pvalue\": 0.7696393488145641, \"id\": 1283498475238363138, \"sentiment_score\": 0.9851570129394532, \"sentiment_label\": \"Positive\"}, {\"handle\": \"elonmusk\", \"tweet_id\": 1194761922572361729, \"ticker\": \"PINS\", \"gamma\": 10.397058079591089, \"pvalue\": 0.001264485444392792, \"id\": 1194761922572361729, \"sentiment_score\": 0.999980926513672, \"sentiment_label\": \"Positive\"}, {\"handle\": \"elonmusk\", \"tweet_id\": 1146392791062212608, \"ticker\": \"PINS\", \"gamma\": 3.0329169538277014, \"pvalue\": 0.346986754292014, \"id\": 1146392791062212608, \"sentiment_score\": 0.9999983310699464, \"sentiment_label\": \"Positive\"}, {\"handle\": \"elonmusk\", \"tweet_id\": 1143678128423936000, \"ticker\": \"PINS\", \"gamma\": 1.9498507961924274, \"pvalue\": 0.6906026599217923, \"id\": 1143678128423936000, \"sentiment_score\": 0.6583350300788879, \"sentiment_label\": \"Positive\"}, {\"handle\": \"elonmusk\", \"tweet_id\": 1131393271400259584, \"ticker\": \"PINS\", \"gamma\": -0.5295944646812489, \"pvalue\": 0.8697570942563468, \"id\": 1131393271400259584, \"sentiment_score\": 0.9984762072563172, \"sentiment_label\": \"Positive\"}, {\"handle\": \"elonmusk\", \"tweet_id\": 1127276856476987392, \"ticker\": \"PINS\", \"gamma\": 4.8280254287121345, \"pvalue\": 0.16612746032265194, \"id\": 1127276856476987392, \"sentiment_score\": 0.9249680042266846, \"sentiment_label\": \"Positive\"}, {\"handle\": \"elonmusk\", \"tweet_id\": 1120872301178671105, \"ticker\": \"PINS\", \"gamma\": 0.9140444434030162, \"pvalue\": 0.7768489051081174, \"id\": 1120872301178671105, \"sentiment_score\": 0.9999994039535522, \"sentiment_label\": \"Positive\"}, {\"handle\": \"elonmusk\", \"tweet_id\": 1114933691115921408, \"ticker\": \"PINS\", \"gamma\": -0.915716984173393, \"pvalue\": 0.7764570532117673, \"id\": 1114933691115921408, \"sentiment_score\": 0.9999735355377196, \"sentiment_label\": \"Positive\"}, {\"handle\": \"richardbranson\", \"tweet_id\": 1174677073845215235, \"ticker\": \"PINS\", \"gamma\": 8.551497113452463, \"pvalue\": 0.00800920407948007, \"id\": 1174677073845215235, \"sentiment_score\": 0.9999983310699464, \"sentiment_label\": \"Positive\"}, {\"handle\": \"richardbranson\", \"tweet_id\": 1174626364500119554, \"ticker\": \"PINS\", \"gamma\": 9.75884402030946, \"pvalue\": 0.008009204079490573, \"id\": 1174626364500119554, \"sentiment_score\": 0.8762803077697754, \"sentiment_label\": \"Positive\"}, {\"handle\": \"richardbranson\", \"tweet_id\": 1152835756152500224, \"ticker\": \"PINS\", \"gamma\": 2.433755164299219, \"pvalue\": 0.4569680352248501, \"id\": 1152835756152500224, \"sentiment_score\": 0.9856709837913512, \"sentiment_label\": \"Positive\"}, {\"handle\": \"richardbranson\", \"tweet_id\": 1009057004554420224, \"ticker\": \"PINS\", \"gamma\": -1.1272432975802436, \"pvalue\": 0.7764570532225319, \"id\": 1009057004554420224, \"sentiment_score\": 0.8123292922973633, \"sentiment_label\": \"Positive\"}, {\"handle\": \"richardbranson\", \"tweet_id\": 951505093664309250, \"ticker\": \"PINS\", \"gamma\": 1.8289346700109077, \"pvalue\": 0.7764570532262814, \"id\": 951505093664309250, \"sentiment_score\": 0.5006700158119202, \"sentiment_label\": \"Negative\"}, {\"handle\": \"richardbranson\", \"tweet_id\": 926446415173292033, \"ticker\": \"PINS\", \"gamma\": -0.9686350129459707, \"pvalue\": 0.7764570532114085, \"id\": 926446415173292033, \"sentiment_score\": 0.9453434348106384, \"sentiment_label\": \"Positive\"}, {\"handle\": \"elonmusk\", \"tweet_id\": 941699319777837056, \"ticker\": \"PINS\", \"gamma\": -0.9160554657370823, \"pvalue\": 0.776457053209179, \"id\": 941699319777837056, \"sentiment_score\": 0.9996040463447572, \"sentiment_label\": \"Positive\"}, {\"handle\": \"elonmusk\", \"tweet_id\": 875049999217963008, \"ticker\": \"PINS\", \"gamma\": 0.9156956975283538, \"pvalue\": 0.7764570532099152, \"id\": 875049999217963008, \"sentiment_score\": 0.999996781349182, \"sentiment_label\": \"Negative\"}, {\"handle\": \"jack\", \"tweet_id\": 1311052005918388224, \"ticker\": \"PYPL\", \"gamma\": 21.42884547207983, \"pvalue\": 0.0011369644411634453, \"id\": 1311052005918388224, \"sentiment_score\": 0.8565406799316406, \"sentiment_label\": \"Positive\"}, {\"handle\": \"elonmusk\", \"tweet_id\": 1283498475238363138, \"ticker\": \"PYPL\", \"gamma\": -0.9895884597360867, \"pvalue\": 0.8627720606162231, \"id\": 1283498475238363138, \"sentiment_score\": 0.9851570129394532, \"sentiment_label\": \"Positive\"}, {\"handle\": \"jack\", \"tweet_id\": 1311052005918388224, \"ticker\": \"SHOP\", \"gamma\": 27.68074035008833, \"pvalue\": 3.087443940754761e-05, \"id\": 1311052005918388224, \"sentiment_score\": 0.8565406799316406, \"sentiment_label\": \"Positive\"}, {\"handle\": \"realDonaldTrump\", \"tweet_id\": 1167770738864140288, \"ticker\": \"SHOP\", \"gamma\": -1.1611121491538945, \"pvalue\": 0.8744246410861214, \"id\": 1167770738864140288, \"sentiment_score\": 0.7744786739349365, \"sentiment_label\": \"Positive\"}, {\"handle\": \"elonmusk\", \"tweet_id\": 1283498482150641667, \"ticker\": \"SHOP\", \"gamma\": 32.53362945120215, \"pvalue\": 1.081002264151195e-08, \"id\": 1283498482150641667, \"sentiment_score\": 0.9999569654464722, \"sentiment_label\": \"Positive\"}, {\"handle\": \"elonmusk\", \"tweet_id\": 1283498475238363138, \"ticker\": \"SHOP\", \"gamma\": 33.02238014215675, \"pvalue\": 1.081002264149701e-08, \"id\": 1283498475238363138, \"sentiment_score\": 0.9851570129394532, \"sentiment_label\": \"Positive\"}, {\"handle\": \"elonmusk\", \"tweet_id\": 1194761922572361729, \"ticker\": \"SHOP\", \"gamma\": 42.36078804274912, \"pvalue\": 9.708834421602108e-14, \"id\": 1194761922572361729, \"sentiment_score\": 0.999980926513672, \"sentiment_label\": \"Positive\"}, {\"handle\": \"elonmusk\", \"tweet_id\": 1146392791062212608, \"ticker\": \"SHOP\", \"gamma\": 8.363739317718782, \"pvalue\": 0.14159063023059676, \"id\": 1146392791062212608, \"sentiment_score\": 0.9999983310699464, \"sentiment_label\": \"Positive\"}, {\"handle\": \"elonmusk\", \"tweet_id\": 1143678128423936000, \"ticker\": \"SHOP\", \"gamma\": 3.701992733703243, \"pvalue\": 0.6684182884901833, \"id\": 1143678128423936000, \"sentiment_score\": 0.6583350300788879, \"sentiment_label\": \"Positive\"}, {\"handle\": \"elonmusk\", \"tweet_id\": 1131393271400259584, \"ticker\": \"SHOP\", \"gamma\": 64.8464189940169, \"pvalue\": 5.2680085483853396e-30, \"id\": 1131393271400259584, \"sentiment_score\": 0.9984762072563172, \"sentiment_label\": \"Positive\"}, {\"handle\": \"elonmusk\", \"tweet_id\": 1127276856476987392, \"ticker\": \"SHOP\", \"gamma\": -1.0287262925821206, \"pvalue\": 0.8671896937214857, \"id\": 1127276856476987392, \"sentiment_score\": 0.9249680042266846, \"sentiment_label\": \"Positive\"}, {\"handle\": \"elonmusk\", \"tweet_id\": 1120872301178671105, \"ticker\": \"SHOP\", \"gamma\": -0.43883807645611544, \"pvalue\": 0.9385248853840633, \"id\": 1120872301178671105, \"sentiment_score\": 0.9999994039535522, \"sentiment_label\": \"Positive\"}, {\"handle\": \"elonmusk\", \"tweet_id\": 1114933691115921408, \"ticker\": \"SHOP\", \"gamma\": -0.8637306565903121, \"pvalue\": 0.8793500075856449, \"id\": 1114933691115921408, \"sentiment_score\": 0.9999735355377196, \"sentiment_label\": \"Positive\"}, {\"handle\": \"richardbranson\", \"tweet_id\": 1174677073845215235, \"ticker\": \"SHOP\", \"gamma\": -0.9508033069442205, \"pvalue\": 0.8672916313662392, \"id\": 1174677073845215235, \"sentiment_score\": 0.9999983310699464, \"sentiment_label\": \"Positive\"}, {\"handle\": \"richardbranson\", \"tweet_id\": 1174626364500119554, \"ticker\": \"SHOP\", \"gamma\": -1.0850428928853915, \"pvalue\": 0.8672916313662367, \"id\": 1174626364500119554, \"sentiment_score\": 0.8762803077697754, \"sentiment_label\": \"Positive\"}, {\"handle\": \"richardbranson\", \"tweet_id\": 1152835756152500224, \"ticker\": \"SHOP\", \"gamma\": 27.83855602725861, \"pvalue\": 1.4179331003725308e-06, \"id\": 1152835756152500224, \"sentiment_score\": 0.9856709837913512, \"sentiment_label\": \"Positive\"}, {\"handle\": \"richardbranson\", \"tweet_id\": 1009057004554420224, \"ticker\": \"SHOP\", \"gamma\": 310.60128185574376, \"pvalue\": 0.0, \"id\": 1009057004554420224, \"sentiment_score\": 0.8123292922973633, \"sentiment_label\": \"Positive\"}, {\"handle\": \"richardbranson\", \"tweet_id\": 951505093664309250, \"ticker\": \"SHOP\", \"gamma\": 1.8194480517899259, \"pvalue\": 0.8728065043207572, \"id\": 951505093664309250, \"sentiment_score\": 0.5006700158119202, \"sentiment_label\": \"Negative\"}, {\"handle\": \"richardbranson\", \"tweet_id\": 926446415173292033, \"ticker\": \"SHOP\", \"gamma\": -1.0624896299419357, \"pvalue\": 0.8598835190325411, \"id\": 926446415173292033, \"sentiment_score\": 0.9453434348106384, \"sentiment_label\": \"Positive\"}, {\"handle\": \"elonmusk\", \"tweet_id\": 941699319777837056, \"ticker\": \"SHOP\", \"gamma\": -0.9702485196795355, \"pvalue\": 0.8646563754333986, \"id\": 941699319777837056, \"sentiment_score\": 0.9996040463447572, \"sentiment_label\": \"Positive\"}, {\"handle\": \"elonmusk\", \"tweet_id\": 875049999217963008, \"ticker\": \"SHOP\", \"gamma\": -0.2443754160911833, \"pvalue\": 0.9657430816577125, \"id\": 875049999217963008, \"sentiment_score\": 0.999996781349182, \"sentiment_label\": \"Negative\"}, {\"handle\": \"realDonaldTrump\", \"tweet_id\": 1167770738864140288, \"ticker\": \"SNAP\", \"gamma\": 3.6831782624465204, \"pvalue\": 0.6065274414746142, \"id\": 1167770738864140288, \"sentiment_score\": 0.7744786739349365, \"sentiment_label\": \"Positive\"}, {\"handle\": \"elonmusk\", \"tweet_id\": 1283498482150641667, \"ticker\": \"SNAP\", \"gamma\": 3.812167446044743, \"pvalue\": 0.49128237871170033, \"id\": 1283498482150641667, \"sentiment_score\": 0.9999569654464722, \"sentiment_label\": \"Positive\"}, {\"handle\": \"elonmusk\", \"tweet_id\": 1283498475238363138, \"ticker\": \"SNAP\", \"gamma\": 3.8694374003862717, \"pvalue\": 0.49128237871173885, \"id\": 1283498475238363138, \"sentiment_score\": 0.9851570129394532, \"sentiment_label\": \"Positive\"}, {\"handle\": \"elonmusk\", \"tweet_id\": 1194761922572361729, \"ticker\": \"SNAP\", \"gamma\": 7.143315919424222, \"pvalue\": 0.19714537927639492, \"id\": 1194761922572361729, \"sentiment_score\": 0.999980926513672, \"sentiment_label\": \"Positive\"}, {\"handle\": \"elonmusk\", \"tweet_id\": 1146392791062212608, \"ticker\": \"SNAP\", \"gamma\": -0.7137486562557986, \"pvalue\": 0.8974608504792254, \"id\": 1146392791062212608, \"sentiment_score\": 0.9999983310699464, \"sentiment_label\": \"Positive\"}, {\"handle\": \"elonmusk\", \"tweet_id\": 1143678128423936000, \"ticker\": \"SNAP\", \"gamma\": -0.34979045183944873, \"pvalue\": 0.9668353299844301, \"id\": 1143678128423936000, \"sentiment_score\": 0.6583350300788879, \"sentiment_label\": \"Positive\"}, {\"handle\": \"elonmusk\", \"tweet_id\": 1131393271400259584, \"ticker\": \"SNAP\", \"gamma\": 5.640395991331366, \"pvalue\": 0.30922864821620616, \"id\": 1131393271400259584, \"sentiment_score\": 0.9984762072563172, \"sentiment_label\": \"Positive\"}, {\"handle\": \"elonmusk\", \"tweet_id\": 1127276856476987392, \"ticker\": \"SNAP\", \"gamma\": -0.6087033367773248, \"pvalue\": 0.9190287626739183, \"id\": 1127276856476987392, \"sentiment_score\": 0.9249680042266846, \"sentiment_label\": \"Positive\"}, {\"handle\": \"elonmusk\", \"tweet_id\": 1120872301178671105, \"ticker\": \"SNAP\", \"gamma\": 83.53786438828122, \"pvalue\": 2.0227746512947792e-51, \"id\": 1120872301178671105, \"sentiment_score\": 0.9999994039535522, \"sentiment_label\": \"Positive\"}, {\"handle\": \"elonmusk\", \"tweet_id\": 1114933691115921408, \"ticker\": \"SNAP\", \"gamma\": -0.5293248520459061, \"pvalue\": 0.9238629621754882, \"id\": 1114933691115921408, \"sentiment_score\": 0.9999735355377196, \"sentiment_label\": \"Positive\"}, {\"handle\": \"richardbranson\", \"tweet_id\": 1174677073845215235, \"ticker\": \"SNAP\", \"gamma\": 37.19968864597356, \"pvalue\": 1.8585697461931835e-11, \"id\": 1174677073845215235, \"sentiment_score\": 0.9999983310699464, \"sentiment_label\": \"Positive\"}, {\"handle\": \"richardbranson\", \"tweet_id\": 1174626364500119554, \"ticker\": \"SNAP\", \"gamma\": 42.45174316089775, \"pvalue\": 1.858569746192334e-11, \"id\": 1174626364500119554, \"sentiment_score\": 0.8762803077697754, \"sentiment_label\": \"Positive\"}, {\"handle\": \"richardbranson\", \"tweet_id\": 1152835756152500224, \"ticker\": \"SNAP\", \"gamma\": 75.51767067284439, \"pvalue\": 3.4669225584863253e-41, \"id\": 1152835756152500224, \"sentiment_score\": 0.9856709837913512, \"sentiment_label\": \"Positive\"}, {\"handle\": \"richardbranson\", \"tweet_id\": 1009057004554420224, \"ticker\": \"SNAP\", \"gamma\": 26.00228525876567, \"pvalue\": 0.0001368669709199877, \"id\": 1009057004554420224, \"sentiment_score\": 0.8123292922973633, \"sentiment_label\": \"Positive\"}, {\"handle\": \"richardbranson\", \"tweet_id\": 951505093664309250, \"ticker\": \"SNAP\", \"gamma\": -0.34111846352613806, \"pvalue\": 0.9754000702880545, \"id\": 951505093664309250, \"sentiment_score\": 0.5006700158119202, \"sentiment_label\": \"Negative\"}, {\"handle\": \"richardbranson\", \"tweet_id\": 926446415173292033, \"ticker\": \"SNAP\", \"gamma\": 0.3671881912804791, \"pvalue\": 0.9500264782243805, \"id\": 926446415173292033, \"sentiment_score\": 0.9453434348106384, \"sentiment_label\": \"Positive\"}, {\"handle\": \"elonmusk\", \"tweet_id\": 941699319777837056, \"ticker\": \"SNAP\", \"gamma\": -0.6872840481921798, \"pvalue\": 0.901281719635166, \"id\": 941699319777837056, \"sentiment_score\": 0.9996040463447572, \"sentiment_label\": \"Positive\"}, {\"handle\": \"elonmusk\", \"tweet_id\": 875049999217963008, \"ticker\": \"SNAP\", \"gamma\": 0.9492183102909539, \"pvalue\": 0.8639217541192203, \"id\": 875049999217963008, \"sentiment_score\": 0.999996781349182, \"sentiment_label\": \"Negative\"}, {\"handle\": \"realDonaldTrump\", \"tweet_id\": 1240783522534699009, \"ticker\": \"SPCE\", \"gamma\": -0.2100913846266078, \"pvalue\": 0.9927213249445006, \"id\": 1240783522534699009, \"sentiment_score\": 0.99986469745636, \"sentiment_label\": \"Positive\"}, {\"handle\": \"elonmusk\", \"tweet_id\": 1143678128423936000, \"ticker\": \"SPCE\", \"gamma\": -1.017325150295025, \"pvalue\": 0.976796452146952, \"id\": 1143678128423936000, \"sentiment_score\": 0.6583350300788879, \"sentiment_label\": \"Positive\"}, {\"handle\": \"richardbranson\", \"tweet_id\": 1246087905593917441, \"ticker\": \"SPCE\", \"gamma\": -0.5076863652400774, \"pvalue\": 0.9824100046412427, \"id\": 1246087905593917441, \"sentiment_score\": 0.9999920129776, \"sentiment_label\": \"Positive\"}, {\"handle\": \"richardbranson\", \"tweet_id\": 1187256464664154113, \"ticker\": \"SPCE\", \"gamma\": -0.6978716755088901, \"pvalue\": 0.9767964521461341, \"id\": 1187256464664154113, \"sentiment_score\": 0.9596904516220092, \"sentiment_label\": \"Positive\"}, {\"handle\": \"richardbranson\", \"tweet_id\": 1174626364500119554, \"ticker\": \"SPCE\", \"gamma\": -0.7642997080831441, \"pvalue\": 0.9767964521466584, \"id\": 1174626364500119554, \"sentiment_score\": 0.8762803077697754, \"sentiment_label\": \"Positive\"}, {\"handle\": \"elonmusk\", \"tweet_id\": 941699319777837056, \"ticker\": \"SPCE\", \"gamma\": -0.6700060747951997, \"pvalue\": 0.9767964521462125, \"id\": 941699319777837056, \"sentiment_score\": 0.9996040463447572, \"sentiment_label\": \"Positive\"}, {\"handle\": \"jack\", \"tweet_id\": 1311052005918388224, \"ticker\": \"SQ\", \"gamma\": -0.9052361181109638, \"pvalue\": 0.8620036828971824, \"id\": 1311052005918388224, \"sentiment_score\": 0.8565406799316406, \"sentiment_label\": \"Positive\"}, {\"handle\": \"elonmusk\", \"tweet_id\": 1283498475238363138, \"ticker\": \"SQ\", \"gamma\": 6.761580540212736, \"pvalue\": 0.13535212418336998, \"id\": 1283498475238363138, \"sentiment_score\": 0.9851570129394532, \"sentiment_label\": \"Positive\"}, {\"handle\": \"nntaleb\", \"tweet_id\": 1278400538397286403, \"ticker\": \"TSLA\", \"gamma\": -0.5986459475651196, \"pvalue\": 0.9656754025896781, \"id\": 1278400538397286403, \"sentiment_score\": 0.92054945230484, \"sentiment_label\": \"Positive\"}, {\"handle\": \"elonmusk\", \"tweet_id\": 1194761922572361729, \"ticker\": \"TSLA\", \"gamma\": 6.358736388807738, \"pvalue\": 0.6195210805775432, \"id\": 1194761922572361729, \"sentiment_score\": 0.999980926513672, \"sentiment_label\": \"Positive\"}, {\"handle\": \"elonmusk\", \"tweet_id\": 1146392791062212608, \"ticker\": \"TSLA\", \"gamma\": 150.13761211282065, \"pvalue\": 9.571517166518998e-32, \"id\": 1146392791062212608, \"sentiment_score\": 0.9999983310699464, \"sentiment_label\": \"Positive\"}, {\"handle\": \"elonmusk\", \"tweet_id\": 1131393271400259584, \"ticker\": \"TSLA\", \"gamma\": 4.750473874618655, \"pvalue\": 0.7110934111363789, \"id\": 1131393271400259584, \"sentiment_score\": 0.9984762072563172, \"sentiment_label\": \"Positive\"}, {\"handle\": \"elonmusk\", \"tweet_id\": 1120872301178671105, \"ticker\": \"TSLA\", \"gamma\": 14.482080434841707, \"pvalue\": 0.2581093784484384, \"id\": 1120872301178671105, \"sentiment_score\": 0.9999994039535522, \"sentiment_label\": \"Positive\"}, {\"handle\": \"realDonaldTrump\", \"tweet_id\": 1302985926809923589, \"ticker\": \"WFC\", \"gamma\": -0.5845183247107765, \"pvalue\": 0.9196128148184766, \"id\": 1302985926809923589, \"sentiment_score\": 0.9999986886978148, \"sentiment_label\": \"Positive\"}, {\"handle\": \"nntaleb\", \"tweet_id\": 1278400538397286403, \"ticker\": \"WKHS\", \"gamma\": -1.0680871825993141, \"pvalue\": 0.9006653048983901, \"id\": 1278400538397286403, \"sentiment_score\": 0.92054945230484, \"sentiment_label\": \"Positive\"}, {\"handle\": \"elonmusk\", \"tweet_id\": 1194761922572361729, \"ticker\": \"WKHS\", \"gamma\": -0.5909368514620268, \"pvalue\": 0.9402002604287394, \"id\": 1194761922572361729, \"sentiment_score\": 0.999980926513672, \"sentiment_label\": \"Positive\"}, {\"handle\": \"elonmusk\", \"tweet_id\": 1146392791062212608, \"ticker\": \"WKHS\", \"gamma\": 7.810734590755932, \"pvalue\": 0.32140525690723887, \"id\": 1146392791062212608, \"sentiment_score\": 0.9999983310699464, \"sentiment_label\": \"Positive\"}, {\"handle\": \"elonmusk\", \"tweet_id\": 1131393271400259584, \"ticker\": \"WKHS\", \"gamma\": 22.37521351557221, \"pvalue\": 0.004564883753666037, \"id\": 1131393271400259584, \"sentiment_score\": 0.9984762072563172, \"sentiment_label\": \"Positive\"}, {\"handle\": \"elonmusk\", \"tweet_id\": 1120872301178671105, \"ticker\": \"WKHS\", \"gamma\": -1.0768588886929567, \"pvalue\": 0.8912620410374659, \"id\": 1120872301178671105, \"sentiment_score\": 0.9999994039535522, \"sentiment_label\": \"Positive\"}, {\"handle\": \"realDonaldTrump\", \"tweet_id\": 1302985926809923589, \"ticker\": \"WMT\", \"gamma\": -1.0121458133873156, \"pvalue\": 0.8631894291922997, \"id\": 1302985926809923589, \"sentiment_score\": 0.9999986886978148, \"sentiment_label\": \"Positive\"}, {\"handle\": \"realDonaldTrump\", \"tweet_id\": 1240783522534699009, \"ticker\": \"WYNN\", \"gamma\": -0.5268527843561568, \"pvalue\": 0.9291909800023483, \"id\": 1240783522534699009, \"sentiment_score\": 0.99986469745636, \"sentiment_label\": \"Positive\"}, {\"handle\": \"richardbranson\", \"tweet_id\": 1246087905593917441, \"ticker\": \"WYNN\", \"gamma\": -1.0237083604605346, \"pvalue\": 0.8628967063434182, \"id\": 1246087905593917441, \"sentiment_score\": 0.9999920129776, \"sentiment_label\": \"Positive\"}, {\"handle\": \"richardbranson\", \"tweet_id\": 1187256464664154113, \"ticker\": \"WYNN\", \"gamma\": 14.174366875199247, \"pvalue\": 0.02175070253871191, \"id\": 1187256464664154113, \"sentiment_score\": 0.9596904516220092, \"sentiment_label\": \"Positive\"}, {\"handle\": \"richardbranson\", \"tweet_id\": 1174626364500119554, \"ticker\": \"WYNN\", \"gamma\": 287.0542238090402, \"pvalue\": 0.0, \"id\": 1174626364500119554, \"sentiment_score\": 0.8762803077697754, \"sentiment_label\": \"Positive\"}, {\"handle\": \"realDonaldTrump\", \"tweet_id\": 1167064301565358080, \"ticker\": \"XOM\", \"gamma\": -0.9672804831966505, \"pvalue\": 0.7628462381714245, \"id\": 1167064301565358080, \"sentiment_score\": 0.9999572038650512, \"sentiment_label\": \"Positive\"}, {\"handle\": \"elonmusk\", \"tweet_id\": 1165371078840991744, \"ticker\": \"XOM\", \"gamma\": -1.149474924876153, \"pvalue\": 0.8055095846830871, \"id\": 1165371078840991744, \"sentiment_score\": 0.686629593372345, \"sentiment_label\": \"Positive\"}, {\"handle\": \"elonmusk\", \"tweet_id\": 1131393271400259584, \"ticker\": \"XOM\", \"gamma\": 124.7011047952147, \"pvalue\": 0.0, \"id\": 1131393271400259584, \"sentiment_score\": 0.9984762072563172, \"sentiment_label\": \"Positive\"}, {\"handle\": \"elonmusk\", \"tweet_id\": 1120872301178671105, \"ticker\": \"XOM\", \"gamma\": -1.0288666099816064, \"pvalue\": 0.7482325441090967, \"id\": 1120872301178671105, \"sentiment_score\": 0.9999994039535522, \"sentiment_label\": \"Positive\"}]}}, {\"mode\": \"vega-lite\"});\n",
       "</script>"
      ],
      "text/plain": [
       "alt.Chart(...)"
      ]
     },
     "execution_count": 20,
     "metadata": {},
     "output_type": "execute_result"
    }
   ],
   "source": [
    "import altair as alt\n",
    "import altair as alt\n",
    "\n",
    "def dark_theme():\n",
    "    return {\n",
    "        'config': {\n",
    "            'background': '#1e1e1e',\n",
    "            'title': {\n",
    "                'color': '#ffffff'\n",
    "            },\n",
    "            'axis': {\n",
    "                'labelColor': '#ffffff',\n",
    "                'titleColor': '#ffffff',\n",
    "                'gridColor': '#444444'\n",
    "            },\n",
    "            'legend': {\n",
    "                'labelColor': '#ffffff',\n",
    "                'titleColor': '#ffffff'\n",
    "            },\n",
    "            'header': {\n",
    "                'labelColor': '#ffffff',\n",
    "                'titleColor': '#ffffff'\n",
    "            },\n",
    "            'view': {\n",
    "                'stroke': '#444444'\n",
    "            }\n",
    "        }\n",
    "    }\n",
    "\n",
    "alt.themes.register('dark_custom', dark_theme)\n",
    "alt.themes.enable('dark_custom')\n",
    "\n",
    "viz_df = result_df.merge(\n",
    "    tweets_df[['id', 'sentiment_score', 'sentiment_label']],\n",
    "    left_on='tweet_id', right_on='id'\n",
    ").dropna(subset=['sentiment_score', 'gamma', 'pvalue'])\n",
    "\n",
    "chart = alt.Chart(viz_df).mark_circle(size=60).encode(\n",
    "    x=alt.X('sentiment_score:Q', title='FinBERT Sentiment Score'),\n",
    "    y=alt.Y('gamma:Q', title='Estimated γ (Volatility Impact)'),\n",
    "    color=alt.Color('sentiment_label:N', title='Sentiment'),\n",
    "    tooltip=['handle', 'tweet_id', 'ticker', 'sentiment_score', 'gamma', 'pvalue']\n",
    ").properties(\n",
    "    title='Tweet Sentiment vs Estimated Volatility Impact (γ)',\n",
    "    width=600,\n",
    "    height=400\n",
    ").interactive()\n",
    "\n",
    "chart\n"
   ]
  },
  {
   "cell_type": "markdown",
   "id": "dae0a10b-7298-4831-804a-feecb2c3f548",
   "metadata": {},
   "source": [
    "### Volcano Plot – γ vs –log(p-value)\n",
    "\n",
    "#### What it shows\n",
    "Which tweets are strongly impactful (high γ) and statistically significant (low p).\n",
    "\n",
    "#### Why it matters\n",
    "Helps visually surface high-confidence volatility drivers."
   ]
  },
  {
   "cell_type": "code",
   "execution_count": 21,
   "id": "c6307dce-edd9-4c1c-a5da-2383696047d4",
   "metadata": {},
   "outputs": [
    {
     "data": {
      "text/html": [
       "\n",
       "<style>\n",
       "  #altair-viz-db8b926869764bc2a1125aed894b86a6.vega-embed {\n",
       "    width: 100%;\n",
       "    display: flex;\n",
       "  }\n",
       "\n",
       "  #altair-viz-db8b926869764bc2a1125aed894b86a6.vega-embed details,\n",
       "  #altair-viz-db8b926869764bc2a1125aed894b86a6.vega-embed details summary {\n",
       "    position: relative;\n",
       "  }\n",
       "</style>\n",
       "<div id=\"altair-viz-db8b926869764bc2a1125aed894b86a6\"></div>\n",
       "<script type=\"text/javascript\">\n",
       "  var VEGA_DEBUG = (typeof VEGA_DEBUG == \"undefined\") ? {} : VEGA_DEBUG;\n",
       "  (function(spec, embedOpt){\n",
       "    let outputDiv = document.currentScript.previousElementSibling;\n",
       "    if (outputDiv.id !== \"altair-viz-db8b926869764bc2a1125aed894b86a6\") {\n",
       "      outputDiv = document.getElementById(\"altair-viz-db8b926869764bc2a1125aed894b86a6\");\n",
       "    }\n",
       "\n",
       "    const paths = {\n",
       "      \"vega\": \"https://cdn.jsdelivr.net/npm/vega@5?noext\",\n",
       "      \"vega-lib\": \"https://cdn.jsdelivr.net/npm/vega-lib?noext\",\n",
       "      \"vega-lite\": \"https://cdn.jsdelivr.net/npm/vega-lite@5.20.1?noext\",\n",
       "      \"vega-embed\": \"https://cdn.jsdelivr.net/npm/vega-embed@6?noext\",\n",
       "    };\n",
       "\n",
       "    function maybeLoadScript(lib, version) {\n",
       "      var key = `${lib.replace(\"-\", \"\")}_version`;\n",
       "      return (VEGA_DEBUG[key] == version) ?\n",
       "        Promise.resolve(paths[lib]) :\n",
       "        new Promise(function(resolve, reject) {\n",
       "          var s = document.createElement('script');\n",
       "          document.getElementsByTagName(\"head\")[0].appendChild(s);\n",
       "          s.async = true;\n",
       "          s.onload = () => {\n",
       "            VEGA_DEBUG[key] = version;\n",
       "            return resolve(paths[lib]);\n",
       "          };\n",
       "          s.onerror = () => reject(`Error loading script: ${paths[lib]}`);\n",
       "          s.src = paths[lib];\n",
       "        });\n",
       "    }\n",
       "\n",
       "    function showError(err) {\n",
       "      outputDiv.innerHTML = `<div class=\"error\" style=\"color:red;\">${err}</div>`;\n",
       "      throw err;\n",
       "    }\n",
       "\n",
       "    function displayChart(vegaEmbed) {\n",
       "      vegaEmbed(outputDiv, spec, embedOpt)\n",
       "        .catch(err => showError(`Javascript Error: ${err.message}<br>This usually means there's a typo in your chart specification. See the javascript console for the full traceback.`));\n",
       "    }\n",
       "\n",
       "    if(typeof define === \"function\" && define.amd) {\n",
       "      requirejs.config({paths});\n",
       "      let deps = [\"vega-embed\"];\n",
       "      require(deps, displayChart, err => showError(`Error loading script: ${err.message}`));\n",
       "    } else {\n",
       "      maybeLoadScript(\"vega\", \"5\")\n",
       "        .then(() => maybeLoadScript(\"vega-lite\", \"5.20.1\"))\n",
       "        .then(() => maybeLoadScript(\"vega-embed\", \"6\"))\n",
       "        .catch(showError)\n",
       "        .then(() => displayChart(vegaEmbed));\n",
       "    }\n",
       "  })({\"config\": {\"background\": \"#1e1e1e\", \"title\": {\"color\": \"#ffffff\"}, \"axis\": {\"labelColor\": \"#ffffff\", \"titleColor\": \"#ffffff\", \"gridColor\": \"#444444\"}, \"legend\": {\"labelColor\": \"#ffffff\", \"titleColor\": \"#ffffff\"}, \"header\": {\"labelColor\": \"#ffffff\", \"titleColor\": \"#ffffff\"}, \"view\": {\"stroke\": \"#444444\"}}, \"data\": {\"name\": \"data-059cb370b5002341078991c9d220bb23\"}, \"mark\": {\"type\": \"circle\", \"size\": 60}, \"encoding\": {\"color\": {\"field\": \"sentiment_label\", \"type\": \"nominal\"}, \"tooltip\": [{\"field\": \"handle\", \"type\": \"nominal\"}, {\"field\": \"tweet_id\", \"type\": \"quantitative\"}, {\"field\": \"ticker\", \"type\": \"nominal\"}, {\"field\": \"gamma\", \"type\": \"quantitative\"}, {\"field\": \"pvalue\", \"type\": \"quantitative\"}, {\"field\": \"sentiment_label\", \"type\": \"nominal\"}], \"x\": {\"field\": \"gamma\", \"title\": \"Volatility Impact (\\u03b3)\", \"type\": \"quantitative\"}, \"y\": {\"field\": \"neglog_p\", \"title\": \"\\u2013log10(p-value)\", \"type\": \"quantitative\"}}, \"height\": 400, \"params\": [{\"name\": \"param_5\", \"select\": {\"type\": \"interval\", \"encodings\": [\"x\", \"y\"]}, \"bind\": \"scales\"}], \"title\": \"Tweet Volatility Impact vs Significance\", \"width\": 600, \"$schema\": \"https://vega.github.io/schema/vega-lite/v5.20.1.json\", \"datasets\": {\"data-059cb370b5002341078991c9d220bb23\": [{\"handle\": \"realDonaldTrump\", \"tweet_id\": 1240783522534699009, \"ticker\": \"AAL\", \"gamma\": -0.9729304434854915, \"pvalue\": 0.84547831783666, \"id\": 1240783522534699009, \"sentiment_score\": 0.99986469745636, \"sentiment_label\": \"Positive\", \"neglog_p\": 0.07289752533961008}, {\"handle\": \"richardbranson\", \"tweet_id\": 1246087905593917441, \"ticker\": \"AAL\", \"gamma\": -0.9769085014159558, \"pvalue\": 0.8448350220958658, \"id\": 1246087905593917441, \"sentiment_score\": 0.9999920129776, \"sentiment_label\": \"Positive\", \"neglog_p\": 0.07322809103692436}, {\"handle\": \"richardbranson\", \"tweet_id\": 1187256464664154113, \"ticker\": \"AAL\", \"gamma\": 35.6839267056681, \"pvalue\": 6.843742683483875e-12, \"id\": 1187256464664154113, \"sentiment_score\": 0.9596904516220092, \"sentiment_label\": \"Positive\", \"neglog_p\": 11.164706327775573}, {\"handle\": \"richardbranson\", \"tweet_id\": 1174626364500119554, \"ticker\": \"AAL\", \"gamma\": -0.5268221666394602, \"pvalue\": 0.9263119579862628, \"id\": 1174626364500119554, \"sentiment_score\": 0.8762803077697754, \"sentiment_label\": \"Positive\", \"neglog_p\": 0.0332427294993856}, {\"handle\": \"realDonaldTrump\", \"tweet_id\": 1167770738864140288, \"ticker\": \"AAPL\", \"gamma\": -1.020386889526757, \"pvalue\": 0.9683371266173288, \"id\": 1167770738864140288, \"sentiment_score\": 0.7744786739349365, \"sentiment_label\": \"Positive\", \"neglog_p\": 0.013973416720596023}, {\"handle\": \"elonmusk\", \"tweet_id\": 1283498482150641667, \"ticker\": \"AAPL\", \"gamma\": 14.37250574263371, \"pvalue\": 0.4703694776371543, \"id\": 1283498482150641667, \"sentiment_score\": 0.9999569654464722, \"sentiment_label\": \"Positive\", \"neglog_p\": 0.32756086746727386}, {\"handle\": \"elonmusk\", \"tweet_id\": 1283498475238363138, \"ticker\": \"AAPL\", \"gamma\": 14.588423002131005, \"pvalue\": 0.47036947763711956, \"id\": 1283498475238363138, \"sentiment_score\": 0.9851570129394532, \"sentiment_label\": \"Positive\", \"neglog_p\": 0.32756086746730595}, {\"handle\": \"elonmusk\", \"tweet_id\": 1194761922572361729, \"ticker\": \"AAPL\", \"gamma\": 1.0237575229548204, \"pvalue\": 0.9589902147200046, \"id\": 1194761922572361729, \"sentiment_score\": 0.999980926513672, \"sentiment_label\": \"Positive\", \"neglog_p\": 0.0181858242316171}, {\"handle\": \"elonmusk\", \"tweet_id\": 1146392791062212608, \"ticker\": \"AAPL\", \"gamma\": 0.22690394180000933, \"pvalue\": 0.9909066912115461, \"id\": 1146392791062212608, \"sentiment_score\": 0.9999983310699464, \"sentiment_label\": \"Positive\", \"neglog_p\": 0.003967238955519092}, {\"handle\": \"elonmusk\", \"tweet_id\": 1143678128423936000, \"ticker\": \"AAPL\", \"gamma\": 133.50694159607906, \"pvalue\": 1.011428324152757e-05, \"id\": 1143678128423936000, \"sentiment_score\": 0.6583350300788879, \"sentiment_label\": \"Positive\", \"neglog_p\": 4.99506488850157}, {\"handle\": \"elonmusk\", \"tweet_id\": 1131393271400259584, \"ticker\": \"AAPL\", \"gamma\": 2.136084619870973, \"pvalue\": 0.9146868194860752, \"id\": 1131393271400259584, \"sentiment_score\": 0.9984762072563172, \"sentiment_label\": \"Positive\", \"neglog_p\": 0.03872757899488323}, {\"handle\": \"elonmusk\", \"tweet_id\": 1127276856476987392, \"ticker\": \"AAPL\", \"gamma\": 79.5707785416461, \"pvalue\": 0.00021829248618194695, \"id\": 1127276856476987392, \"sentiment_score\": 0.9249680042266846, \"sentiment_label\": \"Positive\", \"neglog_p\": 3.660961212829015}, {\"handle\": \"elonmusk\", \"tweet_id\": 1120872301178671105, \"ticker\": \"AAPL\", \"gamma\": 38.328062997521336, \"pvalue\": 0.05420927787061404, \"id\": 1120872301178671105, \"sentiment_score\": 0.9999994039535522, \"sentiment_label\": \"Positive\", \"neglog_p\": 1.2659263779785166}, {\"handle\": \"elonmusk\", \"tweet_id\": 1114933691115921408, \"ticker\": \"AAPL\", \"gamma\": 25.52115376103986, \"pvalue\": 0.19989347689185288, \"id\": 1114933691115921408, \"sentiment_score\": 0.9999735355377196, \"sentiment_label\": \"Positive\", \"neglog_p\": 0.6992013779483981}, {\"handle\": \"richardbranson\", \"tweet_id\": 1174677073845215235, \"ticker\": \"AAPL\", \"gamma\": 7.715829172513126, \"pvalue\": 0.698346357610057, \"id\": 1174677073845215235, \"sentiment_score\": 0.9999983310699464, \"sentiment_label\": \"Positive\", \"neglog_p\": 0.15592912767687278}, {\"handle\": \"richardbranson\", \"tweet_id\": 1174626364500119554, \"ticker\": \"AAPL\", \"gamma\": 8.805191931058022, \"pvalue\": 0.6983463576100588, \"id\": 1174626364500119554, \"sentiment_score\": 0.8762803077697754, \"sentiment_label\": \"Positive\", \"neglog_p\": 0.15592912767687167}, {\"handle\": \"richardbranson\", \"tweet_id\": 1152835756152500224, \"ticker\": \"AAPL\", \"gamma\": 28.057932948674996, \"pvalue\": 0.16479817018348145, \"id\": 1152835756152500224, \"sentiment_score\": 0.9856709837913512, \"sentiment_label\": \"Positive\", \"neglog_p\": 0.7830476147483004}, {\"handle\": \"richardbranson\", \"tweet_id\": 1009057004554420224, \"ticker\": \"AAPL\", \"gamma\": 13.209441230681746, \"pvalue\": 0.5899058751813044, \"id\": 1009057004554420224, \"sentiment_score\": 0.8123292922973633, \"sentiment_label\": \"Positive\", \"neglog_p\": 0.22921727844330447}, {\"handle\": \"richardbranson\", \"tweet_id\": 951505093664309250, \"ticker\": \"AAPL\", \"gamma\": 0.22732909030424286, \"pvalue\": 0.9954386409789029, \"id\": 951505093664309250, \"sentiment_score\": 0.5006700158119202, \"sentiment_label\": \"Negative\", \"neglog_p\": 0.0019855048033730833}, {\"handle\": \"richardbranson\", \"tweet_id\": 926446415173292033, \"ticker\": \"AAPL\", \"gamma\": -0.8863122440021569, \"pvalue\": 0.9664310155837967, \"id\": 926446415173292033, \"sentiment_score\": 0.9453434348106384, \"sentiment_label\": \"Positive\", \"neglog_p\": 0.014829140725479067}, {\"handle\": \"elonmusk\", \"tweet_id\": 941699319777837056, \"ticker\": \"AAPL\", \"gamma\": -0.8366052878755001, \"pvalue\": 0.966494898383762, \"id\": 941699319777837056, \"sentiment_score\": 0.9996040463447572, \"sentiment_label\": \"Positive\", \"neglog_p\": 0.014800434040630911}, {\"handle\": \"elonmusk\", \"tweet_id\": 875049999217963008, \"ticker\": \"AAPL\", \"gamma\": -0.16620697622251074, \"pvalue\": 0.993339101265455, \"id\": 875049999217963008, \"sentiment_score\": 0.999996781349182, \"sentiment_label\": \"Negative\", \"neglog_p\": 0.0029024688576826814}, {\"handle\": \"realDonaldTrump\", \"tweet_id\": 1240783522534699009, \"ticker\": \"ABNB\", \"gamma\": -1.0624572676780752, \"pvalue\": 0.7122511247731371, \"id\": 1240783522534699009, \"sentiment_score\": 0.99986469745636, \"sentiment_label\": \"Positive\", \"neglog_p\": 0.14736685625853657}, {\"handle\": \"realDonaldTrump\", \"tweet_id\": 1167770738864140288, \"ticker\": \"ABNB\", \"gamma\": -1.3716497952225837, \"pvalue\": 0.7122511247731615, \"id\": 1167770738864140288, \"sentiment_score\": 0.7744786739349365, \"sentiment_label\": \"Positive\", \"neglog_p\": 0.14736685625852167}, {\"handle\": \"elonmusk\", \"tweet_id\": 1283498482150641667, \"ticker\": \"ABNB\", \"gamma\": -1.0623592326624354, \"pvalue\": 0.7122511247731583, \"id\": 1283498482150641667, \"sentiment_score\": 0.9999569654464722, \"sentiment_label\": \"Positive\", \"neglog_p\": 0.14736685625852364}, {\"handle\": \"elonmusk\", \"tweet_id\": 1283498475238363138, \"ticker\": \"ABNB\", \"gamma\": -1.0783189893130873, \"pvalue\": 0.7122511247730572, \"id\": 1283498475238363138, \"sentiment_score\": 0.9851570129394532, \"sentiment_label\": \"Positive\", \"neglog_p\": 0.1473668562585853}, {\"handle\": \"elonmusk\", \"tweet_id\": 1194761922572361729, \"ticker\": \"ABNB\", \"gamma\": -1.0623337769162, \"pvalue\": 0.712251124773094, \"id\": 1194761922572361729, \"sentiment_score\": 0.999980926513672, \"sentiment_label\": \"Positive\", \"neglog_p\": 0.14736685625856283}, {\"handle\": \"elonmusk\", \"tweet_id\": 1146392791062212608, \"ticker\": \"ABNB\", \"gamma\": -1.0623152874374162, \"pvalue\": 0.7122511247730724, \"id\": 1146392791062212608, \"sentiment_score\": 0.9999983310699464, \"sentiment_label\": \"Positive\", \"neglog_p\": 0.14736685625857604}, {\"handle\": \"elonmusk\", \"tweet_id\": 1143678128423936000, \"ticker\": \"ABNB\", \"gamma\": -1.613636622647689, \"pvalue\": 0.7122511247731524, \"id\": 1143678128423936000, \"sentiment_score\": 0.6583350300788879, \"sentiment_label\": \"Positive\", \"neglog_p\": 0.14736685625852722}, {\"handle\": \"elonmusk\", \"tweet_id\": 1131393271400259584, \"ticker\": \"ABNB\", \"gamma\": -1.063934730529395, \"pvalue\": 0.7122511247731327, \"id\": 1131393271400259584, \"sentiment_score\": 0.9984762072563172, \"sentiment_label\": \"Positive\", \"neglog_p\": 0.14736685625853926}, {\"handle\": \"elonmusk\", \"tweet_id\": 1127276856476987392, \"ticker\": \"ABNB\", \"gamma\": -1.1484867688970806, \"pvalue\": 0.7122511247730803, \"id\": 1127276856476987392, \"sentiment_score\": 0.9249680042266846, \"sentiment_label\": \"Positive\", \"neglog_p\": 0.14736685625857124}, {\"handle\": \"elonmusk\", \"tweet_id\": 1120872301178671105, \"ticker\": \"ABNB\", \"gamma\": -1.0623141476958453, \"pvalue\": 0.7122511247731215, \"id\": 1120872301178671105, \"sentiment_score\": 0.9999994039535522, \"sentiment_label\": \"Positive\", \"neglog_p\": 0.14736685625854612}, {\"handle\": \"elonmusk\", \"tweet_id\": 1114933691115921408, \"ticker\": \"ABNB\", \"gamma\": -1.0623416288072334, \"pvalue\": 0.7122511247731209, \"id\": 1114933691115921408, \"sentiment_score\": 0.9999735355377196, \"sentiment_label\": \"Positive\", \"neglog_p\": 0.14736685625854645}, {\"handle\": \"richardbranson\", \"tweet_id\": 1246087905593917441, \"ticker\": \"ABNB\", \"gamma\": -1.0623219992968729, \"pvalue\": 0.7122511247731256, \"id\": 1246087905593917441, \"sentiment_score\": 0.9999920129776, \"sentiment_label\": \"Positive\", \"neglog_p\": 0.1473668562585436}, {\"handle\": \"richardbranson\", \"tweet_id\": 1187256464664154113, \"ticker\": \"ABNB\", \"gamma\": -1.1069335041437023, \"pvalue\": 0.7122511247731347, \"id\": 1187256464664154113, \"sentiment_score\": 0.9596904516220092, \"sentiment_label\": \"Positive\", \"neglog_p\": 0.14736685625853804}, {\"handle\": \"richardbranson\", \"tweet_id\": 1174677073845215235, \"ticker\": \"ABNB\", \"gamma\": -1.0623152874374162, \"pvalue\": 0.7122511247730724, \"id\": 1174677073845215235, \"sentiment_score\": 0.9999983310699464, \"sentiment_label\": \"Positive\", \"neglog_p\": 0.14736685625857604}, {\"handle\": \"richardbranson\", \"tweet_id\": 1174626364500119554, \"ticker\": \"ABNB\", \"gamma\": -1.212298741724495, \"pvalue\": 0.7122511247731347, \"id\": 1174626364500119554, \"sentiment_score\": 0.8762803077697754, \"sentiment_label\": \"Positive\", \"neglog_p\": 0.14736685625853804}, {\"handle\": \"richardbranson\", \"tweet_id\": 1152835756152500224, \"ticker\": \"ABNB\", \"gamma\": -1.0777567078429102, \"pvalue\": 0.7122511247731325, \"id\": 1152835756152500224, \"sentiment_score\": 0.9856709837913512, \"sentiment_label\": \"Positive\", \"neglog_p\": 0.1473668562585394}, {\"handle\": \"richardbranson\", \"tweet_id\": 1009057004554420224, \"ticker\": \"ABNB\", \"gamma\": -1.3077375450820934, \"pvalue\": 0.7122511247731435, \"id\": 1009057004554420224, \"sentiment_score\": 0.8123292922973633, \"sentiment_label\": \"Positive\", \"neglog_p\": 0.1473668562585327}, {\"handle\": \"richardbranson\", \"tweet_id\": 951505093664309250, \"ticker\": \"ABNB\", \"gamma\": 2.121783771661807, \"pvalue\": 0.7122511247730946, \"id\": 951505093664309250, \"sentiment_score\": 0.5006700158119202, \"sentiment_label\": \"Negative\", \"neglog_p\": 0.1473668562585625}, {\"handle\": \"richardbranson\", \"tweet_id\": 926446415173292033, \"ticker\": \"ABNB\", \"gamma\": -1.1237328947230267, \"pvalue\": 0.7122511247731464, \"id\": 926446415173292033, \"sentiment_score\": 0.9453434348106384, \"sentiment_label\": \"Positive\", \"neglog_p\": 0.14736685625853088}, {\"handle\": \"elonmusk\", \"tweet_id\": 941699319777837056, \"ticker\": \"ABNB\", \"gamma\": -1.0627343080410194, \"pvalue\": 0.71225112477314, \"id\": 941699319777837056, \"sentiment_score\": 0.9996040463447572, \"sentiment_label\": \"Positive\", \"neglog_p\": 0.1473668562585348}, {\"handle\": \"elonmusk\", \"tweet_id\": 875049999217963008, \"ticker\": \"ABNB\", \"gamma\": 1.0623169337345737, \"pvalue\": 0.7122511247731205, \"id\": 875049999217963008, \"sentiment_score\": 0.999996781349182, \"sentiment_label\": \"Negative\", \"neglog_p\": 0.14736685625854673}, {\"handle\": \"realDonaldTrump\", \"tweet_id\": 1167770738864140288, \"ticker\": \"AMZN\", \"gamma\": -1.048073873079358, \"pvalue\": 0.9992691939188125, \"id\": 1167770738864140288, \"sentiment_score\": 0.7744786739349365, \"sentiment_label\": \"Positive\", \"neglog_p\": 0.0003175010783965128}, {\"handle\": \"elonmusk\", \"tweet_id\": 1283498482150641667, \"ticker\": \"AMZN\", \"gamma\": 5.329551097114429, \"pvalue\": 0.9952018902492545, \"id\": 1283498482150641667, \"sentiment_score\": 0.9999569654464722, \"sentiment_label\": \"Positive\", \"neglog_p\": 0.002088807769774755}, {\"handle\": \"elonmusk\", \"tweet_id\": 1283498475238363138, \"ticker\": \"AMZN\", \"gamma\": 5.40961661163006, \"pvalue\": 0.9952018902492547, \"id\": 1283498475238363138, \"sentiment_score\": 0.9851570129394532, \"sentiment_label\": \"Positive\", \"neglog_p\": 0.002088807769774707}, {\"handle\": \"elonmusk\", \"tweet_id\": 1194761922572361729, \"ticker\": \"AMZN\", \"gamma\": -1.0276068780040997, \"pvalue\": 0.9990748343994654, \"id\": 1194761922572361729, \"sentiment_score\": 0.999980926513672, \"sentiment_label\": \"Positive\", \"neglog_p\": 0.00040198029301403445}, {\"handle\": \"elonmusk\", \"tweet_id\": 1146392791062212608, \"ticker\": \"AMZN\", \"gamma\": -1.0886318118514169, \"pvalue\": 0.9990198759588822, \"id\": 1146392791062212608, \"sentiment_score\": 0.9999983310699464, \"sentiment_label\": \"Positive\", \"neglog_p\": 0.00042587120004820926}, {\"handle\": \"elonmusk\", \"tweet_id\": 1143678128423936000, \"ticker\": \"AMZN\", \"gamma\": -1.7955804067566448, \"pvalue\": 0.9989357282154554, \"id\": 1143678128423936000, \"sentiment_score\": 0.6583350300788879, \"sentiment_label\": \"Positive\", \"neglog_p\": 0.0004624534950502846}, {\"handle\": \"elonmusk\", \"tweet_id\": 1131393271400259584, \"ticker\": \"AMZN\", \"gamma\": 5.380098326231961, \"pvalue\": 0.9951635563872969, \"id\": 1131393271400259584, \"sentiment_score\": 0.9984762072563172, \"sentiment_label\": \"Positive\", \"neglog_p\": 0.00210553654161756}, {\"handle\": \"elonmusk\", \"tweet_id\": 1127276856476987392, \"ticker\": \"AMZN\", \"gamma\": 13.86945757409532, \"pvalue\": 0.9884502688803685, \"id\": 1127276856476987392, \"sentiment_score\": 0.9249680042266846, \"sentiment_label\": \"Positive\", \"neglog_p\": 0.005045176116769267}, {\"handle\": \"elonmusk\", \"tweet_id\": 1120872301178671105, \"ticker\": \"AMZN\", \"gamma\": -0.8429460085114677, \"pvalue\": 0.9992410725013509, \"id\": 1120872301178671105, \"sentiment_score\": 0.9999994039535522, \"sentiment_label\": \"Positive\", \"neglog_p\": 0.00032972315864590064}, {\"handle\": \"elonmusk\", \"tweet_id\": 1114933691115921408, \"ticker\": \"AMZN\", \"gamma\": -0.9291239812842772, \"pvalue\": 0.9991635057663468, \"id\": 1114933691115921408, \"sentiment_score\": 0.9999735355377196, \"sentiment_label\": \"Positive\", \"neglog_p\": 0.0003634368574381848}, {\"handle\": \"richardbranson\", \"tweet_id\": 1174677073845215235, \"ticker\": \"AMZN\", \"gamma\": -0.9883593602412775, \"pvalue\": 0.9991101538623949, \"id\": 1174677073845215235, \"sentiment_score\": 0.9999983310699464, \"sentiment_label\": \"Positive\", \"neglog_p\": 0.00038662731223822834}, {\"handle\": \"richardbranson\", \"tweet_id\": 1174626364500119554, \"ticker\": \"AMZN\", \"gamma\": -1.1279013141975405, \"pvalue\": 0.9991101538623948, \"id\": 1174626364500119554, \"sentiment_score\": 0.8762803077697754, \"sentiment_label\": \"Positive\", \"neglog_p\": 0.00038662731223827664}, {\"handle\": \"richardbranson\", \"tweet_id\": 1152835756152500224, \"ticker\": \"AMZN\", \"gamma\": -1.1997745297577227, \"pvalue\": 0.9989352875412232, \"id\": 1152835756152500224, \"sentiment_score\": 0.9856709837913512, \"sentiment_label\": \"Positive\", \"neglog_p\": 0.00046264508137979133}, {\"handle\": \"richardbranson\", \"tweet_id\": 1009057004554420224, \"ticker\": \"AMZN\", \"gamma\": 1.742425777974644, \"pvalue\": 0.9987256548457202, \"id\": 1009057004554420224, \"sentiment_score\": 0.8123292922973633, \"sentiment_label\": \"Positive\", \"neglog_p\": 0.0005537940058903421}, {\"handle\": \"richardbranson\", \"tweet_id\": 951505093664309250, \"ticker\": \"AMZN\", \"gamma\": 2.3731369708765713, \"pvalue\": 0.9989302676904959, \"id\": 951505093664309250, \"sentiment_score\": 0.5006700158119202, \"sentiment_label\": \"Negative\", \"neglog_p\": 0.00046482750398089924}, {\"handle\": \"richardbranson\", \"tweet_id\": 926446415173292033, \"ticker\": \"AMZN\", \"gamma\": -0.9784958996568417, \"pvalue\": 0.9991671833509586, \"id\": 926446415173292033, \"sentiment_score\": 0.9453434348106384, \"sentiment_label\": \"Positive\", \"neglog_p\": 0.0003618383685471266}, {\"handle\": \"elonmusk\", \"tweet_id\": 941699319777837056, \"ticker\": \"AMZN\", \"gamma\": -1.1690307812878635, \"pvalue\": 0.9989479056675246, \"id\": 941699319777837056, \"sentiment_score\": 0.9996040463447572, \"sentiment_label\": \"Positive\", \"neglog_p\": 0.0004571592925775758}, {\"handle\": \"elonmusk\", \"tweet_id\": 875049999217963008, \"ticker\": \"AMZN\", \"gamma\": 1.1871874473291772, \"pvalue\": 0.9989311454183649, \"id\": 875049999217963008, \"sentiment_score\": 0.999996781349182, \"sentiment_label\": \"Negative\", \"neglog_p\": 0.00046444590356793636}, {\"handle\": \"elonmusk\", \"tweet_id\": 1143678128423936000, \"ticker\": \"BA\", \"gamma\": 5.557781734518375, \"pvalue\": 0.9526089561669481, \"id\": 1143678128423936000, \"sentiment_score\": 0.6583350300788879, \"sentiment_label\": \"Positive\", \"neglog_p\": 0.021085339688169707}, {\"handle\": \"elonmusk\", \"tweet_id\": 941699319777837056, \"ticker\": \"BA\", \"gamma\": -0.8411671115289785, \"pvalue\": 0.9891031692131851, \"id\": 941699319777837056, \"sentiment_score\": 0.9996040463447572, \"sentiment_label\": \"Positive\", \"neglog_p\": 0.00475840659983422}, {\"handle\": \"realDonaldTrump\", \"tweet_id\": 1302985926809923589, \"ticker\": \"BAC\", \"gamma\": 2.232629572134192, \"pvalue\": 0.558212038974062, \"id\": 1302985926809923589, \"sentiment_score\": 0.9999986886978148, \"sentiment_label\": \"Positive\", \"neglog_p\": 0.25320080130560824}, {\"handle\": \"elonmusk\", \"tweet_id\": 1143678128423936000, \"ticker\": \"BAH\", \"gamma\": 1.368245481027314, \"pvalue\": 0.9087017135118165, \"id\": 1143678128423936000, \"sentiment_score\": 0.6583350300788879, \"sentiment_label\": \"Positive\", \"neglog_p\": 0.041578653010511474}, {\"handle\": \"elonmusk\", \"tweet_id\": 941699319777837056, \"ticker\": \"BAH\", \"gamma\": -0.8082270376940912, \"pvalue\": 0.9180783178187573, \"id\": 941699319777837056, \"sentiment_score\": 0.9996040463447572, \"sentiment_label\": \"Positive\", \"neglog_p\": 0.037120269184684446}, {\"handle\": \"realDonaldTrump\", \"tweet_id\": 1302985926809923589, \"ticker\": \"C\", \"gamma\": 0.17998761636225263, \"pvalue\": 0.9746058607906687, \"id\": 1302985926809923589, \"sentiment_score\": 0.9999986886978148, \"sentiment_label\": \"Positive\", \"neglog_p\": 0.011170981317751209}, {\"handle\": \"nntaleb\", \"tweet_id\": 1278400538397286403, \"ticker\": \"CAT\", \"gamma\": -1.3801557881721174, \"pvalue\": 0.9987818417959284, \"id\": 1278400538397286403, \"sentiment_score\": 0.92054945230484, \"sentiment_label\": \"Positive\", \"neglog_p\": 0.0005293618748691757}, {\"handle\": \"realDonaldTrump\", \"tweet_id\": 1179928588738580486, \"ticker\": \"CAT\", \"gamma\": 15.199202104340433, \"pvalue\": 0.985427834951644, \"id\": 1179928588738580486, \"sentiment_score\": 0.9999972581863404, \"sentiment_label\": \"Positive\", \"neglog_p\": 0.006375174560428561}, {\"handle\": \"realDonaldTrump\", \"tweet_id\": 1167770620127514624, \"ticker\": \"CAT\", \"gamma\": 21.082712127258404, \"pvalue\": 0.9798191026586491, \"id\": 1167770620127514624, \"sentiment_score\": 0.9984623193740844, \"sentiment_label\": \"Positive\", \"neglog_p\": 0.008854097745202722}, {\"handle\": \"realDonaldTrump\", \"tweet_id\": 1167064301565358080, \"ticker\": \"CAT\", \"gamma\": -1.2807051466403867, \"pvalue\": 0.9987721112370627, \"id\": 1167064301565358080, \"sentiment_score\": 0.9999572038650512, \"sentiment_label\": \"Positive\", \"neglog_p\": 0.0005335929776284847}, {\"handle\": \"elonmusk\", \"tweet_id\": 1194761922572361729, \"ticker\": \"CAT\", \"gamma\": 9.434094913699646, \"pvalue\": 0.9909549435119618, \"id\": 1194761922572361729, \"sentiment_score\": 0.999980926513672, \"sentiment_label\": \"Positive\", \"neglog_p\": 0.003946091457180493}, {\"handle\": \"elonmusk\", \"tweet_id\": 1146392791062212608, \"ticker\": \"CAT\", \"gamma\": -0.9238650291156784, \"pvalue\": 0.9991141986410448, \"id\": 1146392791062212608, \"sentiment_score\": 0.9999983310699464, \"sentiment_label\": \"Positive\", \"neglog_p\": 0.0003848691262307616}, {\"handle\": \"elonmusk\", \"tweet_id\": 1131393271400259584, \"ticker\": \"CAT\", \"gamma\": -0.35014568337822405, \"pvalue\": 0.9996647914306404, \"id\": 1131393271400259584, \"sentiment_score\": 0.9984762072563172, \"sentiment_label\": \"Positive\", \"neglog_p\": 0.00014560363711664556}, {\"handle\": \"elonmusk\", \"tweet_id\": 1120872301178671105, \"ticker\": \"CAT\", \"gamma\": 4.469454569956179, \"pvalue\": 0.9957147041675452, \"id\": 1120872301178671105, \"sentiment_score\": 0.9999994039535522, \"sentiment_label\": \"Positive\", \"neglog_p\": 0.0018650794021407727}, {\"handle\": \"realDonaldTrump\", \"tweet_id\": 1240783522534699009, \"ticker\": \"DAL\", \"gamma\": -0.37985641803352355, \"pvalue\": 0.9331425436336205, \"id\": 1240783522534699009, \"sentiment_score\": 0.99986469745636, \"sentiment_label\": \"Positive\", \"neglog_p\": 0.03005200986014077}, {\"handle\": \"richardbranson\", \"tweet_id\": 1246087905593917441, \"ticker\": \"DAL\", \"gamma\": 0.32431715927090127, \"pvalue\": 0.9428924574552546, \"id\": 1246087905593917441, \"sentiment_score\": 0.9999920129776, \"sentiment_label\": \"Positive\", \"neglog_p\": 0.025537838330701237}, {\"handle\": \"richardbranson\", \"tweet_id\": 1187256464664154113, \"ticker\": \"DAL\", \"gamma\": 5.37752432346188, \"pvalue\": 0.2543222848340843, \"id\": 1187256464664154113, \"sentiment_score\": 0.9596904516220092, \"sentiment_label\": \"Positive\", \"neglog_p\": 0.5946155833695596}, {\"handle\": \"richardbranson\", \"tweet_id\": 1174626364500119554, \"ticker\": \"DAL\", \"gamma\": 17.956192549183996, \"pvalue\": 0.0005099097138222404, \"id\": 1174626364500119554, \"sentiment_score\": 0.8762803077697754, \"sentiment_label\": \"Positive\", \"neglog_p\": 3.2925067146079057}, {\"handle\": \"realDonaldTrump\", \"tweet_id\": 1167770738864140288, \"ticker\": \"DIS\", \"gamma\": -1.0979872681185507, \"pvalue\": 0.9850963746826938, \"id\": 1167770738864140288, \"sentiment_score\": 0.7744786739349365, \"sentiment_label\": \"Positive\", \"neglog_p\": 0.006521279202461453}, {\"handle\": \"elonmusk\", \"tweet_id\": 1283498482150641667, \"ticker\": \"DIS\", \"gamma\": 66.29138974433728, \"pvalue\": 0.145348485322504, \"id\": 1283498482150641667, \"sentiment_score\": 0.9999569654464722, \"sentiment_label\": \"Positive\", \"neglog_p\": 0.837589489655548}, {\"handle\": \"elonmusk\", \"tweet_id\": 1283498475238363138, \"ticker\": \"DIS\", \"gamma\": 67.28728116768497, \"pvalue\": 0.14534848532246225, \"id\": 1283498475238363138, \"sentiment_score\": 0.9851570129394532, \"sentiment_label\": \"Positive\", \"neglog_p\": 0.8375894896556728}, {\"handle\": \"elonmusk\", \"tweet_id\": 1194761922572361729, \"ticker\": \"DIS\", \"gamma\": -0.7467805301811672, \"pvalue\": 0.9869119291246728, \"id\": 1194761922572361729, \"sentiment_score\": 0.999980926513672, \"sentiment_label\": \"Positive\", \"neglog_p\": 0.005721601536801762}, {\"handle\": \"elonmusk\", \"tweet_id\": 1146392791062212608, \"ticker\": \"DIS\", \"gamma\": 72.1405027333445, \"pvalue\": 0.1130328643681628, \"id\": 1146392791062212608, \"sentiment_score\": 0.9999983310699464, \"sentiment_label\": \"Positive\", \"neglog_p\": 0.9467952667942001}, {\"handle\": \"elonmusk\", \"tweet_id\": 1143678128423936000, \"ticker\": \"DIS\", \"gamma\": 14.326888740738939, \"pvalue\": 0.8358613210071161, \"id\": 1143678128423936000, \"sentiment_score\": 0.6583350300788879, \"sentiment_label\": \"Positive\", \"neglog_p\": 0.07786577102666285}, {\"handle\": \"elonmusk\", \"tweet_id\": 1131393271400259584, \"ticker\": \"DIS\", \"gamma\": 6.115424523686667, \"pvalue\": 0.8932976381984656, \"id\": 1131393271400259584, \"sentiment_score\": 0.9984762072563172, \"sentiment_label\": \"Positive\", \"neglog_p\": 0.04900381424664748}, {\"handle\": \"elonmusk\", \"tweet_id\": 1127276856476987392, \"ticker\": \"DIS\", \"gamma\": 1.7080548530183788, \"pvalue\": 0.9723145389126832, \"id\": 1127276856476987392, \"sentiment_score\": 0.9249680042266846, \"sentiment_label\": \"Positive\", \"neglog_p\": 0.012193220241809185}, {\"handle\": \"elonmusk\", \"tweet_id\": 1120872301178671105, \"ticker\": \"DIS\", \"gamma\": 9.573988587641319, \"pvalue\": 0.8334245673517332, \"id\": 1120872301178671105, \"sentiment_score\": 0.9999994039535522, \"sentiment_label\": \"Positive\", \"neglog_p\": 0.07913370173326914}, {\"handle\": \"elonmusk\", \"tweet_id\": 1114933691115921408, \"ticker\": \"DIS\", \"gamma\": 3.6925309609263133, \"pvalue\": 0.9353531953571634, \"id\": 1114933691115921408, \"sentiment_score\": 0.9999735355377196, \"sentiment_label\": \"Positive\", \"neglog_p\": 0.02902436577953489}, {\"handle\": \"richardbranson\", \"tweet_id\": 1174677073845215235, \"ticker\": \"DIS\", \"gamma\": -0.8668379156631978, \"pvalue\": 0.984807776439024, \"id\": 1174677073845215235, \"sentiment_score\": 0.9999983310699464, \"sentiment_label\": \"Positive\", \"neglog_p\": 0.0066485306989752775}, {\"handle\": \"richardbranson\", \"tweet_id\": 1174626364500119554, \"ticker\": \"DIS\", \"gamma\": -0.989222810651234, \"pvalue\": 0.9848077764390055, \"id\": 1174626364500119554, \"sentiment_score\": 0.8762803077697754, \"sentiment_label\": \"Positive\", \"neglog_p\": 0.006648530698983405}, {\"handle\": \"richardbranson\", \"tweet_id\": 1152835756152500224, \"ticker\": \"DIS\", \"gamma\": 51.124737593182, \"pvalue\": 0.26830944762394343, \"id\": 1152835756152500224, \"sentiment_score\": 0.9856709837913512, \"sentiment_label\": \"Positive\", \"neglog_p\": 0.5713640348244932}, {\"handle\": \"richardbranson\", \"tweet_id\": 1009057004554420224, \"ticker\": \"DIS\", \"gamma\": 1.49058199127675, \"pvalue\": 0.9787799115556244, \"id\": 1009057004554420224, \"sentiment_score\": 0.8123292922973633, \"sentiment_label\": \"Positive\", \"neglog_p\": 0.009314952673405713}, {\"handle\": \"richardbranson\", \"tweet_id\": 951505093664309250, \"ticker\": \"DIS\", \"gamma\": 1.7480293919326502, \"pvalue\": 0.9846614617361151, \"id\": 951505093664309250, \"sentiment_score\": 0.5006700158119202, \"sentiment_label\": \"Negative\", \"neglog_p\": 0.006713059422734779}, {\"handle\": \"richardbranson\", \"tweet_id\": 926446415173292033, \"ticker\": \"DIS\", \"gamma\": -0.2982484350301377, \"pvalue\": 0.9950583108630132, \"id\": 926446415173292033, \"sentiment_score\": 0.9453434348106384, \"sentiment_label\": \"Positive\", \"neglog_p\": 0.0021514686572637245}, {\"handle\": \"elonmusk\", \"tweet_id\": 941699319777837056, \"ticker\": \"DIS\", \"gamma\": -0.778448466005129, \"pvalue\": 0.9863621114587204, \"id\": 941699319777837056, \"sentiment_score\": 0.9996040463447572, \"sentiment_label\": \"Positive\", \"neglog_p\": 0.005963618387623794}, {\"handle\": \"elonmusk\", \"tweet_id\": 875049999217963008, \"ticker\": \"DIS\", \"gamma\": 0.7636853279807924, \"pvalue\": 0.9866154710381141, \"id\": 875049999217963008, \"sentiment_score\": 0.999996781349182, \"sentiment_label\": \"Negative\", \"neglog_p\": 0.005852078683524805}, {\"handle\": \"richardbranson\", \"tweet_id\": 951505093664309250, \"ticker\": \"DWAC\", \"gamma\": 2.0177010491543466, \"pvalue\": 0.9188674385140578, \"id\": 951505093664309250, \"sentiment_score\": 0.5006700158119202, \"sentiment_label\": \"Negative\", \"neglog_p\": 0.03674713809638238}, {\"handle\": \"richardbranson\", \"tweet_id\": 926446415173292033, \"ticker\": \"DWAC\", \"gamma\": -1.0686089086620545, \"pvalue\": 0.9188674385140578, \"id\": 926446415173292033, \"sentiment_score\": 0.9453434348106384, \"sentiment_label\": \"Positive\", \"neglog_p\": 0.03674713809638238}, {\"handle\": \"elonmusk\", \"tweet_id\": 941699319777837056, \"ticker\": \"DWAC\", \"gamma\": -1.0106025679646173, \"pvalue\": 0.9188674385140578, \"id\": 941699319777837056, \"sentiment_score\": 0.9996040463447572, \"sentiment_label\": \"Positive\", \"neglog_p\": 0.03674713809638238}, {\"handle\": \"elonmusk\", \"tweet_id\": 875049999217963008, \"ticker\": \"DWAC\", \"gamma\": 1.010023164186234, \"pvalue\": 0.9188820460784985, \"id\": 875049999217963008, \"sentiment_score\": 0.999996781349182, \"sentiment_label\": \"Negative\", \"neglog_p\": 0.03674023401649122}, {\"handle\": \"realDonaldTrump\", \"tweet_id\": 1167770738864140288, \"ticker\": \"FOX\", \"gamma\": 21.69418398642908, \"pvalue\": 0.244084074418148, \"id\": 1167770738864140288, \"sentiment_score\": 0.7744786739349365, \"sentiment_label\": \"Positive\", \"neglog_p\": 0.6124605557649048}, {\"handle\": \"elonmusk\", \"tweet_id\": 1283498482150641667, \"ticker\": \"FOX\", \"gamma\": 123.51224766472865, \"pvalue\": 1.1016501036899843e-17, \"id\": 1283498482150641667, \"sentiment_score\": 0.9999569654464722, \"sentiment_label\": \"Positive\", \"neglog_p\": 16.957956320335327}, {\"handle\": \"elonmusk\", \"tweet_id\": 1283498475238363138, \"ticker\": \"FOX\", \"gamma\": 125.36776447620538, \"pvalue\": 1.1016501036868753e-17, \"id\": 1283498475238363138, \"sentiment_score\": 0.9851570129394532, \"sentiment_label\": \"Positive\", \"neglog_p\": 16.957956320336553}, {\"handle\": \"elonmusk\", \"tweet_id\": 1194761922572361729, \"ticker\": \"FOX\", \"gamma\": 13.35553142419973, \"pvalue\": 0.35449580464476693, \"id\": 1194761922572361729, \"sentiment_score\": 0.999980926513672, \"sentiment_label\": \"Positive\", \"neglog_p\": 0.4503889001999805}, {\"handle\": \"elonmusk\", \"tweet_id\": 1146392791062212608, \"ticker\": \"FOX\", \"gamma\": -0.21359940728415147, \"pvalue\": 0.9881849243023272, \"id\": 1146392791062212608, \"sentiment_score\": 0.9999983310699464, \"sentiment_label\": \"Positive\", \"neglog_p\": 0.00516177597003095}, {\"handle\": \"elonmusk\", \"tweet_id\": 1143678128423936000, \"ticker\": \"FOX\", \"gamma\": 3.5785286255440245, \"pvalue\": 0.8702590576055209, \"id\": 1143678128423936000, \"sentiment_score\": 0.6583350300788879, \"sentiment_label\": \"Positive\", \"neglog_p\": 0.06035144790851029}, {\"handle\": \"elonmusk\", \"tweet_id\": 1131393271400259584, \"ticker\": \"FOX\", \"gamma\": 5.741491587565453, \"pvalue\": 0.6910403891583092, \"id\": 1131393271400259584, \"sentiment_score\": 0.9984762072563172, \"sentiment_label\": \"Positive\", \"neglog_p\": 0.16049656872425283}, {\"handle\": \"elonmusk\", \"tweet_id\": 1127276856476987392, \"ticker\": \"FOX\", \"gamma\": 4.289573810118723, \"pvalue\": 0.7832572816595281, \"id\": 1127276856476987392, \"sentiment_score\": 0.9249680042266846, \"sentiment_label\": \"Positive\", \"neglog_p\": 0.10609555894883962}, {\"handle\": \"elonmusk\", \"tweet_id\": 1120872301178671105, \"ticker\": \"FOX\", \"gamma\": 3.331572050855374, \"pvalue\": 0.8173354698694315, \"id\": 1120872301178671105, \"sentiment_score\": 0.9999994039535522, \"sentiment_label\": \"Positive\", \"neglog_p\": 0.08759965361477147}, {\"handle\": \"elonmusk\", \"tweet_id\": 1114933691115921408, \"ticker\": \"FOX\", \"gamma\": 0.007117979621468207, \"pvalue\": 0.9996062701949001, \"id\": 1114933691115921408, \"sentiment_score\": 0.9999735355377196, \"sentiment_label\": \"Positive\", \"neglog_p\": 0.00017102835340573075}, {\"handle\": \"richardbranson\", \"tweet_id\": 1174677073845215235, \"ticker\": \"FOX\", \"gamma\": 27.818446993330774, \"pvalue\": 0.053778574732797464, \"id\": 1174677073845215235, \"sentiment_score\": 0.9999983310699464, \"sentiment_label\": \"Positive\", \"neglog_p\": 1.2693907118539511}, {\"handle\": \"richardbranson\", \"tweet_id\": 1174626364500119554, \"ticker\": \"FOX\", \"gamma\": 31.74600675107571, \"pvalue\": 0.05377857473277555, \"id\": 1174626364500119554, \"sentiment_score\": 0.8762803077697754, \"sentiment_label\": \"Positive\", \"neglog_p\": 1.269390711854128}, {\"handle\": \"richardbranson\", \"tweet_id\": 1152835756152500224, \"ticker\": \"FOX\", \"gamma\": -0.7776427541515827, \"pvalue\": 0.9576200146560138, \"id\": 1152835756152500224, \"sentiment_score\": 0.9856709837913512, \"sentiment_label\": \"Positive\", \"neglog_p\": 0.01880678557175073}, {\"handle\": \"richardbranson\", \"tweet_id\": 1009057004554420224, \"ticker\": \"FOX\", \"gamma\": 67.60756812539145, \"pvalue\": 0.00014036520437036418, \"id\": 1009057004554420224, \"sentiment_score\": 0.8123292922973633, \"sentiment_label\": \"Positive\", \"neglog_p\": 3.852740537667883}, {\"handle\": \"richardbranson\", \"tweet_id\": 951505093664309250, \"ticker\": \"FOX\", \"gamma\": 1.8715307691147949, \"pvalue\": 0.948203997559877, \"id\": 951505093664309250, \"sentiment_score\": 0.5006700158119202, \"sentiment_label\": \"Negative\", \"neglog_p\": 0.023098218058893}, {\"handle\": \"richardbranson\", \"tweet_id\": 926446415173292033, \"ticker\": \"FOX\", \"gamma\": -0.9911070763390604, \"pvalue\": 0.9482085665470816, \"id\": 926446415173292033, \"sentiment_score\": 0.9453434348106384, \"sentiment_label\": \"Positive\", \"neglog_p\": 0.023096125385633607}, {\"handle\": \"elonmusk\", \"tweet_id\": 941699319777837056, \"ticker\": \"FOX\", \"gamma\": 7.325489505284342, \"pvalue\": 0.6116879095543214, \"id\": 941699319777837056, \"sentiment_score\": 0.9996040463447572, \"sentiment_label\": \"Positive\", \"neglog_p\": 0.21347010355603876}, {\"handle\": \"elonmusk\", \"tweet_id\": 875049999217963008, \"ticker\": \"FOX\", \"gamma\": -1.3896686776410314, \"pvalue\": 0.9232476837247549, \"id\": 875049999217963008, \"sentiment_score\": 0.999996781349182, \"sentiment_label\": \"Negative\", \"neglog_p\": 0.03468177324841003}, {\"handle\": \"realDonaldTrump\", \"tweet_id\": 1302985926809923589, \"ticker\": \"GS\", \"gamma\": 0.8182919576311555, \"pvalue\": 0.9093538449080479, \"id\": 1302985926809923589, \"sentiment_score\": 0.9999986886978148, \"sentiment_label\": \"Positive\", \"neglog_p\": 0.04126709258795551}, {\"handle\": \"realDonaldTrump\", \"tweet_id\": 1329404785083232256, \"ticker\": \"JNJ\", \"gamma\": 1.7069957971196572, \"pvalue\": 0.8800807367941799, \"id\": 1329404785083232256, \"sentiment_score\": 0.94602233171463, \"sentiment_label\": \"Positive\", \"neglog_p\": 0.05547748474094384}, {\"handle\": \"realDonaldTrump\", \"tweet_id\": 1179928588738580486, \"ticker\": \"JNJ\", \"gamma\": 3.677770285748055, \"pvalue\": 0.7311528983539104, \"id\": 1179928588738580486, \"sentiment_score\": 0.9999972581863404, \"sentiment_label\": \"Positive\", \"neglog_p\": 0.1359917940847683}, {\"handle\": \"nntaleb\", \"tweet_id\": 1254427322452783105, \"ticker\": \"JNJ\", \"gamma\": -1.02644794272525, \"pvalue\": 0.9236037906906841, \"id\": 1254427322452783105, \"sentiment_score\": 1.0, \"sentiment_label\": \"Positive\", \"neglog_p\": 0.03451429330286002}, {\"handle\": \"realDonaldTrump\", \"tweet_id\": 1302985926809923589, \"ticker\": \"JPM\", \"gamma\": 0.1170943333154176, \"pvalue\": 0.9848506070067179, \"id\": 1302985926809923589, \"sentiment_score\": 0.9999986886978148, \"sentiment_label\": \"Positive\", \"neglog_p\": 0.00662964307930932}, {\"handle\": \"realDonaldTrump\", \"tweet_id\": 1179928588738580486, \"ticker\": \"KO\", \"gamma\": -0.42325731693201074, \"pvalue\": 0.9984754139854549, \"id\": 1179928588738580486, \"sentiment_score\": 0.9999972581863404, \"sentiment_label\": \"Positive\", \"neglog_p\": 0.0006626245358001239}, {\"handle\": \"realDonaldTrump\", \"tweet_id\": 1167770620127514624, \"ticker\": \"KO\", \"gamma\": 0.19191004642121823, \"pvalue\": 0.9993097947662897, \"id\": 1167770620127514624, \"sentiment_score\": 0.9984623193740844, \"sentiment_label\": \"Positive\", \"neglog_p\": 0.00029985581731634256}, {\"handle\": \"realDonaldTrump\", \"tweet_id\": 1167064301565358080, \"ticker\": \"KO\", \"gamma\": 0.6491446841312709, \"pvalue\": 0.9976618562465058, \"id\": 1167064301565358080, \"sentiment_score\": 0.9999572038650512, \"sentiment_label\": \"Positive\", \"neglog_p\": 0.0010166319095092048}, {\"handle\": \"realDonaldTrump\", \"tweet_id\": 1167770738864140288, \"ticker\": \"LDOS\", \"gamma\": -0.31712505644097455, \"pvalue\": 0.9963861979175583, \"id\": 1167770738864140288, \"sentiment_score\": 0.7744786739349365, \"sentiment_label\": \"Positive\", \"neglog_p\": 0.0015722970024108964}, {\"handle\": \"elonmusk\", \"tweet_id\": 1283498482150641667, \"ticker\": \"LDOS\", \"gamma\": 1.968049114583938, \"pvalue\": 0.9710500547621919, \"id\": 1283498482150641667, \"sentiment_score\": 0.9999569654464722, \"sentiment_label\": \"Positive\", \"neglog_p\": 0.012758382917200736}, {\"handle\": \"elonmusk\", \"tweet_id\": 1283498475238363138, \"ticker\": \"LDOS\", \"gamma\": 1.9976149939765344, \"pvalue\": 0.971050054762193, \"id\": 1283498475238363138, \"sentiment_score\": 0.9851570129394532, \"sentiment_label\": \"Positive\", \"neglog_p\": 0.01275838291720024}, {\"handle\": \"elonmusk\", \"tweet_id\": 1194761922572361729, \"ticker\": \"LDOS\", \"gamma\": -0.413852175211141, \"pvalue\": 0.9939108233900452, \"id\": 1194761922572361729, \"sentiment_score\": 0.999980926513672, \"sentiment_label\": \"Positive\", \"neglog_p\": 0.0026525800362905395}, {\"handle\": \"elonmusk\", \"tweet_id\": 1146392791062212608, \"ticker\": \"LDOS\", \"gamma\": 1.5435224186113221, \"pvalue\": 0.9772919729395964, \"id\": 1146392791062212608, \"sentiment_score\": 0.9999983310699464, \"sentiment_label\": \"Positive\", \"neglog_p\": 0.009975668325127238}, {\"handle\": \"elonmusk\", \"tweet_id\": 1143678128423936000, \"ticker\": \"LDOS\", \"gamma\": -0.27307300826670433, \"pvalue\": 0.9973548471586585, \"id\": 1143678128423936000, \"sentiment_score\": 0.6583350300788879, \"sentiment_label\": \"Positive\", \"neglog_p\": 0.0011502973104766901}, {\"handle\": \"elonmusk\", \"tweet_id\": 1131393271400259584, \"ticker\": \"LDOS\", \"gamma\": 7.817464024481017, \"pvalue\": 0.8855457859098004, \"id\": 1131393271400259584, \"sentiment_score\": 0.9984762072563172, \"sentiment_label\": \"Positive\", \"neglog_p\": 0.05278897930291329}, {\"handle\": \"elonmusk\", \"tweet_id\": 1127276856476987392, \"ticker\": \"LDOS\", \"gamma\": -0.47345832680336986, \"pvalue\": 0.9935563851162993, \"id\": 1127276856476987392, \"sentiment_score\": 0.9249680042266846, \"sentiment_label\": \"Positive\", \"neglog_p\": 0.002807481296986783}, {\"handle\": \"elonmusk\", \"tweet_id\": 1120872301178671105, \"ticker\": \"LDOS\", \"gamma\": 0.31449732529859986, \"pvalue\": 0.9953725675220886, \"id\": 1120872301178671105, \"sentiment_score\": 0.9999994039535522, \"sentiment_label\": \"Positive\", \"neglog_p\": 0.0020143325873264095}, {\"handle\": \"elonmusk\", \"tweet_id\": 1114933691115921408, \"ticker\": \"LDOS\", \"gamma\": 5.591084023935156, \"pvalue\": 0.9178814141226467, \"id\": 1114933691115921408, \"sentiment_score\": 0.9999735355377196, \"sentiment_label\": \"Positive\", \"neglog_p\": 0.03721342393914589}, {\"handle\": \"richardbranson\", \"tweet_id\": 1174677073845215235, \"ticker\": \"LDOS\", \"gamma\": 0.9752334550694386, \"pvalue\": 0.9856513750639164, \"id\": 1174677073845215235, \"sentiment_score\": 0.9999983310699464, \"sentiment_label\": \"Positive\", \"neglog_p\": 0.006276667877219819}, {\"handle\": \"richardbranson\", \"tweet_id\": 1174626364500119554, \"ticker\": \"LDOS\", \"gamma\": 1.112922222291658, \"pvalue\": 0.985651375063918, \"id\": 1174626364500119554, \"sentiment_score\": 0.8762803077697754, \"sentiment_label\": \"Positive\", \"neglog_p\": 0.006276667877219134}, {\"handle\": \"richardbranson\", \"tweet_id\": 1152835756152500224, \"ticker\": \"LDOS\", \"gamma\": -0.4610638621434554, \"pvalue\": 0.993313269811132, \"id\": 1152835756152500224, \"sentiment_score\": 0.9856709837913512, \"sentiment_label\": \"Positive\", \"neglog_p\": 0.00291376268868802}, {\"handle\": \"richardbranson\", \"tweet_id\": 1009057004554420224, \"ticker\": \"LDOS\", \"gamma\": 3.5567119197382726, \"pvalue\": 0.9575085850686698, \"id\": 1009057004554420224, \"sentiment_score\": 0.8123292922973633, \"sentiment_label\": \"Positive\", \"neglog_p\": 0.01885732343637854}, {\"handle\": \"richardbranson\", \"tweet_id\": 951505093664309250, \"ticker\": \"LDOS\", \"gamma\": 0.9277478666989849, \"pvalue\": 0.9931655737053144, \"id\": 951505093664309250, \"sentiment_score\": 0.5006700158119202, \"sentiment_label\": \"Negative\", \"neglog_p\": 0.002978342892079274}, {\"handle\": \"richardbranson\", \"tweet_id\": 926446415173292033, \"ticker\": \"LDOS\", \"gamma\": -0.2945491412970075, \"pvalue\": 0.9959029497313652, \"id\": 926446415173292033, \"sentiment_score\": 0.9453434348106384, \"sentiment_label\": \"Positive\", \"neglog_p\": 0.0017829813049550865}, {\"handle\": \"elonmusk\", \"tweet_id\": 941699319777837056, \"ticker\": \"LDOS\", \"gamma\": -0.47633669541692203, \"pvalue\": 0.9929941264912836, \"id\": 941699319777837056, \"sentiment_score\": 0.9996040463447572, \"sentiment_label\": \"Positive\", \"neglog_p\": 0.0030533203263398193}, {\"handle\": \"elonmusk\", \"tweet_id\": 875049999217963008, \"ticker\": \"LDOS\", \"gamma\": 0.4663245996597882, \"pvalue\": 0.9931386842881815, \"id\": 875049999217963008, \"sentiment_score\": 0.999996781349182, \"sentiment_label\": \"Negative\", \"neglog_p\": 0.0029901013378824653}, {\"handle\": \"elonmusk\", \"tweet_id\": 1143678128423936000, \"ticker\": \"LMT\", \"gamma\": 18.059410465280397, \"pvalue\": 0.03332658821938771, \"id\": 1143678128423936000, \"sentiment_score\": 0.6583350300788879, \"sentiment_label\": \"Positive\", \"neglog_p\": 1.4772091445853617}, {\"handle\": \"elonmusk\", \"tweet_id\": 941699319777837056, \"ticker\": \"LMT\", \"gamma\": -0.15037151961197037, \"pvalue\": 0.9785351564167422, \"id\": 941699319777837056, \"sentiment_score\": 0.9996040463447572, \"sentiment_label\": \"Positive\", \"neglog_p\": 0.009423566568559713}, {\"handle\": \"realDonaldTrump\", \"tweet_id\": 1240783522534699009, \"ticker\": \"LVS\", \"gamma\": 2.7894954401578738, \"pvalue\": 0.6079986604477108, \"id\": 1240783522534699009, \"sentiment_score\": 0.99986469745636, \"sentiment_label\": \"Positive\", \"neglog_p\": 0.21609737757069977}, {\"handle\": \"richardbranson\", \"tweet_id\": 1246087905593917441, \"ticker\": \"LVS\", \"gamma\": -1.0452906131444266, \"pvalue\": 0.8475601157477711, \"id\": 1246087905593917441, \"sentiment_score\": 0.9999920129776, \"sentiment_label\": \"Positive\", \"neglog_p\": 0.0718294883914069}, {\"handle\": \"richardbranson\", \"tweet_id\": 1187256464664154113, \"ticker\": \"LVS\", \"gamma\": 30.6649106637006, \"pvalue\": 6.227611213677354e-08, \"id\": 1187256464664154113, \"sentiment_score\": 0.9596904516220092, \"sentiment_label\": \"Positive\", \"neglog_p\": 7.205678508021867}, {\"handle\": \"richardbranson\", \"tweet_id\": 1174626364500119554, \"ticker\": \"LVS\", \"gamma\": -1.1270970143075205, \"pvalue\": 0.8558698463781832, \"id\": 1174626364500119554, \"sentiment_score\": 0.8762803077697754, \"sentiment_label\": \"Positive\", \"neglog_p\": 0.06759227422175403}, {\"handle\": \"realDonaldTrump\", \"tweet_id\": 1240783522534699009, \"ticker\": \"MGM\", \"gamma\": -0.8597197725193281, \"pvalue\": 0.9243018903061081, \"id\": 1240783522534699009, \"sentiment_score\": 0.99986469745636, \"sentiment_label\": \"Positive\", \"neglog_p\": 0.034186158779179264}, {\"handle\": \"richardbranson\", \"tweet_id\": 1246087905593917441, \"ticker\": \"MGM\", \"gamma\": -0.22670022110045107, \"pvalue\": 0.9800086099304959, \"id\": 1246087905593917441, \"sentiment_score\": 0.9999920129776, \"sentiment_label\": \"Positive\", \"neglog_p\": 0.008770108767833523}, {\"handle\": \"richardbranson\", \"tweet_id\": 1187256464664154113, \"ticker\": \"MGM\", \"gamma\": -0.19897201723026614, \"pvalue\": 0.9831604338857064, \"id\": 1187256464664154113, \"sentiment_score\": 0.9596904516220092, \"sentiment_label\": \"Positive\", \"neglog_p\": 0.0073756074312697414}, {\"handle\": \"richardbranson\", \"tweet_id\": 1174626364500119554, \"ticker\": \"MGM\", \"gamma\": 32.39097392565544, \"pvalue\": 0.001704615319478926, \"id\": 1174626364500119554, \"sentiment_score\": 0.8762803077697754, \"sentiment_label\": \"Positive\", \"neglog_p\": 2.768373612845628}, {\"handle\": \"elonmusk\", \"tweet_id\": 1143678128423936000, \"ticker\": \"MMS\", \"gamma\": -0.8186691797344687, \"pvalue\": 0.9651215713842416, \"id\": 1143678128423936000, \"sentiment_score\": 0.6583350300788879, \"sentiment_label\": \"Positive\", \"neglog_p\": 0.015417977375521637}, {\"handle\": \"elonmusk\", \"tweet_id\": 941699319777837056, \"ticker\": \"MMS\", \"gamma\": -0.7756655414437619, \"pvalue\": 0.9498401733598969, \"id\": 941699319777837056, \"sentiment_score\": 0.9996040463447572, \"sentiment_label\": \"Positive\", \"neglog_p\": 0.022349465939979767}, {\"handle\": \"realDonaldTrump\", \"tweet_id\": 1329404785083232256, \"ticker\": \"MRNA\", \"gamma\": 47.250136426196654, \"pvalue\": 1.680195365496803e-13, \"id\": 1329404785083232256, \"sentiment_score\": 0.94602233171463, \"sentiment_label\": \"Positive\", \"neglog_p\": 12.77464021754541}, {\"handle\": \"realDonaldTrump\", \"tweet_id\": 1179928588738580486, \"ticker\": \"MRNA\", \"gamma\": -0.7282288510186691, \"pvalue\": 0.9044076994557702, \"id\": 1179928588738580486, \"sentiment_score\": 0.9999972581863404, \"sentiment_label\": \"Positive\", \"neglog_p\": 0.04363574905011758}, {\"handle\": \"nntaleb\", \"tweet_id\": 1254427322452783105, \"ticker\": \"MRNA\", \"gamma\": -0.8884953481025104, \"pvalue\": 0.8835062760685026, \"id\": 1254427322452783105, \"sentiment_score\": 1.0, \"sentiment_label\": \"Positive\", \"neglog_p\": 0.05379036109526158}, {\"handle\": \"realDonaldTrump\", \"tweet_id\": 1167770738864140288, \"ticker\": \"MSFT\", \"gamma\": -1.0996058151480823, \"pvalue\": 0.7794869655005907, \"id\": 1167770738864140288, \"sentiment_score\": 0.7744786739349365, \"sentiment_label\": \"Positive\", \"neglog_p\": 0.1081911426412682}, {\"handle\": \"elonmusk\", \"tweet_id\": 1283498482150641667, \"ticker\": \"MSFT\", \"gamma\": -0.8379460898905686, \"pvalue\": 0.7829476221253757, \"id\": 1283498482150641667, \"sentiment_score\": 0.9999569654464722, \"sentiment_label\": \"Positive\", \"neglog_p\": 0.10626729053821017}, {\"handle\": \"elonmusk\", \"tweet_id\": 1283498475238363138, \"ticker\": \"MSFT\", \"gamma\": -0.850534501860464, \"pvalue\": 0.7829476221253866, \"id\": 1283498475238363138, \"sentiment_score\": 0.9851570129394532, \"sentiment_label\": \"Positive\", \"neglog_p\": 0.10626729053820413}, {\"handle\": \"elonmusk\", \"tweet_id\": 1194761922572361729, \"ticker\": \"MSFT\", \"gamma\": 12.405044710484496, \"pvalue\": 4.53571108717246e-05, \"id\": 1194761922572361729, \"sentiment_score\": 0.999980926513672, \"sentiment_label\": \"Positive\", \"neglog_p\": 4.343354616646637}, {\"handle\": \"elonmusk\", \"tweet_id\": 1146392791062212608, \"ticker\": \"MSFT\", \"gamma\": -0.7745771729194666, \"pvalue\": 0.7989876850680645, \"id\": 1146392791062212608, \"sentiment_score\": 0.9999983310699464, \"sentiment_label\": \"Positive\", \"neglog_p\": 0.0974599144885137}, {\"handle\": \"elonmusk\", \"tweet_id\": 1143678128423936000, \"ticker\": \"MSFT\", \"gamma\": -0.4408070832327161, \"pvalue\": 0.9239902135099185, \"id\": 1143678128423936000, \"sentiment_score\": 0.6583350300788879, \"sentiment_label\": \"Positive\", \"neglog_p\": 0.03433262860797525}, {\"handle\": \"elonmusk\", \"tweet_id\": 1131393271400259584, \"ticker\": \"MSFT\", \"gamma\": -0.263364934026665, \"pvalue\": 0.931105049460792, \"id\": 1131393271400259584, \"sentiment_score\": 0.9984762072563172, \"sentiment_label\": \"Positive\", \"neglog_p\": 0.0310013181298939}, {\"handle\": \"elonmusk\", \"tweet_id\": 1127276856476987392, \"ticker\": \"MSFT\", \"gamma\": 74.65864770057995, \"pvalue\": 3.859427166543778e-114, \"id\": 1127276856476987392, \"sentiment_score\": 0.9249680042266846, \"sentiment_label\": \"Positive\", \"neglog_p\": 113.41347715047607}, {\"handle\": \"elonmusk\", \"tweet_id\": 1120872301178671105, \"ticker\": \"MSFT\", \"gamma\": -0.918840263476146, \"pvalue\": 0.7625856695622995, \"id\": 1120872301178671105, \"sentiment_score\": 0.9999994039535522, \"sentiment_label\": \"Positive\", \"neglog_p\": 0.1177113602064515}, {\"handle\": \"elonmusk\", \"tweet_id\": 1114933691115921408, \"ticker\": \"MSFT\", \"gamma\": 11.0853461829084, \"pvalue\": 0.00026796845749601524, \"id\": 1114933691115921408, \"sentiment_score\": 0.9999735355377196, \"sentiment_label\": \"Positive\", \"neglog_p\": 3.571916323663867}, {\"handle\": \"richardbranson\", \"tweet_id\": 1174677073845215235, \"ticker\": \"MSFT\", \"gamma\": 18.99682621769635, \"pvalue\": 4.2207927347419213e-10, \"id\": 1174677073845215235, \"sentiment_score\": 0.9999983310699464, \"sentiment_label\": \"Positive\", \"neglog_p\": 9.374605973684954}, {\"handle\": \"richardbranson\", \"tweet_id\": 1174626364500119554, \"ticker\": \"MSFT\", \"gamma\": 21.678901539694024, \"pvalue\": 4.2207927347409375e-10, \"id\": 1174626364500119554, \"sentiment_score\": 0.8762803077697754, \"sentiment_label\": \"Positive\", \"neglog_p\": 9.374605973685055}, {\"handle\": \"richardbranson\", \"tweet_id\": 1152835756152500224, \"ticker\": \"MSFT\", \"gamma\": 0.07071393929799916, \"pvalue\": 0.9817176734373323, \"id\": 1152835756152500224, \"sentiment_score\": 0.9856709837913512, \"sentiment_label\": \"Positive\", \"neglog_p\": 0.008013390519911507}, {\"handle\": \"richardbranson\", \"tweet_id\": 1009057004554420224, \"ticker\": \"MSFT\", \"gamma\": 7.904908677587436, \"pvalue\": 0.034758278777566945, \"id\": 1009057004554420224, \"sentiment_score\": 0.8123292922973633, \"sentiment_label\": \"Positive\", \"neglog_p\": 1.458941737859532}, {\"handle\": \"richardbranson\", \"tweet_id\": 951505093664309250, \"ticker\": \"MSFT\", \"gamma\": 1.367449467790093, \"pvalue\": 0.8219096315793126, \"id\": 951505093664309250, \"sentiment_score\": 0.5006700158119202, \"sentiment_label\": \"Negative\", \"neglog_p\": 0.08517593022628474}, {\"handle\": \"richardbranson\", \"tweet_id\": 926446415173292033, \"ticker\": \"MSFT\", \"gamma\": -0.6266894276539654, \"pvalue\": 0.8455686813527832, \"id\": 926446415173292033, \"sentiment_score\": 0.9453434348106384, \"sentiment_label\": \"Positive\", \"neglog_p\": 0.07285111104541978}, {\"handle\": \"elonmusk\", \"tweet_id\": 941699319777837056, \"ticker\": \"MSFT\", \"gamma\": 0.47333044848165495, \"pvalue\": 0.8763835491375931, \"id\": 941699319777837056, \"sentiment_score\": 0.9996040463447572, \"sentiment_label\": \"Positive\", \"neglog_p\": 0.05730578330875519}, {\"handle\": \"elonmusk\", \"tweet_id\": 875049999217963008, \"ticker\": \"MSFT\", \"gamma\": 0.9110052399424965, \"pvalue\": 0.7645506461831434, \"id\": 875049999217963008, \"sentiment_score\": 0.999996781349182, \"sentiment_label\": \"Negative\", \"neglog_p\": 0.11659374029831573}, {\"handle\": \"jack\", \"tweet_id\": 1311052005918388224, \"ticker\": \"MSTR\", \"gamma\": -1.2583945196745416, \"pvalue\": 0.9965517049837028, \"id\": 1311052005918388224, \"sentiment_score\": 0.8565406799316406, \"sentiment_label\": \"Positive\", \"neglog_p\": 0.001500163489767926}, {\"handle\": \"elonmusk\", \"tweet_id\": 1283498475238363138, \"ticker\": \"MSTR\", \"gamma\": 1.9878884603502118, \"pvalue\": 0.9937348141669421, \"id\": 1283498475238363138, \"sentiment_score\": 0.9851570129394532, \"sentiment_label\": \"Positive\", \"neglog_p\": 0.002729494988446212}, {\"handle\": \"nntaleb\", \"tweet_id\": 1278400538397286403, \"ticker\": \"NIO\", \"gamma\": -0.7528656375851244, \"pvalue\": 0.8815852971996899, \"id\": 1278400538397286403, \"sentiment_score\": 0.92054945230484, \"sentiment_label\": \"Positive\", \"neglog_p\": 0.05473566145768182}, {\"handle\": \"elonmusk\", \"tweet_id\": 1194761922572361729, \"ticker\": \"NIO\", \"gamma\": -0.6723316631134937, \"pvalue\": 0.8851024711443202, \"id\": 1194761922572361729, \"sentiment_score\": 0.999980926513672, \"sentiment_label\": \"Positive\", \"neglog_p\": 0.05300644673005488}, {\"handle\": \"elonmusk\", \"tweet_id\": 1146392791062212608, \"ticker\": \"NIO\", \"gamma\": -0.20078013601003974, \"pvalue\": 0.9655784847765837, \"id\": 1146392791062212608, \"sentiment_score\": 0.9999983310699464, \"sentiment_label\": \"Positive\", \"neglog_p\": 0.015212419844124447}, {\"handle\": \"elonmusk\", \"tweet_id\": 1131393271400259584, \"ticker\": \"NIO\", \"gamma\": -0.6741889042726907, \"pvalue\": 0.8849594505065962, \"id\": 1131393271400259584, \"sentiment_score\": 0.9984762072563172, \"sentiment_label\": \"Positive\", \"neglog_p\": 0.053076628539106}, {\"handle\": \"elonmusk\", \"tweet_id\": 1120872301178671105, \"ticker\": \"NIO\", \"gamma\": -0.8716050926115391, \"pvalue\": 0.8513962002487161, \"id\": 1120872301178671105, \"sentiment_score\": 0.9999994039535522, \"sentiment_label\": \"Positive\", \"neglog_p\": 0.06986829239554858}, {\"handle\": \"elonmusk\", \"tweet_id\": 1143678128423936000, \"ticker\": \"NOC\", \"gamma\": -0.6294818814877595, \"pvalue\": 0.97964457523807, \"id\": 1143678128423936000, \"sentiment_score\": 0.6583350300788879, \"sentiment_label\": \"Positive\", \"neglog_p\": 0.008931462073772581}, {\"handle\": \"elonmusk\", \"tweet_id\": 941699319777837056, \"ticker\": \"NOC\", \"gamma\": -0.6460479862089403, \"pvalue\": 0.968284215714059, \"id\": 941699319777837056, \"sentiment_score\": 0.9996040463447572, \"sentiment_label\": \"Positive\", \"neglog_p\": 0.013997147651187414}, {\"handle\": \"realDonaldTrump\", \"tweet_id\": 1329404785083232256, \"ticker\": \"NVAX\", \"gamma\": 0.24403298523213635, \"pvalue\": 0.9671226022738224, \"id\": 1329404785083232256, \"sentiment_score\": 0.94602233171463, \"sentiment_label\": \"Positive\", \"neglog_p\": 0.01451846685197465}, {\"handle\": \"realDonaldTrump\", \"tweet_id\": 1179928588738580486, \"ticker\": \"NVAX\", \"gamma\": -0.7243990721658192, \"pvalue\": 0.8970946900946781, \"id\": 1179928588738580486, \"sentiment_score\": 0.9999972581863404, \"sentiment_label\": \"Positive\", \"neglog_p\": 0.04716171390662536}, {\"handle\": \"nntaleb\", \"tweet_id\": 1254427322452783105, \"ticker\": \"NVAX\", \"gamma\": 27.037199163066475, \"pvalue\": 1.3846828026258686e-06, \"id\": 1254427322452783105, \"sentiment_score\": 1.0, \"sentiment_label\": \"Positive\", \"neglog_p\": 5.858649701578928}, {\"handle\": \"realDonaldTrump\", \"tweet_id\": 1329404785083232256, \"ticker\": \"PFE\", \"gamma\": 9.137470846131617, \"pvalue\": 0.7329869351906246, \"id\": 1329404785083232256, \"sentiment_score\": 0.94602233171463, \"sentiment_label\": \"Positive\", \"neglog_p\": 0.13490376618449987}, {\"handle\": \"realDonaldTrump\", \"tweet_id\": 1179928588738580486, \"ticker\": \"PFE\", \"gamma\": 48.47158581247471, \"pvalue\": 0.05575047141566939, \"id\": 1179928588738580486, \"sentiment_score\": 0.9999972581863404, \"sentiment_label\": \"Positive\", \"neglog_p\": 1.2537514559505047}, {\"handle\": \"nntaleb\", \"tweet_id\": 1254427322452783105, \"ticker\": \"PFE\", \"gamma\": 0.9777835267731352, \"pvalue\": 0.969217826990427, \"id\": 1254427322452783105, \"sentiment_score\": 1.0, \"sentiment_label\": \"Positive\", \"neglog_p\": 0.01357860640786045}, {\"handle\": \"realDonaldTrump\", \"tweet_id\": 1167770738864140288, \"ticker\": \"PINS\", \"gamma\": 2.668093063971144, \"pvalue\": 0.5216875588104977, \"id\": 1167770738864140288, \"sentiment_score\": 0.7744786739349365, \"sentiment_label\": \"Positive\", \"neglog_p\": 0.28258952019611394}, {\"handle\": \"elonmusk\", \"tweet_id\": 1283498482150641667, \"ticker\": \"PINS\", \"gamma\": -0.9444599878816323, \"pvalue\": 0.7696393488145624, \"id\": 1283498482150641667, \"sentiment_score\": 0.9999569654464722, \"sentiment_label\": \"Positive\", \"neglog_p\": 0.11371273653134216}, {\"handle\": \"elonmusk\", \"tweet_id\": 1283498475238363138, \"ticker\": \"PINS\", \"gamma\": -0.9586485515133748, \"pvalue\": 0.7696393488145641, \"id\": 1283498475238363138, \"sentiment_score\": 0.9851570129394532, \"sentiment_label\": \"Positive\", \"neglog_p\": 0.11371273653134122}, {\"handle\": \"elonmusk\", \"tweet_id\": 1194761922572361729, \"ticker\": \"PINS\", \"gamma\": 10.397058079591089, \"pvalue\": 0.001264485444392792, \"id\": 1194761922572361729, \"sentiment_score\": 0.999980926513672, \"sentiment_label\": \"Positive\", \"neglog_p\": 2.8980861654941705}, {\"handle\": \"elonmusk\", \"tweet_id\": 1146392791062212608, \"ticker\": \"PINS\", \"gamma\": 3.0329169538277014, \"pvalue\": 0.346986754292014, \"id\": 1146392791062212608, \"sentiment_score\": 0.9999983310699464, \"sentiment_label\": \"Positive\", \"neglog_p\": 0.45968710344452446}, {\"handle\": \"elonmusk\", \"tweet_id\": 1143678128423936000, \"ticker\": \"PINS\", \"gamma\": 1.9498507961924274, \"pvalue\": 0.6906026599217923, \"id\": 1143678128423936000, \"sentiment_score\": 0.6583350300788879, \"sentiment_label\": \"Positive\", \"neglog_p\": 0.16077175325686285}, {\"handle\": \"elonmusk\", \"tweet_id\": 1131393271400259584, \"ticker\": \"PINS\", \"gamma\": -0.5295944646812489, \"pvalue\": 0.8697570942563468, \"id\": 1131393271400259584, \"sentiment_score\": 0.9984762072563172, \"sentiment_label\": \"Positive\", \"neglog_p\": 0.060602020201736606}, {\"handle\": \"elonmusk\", \"tweet_id\": 1127276856476987392, \"ticker\": \"PINS\", \"gamma\": 4.8280254287121345, \"pvalue\": 0.16612746032265194, \"id\": 1127276856476987392, \"sentiment_score\": 0.9249680042266846, \"sentiment_label\": \"Positive\", \"neglog_p\": 0.7795585741657551}, {\"handle\": \"elonmusk\", \"tweet_id\": 1120872301178671105, \"ticker\": \"PINS\", \"gamma\": 0.9140444434030162, \"pvalue\": 0.7768489051081174, \"id\": 1120872301178671105, \"sentiment_score\": 0.9999994039535522, \"sentiment_label\": \"Positive\", \"neglog_p\": 0.10966344202121518}, {\"handle\": \"elonmusk\", \"tweet_id\": 1114933691115921408, \"ticker\": \"PINS\", \"gamma\": -0.915716984173393, \"pvalue\": 0.7764570532117673, \"id\": 1114933691115921408, \"sentiment_score\": 0.9999735355377196, \"sentiment_label\": \"Positive\", \"neglog_p\": 0.10988256062950577}, {\"handle\": \"richardbranson\", \"tweet_id\": 1174677073845215235, \"ticker\": \"PINS\", \"gamma\": 8.551497113452463, \"pvalue\": 0.00800920407948007, \"id\": 1174677073845215235, \"sentiment_score\": 0.9999983310699464, \"sentiment_label\": \"Positive\", \"neglog_p\": 2.096410640103599}, {\"handle\": \"richardbranson\", \"tweet_id\": 1174626364500119554, \"ticker\": \"PINS\", \"gamma\": 9.75884402030946, \"pvalue\": 0.008009204079490573, \"id\": 1174626364500119554, \"sentiment_score\": 0.8762803077697754, \"sentiment_label\": \"Positive\", \"neglog_p\": 2.0964106401030294}, {\"handle\": \"richardbranson\", \"tweet_id\": 1152835756152500224, \"ticker\": \"PINS\", \"gamma\": 2.433755164299219, \"pvalue\": 0.4569680352248501, \"id\": 1152835756152500224, \"sentiment_score\": 0.9856709837913512, \"sentiment_label\": \"Positive\", \"neglog_p\": 0.3401141776346942}, {\"handle\": \"richardbranson\", \"tweet_id\": 1009057004554420224, \"ticker\": \"PINS\", \"gamma\": -1.1272432975802436, \"pvalue\": 0.7764570532225319, \"id\": 1009057004554420224, \"sentiment_score\": 0.8123292922973633, \"sentiment_label\": \"Positive\", \"neglog_p\": 0.10988256062348481}, {\"handle\": \"richardbranson\", \"tweet_id\": 951505093664309250, \"ticker\": \"PINS\", \"gamma\": 1.8289346700109077, \"pvalue\": 0.7764570532262814, \"id\": 951505093664309250, \"sentiment_score\": 0.5006700158119202, \"sentiment_label\": \"Negative\", \"neglog_p\": 0.10988256062138758}, {\"handle\": \"richardbranson\", \"tweet_id\": 926446415173292033, \"ticker\": \"PINS\", \"gamma\": -0.9686350129459707, \"pvalue\": 0.7764570532114085, \"id\": 926446415173292033, \"sentiment_score\": 0.9453434348106384, \"sentiment_label\": \"Positive\", \"neglog_p\": 0.10988256062970647}, {\"handle\": \"elonmusk\", \"tweet_id\": 941699319777837056, \"ticker\": \"PINS\", \"gamma\": -0.9160554657370823, \"pvalue\": 0.776457053209179, \"id\": 941699319777837056, \"sentiment_score\": 0.9996040463447572, \"sentiment_label\": \"Positive\", \"neglog_p\": 0.10988256063095346}, {\"handle\": \"elonmusk\", \"tweet_id\": 875049999217963008, \"ticker\": \"PINS\", \"gamma\": 0.9156956975283538, \"pvalue\": 0.7764570532099152, \"id\": 875049999217963008, \"sentiment_score\": 0.999996781349182, \"sentiment_label\": \"Negative\", \"neglog_p\": 0.10988256063054168}, {\"handle\": \"jack\", \"tweet_id\": 1311052005918388224, \"ticker\": \"PYPL\", \"gamma\": 21.42884547207983, \"pvalue\": 0.0011369644411634453, \"id\": 1311052005918388224, \"sentiment_score\": 0.8565406799316406, \"sentiment_label\": \"Positive\", \"neglog_p\": 2.9442531177643216}, {\"handle\": \"elonmusk\", \"tweet_id\": 1283498475238363138, \"ticker\": \"PYPL\", \"gamma\": -0.9895884597360867, \"pvalue\": 0.8627720606162231, \"id\": 1283498475238363138, \"sentiment_score\": 0.9851570129394532, \"sentiment_label\": \"Positive\", \"neglog_p\": 0.06410392721885276}, {\"handle\": \"jack\", \"tweet_id\": 1311052005918388224, \"ticker\": \"SHOP\", \"gamma\": 27.68074035008833, \"pvalue\": 3.087443940754761e-05, \"id\": 1311052005918388224, \"sentiment_score\": 0.8565406799316406, \"sentiment_label\": \"Positive\", \"neglog_p\": 4.510400919219531}, {\"handle\": \"realDonaldTrump\", \"tweet_id\": 1167770738864140288, \"ticker\": \"SHOP\", \"gamma\": -1.1611121491538945, \"pvalue\": 0.8744246410861214, \"id\": 1167770738864140288, \"sentiment_score\": 0.7744786739349365, \"sentiment_label\": \"Positive\", \"neglog_p\": 0.05827761256687779}, {\"handle\": \"elonmusk\", \"tweet_id\": 1283498482150641667, \"ticker\": \"SHOP\", \"gamma\": 32.53362945120215, \"pvalue\": 1.081002264151195e-08, \"id\": 1283498482150641667, \"sentiment_score\": 0.9999569654464722, \"sentiment_label\": \"Positive\", \"neglog_p\": 7.966173396419178}, {\"handle\": \"elonmusk\", \"tweet_id\": 1283498475238363138, \"ticker\": \"SHOP\", \"gamma\": 33.02238014215675, \"pvalue\": 1.081002264149701e-08, \"id\": 1283498475238363138, \"sentiment_score\": 0.9851570129394532, \"sentiment_label\": \"Positive\", \"neglog_p\": 7.966173396419778}, {\"handle\": \"elonmusk\", \"tweet_id\": 1194761922572361729, \"ticker\": \"SHOP\", \"gamma\": 42.36078804274912, \"pvalue\": 9.708834421602108e-14, \"id\": 1194761922572361729, \"sentiment_score\": 0.999980926513672, \"sentiment_label\": \"Positive\", \"neglog_p\": 13.012832905483446}, {\"handle\": \"elonmusk\", \"tweet_id\": 1146392791062212608, \"ticker\": \"SHOP\", \"gamma\": 8.363739317718782, \"pvalue\": 0.14159063023059676, \"id\": 1146392791062212608, \"sentiment_score\": 0.9999983310699464, \"sentiment_label\": \"Positive\", \"neglog_p\": 0.8489654851616922}, {\"handle\": \"elonmusk\", \"tweet_id\": 1143678128423936000, \"ticker\": \"SHOP\", \"gamma\": 3.701992733703243, \"pvalue\": 0.6684182884901833, \"id\": 1143678128423936000, \"sentiment_score\": 0.6583350300788879, \"sentiment_label\": \"Positive\", \"neglog_p\": 0.17495167595143213}, {\"handle\": \"elonmusk\", \"tweet_id\": 1131393271400259584, \"ticker\": \"SHOP\", \"gamma\": 64.8464189940169, \"pvalue\": 5.2680085483853396e-30, \"id\": 1131393271400259584, \"sentiment_score\": 0.9984762072563172, \"sentiment_label\": \"Positive\", \"neglog_p\": 29.278353528981025}, {\"handle\": \"elonmusk\", \"tweet_id\": 1127276856476987392, \"ticker\": \"SHOP\", \"gamma\": -1.0287262925821206, \"pvalue\": 0.8671896937214857, \"id\": 1127276856476987392, \"sentiment_score\": 0.9249680042266846, \"sentiment_label\": \"Positive\", \"neglog_p\": 0.061885892229218406}, {\"handle\": \"elonmusk\", \"tweet_id\": 1120872301178671105, \"ticker\": \"SHOP\", \"gamma\": -0.43883807645611544, \"pvalue\": 0.9385248853840633, \"id\": 1120872301178671105, \"sentiment_score\": 0.9999994039535522, \"sentiment_label\": \"Positive\", \"neglog_p\": 0.02755420738819308}, {\"handle\": \"elonmusk\", \"tweet_id\": 1114933691115921408, \"ticker\": \"SHOP\", \"gamma\": -0.8637306565903121, \"pvalue\": 0.8793500075856449, \"id\": 1114933691115921408, \"sentiment_score\": 0.9999735355377196, \"sentiment_label\": \"Positive\", \"neglog_p\": 0.05583822833064508}, {\"handle\": \"richardbranson\", \"tweet_id\": 1174677073845215235, \"ticker\": \"SHOP\", \"gamma\": -0.9508033069442205, \"pvalue\": 0.8672916313662392, \"id\": 1174677073845215235, \"sentiment_score\": 0.9999983310699464, \"sentiment_label\": \"Positive\", \"neglog_p\": 0.06183484416542515}, {\"handle\": \"richardbranson\", \"tweet_id\": 1174626364500119554, \"ticker\": \"SHOP\", \"gamma\": -1.0850428928853915, \"pvalue\": 0.8672916313662367, \"id\": 1174626364500119554, \"sentiment_score\": 0.8762803077697754, \"sentiment_label\": \"Positive\", \"neglog_p\": 0.06183484416542643}, {\"handle\": \"richardbranson\", \"tweet_id\": 1152835756152500224, \"ticker\": \"SHOP\", \"gamma\": 27.83855602725861, \"pvalue\": 1.4179331003725308e-06, \"id\": 1152835756152500224, \"sentiment_score\": 0.9856709837913512, \"sentiment_label\": \"Positive\", \"neglog_p\": 5.848344259156086}, {\"handle\": \"richardbranson\", \"tweet_id\": 1009057004554420224, \"ticker\": \"SHOP\", \"gamma\": 310.60128185574376, \"pvalue\": 0.0, \"id\": 1009057004554420224, \"sentiment_score\": 0.8123292922973633, \"sentiment_label\": \"Positive\", \"neglog_p\": null}, {\"handle\": \"richardbranson\", \"tweet_id\": 951505093664309250, \"ticker\": \"SHOP\", \"gamma\": 1.8194480517899259, \"pvalue\": 0.8728065043207572, \"id\": 951505093664309250, \"sentiment_score\": 0.5006700158119202, \"sentiment_label\": \"Negative\", \"neglog_p\": 0.05908202596223524}, {\"handle\": \"richardbranson\", \"tweet_id\": 926446415173292033, \"ticker\": \"SHOP\", \"gamma\": -1.0624896299419357, \"pvalue\": 0.8598835190325411, \"id\": 926446415173292033, \"sentiment_score\": 0.9453434348106384, \"sentiment_label\": \"Positive\", \"neglog_p\": 0.06556037488149445}, {\"handle\": \"elonmusk\", \"tweet_id\": 941699319777837056, \"ticker\": \"SHOP\", \"gamma\": -0.9702485196795355, \"pvalue\": 0.8646563754333986, \"id\": 941699319777837056, \"sentiment_score\": 0.9996040463447572, \"sentiment_label\": \"Positive\", \"neglog_p\": 0.06315645196051943}, {\"handle\": \"elonmusk\", \"tweet_id\": 875049999217963008, \"ticker\": \"SHOP\", \"gamma\": -0.2443754160911833, \"pvalue\": 0.9657430816577125, \"id\": 875049999217963008, \"sentiment_score\": 0.999996781349182, \"sentiment_label\": \"Negative\", \"neglog_p\": 0.015138394349221733}, {\"handle\": \"realDonaldTrump\", \"tweet_id\": 1167770738864140288, \"ticker\": \"SNAP\", \"gamma\": 3.6831782624465204, \"pvalue\": 0.6065274414746142, \"id\": 1167770738864140288, \"sentiment_score\": 0.7744786739349365, \"sentiment_label\": \"Positive\", \"neglog_p\": 0.21714954531447847}, {\"handle\": \"elonmusk\", \"tweet_id\": 1283498482150641667, \"ticker\": \"SNAP\", \"gamma\": 3.812167446044743, \"pvalue\": 0.49128237871170033, \"id\": 1283498482150641667, \"sentiment_score\": 0.9999569654464722, \"sentiment_label\": \"Positive\", \"neglog_p\": 0.3086688128354948}, {\"handle\": \"elonmusk\", \"tweet_id\": 1283498475238363138, \"ticker\": \"SNAP\", \"gamma\": 3.8694374003862717, \"pvalue\": 0.49128237871173885, \"id\": 1283498475238363138, \"sentiment_score\": 0.9851570129394532, \"sentiment_label\": \"Positive\", \"neglog_p\": 0.3086688128354607}, {\"handle\": \"elonmusk\", \"tweet_id\": 1194761922572361729, \"ticker\": \"SNAP\", \"gamma\": 7.143315919424222, \"pvalue\": 0.19714537927639492, \"id\": 1194761922572361729, \"sentiment_score\": 0.999980926513672, \"sentiment_label\": \"Positive\", \"neglog_p\": 0.7052133975320779}, {\"handle\": \"elonmusk\", \"tweet_id\": 1146392791062212608, \"ticker\": \"SNAP\", \"gamma\": -0.7137486562557986, \"pvalue\": 0.8974608504792254, \"id\": 1146392791062212608, \"sentiment_score\": 0.9999983310699464, \"sentiment_label\": \"Positive\", \"neglog_p\": 0.04698448736432909}, {\"handle\": \"elonmusk\", \"tweet_id\": 1143678128423936000, \"ticker\": \"SNAP\", \"gamma\": -0.34979045183944873, \"pvalue\": 0.9668353299844301, \"id\": 1143678128423936000, \"sentiment_score\": 0.6583350300788879, \"sentiment_label\": \"Positive\", \"neglog_p\": 0.014647488035862242}, {\"handle\": \"elonmusk\", \"tweet_id\": 1131393271400259584, \"ticker\": \"SNAP\", \"gamma\": 5.640395991331366, \"pvalue\": 0.30922864821620616, \"id\": 1131393271400259584, \"sentiment_score\": 0.9984762072563172, \"sentiment_label\": \"Positive\", \"neglog_p\": 0.5097202780594409}, {\"handle\": \"elonmusk\", \"tweet_id\": 1127276856476987392, \"ticker\": \"SNAP\", \"gamma\": -0.6087033367773248, \"pvalue\": 0.9190287626739183, \"id\": 1127276856476987392, \"sentiment_score\": 0.9249680042266846, \"sentiment_label\": \"Positive\", \"neglog_p\": 0.03667089636677901}, {\"handle\": \"elonmusk\", \"tweet_id\": 1120872301178671105, \"ticker\": \"SNAP\", \"gamma\": 83.53786438828122, \"pvalue\": 2.0227746512947792e-51, \"id\": 1120872301178671105, \"sentiment_score\": 0.9999994039535522, \"sentiment_label\": \"Positive\", \"neglog_p\": 50.694052497432104}, {\"handle\": \"elonmusk\", \"tweet_id\": 1114933691115921408, \"ticker\": \"SNAP\", \"gamma\": -0.5293248520459061, \"pvalue\": 0.9238629621754882, \"id\": 1114933691115921408, \"sentiment_score\": 0.9999735355377196, \"sentiment_label\": \"Positive\", \"neglog_p\": 0.03439244348198411}, {\"handle\": \"richardbranson\", \"tweet_id\": 1174677073845215235, \"ticker\": \"SNAP\", \"gamma\": 37.19968864597356, \"pvalue\": 1.8585697461931835e-11, \"id\": 1174677073845215235, \"sentiment_score\": 0.9999983310699464, \"sentiment_label\": \"Positive\", \"neglog_p\": 10.73082113657607}, {\"handle\": \"richardbranson\", \"tweet_id\": 1174626364500119554, \"ticker\": \"SNAP\", \"gamma\": 42.45174316089775, \"pvalue\": 1.858569746192334e-11, \"id\": 1174626364500119554, \"sentiment_score\": 0.8762803077697754, \"sentiment_label\": \"Positive\", \"neglog_p\": 10.73082113657627}, {\"handle\": \"richardbranson\", \"tweet_id\": 1152835756152500224, \"ticker\": \"SNAP\", \"gamma\": 75.51767067284439, \"pvalue\": 3.4669225584863253e-41, \"id\": 1152835756152500224, \"sentiment_score\": 0.9856709837913512, \"sentiment_label\": \"Positive\", \"neglog_p\": 40.46005585917939}, {\"handle\": \"richardbranson\", \"tweet_id\": 1009057004554420224, \"ticker\": \"SNAP\", \"gamma\": 26.00228525876567, \"pvalue\": 0.0001368669709199877, \"id\": 1009057004554420224, \"sentiment_score\": 0.8123292922973633, \"sentiment_label\": \"Positive\", \"neglog_p\": 3.8637013442535877}, {\"handle\": \"richardbranson\", \"tweet_id\": 951505093664309250, \"ticker\": \"SNAP\", \"gamma\": -0.34111846352613806, \"pvalue\": 0.9754000702880545, \"id\": 951505093664309250, \"sentiment_score\": 0.5006700158119202, \"sentiment_label\": \"Negative\", \"neglog_p\": 0.01081721744886797}, {\"handle\": \"richardbranson\", \"tweet_id\": 926446415173292033, \"ticker\": \"SNAP\", \"gamma\": 0.3671881912804791, \"pvalue\": 0.9500264782243805, \"id\": 926446415173292033, \"sentiment_score\": 0.9453434348106384, \"sentiment_label\": \"Positive\", \"neglog_p\": 0.022264290304322573}, {\"handle\": \"elonmusk\", \"tweet_id\": 941699319777837056, \"ticker\": \"SNAP\", \"gamma\": -0.6872840481921798, \"pvalue\": 0.901281719635166, \"id\": 941699319777837056, \"sentiment_score\": 0.9996040463447572, \"sentiment_label\": \"Positive\", \"neglog_p\": 0.04513943747905217}, {\"handle\": \"elonmusk\", \"tweet_id\": 875049999217963008, \"ticker\": \"SNAP\", \"gamma\": 0.9492183102909539, \"pvalue\": 0.8639217541192203, \"id\": 875049999217963008, \"sentiment_score\": 0.999996781349182, \"sentiment_label\": \"Negative\", \"neglog_p\": 0.06352559003624692}, {\"handle\": \"realDonaldTrump\", \"tweet_id\": 1240783522534699009, \"ticker\": \"SPCE\", \"gamma\": -0.2100913846266078, \"pvalue\": 0.9927213249445006, \"id\": 1240783522534699009, \"sentiment_score\": 0.99986469745636, \"sentiment_label\": \"Positive\", \"neglog_p\": 0.003172648810269607}, {\"handle\": \"elonmusk\", \"tweet_id\": 1143678128423936000, \"ticker\": \"SPCE\", \"gamma\": -1.017325150295025, \"pvalue\": 0.976796452146952, \"id\": 1143678128423936000, \"sentiment_score\": 0.6583350300788879, \"sentiment_label\": \"Positive\", \"neglog_p\": 0.01019592647492616}, {\"handle\": \"richardbranson\", \"tweet_id\": 1246087905593917441, \"ticker\": \"SPCE\", \"gamma\": -0.5076863652400774, \"pvalue\": 0.9824100046412427, \"id\": 1246087905593917441, \"sentiment_score\": 0.9999920129776, \"sentiment_label\": \"Positive\", \"neglog_p\": 0.00770722342363126}, {\"handle\": \"richardbranson\", \"tweet_id\": 1187256464664154113, \"ticker\": \"SPCE\", \"gamma\": -0.6978716755088901, \"pvalue\": 0.9767964521461341, \"id\": 1187256464664154113, \"sentiment_score\": 0.9596904516220092, \"sentiment_label\": \"Positive\", \"neglog_p\": 0.010195926475289808}, {\"handle\": \"richardbranson\", \"tweet_id\": 1174626364500119554, \"ticker\": \"SPCE\", \"gamma\": -0.7642997080831441, \"pvalue\": 0.9767964521466584, \"id\": 1174626364500119554, \"sentiment_score\": 0.8762803077697754, \"sentiment_label\": \"Positive\", \"neglog_p\": 0.010195926475056674}, {\"handle\": \"elonmusk\", \"tweet_id\": 941699319777837056, \"ticker\": \"SPCE\", \"gamma\": -0.6700060747951997, \"pvalue\": 0.9767964521462125, \"id\": 941699319777837056, \"sentiment_score\": 0.9996040463447572, \"sentiment_label\": \"Positive\", \"neglog_p\": 0.01019592647525496}, {\"handle\": \"jack\", \"tweet_id\": 1311052005918388224, \"ticker\": \"SQ\", \"gamma\": -0.9052361181109638, \"pvalue\": 0.8620036828971824, \"id\": 1311052005918388224, \"sentiment_score\": 0.8565406799316406, \"sentiment_label\": \"Positive\", \"neglog_p\": 0.06449087865497757}, {\"handle\": \"elonmusk\", \"tweet_id\": 1283498475238363138, \"ticker\": \"SQ\", \"gamma\": 6.761580540212736, \"pvalue\": 0.13535212418336998, \"id\": 1283498475238363138, \"sentiment_score\": 0.9851570129394532, \"sentiment_label\": \"Positive\", \"neglog_p\": 0.8685349241278509}, {\"handle\": \"nntaleb\", \"tweet_id\": 1278400538397286403, \"ticker\": \"TSLA\", \"gamma\": -0.5986459475651196, \"pvalue\": 0.9656754025896781, \"id\": 1278400538397286403, \"sentiment_score\": 0.92054945230484, \"sentiment_label\": \"Positive\", \"neglog_p\": 0.01516883067986623}, {\"handle\": \"elonmusk\", \"tweet_id\": 1194761922572361729, \"ticker\": \"TSLA\", \"gamma\": 6.358736388807738, \"pvalue\": 0.6195210805775432, \"id\": 1194761922572361729, \"sentiment_score\": 0.999980926513672, \"sentiment_label\": \"Positive\", \"neglog_p\": 0.2079439112044021}, {\"handle\": \"elonmusk\", \"tweet_id\": 1146392791062212608, \"ticker\": \"TSLA\", \"gamma\": 150.13761211282065, \"pvalue\": 9.571517166518998e-32, \"id\": 1146392791062212608, \"sentiment_score\": 0.9999983310699464, \"sentiment_label\": \"Positive\", \"neglog_p\": 31.01901921741394}, {\"handle\": \"elonmusk\", \"tweet_id\": 1131393271400259584, \"ticker\": \"TSLA\", \"gamma\": 4.750473874618655, \"pvalue\": 0.7110934111363789, \"id\": 1131393271400259584, \"sentiment_score\": 0.9984762072563172, \"sentiment_label\": \"Positive\", \"neglog_p\": 0.14807334543562856}, {\"handle\": \"elonmusk\", \"tweet_id\": 1120872301178671105, \"ticker\": \"TSLA\", \"gamma\": 14.482080434841707, \"pvalue\": 0.2581093784484384, \"id\": 1120872301178671105, \"sentiment_score\": 0.9999994039535522, \"sentiment_label\": \"Positive\", \"neglog_p\": 0.5881962150051122}, {\"handle\": \"realDonaldTrump\", \"tweet_id\": 1302985926809923589, \"ticker\": \"WFC\", \"gamma\": -0.5845183247107765, \"pvalue\": 0.9196128148184766, \"id\": 1302985926809923589, \"sentiment_score\": 0.9999986886978148, \"sentiment_label\": \"Positive\", \"neglog_p\": 0.03639498546042083}, {\"handle\": \"nntaleb\", \"tweet_id\": 1278400538397286403, \"ticker\": \"WKHS\", \"gamma\": -1.0680871825993141, \"pvalue\": 0.9006653048983901, \"id\": 1278400538397286403, \"sentiment_score\": 0.92054945230484, \"sentiment_label\": \"Positive\", \"neglog_p\": 0.04543656666824934}, {\"handle\": \"elonmusk\", \"tweet_id\": 1194761922572361729, \"ticker\": \"WKHS\", \"gamma\": -0.5909368514620268, \"pvalue\": 0.9402002604287394, \"id\": 1194761922572361729, \"sentiment_score\": 0.999980926513672, \"sentiment_label\": \"Positive\", \"neglog_p\": 0.026779632851288062}, {\"handle\": \"elonmusk\", \"tweet_id\": 1146392791062212608, \"ticker\": \"WKHS\", \"gamma\": 7.810734590755932, \"pvalue\": 0.32140525690723887, \"id\": 1146392791062212608, \"sentiment_score\": 0.9999983310699464, \"sentiment_label\": \"Positive\", \"neglog_p\": 0.4929470241901763}, {\"handle\": \"elonmusk\", \"tweet_id\": 1131393271400259584, \"ticker\": \"WKHS\", \"gamma\": 22.37521351557221, \"pvalue\": 0.004564883753666037, \"id\": 1131393271400259584, \"sentiment_score\": 0.9984762072563172, \"sentiment_label\": \"Positive\", \"neglog_p\": 2.340570277447138}, {\"handle\": \"elonmusk\", \"tweet_id\": 1120872301178671105, \"ticker\": \"WKHS\", \"gamma\": -1.0768588886929567, \"pvalue\": 0.8912620410374659, \"id\": 1120872301178671105, \"sentiment_score\": 0.9999994039535522, \"sentiment_label\": \"Positive\", \"neglog_p\": 0.04999458973945744}, {\"handle\": \"realDonaldTrump\", \"tweet_id\": 1302985926809923589, \"ticker\": \"WMT\", \"gamma\": -1.0121458133873156, \"pvalue\": 0.8631894291922997, \"id\": 1302985926809923589, \"sentiment_score\": 0.9999986886978148, \"sentiment_label\": \"Positive\", \"neglog_p\": 0.06389388675837515}, {\"handle\": \"realDonaldTrump\", \"tweet_id\": 1240783522534699009, \"ticker\": \"WYNN\", \"gamma\": -0.5268527843561568, \"pvalue\": 0.9291909800023483, \"id\": 1240783522534699009, \"sentiment_score\": 0.99986469745636, \"sentiment_label\": \"Positive\", \"neglog_p\": 0.031895014707166276}, {\"handle\": \"richardbranson\", \"tweet_id\": 1246087905593917441, \"ticker\": \"WYNN\", \"gamma\": -1.0237083604605346, \"pvalue\": 0.8628967063434182, \"id\": 1246087905593917441, \"sentiment_score\": 0.9999920129776, \"sentiment_label\": \"Positive\", \"neglog_p\": 0.06404118869956768}, {\"handle\": \"richardbranson\", \"tweet_id\": 1187256464664154113, \"ticker\": \"WYNN\", \"gamma\": 14.174366875199247, \"pvalue\": 0.02175070253871191, \"id\": 1187256464664154113, \"sentiment_score\": 0.9596904516220092, \"sentiment_label\": \"Positive\", \"neglog_p\": 1.6625267109503366}, {\"handle\": \"richardbranson\", \"tweet_id\": 1174626364500119554, \"ticker\": \"WYNN\", \"gamma\": 287.0542238090402, \"pvalue\": 0.0, \"id\": 1174626364500119554, \"sentiment_score\": 0.8762803077697754, \"sentiment_label\": \"Positive\", \"neglog_p\": null}, {\"handle\": \"realDonaldTrump\", \"tweet_id\": 1167064301565358080, \"ticker\": \"XOM\", \"gamma\": -0.9672804831966505, \"pvalue\": 0.7628462381714245, \"id\": 1167064301565358080, \"sentiment_score\": 0.9999572038650512, \"sentiment_label\": \"Positive\", \"neglog_p\": 0.11756299106637107}, {\"handle\": \"elonmusk\", \"tweet_id\": 1165371078840991744, \"ticker\": \"XOM\", \"gamma\": -1.149474924876153, \"pvalue\": 0.8055095846830871, \"id\": 1165371078840991744, \"sentiment_score\": 0.686629593372345, \"sentiment_label\": \"Positive\", \"neglog_p\": 0.09392928758466337}, {\"handle\": \"elonmusk\", \"tweet_id\": 1131393271400259584, \"ticker\": \"XOM\", \"gamma\": 124.7011047952147, \"pvalue\": 0.0, \"id\": 1131393271400259584, \"sentiment_score\": 0.9984762072563172, \"sentiment_label\": \"Positive\", \"neglog_p\": null}, {\"handle\": \"elonmusk\", \"tweet_id\": 1120872301178671105, \"ticker\": \"XOM\", \"gamma\": -1.0288666099816064, \"pvalue\": 0.7482325441090967, \"id\": 1120872301178671105, \"sentiment_score\": 0.9999994039535522, \"sentiment_label\": \"Positive\", \"neglog_p\": 0.12596340624256655}]}}, {\"mode\": \"vega-lite\"});\n",
       "</script>"
      ],
      "text/plain": [
       "alt.Chart(...)"
      ]
     },
     "execution_count": 21,
     "metadata": {},
     "output_type": "execute_result"
    }
   ],
   "source": [
    "viz_df['neglog_p'] = -np.log10(viz_df['pvalue'])\n",
    "\n",
    "volcano = alt.Chart(viz_df).mark_circle(size=60).encode(\n",
    "    x=alt.X('gamma:Q', title='Volatility Impact (γ)'),\n",
    "    y=alt.Y('neglog_p:Q', title='–log10(p-value)'),\n",
    "    color=alt.Color('sentiment_label:N'),\n",
    "    tooltip=['handle', 'tweet_id', 'ticker', 'gamma', 'pvalue', 'sentiment_label']\n",
    ").properties(\n",
    "    title='Tweet Volatility Impact vs Significance',\n",
    "    width=600,\n",
    "    height=400\n",
    ").interactive()\n",
    "\n",
    "volcano"
   ]
  },
  {
   "cell_type": "markdown",
   "id": "7357ef60-1340-471d-962b-06f08b9b9e01",
   "metadata": {},
   "source": [
    "### Leaderboard of Most Volatile Tweets\n",
    "\n",
    "#### What it shows\n",
    "Ranks tweets by volatility impact (γ) — with tweet IDs and tickers.\n",
    "\n",
    "#### Why it matters\n",
    "Highlights which specific tweets had the greatest modeled impact."
   ]
  },
  {
   "cell_type": "code",
   "execution_count": 22,
   "id": "c0b0f883-facc-47a0-b2fb-c1c1fa8b1259",
   "metadata": {},
   "outputs": [
    {
     "data": {
      "text/html": [
       "\n",
       "<style>\n",
       "  #altair-viz-81ab5d801f7c44c3bd002a2fb08c9e13.vega-embed {\n",
       "    width: 100%;\n",
       "    display: flex;\n",
       "  }\n",
       "\n",
       "  #altair-viz-81ab5d801f7c44c3bd002a2fb08c9e13.vega-embed details,\n",
       "  #altair-viz-81ab5d801f7c44c3bd002a2fb08c9e13.vega-embed details summary {\n",
       "    position: relative;\n",
       "  }\n",
       "</style>\n",
       "<div id=\"altair-viz-81ab5d801f7c44c3bd002a2fb08c9e13\"></div>\n",
       "<script type=\"text/javascript\">\n",
       "  var VEGA_DEBUG = (typeof VEGA_DEBUG == \"undefined\") ? {} : VEGA_DEBUG;\n",
       "  (function(spec, embedOpt){\n",
       "    let outputDiv = document.currentScript.previousElementSibling;\n",
       "    if (outputDiv.id !== \"altair-viz-81ab5d801f7c44c3bd002a2fb08c9e13\") {\n",
       "      outputDiv = document.getElementById(\"altair-viz-81ab5d801f7c44c3bd002a2fb08c9e13\");\n",
       "    }\n",
       "\n",
       "    const paths = {\n",
       "      \"vega\": \"https://cdn.jsdelivr.net/npm/vega@5?noext\",\n",
       "      \"vega-lib\": \"https://cdn.jsdelivr.net/npm/vega-lib?noext\",\n",
       "      \"vega-lite\": \"https://cdn.jsdelivr.net/npm/vega-lite@5.20.1?noext\",\n",
       "      \"vega-embed\": \"https://cdn.jsdelivr.net/npm/vega-embed@6?noext\",\n",
       "    };\n",
       "\n",
       "    function maybeLoadScript(lib, version) {\n",
       "      var key = `${lib.replace(\"-\", \"\")}_version`;\n",
       "      return (VEGA_DEBUG[key] == version) ?\n",
       "        Promise.resolve(paths[lib]) :\n",
       "        new Promise(function(resolve, reject) {\n",
       "          var s = document.createElement('script');\n",
       "          document.getElementsByTagName(\"head\")[0].appendChild(s);\n",
       "          s.async = true;\n",
       "          s.onload = () => {\n",
       "            VEGA_DEBUG[key] = version;\n",
       "            return resolve(paths[lib]);\n",
       "          };\n",
       "          s.onerror = () => reject(`Error loading script: ${paths[lib]}`);\n",
       "          s.src = paths[lib];\n",
       "        });\n",
       "    }\n",
       "\n",
       "    function showError(err) {\n",
       "      outputDiv.innerHTML = `<div class=\"error\" style=\"color:red;\">${err}</div>`;\n",
       "      throw err;\n",
       "    }\n",
       "\n",
       "    function displayChart(vegaEmbed) {\n",
       "      vegaEmbed(outputDiv, spec, embedOpt)\n",
       "        .catch(err => showError(`Javascript Error: ${err.message}<br>This usually means there's a typo in your chart specification. See the javascript console for the full traceback.`));\n",
       "    }\n",
       "\n",
       "    if(typeof define === \"function\" && define.amd) {\n",
       "      requirejs.config({paths});\n",
       "      let deps = [\"vega-embed\"];\n",
       "      require(deps, displayChart, err => showError(`Error loading script: ${err.message}`));\n",
       "    } else {\n",
       "      maybeLoadScript(\"vega\", \"5\")\n",
       "        .then(() => maybeLoadScript(\"vega-lite\", \"5.20.1\"))\n",
       "        .then(() => maybeLoadScript(\"vega-embed\", \"6\"))\n",
       "        .catch(showError)\n",
       "        .then(() => displayChart(vegaEmbed));\n",
       "    }\n",
       "  })({\"config\": {\"background\": \"#1e1e1e\", \"title\": {\"color\": \"#ffffff\"}, \"axis\": {\"labelColor\": \"#ffffff\", \"titleColor\": \"#ffffff\", \"gridColor\": \"#444444\"}, \"legend\": {\"labelColor\": \"#ffffff\", \"titleColor\": \"#ffffff\"}, \"header\": {\"labelColor\": \"#ffffff\", \"titleColor\": \"#ffffff\"}, \"view\": {\"stroke\": \"#444444\"}}, \"data\": {\"name\": \"data-b630ad3d11a93c526a8df1c15f7868fc\"}, \"mark\": {\"type\": \"bar\"}, \"encoding\": {\"color\": {\"field\": \"ticker\", \"type\": \"nominal\"}, \"tooltip\": [{\"field\": \"handle\", \"type\": \"nominal\"}, {\"field\": \"ticker\", \"type\": \"nominal\"}, {\"field\": \"gamma\", \"type\": \"quantitative\"}, {\"field\": \"pvalue\", \"type\": \"quantitative\"}], \"x\": {\"field\": \"gamma\", \"title\": \"Estimated Volatility Impact (\\u03b3)\", \"type\": \"quantitative\"}, \"y\": {\"field\": \"tweet_id\", \"sort\": \"-x\", \"title\": \"Tweet ID\", \"type\": \"nominal\"}}, \"height\": 400, \"title\": \"Top 10 Tweets by Volatility Impact (\\u03b3)\", \"width\": 600, \"$schema\": \"https://vega.github.io/schema/vega-lite/v5.20.1.json\", \"datasets\": {\"data-b630ad3d11a93c526a8df1c15f7868fc\": [{\"handle\": \"richardbranson\", \"tweet_id\": 1009057004554420224, \"ticker\": \"SHOP\", \"gamma\": 310.60128185574376, \"pvalue\": 0.0, \"id\": 1009057004554420224, \"sentiment_score\": 0.8123292922973633, \"sentiment_label\": \"Positive\", \"neglog_p\": null}, {\"handle\": \"richardbranson\", \"tweet_id\": 1174626364500119554, \"ticker\": \"WYNN\", \"gamma\": 287.0542238090402, \"pvalue\": 0.0, \"id\": 1174626364500119554, \"sentiment_score\": 0.8762803077697754, \"sentiment_label\": \"Positive\", \"neglog_p\": null}, {\"handle\": \"elonmusk\", \"tweet_id\": 1146392791062212608, \"ticker\": \"TSLA\", \"gamma\": 150.13761211282065, \"pvalue\": 9.571517166518998e-32, \"id\": 1146392791062212608, \"sentiment_score\": 0.9999983310699464, \"sentiment_label\": \"Positive\", \"neglog_p\": 31.01901921741394}, {\"handle\": \"elonmusk\", \"tweet_id\": 1143678128423936000, \"ticker\": \"AAPL\", \"gamma\": 133.50694159607906, \"pvalue\": 1.011428324152757e-05, \"id\": 1143678128423936000, \"sentiment_score\": 0.6583350300788879, \"sentiment_label\": \"Positive\", \"neglog_p\": 4.99506488850157}, {\"handle\": \"elonmusk\", \"tweet_id\": 1283498475238363138, \"ticker\": \"FOX\", \"gamma\": 125.36776447620538, \"pvalue\": 1.1016501036868753e-17, \"id\": 1283498475238363138, \"sentiment_score\": 0.9851570129394532, \"sentiment_label\": \"Positive\", \"neglog_p\": 16.957956320336553}, {\"handle\": \"elonmusk\", \"tweet_id\": 1131393271400259584, \"ticker\": \"XOM\", \"gamma\": 124.7011047952147, \"pvalue\": 0.0, \"id\": 1131393271400259584, \"sentiment_score\": 0.9984762072563172, \"sentiment_label\": \"Positive\", \"neglog_p\": null}, {\"handle\": \"elonmusk\", \"tweet_id\": 1283498482150641667, \"ticker\": \"FOX\", \"gamma\": 123.51224766472865, \"pvalue\": 1.1016501036899843e-17, \"id\": 1283498482150641667, \"sentiment_score\": 0.9999569654464722, \"sentiment_label\": \"Positive\", \"neglog_p\": 16.957956320335327}, {\"handle\": \"elonmusk\", \"tweet_id\": 1120872301178671105, \"ticker\": \"SNAP\", \"gamma\": 83.53786438828122, \"pvalue\": 2.0227746512947792e-51, \"id\": 1120872301178671105, \"sentiment_score\": 0.9999994039535522, \"sentiment_label\": \"Positive\", \"neglog_p\": 50.694052497432104}, {\"handle\": \"elonmusk\", \"tweet_id\": 1127276856476987392, \"ticker\": \"AAPL\", \"gamma\": 79.5707785416461, \"pvalue\": 0.00021829248618194695, \"id\": 1127276856476987392, \"sentiment_score\": 0.9249680042266846, \"sentiment_label\": \"Positive\", \"neglog_p\": 3.660961212829015}, {\"handle\": \"richardbranson\", \"tweet_id\": 1152835756152500224, \"ticker\": \"SNAP\", \"gamma\": 75.51767067284439, \"pvalue\": 3.4669225584863253e-41, \"id\": 1152835756152500224, \"sentiment_score\": 0.9856709837913512, \"sentiment_label\": \"Positive\", \"neglog_p\": 40.46005585917939}]}}, {\"mode\": \"vega-lite\"});\n",
       "</script>"
      ],
      "text/plain": [
       "alt.Chart(...)"
      ]
     },
     "execution_count": 22,
     "metadata": {},
     "output_type": "execute_result"
    }
   ],
   "source": [
    "top_tweets = viz_df.sort_values('gamma', ascending=False).head(10)\n",
    "\n",
    "leaderboard = alt.Chart(top_tweets).mark_bar().encode(\n",
    "    x=alt.X('gamma:Q', title='Estimated Volatility Impact (γ)'),\n",
    "    y=alt.Y('tweet_id:N', title='Tweet ID', sort='-x'),\n",
    "    color=alt.Color('ticker'),\n",
    "    tooltip=['handle', 'ticker', 'gamma', 'pvalue']\n",
    ").properties(\n",
    "    title='Top 10 Tweets by Volatility Impact (γ)',\n",
    "    width=600,\n",
    "    height=400\n",
    ")\n",
    "\n",
    "leaderboard"
   ]
  },
  {
   "cell_type": "markdown",
   "id": "30120a4b-a1d4-4197-af87-612c14dd874e",
   "metadata": {},
   "source": [
    "### Volatility Around Tweet – Time Series View\n",
    "\n",
    "#### What it shows\n",
    "Rolling 5-minute volatility around the tweet (±30 minutes).\n",
    "\n",
    "#### Why it matters\n",
    "Gives a direct look at how volatility evolves before and after specific tweets."
   ]
  },
  {
   "cell_type": "code",
   "execution_count": 25,
   "id": "6e61cad2-3e46-4a31-b7a7-962d709c0eda",
   "metadata": {},
   "outputs": [
    {
     "data": {
      "text/html": [
       "\n",
       "<style>\n",
       "  #altair-viz-eac942adc1b244f2ab2e317f04456e3b.vega-embed {\n",
       "    width: 100%;\n",
       "    display: flex;\n",
       "  }\n",
       "\n",
       "  #altair-viz-eac942adc1b244f2ab2e317f04456e3b.vega-embed details,\n",
       "  #altair-viz-eac942adc1b244f2ab2e317f04456e3b.vega-embed details summary {\n",
       "    position: relative;\n",
       "  }\n",
       "</style>\n",
       "<div id=\"altair-viz-eac942adc1b244f2ab2e317f04456e3b\"></div>\n",
       "<script type=\"text/javascript\">\n",
       "  var VEGA_DEBUG = (typeof VEGA_DEBUG == \"undefined\") ? {} : VEGA_DEBUG;\n",
       "  (function(spec, embedOpt){\n",
       "    let outputDiv = document.currentScript.previousElementSibling;\n",
       "    if (outputDiv.id !== \"altair-viz-eac942adc1b244f2ab2e317f04456e3b\") {\n",
       "      outputDiv = document.getElementById(\"altair-viz-eac942adc1b244f2ab2e317f04456e3b\");\n",
       "    }\n",
       "\n",
       "    const paths = {\n",
       "      \"vega\": \"https://cdn.jsdelivr.net/npm/vega@5?noext\",\n",
       "      \"vega-lib\": \"https://cdn.jsdelivr.net/npm/vega-lib?noext\",\n",
       "      \"vega-lite\": \"https://cdn.jsdelivr.net/npm/vega-lite@5.20.1?noext\",\n",
       "      \"vega-embed\": \"https://cdn.jsdelivr.net/npm/vega-embed@6?noext\",\n",
       "    };\n",
       "\n",
       "    function maybeLoadScript(lib, version) {\n",
       "      var key = `${lib.replace(\"-\", \"\")}_version`;\n",
       "      return (VEGA_DEBUG[key] == version) ?\n",
       "        Promise.resolve(paths[lib]) :\n",
       "        new Promise(function(resolve, reject) {\n",
       "          var s = document.createElement('script');\n",
       "          document.getElementsByTagName(\"head\")[0].appendChild(s);\n",
       "          s.async = true;\n",
       "          s.onload = () => {\n",
       "            VEGA_DEBUG[key] = version;\n",
       "            return resolve(paths[lib]);\n",
       "          };\n",
       "          s.onerror = () => reject(`Error loading script: ${paths[lib]}`);\n",
       "          s.src = paths[lib];\n",
       "        });\n",
       "    }\n",
       "\n",
       "    function showError(err) {\n",
       "      outputDiv.innerHTML = `<div class=\"error\" style=\"color:red;\">${err}</div>`;\n",
       "      throw err;\n",
       "    }\n",
       "\n",
       "    function displayChart(vegaEmbed) {\n",
       "      vegaEmbed(outputDiv, spec, embedOpt)\n",
       "        .catch(err => showError(`Javascript Error: ${err.message}<br>This usually means there's a typo in your chart specification. See the javascript console for the full traceback.`));\n",
       "    }\n",
       "\n",
       "    if(typeof define === \"function\" && define.amd) {\n",
       "      requirejs.config({paths});\n",
       "      let deps = [\"vega-embed\"];\n",
       "      require(deps, displayChart, err => showError(`Error loading script: ${err.message}`));\n",
       "    } else {\n",
       "      maybeLoadScript(\"vega\", \"5\")\n",
       "        .then(() => maybeLoadScript(\"vega-lite\", \"5.20.1\"))\n",
       "        .then(() => maybeLoadScript(\"vega-embed\", \"6\"))\n",
       "        .catch(showError)\n",
       "        .then(() => displayChart(vegaEmbed));\n",
       "    }\n",
       "  })({\"config\": {\"background\": \"#1e1e1e\", \"title\": {\"color\": \"#ffffff\"}, \"axis\": {\"labelColor\": \"#ffffff\", \"titleColor\": \"#ffffff\", \"gridColor\": \"#444444\"}, \"legend\": {\"labelColor\": \"#ffffff\", \"titleColor\": \"#ffffff\"}, \"header\": {\"labelColor\": \"#ffffff\", \"titleColor\": \"#ffffff\"}, \"view\": {\"stroke\": \"#444444\"}}, \"layer\": [{\"data\": {\"name\": \"data-405ae82b08b0f803e0ce97a91e836b8e\"}, \"mark\": {\"type\": \"line\"}, \"encoding\": {\"tooltip\": [{\"field\": \"minute_offset\", \"type\": \"quantitative\"}, {\"field\": \"volatility\", \"type\": \"quantitative\"}], \"x\": {\"field\": \"minute_offset\", \"title\": \"Minutes from Tweet\", \"type\": \"quantitative\"}, \"y\": {\"field\": \"volatility\", \"title\": \"5-min Rolling Volatility\", \"type\": \"quantitative\"}}, \"title\": \"Volatility Around Tweet 1187256464664154113 (AAL)\"}, {\"data\": {\"name\": \"data-d285a7403ed98ae579761d64a864032b\"}, \"mark\": {\"type\": \"rule\", \"color\": \"red\"}, \"encoding\": {\"x\": {\"field\": \"x\", \"type\": \"quantitative\"}}}], \"height\": 300, \"width\": 600, \"$schema\": \"https://vega.github.io/schema/vega-lite/v5.20.1.json\", \"datasets\": {\"data-405ae82b08b0f803e0ce97a91e836b8e\": [{\"timestamp\": \"2019-10-24T02:07:00\", \"volatility\": 0.0, \"minute_offset\": -30}, {\"timestamp\": \"2019-10-24T02:08:00\", \"volatility\": 0.0, \"minute_offset\": -29}, {\"timestamp\": \"2019-10-24T02:09:00\", \"volatility\": 0.0, \"minute_offset\": -28}, {\"timestamp\": \"2019-10-24T02:10:00\", \"volatility\": 0.0, \"minute_offset\": -27}, {\"timestamp\": \"2019-10-24T02:11:00\", \"volatility\": 0.0, \"minute_offset\": -26}, {\"timestamp\": \"2019-10-24T02:12:00\", \"volatility\": 0.0, \"minute_offset\": -25}, {\"timestamp\": \"2019-10-24T02:13:00\", \"volatility\": 0.0, \"minute_offset\": -24}, {\"timestamp\": \"2019-10-24T02:14:00\", \"volatility\": 0.0, \"minute_offset\": -23}, {\"timestamp\": \"2019-10-24T02:15:00\", \"volatility\": 0.0, \"minute_offset\": -22}, {\"timestamp\": \"2019-10-24T02:16:00\", \"volatility\": 0.0, \"minute_offset\": -21}, {\"timestamp\": \"2019-10-24T02:17:00\", \"volatility\": 0.0, \"minute_offset\": -20}, {\"timestamp\": \"2019-10-24T02:18:00\", \"volatility\": 0.0, \"minute_offset\": -19}, {\"timestamp\": \"2019-10-24T02:19:00\", \"volatility\": 0.0, \"minute_offset\": -18}, {\"timestamp\": \"2019-10-24T02:20:00\", \"volatility\": 0.0, \"minute_offset\": -17}, {\"timestamp\": \"2019-10-24T02:21:00\", \"volatility\": 0.0, \"minute_offset\": -16}, {\"timestamp\": \"2019-10-24T02:22:00\", \"volatility\": 0.0, \"minute_offset\": -15}, {\"timestamp\": \"2019-10-24T02:23:00\", \"volatility\": 0.0, \"minute_offset\": -14}, {\"timestamp\": \"2019-10-24T02:24:00\", \"volatility\": 0.0, \"minute_offset\": -13}, {\"timestamp\": \"2019-10-24T02:25:00\", \"volatility\": 0.0, \"minute_offset\": -12}, {\"timestamp\": \"2019-10-24T02:26:00\", \"volatility\": 0.0, \"minute_offset\": -11}, {\"timestamp\": \"2019-10-24T02:27:00\", \"volatility\": 0.0, \"minute_offset\": -10}, {\"timestamp\": \"2019-10-24T02:28:00\", \"volatility\": 0.0, \"minute_offset\": -9}, {\"timestamp\": \"2019-10-24T02:29:00\", \"volatility\": 0.0, \"minute_offset\": -8}, {\"timestamp\": \"2019-10-24T02:30:00\", \"volatility\": 0.0, \"minute_offset\": -7}, {\"timestamp\": \"2019-10-24T02:31:00\", \"volatility\": 0.0, \"minute_offset\": -6}, {\"timestamp\": \"2019-10-24T02:32:00\", \"volatility\": 0.0, \"minute_offset\": -5}, {\"timestamp\": \"2019-10-24T02:33:00\", \"volatility\": 0.0, \"minute_offset\": -4}, {\"timestamp\": \"2019-10-24T02:34:00\", \"volatility\": 0.0, \"minute_offset\": -3}, {\"timestamp\": \"2019-10-24T02:35:00\", \"volatility\": 0.0, \"minute_offset\": -2}, {\"timestamp\": \"2019-10-24T02:36:00\", \"volatility\": 0.0, \"minute_offset\": -1}, {\"timestamp\": \"2019-10-24T02:37:00\", \"volatility\": 0.0, \"minute_offset\": 0}, {\"timestamp\": \"2019-10-24T02:38:00\", \"volatility\": 0.0, \"minute_offset\": 1}, {\"timestamp\": \"2019-10-24T02:39:00\", \"volatility\": 0.0, \"minute_offset\": 2}, {\"timestamp\": \"2019-10-24T02:40:00\", \"volatility\": 0.0, \"minute_offset\": 3}, {\"timestamp\": \"2019-10-24T02:41:00\", \"volatility\": 0.0, \"minute_offset\": 4}, {\"timestamp\": \"2019-10-24T02:42:00\", \"volatility\": 0.0, \"minute_offset\": 5}, {\"timestamp\": \"2019-10-24T02:43:00\", \"volatility\": 0.0, \"minute_offset\": 6}, {\"timestamp\": \"2019-10-24T02:44:00\", \"volatility\": 0.0, \"minute_offset\": 7}, {\"timestamp\": \"2019-10-24T02:45:00\", \"volatility\": 0.0, \"minute_offset\": 8}, {\"timestamp\": \"2019-10-24T02:46:00\", \"volatility\": 0.0, \"minute_offset\": 9}, {\"timestamp\": \"2019-10-24T02:47:00\", \"volatility\": 0.0, \"minute_offset\": 10}, {\"timestamp\": \"2019-10-24T02:48:00\", \"volatility\": 0.0, \"minute_offset\": 11}, {\"timestamp\": \"2019-10-24T02:49:00\", \"volatility\": 0.0, \"minute_offset\": 12}, {\"timestamp\": \"2019-10-24T02:50:00\", \"volatility\": 0.0, \"minute_offset\": 13}, {\"timestamp\": \"2019-10-24T02:51:00\", \"volatility\": 0.0, \"minute_offset\": 14}, {\"timestamp\": \"2019-10-24T02:52:00\", \"volatility\": 0.0, \"minute_offset\": 15}, {\"timestamp\": \"2019-10-24T02:53:00\", \"volatility\": 0.0, \"minute_offset\": 16}, {\"timestamp\": \"2019-10-24T02:54:00\", \"volatility\": 0.0, \"minute_offset\": 17}, {\"timestamp\": \"2019-10-24T02:55:00\", \"volatility\": 0.0, \"minute_offset\": 18}, {\"timestamp\": \"2019-10-24T02:56:00\", \"volatility\": 0.0, \"minute_offset\": 19}, {\"timestamp\": \"2019-10-24T02:57:00\", \"volatility\": 0.0, \"minute_offset\": 20}, {\"timestamp\": \"2019-10-24T02:58:00\", \"volatility\": 0.0, \"minute_offset\": 21}, {\"timestamp\": \"2019-10-24T02:59:00\", \"volatility\": 0.0, \"minute_offset\": 22}, {\"timestamp\": \"2019-10-24T03:00:00\", \"volatility\": 0.0, \"minute_offset\": 23}, {\"timestamp\": \"2019-10-24T03:01:00\", \"volatility\": 0.0, \"minute_offset\": 24}, {\"timestamp\": \"2019-10-24T03:02:00\", \"volatility\": 0.0, \"minute_offset\": 25}, {\"timestamp\": \"2019-10-24T03:03:00\", \"volatility\": 0.0, \"minute_offset\": 26}, {\"timestamp\": \"2019-10-24T03:04:00\", \"volatility\": 0.0, \"minute_offset\": 27}, {\"timestamp\": \"2019-10-24T03:05:00\", \"volatility\": 0.0, \"minute_offset\": 28}, {\"timestamp\": \"2019-10-24T03:06:00\", \"volatility\": 0.0, \"minute_offset\": 29}, {\"timestamp\": \"2019-10-24T03:07:00\", \"volatility\": 0.0, \"minute_offset\": 30}], \"data-d285a7403ed98ae579761d64a864032b\": [{\"x\": 0}]}}, {\"mode\": \"vega-lite\"});\n",
       "</script>"
      ],
      "text/plain": [
       "alt.LayerChart(...)"
      ]
     },
     "execution_count": 25,
     "metadata": {},
     "output_type": "execute_result"
    }
   ],
   "source": [
    "def volatility_window_around_tweet(\n",
    "    prices_df, tweet_ts, ticker, minutes_before=30, minutes_after=30, window=5\n",
    "):\n",
    "    ts = pd.to_datetime(prices_df['timestamp'])\n",
    "    prices_df = prices_df.assign(\n",
    "        timestamp=ts.dt.tz_localize('UTC').dt.tz_convert('US/Eastern').dt.tz_localize(None)\n",
    "    )\n",
    "    px = (\n",
    "        prices_df[prices_df['ticker'] == ticker]\n",
    "        .set_index('timestamp')\n",
    "        .between_time('09:30', '16:00')\n",
    "        ['avg_price']\n",
    "        .resample('1min').last().asfreq('1min').ffill()\n",
    "    )\n",
    "\n",
    "    log_ret = np.log(px).diff()\n",
    "    rolling_vol = log_ret.rolling(window).std()\n",
    "\n",
    "    tweet_time = pd.to_datetime(tweet_ts).tz_convert('US/Eastern').tz_localize(None)\n",
    "    event_ts = rolling_vol.index[rolling_vol.index.get_indexer([tweet_time], method='bfill')[0]]\n",
    "\n",
    "    start = event_ts - pd.Timedelta(minutes=minutes_before)\n",
    "    end = event_ts + pd.Timedelta(minutes=minutes_after)\n",
    "\n",
    "    segment = rolling_vol.loc[start:end].copy()\n",
    "    df_plot = segment.reset_index().rename(columns={0: 'volatility', 'avg_price': 'volatility'})\n",
    "    df_plot['minute_offset'] = (df_plot['timestamp'] - event_ts).dt.total_seconds() // 60\n",
    "    df_plot['minute_offset'] = df_plot['minute_offset'].astype(int)\n",
    "\n",
    "    return df_plot\n",
    "\n",
    "def plot_volatility_window(df_plot, tweet_info):\n",
    "    return alt.Chart(df_plot).mark_line().encode(\n",
    "        x=alt.X('minute_offset:Q', title='Minutes from Tweet'),\n",
    "        y=alt.Y('volatility:Q', title='5-min Rolling Volatility'),\n",
    "        tooltip=['minute_offset', 'volatility']\n",
    "    ).properties(\n",
    "        title=f\"Volatility Around Tweet {tweet_info['tweet_id']} ({tweet_info['ticker']})\",\n",
    "        width=600,\n",
    "        height=300\n",
    "    ) + alt.Chart(pd.DataFrame({'x': [0]})).mark_rule(color='red').encode(x='x:Q')\n",
    "\n",
    "tweet_row = result_df[result_df['pvalue'] < 0.05].iloc[0]\n",
    "tweet_ts = tweets_df.loc[tweets_df['id'] == tweet_row['tweet_id'], 'timestamp'].iloc[0]\n",
    "vol_df = volatility_window_around_tweet(prices_df, tweet_ts, tweet_row['ticker'])\n",
    "plot_volatility_window(vol_df, tweet_row)\n"
   ]
  },
  {
   "cell_type": "markdown",
   "id": "c9c2f7cd-acbb-4671-ac4a-3fc1096d8fa8",
   "metadata": {},
   "source": [
    "## Evaluation without FinBERT sentiment"
   ]
  },
  {
   "cell_type": "code",
   "execution_count": 160,
   "id": "0fe45238-697b-4b10-aefb-97241a6fc36e",
   "metadata": {},
   "outputs": [
    {
     "name": "stdout",
     "output_type": "stream",
     "text": [
      "Evaluating stock AAL...\n"
     ]
    },
    {
     "name": "stderr",
     "output_type": "stream",
     "text": [
      "/Users/clawall/estudo/siads-699/.env/lib/python3.9/site-packages/arch/univariate/base.py:768: ConvergenceWarning: The optimizer returned code 4. The message is:\n",
      "Inequality constraints incompatible\n",
      "See scipy.optimize.fmin_slsqp for code meaning.\n",
      "\n",
      "  warnings.warn(\n"
     ]
    },
    {
     "name": "stdout",
     "output_type": "stream",
     "text": [
      "Evaluating stock AAPL...\n"
     ]
    },
    {
     "name": "stderr",
     "output_type": "stream",
     "text": [
      "/Users/clawall/estudo/siads-699/.env/lib/python3.9/site-packages/arch/univariate/base.py:768: ConvergenceWarning: The optimizer returned code 4. The message is:\n",
      "Inequality constraints incompatible\n",
      "See scipy.optimize.fmin_slsqp for code meaning.\n",
      "\n",
      "  warnings.warn(\n"
     ]
    },
    {
     "name": "stdout",
     "output_type": "stream",
     "text": [
      "Evaluating stock ABNB...\n"
     ]
    },
    {
     "name": "stderr",
     "output_type": "stream",
     "text": [
      "/Users/clawall/estudo/siads-699/.env/lib/python3.9/site-packages/arch/univariate/base.py:768: ConvergenceWarning: The optimizer returned code 4. The message is:\n",
      "Inequality constraints incompatible\n",
      "See scipy.optimize.fmin_slsqp for code meaning.\n",
      "\n",
      "  warnings.warn(\n"
     ]
    },
    {
     "name": "stdout",
     "output_type": "stream",
     "text": [
      "Evaluating stock ADBE...\n"
     ]
    },
    {
     "name": "stderr",
     "output_type": "stream",
     "text": [
      "/Users/clawall/estudo/siads-699/.env/lib/python3.9/site-packages/arch/univariate/base.py:768: ConvergenceWarning: The optimizer returned code 4. The message is:\n",
      "Inequality constraints incompatible\n",
      "See scipy.optimize.fmin_slsqp for code meaning.\n",
      "\n",
      "  warnings.warn(\n"
     ]
    },
    {
     "name": "stdout",
     "output_type": "stream",
     "text": [
      "Evaluating stock AMC...\n"
     ]
    },
    {
     "name": "stderr",
     "output_type": "stream",
     "text": [
      "/Users/clawall/estudo/siads-699/.env/lib/python3.9/site-packages/arch/univariate/base.py:768: ConvergenceWarning: The optimizer returned code 4. The message is:\n",
      "Inequality constraints incompatible\n",
      "See scipy.optimize.fmin_slsqp for code meaning.\n",
      "\n",
      "  warnings.warn(\n"
     ]
    },
    {
     "name": "stdout",
     "output_type": "stream",
     "text": [
      "Evaluating stock AMD...\n"
     ]
    },
    {
     "name": "stderr",
     "output_type": "stream",
     "text": [
      "/Users/clawall/estudo/siads-699/.env/lib/python3.9/site-packages/arch/univariate/base.py:768: ConvergenceWarning: The optimizer returned code 4. The message is:\n",
      "Inequality constraints incompatible\n",
      "See scipy.optimize.fmin_slsqp for code meaning.\n",
      "\n",
      "  warnings.warn(\n"
     ]
    },
    {
     "name": "stdout",
     "output_type": "stream",
     "text": [
      "Evaluating stock AMZN...\n"
     ]
    },
    {
     "name": "stderr",
     "output_type": "stream",
     "text": [
      "/Users/clawall/estudo/siads-699/.env/lib/python3.9/site-packages/arch/univariate/base.py:768: ConvergenceWarning: The optimizer returned code 4. The message is:\n",
      "Inequality constraints incompatible\n",
      "See scipy.optimize.fmin_slsqp for code meaning.\n",
      "\n",
      "  warnings.warn(\n"
     ]
    },
    {
     "name": "stdout",
     "output_type": "stream",
     "text": [
      "Evaluating stock ATVI...\n"
     ]
    },
    {
     "name": "stderr",
     "output_type": "stream",
     "text": [
      "/Users/clawall/estudo/siads-699/.env/lib/python3.9/site-packages/arch/univariate/base.py:768: ConvergenceWarning: The optimizer returned code 4. The message is:\n",
      "Inequality constraints incompatible\n",
      "See scipy.optimize.fmin_slsqp for code meaning.\n",
      "\n",
      "  warnings.warn(\n"
     ]
    },
    {
     "name": "stdout",
     "output_type": "stream",
     "text": [
      "Evaluating stock BA...\n"
     ]
    },
    {
     "name": "stderr",
     "output_type": "stream",
     "text": [
      "/Users/clawall/estudo/siads-699/.env/lib/python3.9/site-packages/arch/univariate/base.py:768: ConvergenceWarning: The optimizer returned code 4. The message is:\n",
      "Inequality constraints incompatible\n",
      "See scipy.optimize.fmin_slsqp for code meaning.\n",
      "\n",
      "  warnings.warn(\n"
     ]
    },
    {
     "name": "stdout",
     "output_type": "stream",
     "text": [
      "Evaluating stock BAC...\n",
      "Evaluating stock BAH...\n"
     ]
    },
    {
     "name": "stderr",
     "output_type": "stream",
     "text": [
      "/Users/clawall/estudo/siads-699/.env/lib/python3.9/site-packages/arch/univariate/base.py:768: ConvergenceWarning: The optimizer returned code 4. The message is:\n",
      "Inequality constraints incompatible\n",
      "See scipy.optimize.fmin_slsqp for code meaning.\n",
      "\n",
      "  warnings.warn(\n"
     ]
    },
    {
     "name": "stdout",
     "output_type": "stream",
     "text": [
      "Evaluating stock BYND...\n"
     ]
    },
    {
     "name": "stderr",
     "output_type": "stream",
     "text": [
      "/Users/clawall/estudo/siads-699/.env/lib/python3.9/site-packages/arch/univariate/base.py:768: ConvergenceWarning: The optimizer returned code 4. The message is:\n",
      "Inequality constraints incompatible\n",
      "See scipy.optimize.fmin_slsqp for code meaning.\n",
      "\n",
      "  warnings.warn(\n"
     ]
    },
    {
     "name": "stdout",
     "output_type": "stream",
     "text": [
      "Evaluating stock C...\n"
     ]
    },
    {
     "name": "stderr",
     "output_type": "stream",
     "text": [
      "/Users/clawall/estudo/siads-699/.env/lib/python3.9/site-packages/arch/univariate/base.py:768: ConvergenceWarning: The optimizer returned code 4. The message is:\n",
      "Inequality constraints incompatible\n",
      "See scipy.optimize.fmin_slsqp for code meaning.\n",
      "\n",
      "  warnings.warn(\n"
     ]
    },
    {
     "name": "stdout",
     "output_type": "stream",
     "text": [
      "Evaluating stock CAT...\n"
     ]
    },
    {
     "name": "stderr",
     "output_type": "stream",
     "text": [
      "/Users/clawall/estudo/siads-699/.env/lib/python3.9/site-packages/arch/univariate/base.py:768: ConvergenceWarning: The optimizer returned code 4. The message is:\n",
      "Inequality constraints incompatible\n",
      "See scipy.optimize.fmin_slsqp for code meaning.\n",
      "\n",
      "  warnings.warn(\n"
     ]
    },
    {
     "name": "stdout",
     "output_type": "stream",
     "text": [
      "Evaluating stock COIN...\n",
      "Evaluating stock CVX...\n"
     ]
    },
    {
     "name": "stderr",
     "output_type": "stream",
     "text": [
      "/Users/clawall/estudo/siads-699/.env/lib/python3.9/site-packages/arch/univariate/base.py:768: ConvergenceWarning: The optimizer returned code 4. The message is:\n",
      "Inequality constraints incompatible\n",
      "See scipy.optimize.fmin_slsqp for code meaning.\n",
      "\n",
      "  warnings.warn(\n"
     ]
    },
    {
     "name": "stdout",
     "output_type": "stream",
     "text": [
      "Evaluating stock DAL...\n"
     ]
    },
    {
     "name": "stderr",
     "output_type": "stream",
     "text": [
      "/Users/clawall/estudo/siads-699/.env/lib/python3.9/site-packages/arch/univariate/base.py:768: ConvergenceWarning: The optimizer returned code 4. The message is:\n",
      "Inequality constraints incompatible\n",
      "See scipy.optimize.fmin_slsqp for code meaning.\n",
      "\n",
      "  warnings.warn(\n"
     ]
    },
    {
     "name": "stdout",
     "output_type": "stream",
     "text": [
      "Evaluating stock DELL...\n"
     ]
    },
    {
     "name": "stderr",
     "output_type": "stream",
     "text": [
      "/Users/clawall/estudo/siads-699/.env/lib/python3.9/site-packages/arch/univariate/base.py:768: ConvergenceWarning: The optimizer returned code 4. The message is:\n",
      "Inequality constraints incompatible\n",
      "See scipy.optimize.fmin_slsqp for code meaning.\n",
      "\n",
      "  warnings.warn(\n"
     ]
    },
    {
     "name": "stdout",
     "output_type": "stream",
     "text": [
      "Evaluating stock DIS...\n"
     ]
    },
    {
     "name": "stderr",
     "output_type": "stream",
     "text": [
      "/Users/clawall/estudo/siads-699/.env/lib/python3.9/site-packages/arch/univariate/base.py:768: ConvergenceWarning: The optimizer returned code 4. The message is:\n",
      "Inequality constraints incompatible\n",
      "See scipy.optimize.fmin_slsqp for code meaning.\n",
      "\n",
      "  warnings.warn(\n"
     ]
    },
    {
     "name": "stdout",
     "output_type": "stream",
     "text": [
      "Evaluating stock DWAC...\n",
      "Evaluating stock F...\n"
     ]
    },
    {
     "name": "stderr",
     "output_type": "stream",
     "text": [
      "/Users/clawall/estudo/siads-699/.env/lib/python3.9/site-packages/arch/univariate/base.py:768: ConvergenceWarning: The optimizer returned code 4. The message is:\n",
      "Inequality constraints incompatible\n",
      "See scipy.optimize.fmin_slsqp for code meaning.\n",
      "\n",
      "  warnings.warn(\n"
     ]
    },
    {
     "name": "stdout",
     "output_type": "stream",
     "text": [
      "Evaluating stock FOX...\n"
     ]
    },
    {
     "name": "stderr",
     "output_type": "stream",
     "text": [
      "/Users/clawall/estudo/siads-699/.env/lib/python3.9/site-packages/arch/univariate/base.py:768: ConvergenceWarning: The optimizer returned code 4. The message is:\n",
      "Inequality constraints incompatible\n",
      "See scipy.optimize.fmin_slsqp for code meaning.\n",
      "\n",
      "  warnings.warn(\n"
     ]
    },
    {
     "name": "stdout",
     "output_type": "stream",
     "text": [
      "Evaluating stock GE...\n"
     ]
    },
    {
     "name": "stderr",
     "output_type": "stream",
     "text": [
      "/Users/clawall/estudo/siads-699/.env/lib/python3.9/site-packages/arch/univariate/base.py:768: ConvergenceWarning: The optimizer returned code 4. The message is:\n",
      "Inequality constraints incompatible\n",
      "See scipy.optimize.fmin_slsqp for code meaning.\n",
      "\n",
      "  warnings.warn(\n"
     ]
    },
    {
     "name": "stdout",
     "output_type": "stream",
     "text": [
      "Evaluating stock GM...\n"
     ]
    },
    {
     "name": "stderr",
     "output_type": "stream",
     "text": [
      "/Users/clawall/estudo/siads-699/.env/lib/python3.9/site-packages/arch/univariate/base.py:768: ConvergenceWarning: The optimizer returned code 4. The message is:\n",
      "Inequality constraints incompatible\n",
      "See scipy.optimize.fmin_slsqp for code meaning.\n",
      "\n",
      "  warnings.warn(\n"
     ]
    },
    {
     "name": "stdout",
     "output_type": "stream",
     "text": [
      "Evaluating stock GME...\n"
     ]
    },
    {
     "name": "stderr",
     "output_type": "stream",
     "text": [
      "/Users/clawall/estudo/siads-699/.env/lib/python3.9/site-packages/arch/univariate/base.py:768: ConvergenceWarning: The optimizer returned code 4. The message is:\n",
      "Inequality constraints incompatible\n",
      "See scipy.optimize.fmin_slsqp for code meaning.\n",
      "\n",
      "  warnings.warn(\n"
     ]
    },
    {
     "name": "stdout",
     "output_type": "stream",
     "text": [
      "Evaluating stock GS...\n"
     ]
    },
    {
     "name": "stderr",
     "output_type": "stream",
     "text": [
      "/Users/clawall/estudo/siads-699/.env/lib/python3.9/site-packages/arch/univariate/base.py:768: ConvergenceWarning: The optimizer returned code 4. The message is:\n",
      "Inequality constraints incompatible\n",
      "See scipy.optimize.fmin_slsqp for code meaning.\n",
      "\n",
      "  warnings.warn(\n"
     ]
    },
    {
     "name": "stdout",
     "output_type": "stream",
     "text": [
      "Evaluating stock HD...\n"
     ]
    },
    {
     "name": "stderr",
     "output_type": "stream",
     "text": [
      "/Users/clawall/estudo/siads-699/.env/lib/python3.9/site-packages/arch/univariate/base.py:768: ConvergenceWarning: The optimizer returned code 4. The message is:\n",
      "Inequality constraints incompatible\n",
      "See scipy.optimize.fmin_slsqp for code meaning.\n",
      "\n",
      "  warnings.warn(\n"
     ]
    },
    {
     "name": "stdout",
     "output_type": "stream",
     "text": [
      "Evaluating stock JNJ...\n"
     ]
    },
    {
     "name": "stderr",
     "output_type": "stream",
     "text": [
      "/Users/clawall/estudo/siads-699/.env/lib/python3.9/site-packages/arch/univariate/base.py:768: ConvergenceWarning: The optimizer returned code 4. The message is:\n",
      "Inequality constraints incompatible\n",
      "See scipy.optimize.fmin_slsqp for code meaning.\n",
      "\n",
      "  warnings.warn(\n"
     ]
    },
    {
     "name": "stdout",
     "output_type": "stream",
     "text": [
      "Evaluating stock JPM...\n"
     ]
    },
    {
     "name": "stderr",
     "output_type": "stream",
     "text": [
      "/Users/clawall/estudo/siads-699/.env/lib/python3.9/site-packages/arch/univariate/base.py:768: ConvergenceWarning: The optimizer returned code 4. The message is:\n",
      "Inequality constraints incompatible\n",
      "See scipy.optimize.fmin_slsqp for code meaning.\n",
      "\n",
      "  warnings.warn(\n"
     ]
    },
    {
     "name": "stdout",
     "output_type": "stream",
     "text": [
      "Evaluating stock KO...\n"
     ]
    },
    {
     "name": "stderr",
     "output_type": "stream",
     "text": [
      "/Users/clawall/estudo/siads-699/.env/lib/python3.9/site-packages/arch/univariate/base.py:768: ConvergenceWarning: The optimizer returned code 4. The message is:\n",
      "Inequality constraints incompatible\n",
      "See scipy.optimize.fmin_slsqp for code meaning.\n",
      "\n",
      "  warnings.warn(\n"
     ]
    },
    {
     "name": "stdout",
     "output_type": "stream",
     "text": [
      "Evaluating stock LDOS...\n"
     ]
    },
    {
     "name": "stderr",
     "output_type": "stream",
     "text": [
      "/Users/clawall/estudo/siads-699/.env/lib/python3.9/site-packages/arch/univariate/base.py:768: ConvergenceWarning: The optimizer returned code 4. The message is:\n",
      "Inequality constraints incompatible\n",
      "See scipy.optimize.fmin_slsqp for code meaning.\n",
      "\n",
      "  warnings.warn(\n"
     ]
    },
    {
     "name": "stdout",
     "output_type": "stream",
     "text": [
      "Evaluating stock LMT...\n"
     ]
    },
    {
     "name": "stderr",
     "output_type": "stream",
     "text": [
      "/Users/clawall/estudo/siads-699/.env/lib/python3.9/site-packages/arch/univariate/base.py:768: ConvergenceWarning: The optimizer returned code 4. The message is:\n",
      "Inequality constraints incompatible\n",
      "See scipy.optimize.fmin_slsqp for code meaning.\n",
      "\n",
      "  warnings.warn(\n"
     ]
    },
    {
     "name": "stdout",
     "output_type": "stream",
     "text": [
      "Evaluating stock LVS...\n"
     ]
    },
    {
     "name": "stderr",
     "output_type": "stream",
     "text": [
      "/Users/clawall/estudo/siads-699/.env/lib/python3.9/site-packages/arch/univariate/base.py:768: ConvergenceWarning: The optimizer returned code 4. The message is:\n",
      "Inequality constraints incompatible\n",
      "See scipy.optimize.fmin_slsqp for code meaning.\n",
      "\n",
      "  warnings.warn(\n"
     ]
    },
    {
     "name": "stdout",
     "output_type": "stream",
     "text": [
      "Evaluating stock MGM...\n"
     ]
    },
    {
     "name": "stderr",
     "output_type": "stream",
     "text": [
      "/Users/clawall/estudo/siads-699/.env/lib/python3.9/site-packages/arch/univariate/base.py:768: ConvergenceWarning: The optimizer returned code 4. The message is:\n",
      "Inequality constraints incompatible\n",
      "See scipy.optimize.fmin_slsqp for code meaning.\n",
      "\n",
      "  warnings.warn(\n"
     ]
    },
    {
     "name": "stdout",
     "output_type": "stream",
     "text": [
      "Evaluating stock MMS...\n"
     ]
    },
    {
     "name": "stderr",
     "output_type": "stream",
     "text": [
      "/Users/clawall/estudo/siads-699/.env/lib/python3.9/site-packages/arch/univariate/base.py:768: ConvergenceWarning: The optimizer returned code 4. The message is:\n",
      "Inequality constraints incompatible\n",
      "See scipy.optimize.fmin_slsqp for code meaning.\n",
      "\n",
      "  warnings.warn(\n"
     ]
    },
    {
     "name": "stdout",
     "output_type": "stream",
     "text": [
      "Evaluating stock MRNA...\n"
     ]
    },
    {
     "name": "stderr",
     "output_type": "stream",
     "text": [
      "/Users/clawall/estudo/siads-699/.env/lib/python3.9/site-packages/arch/univariate/base.py:768: ConvergenceWarning: The optimizer returned code 4. The message is:\n",
      "Inequality constraints incompatible\n",
      "See scipy.optimize.fmin_slsqp for code meaning.\n",
      "\n",
      "  warnings.warn(\n"
     ]
    },
    {
     "name": "stdout",
     "output_type": "stream",
     "text": [
      "Evaluating stock MSFT...\n"
     ]
    },
    {
     "name": "stderr",
     "output_type": "stream",
     "text": [
      "/Users/clawall/estudo/siads-699/.env/lib/python3.9/site-packages/arch/univariate/base.py:768: ConvergenceWarning: The optimizer returned code 4. The message is:\n",
      "Inequality constraints incompatible\n",
      "See scipy.optimize.fmin_slsqp for code meaning.\n",
      "\n",
      "  warnings.warn(\n"
     ]
    },
    {
     "name": "stdout",
     "output_type": "stream",
     "text": [
      "Evaluating stock MSTR...\n"
     ]
    },
    {
     "name": "stderr",
     "output_type": "stream",
     "text": [
      "/Users/clawall/estudo/siads-699/.env/lib/python3.9/site-packages/arch/univariate/base.py:768: ConvergenceWarning: The optimizer returned code 4. The message is:\n",
      "Inequality constraints incompatible\n",
      "See scipy.optimize.fmin_slsqp for code meaning.\n",
      "\n",
      "  warnings.warn(\n"
     ]
    },
    {
     "name": "stdout",
     "output_type": "stream",
     "text": [
      "Evaluating stock NFLX...\n"
     ]
    },
    {
     "name": "stderr",
     "output_type": "stream",
     "text": [
      "/Users/clawall/estudo/siads-699/.env/lib/python3.9/site-packages/arch/univariate/base.py:768: ConvergenceWarning: The optimizer returned code 4. The message is:\n",
      "Inequality constraints incompatible\n",
      "See scipy.optimize.fmin_slsqp for code meaning.\n",
      "\n",
      "  warnings.warn(\n"
     ]
    },
    {
     "name": "stdout",
     "output_type": "stream",
     "text": [
      "Evaluating stock NIO...\n"
     ]
    },
    {
     "name": "stderr",
     "output_type": "stream",
     "text": [
      "/Users/clawall/estudo/siads-699/.env/lib/python3.9/site-packages/arch/univariate/base.py:768: ConvergenceWarning: The optimizer returned code 4. The message is:\n",
      "Inequality constraints incompatible\n",
      "See scipy.optimize.fmin_slsqp for code meaning.\n",
      "\n",
      "  warnings.warn(\n"
     ]
    },
    {
     "name": "stdout",
     "output_type": "stream",
     "text": [
      "Evaluating stock NKE...\n"
     ]
    },
    {
     "name": "stderr",
     "output_type": "stream",
     "text": [
      "/Users/clawall/estudo/siads-699/.env/lib/python3.9/site-packages/arch/univariate/base.py:768: ConvergenceWarning: The optimizer returned code 4. The message is:\n",
      "Inequality constraints incompatible\n",
      "See scipy.optimize.fmin_slsqp for code meaning.\n",
      "\n",
      "  warnings.warn(\n"
     ]
    },
    {
     "name": "stdout",
     "output_type": "stream",
     "text": [
      "Evaluating stock NOC...\n"
     ]
    },
    {
     "name": "stderr",
     "output_type": "stream",
     "text": [
      "/Users/clawall/estudo/siads-699/.env/lib/python3.9/site-packages/arch/univariate/base.py:768: ConvergenceWarning: The optimizer returned code 4. The message is:\n",
      "Inequality constraints incompatible\n",
      "See scipy.optimize.fmin_slsqp for code meaning.\n",
      "\n",
      "  warnings.warn(\n"
     ]
    },
    {
     "name": "stdout",
     "output_type": "stream",
     "text": [
      "Evaluating stock NOK...\n"
     ]
    },
    {
     "name": "stderr",
     "output_type": "stream",
     "text": [
      "/Users/clawall/estudo/siads-699/.env/lib/python3.9/site-packages/arch/univariate/base.py:768: ConvergenceWarning: The optimizer returned code 4. The message is:\n",
      "Inequality constraints incompatible\n",
      "See scipy.optimize.fmin_slsqp for code meaning.\n",
      "\n",
      "  warnings.warn(\n"
     ]
    },
    {
     "name": "stdout",
     "output_type": "stream",
     "text": [
      "Evaluating stock NVAX...\n"
     ]
    },
    {
     "name": "stderr",
     "output_type": "stream",
     "text": [
      "/Users/clawall/estudo/siads-699/.env/lib/python3.9/site-packages/arch/univariate/base.py:768: ConvergenceWarning: The optimizer returned code 4. The message is:\n",
      "Inequality constraints incompatible\n",
      "See scipy.optimize.fmin_slsqp for code meaning.\n",
      "\n",
      "  warnings.warn(\n"
     ]
    },
    {
     "name": "stdout",
     "output_type": "stream",
     "text": [
      "Evaluating stock NVDA...\n"
     ]
    },
    {
     "name": "stderr",
     "output_type": "stream",
     "text": [
      "/Users/clawall/estudo/siads-699/.env/lib/python3.9/site-packages/arch/univariate/base.py:768: ConvergenceWarning: The optimizer returned code 4. The message is:\n",
      "Inequality constraints incompatible\n",
      "See scipy.optimize.fmin_slsqp for code meaning.\n",
      "\n",
      "  warnings.warn(\n"
     ]
    },
    {
     "name": "stdout",
     "output_type": "stream",
     "text": [
      "Evaluating stock PEP...\n"
     ]
    },
    {
     "name": "stderr",
     "output_type": "stream",
     "text": [
      "/Users/clawall/estudo/siads-699/.env/lib/python3.9/site-packages/arch/univariate/base.py:768: ConvergenceWarning: The optimizer returned code 4. The message is:\n",
      "Inequality constraints incompatible\n",
      "See scipy.optimize.fmin_slsqp for code meaning.\n",
      "\n",
      "  warnings.warn(\n"
     ]
    },
    {
     "name": "stdout",
     "output_type": "stream",
     "text": [
      "Evaluating stock PFE...\n"
     ]
    },
    {
     "name": "stderr",
     "output_type": "stream",
     "text": [
      "/Users/clawall/estudo/siads-699/.env/lib/python3.9/site-packages/arch/univariate/base.py:768: ConvergenceWarning: The optimizer returned code 4. The message is:\n",
      "Inequality constraints incompatible\n",
      "See scipy.optimize.fmin_slsqp for code meaning.\n",
      "\n",
      "  warnings.warn(\n"
     ]
    },
    {
     "name": "stdout",
     "output_type": "stream",
     "text": [
      "Evaluating stock PINS...\n"
     ]
    },
    {
     "name": "stderr",
     "output_type": "stream",
     "text": [
      "/Users/clawall/estudo/siads-699/.env/lib/python3.9/site-packages/arch/univariate/base.py:768: ConvergenceWarning: The optimizer returned code 4. The message is:\n",
      "Inequality constraints incompatible\n",
      "See scipy.optimize.fmin_slsqp for code meaning.\n",
      "\n",
      "  warnings.warn(\n"
     ]
    },
    {
     "name": "stdout",
     "output_type": "stream",
     "text": [
      "Evaluating stock PLTR...\n"
     ]
    },
    {
     "name": "stderr",
     "output_type": "stream",
     "text": [
      "/Users/clawall/estudo/siads-699/.env/lib/python3.9/site-packages/arch/univariate/base.py:768: ConvergenceWarning: The optimizer returned code 4. The message is:\n",
      "Inequality constraints incompatible\n",
      "See scipy.optimize.fmin_slsqp for code meaning.\n",
      "\n",
      "  warnings.warn(\n"
     ]
    },
    {
     "name": "stdout",
     "output_type": "stream",
     "text": [
      "Evaluating stock PYPL...\n"
     ]
    },
    {
     "name": "stderr",
     "output_type": "stream",
     "text": [
      "/Users/clawall/estudo/siads-699/.env/lib/python3.9/site-packages/arch/univariate/base.py:768: ConvergenceWarning: The optimizer returned code 4. The message is:\n",
      "Inequality constraints incompatible\n",
      "See scipy.optimize.fmin_slsqp for code meaning.\n",
      "\n",
      "  warnings.warn(\n"
     ]
    },
    {
     "name": "stdout",
     "output_type": "stream",
     "text": [
      "Evaluating stock SHOP...\n"
     ]
    },
    {
     "name": "stderr",
     "output_type": "stream",
     "text": [
      "/Users/clawall/estudo/siads-699/.env/lib/python3.9/site-packages/arch/univariate/base.py:768: ConvergenceWarning: The optimizer returned code 4. The message is:\n",
      "Inequality constraints incompatible\n",
      "See scipy.optimize.fmin_slsqp for code meaning.\n",
      "\n",
      "  warnings.warn(\n"
     ]
    },
    {
     "name": "stdout",
     "output_type": "stream",
     "text": [
      "Evaluating stock SNAP...\n"
     ]
    },
    {
     "name": "stderr",
     "output_type": "stream",
     "text": [
      "/Users/clawall/estudo/siads-699/.env/lib/python3.9/site-packages/arch/univariate/base.py:768: ConvergenceWarning: The optimizer returned code 4. The message is:\n",
      "Inequality constraints incompatible\n",
      "See scipy.optimize.fmin_slsqp for code meaning.\n",
      "\n",
      "  warnings.warn(\n"
     ]
    },
    {
     "name": "stdout",
     "output_type": "stream",
     "text": [
      "Evaluating stock SPCE...\n"
     ]
    },
    {
     "name": "stderr",
     "output_type": "stream",
     "text": [
      "/Users/clawall/estudo/siads-699/.env/lib/python3.9/site-packages/arch/univariate/base.py:768: ConvergenceWarning: The optimizer returned code 4. The message is:\n",
      "Inequality constraints incompatible\n",
      "See scipy.optimize.fmin_slsqp for code meaning.\n",
      "\n",
      "  warnings.warn(\n"
     ]
    },
    {
     "name": "stdout",
     "output_type": "stream",
     "text": [
      "Evaluating stock SPOT...\n"
     ]
    },
    {
     "name": "stderr",
     "output_type": "stream",
     "text": [
      "/Users/clawall/estudo/siads-699/.env/lib/python3.9/site-packages/arch/univariate/base.py:768: ConvergenceWarning: The optimizer returned code 4. The message is:\n",
      "Inequality constraints incompatible\n",
      "See scipy.optimize.fmin_slsqp for code meaning.\n",
      "\n",
      "  warnings.warn(\n"
     ]
    },
    {
     "name": "stdout",
     "output_type": "stream",
     "text": [
      "Evaluating stock SQ...\n"
     ]
    },
    {
     "name": "stderr",
     "output_type": "stream",
     "text": [
      "/Users/clawall/estudo/siads-699/.env/lib/python3.9/site-packages/arch/univariate/base.py:768: ConvergenceWarning: The optimizer returned code 4. The message is:\n",
      "Inequality constraints incompatible\n",
      "See scipy.optimize.fmin_slsqp for code meaning.\n",
      "\n",
      "  warnings.warn(\n"
     ]
    },
    {
     "name": "stdout",
     "output_type": "stream",
     "text": [
      "Evaluating stock TGT...\n"
     ]
    },
    {
     "name": "stderr",
     "output_type": "stream",
     "text": [
      "/Users/clawall/estudo/siads-699/.env/lib/python3.9/site-packages/arch/univariate/base.py:768: ConvergenceWarning: The optimizer returned code 4. The message is:\n",
      "Inequality constraints incompatible\n",
      "See scipy.optimize.fmin_slsqp for code meaning.\n",
      "\n",
      "  warnings.warn(\n"
     ]
    },
    {
     "name": "stdout",
     "output_type": "stream",
     "text": [
      "Evaluating stock TSLA...\n"
     ]
    },
    {
     "name": "stderr",
     "output_type": "stream",
     "text": [
      "/Users/clawall/estudo/siads-699/.env/lib/python3.9/site-packages/arch/univariate/base.py:768: ConvergenceWarning: The optimizer returned code 4. The message is:\n",
      "Inequality constraints incompatible\n",
      "See scipy.optimize.fmin_slsqp for code meaning.\n",
      "\n",
      "  warnings.warn(\n"
     ]
    },
    {
     "name": "stdout",
     "output_type": "stream",
     "text": [
      "Evaluating stock TSM...\n"
     ]
    },
    {
     "name": "stderr",
     "output_type": "stream",
     "text": [
      "/Users/clawall/estudo/siads-699/.env/lib/python3.9/site-packages/arch/univariate/base.py:768: ConvergenceWarning: The optimizer returned code 4. The message is:\n",
      "Inequality constraints incompatible\n",
      "See scipy.optimize.fmin_slsqp for code meaning.\n",
      "\n",
      "  warnings.warn(\n"
     ]
    },
    {
     "name": "stdout",
     "output_type": "stream",
     "text": [
      "Evaluating stock TTWO...\n"
     ]
    },
    {
     "name": "stderr",
     "output_type": "stream",
     "text": [
      "/Users/clawall/estudo/siads-699/.env/lib/python3.9/site-packages/arch/univariate/base.py:768: ConvergenceWarning: The optimizer returned code 4. The message is:\n",
      "Inequality constraints incompatible\n",
      "See scipy.optimize.fmin_slsqp for code meaning.\n",
      "\n",
      "  warnings.warn(\n"
     ]
    },
    {
     "name": "stdout",
     "output_type": "stream",
     "text": [
      "Evaluating stock TWTR...\n"
     ]
    },
    {
     "name": "stderr",
     "output_type": "stream",
     "text": [
      "/Users/clawall/estudo/siads-699/.env/lib/python3.9/site-packages/arch/univariate/base.py:768: ConvergenceWarning: The optimizer returned code 4. The message is:\n",
      "Inequality constraints incompatible\n",
      "See scipy.optimize.fmin_slsqp for code meaning.\n",
      "\n",
      "  warnings.warn(\n"
     ]
    },
    {
     "name": "stdout",
     "output_type": "stream",
     "text": [
      "Evaluating stock WFC...\n",
      "Evaluating stock WKHS...\n"
     ]
    },
    {
     "name": "stderr",
     "output_type": "stream",
     "text": [
      "/Users/clawall/estudo/siads-699/.env/lib/python3.9/site-packages/arch/univariate/base.py:768: ConvergenceWarning: The optimizer returned code 4. The message is:\n",
      "Inequality constraints incompatible\n",
      "See scipy.optimize.fmin_slsqp for code meaning.\n",
      "\n",
      "  warnings.warn(\n"
     ]
    },
    {
     "name": "stdout",
     "output_type": "stream",
     "text": [
      "Evaluating stock WMT...\n"
     ]
    },
    {
     "name": "stderr",
     "output_type": "stream",
     "text": [
      "/Users/clawall/estudo/siads-699/.env/lib/python3.9/site-packages/arch/univariate/base.py:768: ConvergenceWarning: The optimizer returned code 4. The message is:\n",
      "Inequality constraints incompatible\n",
      "See scipy.optimize.fmin_slsqp for code meaning.\n",
      "\n",
      "  warnings.warn(\n"
     ]
    },
    {
     "name": "stdout",
     "output_type": "stream",
     "text": [
      "Evaluating stock WYNN...\n"
     ]
    },
    {
     "name": "stderr",
     "output_type": "stream",
     "text": [
      "/Users/clawall/estudo/siads-699/.env/lib/python3.9/site-packages/arch/univariate/base.py:768: ConvergenceWarning: The optimizer returned code 4. The message is:\n",
      "Inequality constraints incompatible\n",
      "See scipy.optimize.fmin_slsqp for code meaning.\n",
      "\n",
      "  warnings.warn(\n"
     ]
    },
    {
     "name": "stdout",
     "output_type": "stream",
     "text": [
      "Evaluating stock XOM...\n"
     ]
    },
    {
     "name": "stderr",
     "output_type": "stream",
     "text": [
      "/Users/clawall/estudo/siads-699/.env/lib/python3.9/site-packages/arch/univariate/base.py:768: ConvergenceWarning: The optimizer returned code 4. The message is:\n",
      "Inequality constraints incompatible\n",
      "See scipy.optimize.fmin_slsqp for code meaning.\n",
      "\n",
      "  warnings.warn(\n"
     ]
    },
    {
     "name": "stdout",
     "output_type": "stream",
     "text": [
      "Evaluating stock ZM...\n"
     ]
    },
    {
     "name": "stderr",
     "output_type": "stream",
     "text": [
      "/Users/clawall/estudo/siads-699/.env/lib/python3.9/site-packages/arch/univariate/base.py:768: ConvergenceWarning: The optimizer returned code 4. The message is:\n",
      "Inequality constraints incompatible\n",
      "See scipy.optimize.fmin_slsqp for code meaning.\n",
      "\n",
      "  warnings.warn(\n"
     ]
    },
    {
     "data": {
      "text/html": [
       "<div>\n",
       "<style scoped>\n",
       "    .dataframe tbody tr th:only-of-type {\n",
       "        vertical-align: middle;\n",
       "    }\n",
       "\n",
       "    .dataframe tbody tr th {\n",
       "        vertical-align: top;\n",
       "    }\n",
       "\n",
       "    .dataframe thead th {\n",
       "        text-align: right;\n",
       "    }\n",
       "</style>\n",
       "<table border=\"1\" class=\"dataframe\">\n",
       "  <thead>\n",
       "    <tr style=\"text-align: right;\">\n",
       "      <th></th>\n",
       "      <th>handle</th>\n",
       "      <th>tweet_id</th>\n",
       "      <th>ticker</th>\n",
       "      <th>gamma</th>\n",
       "      <th>pvalue</th>\n",
       "    </tr>\n",
       "  </thead>\n",
       "  <tbody>\n",
       "    <tr>\n",
       "      <th>1174</th>\n",
       "      <td>richardbranson</td>\n",
       "      <td>1009013331603152896</td>\n",
       "      <td>SHOP</td>\n",
       "      <td>252.310519</td>\n",
       "      <td>0.000000e+00</td>\n",
       "    </tr>\n",
       "    <tr>\n",
       "      <th>858</th>\n",
       "      <td>elonmusk</td>\n",
       "      <td>1158963624418746369</td>\n",
       "      <td>MSFT</td>\n",
       "      <td>118.901431</td>\n",
       "      <td>0.000000e+00</td>\n",
       "    </tr>\n",
       "    <tr>\n",
       "      <th>1173</th>\n",
       "      <td>richardbranson</td>\n",
       "      <td>1009057004554420224</td>\n",
       "      <td>SHOP</td>\n",
       "      <td>252.310519</td>\n",
       "      <td>0.000000e+00</td>\n",
       "    </tr>\n",
       "    <tr>\n",
       "      <th>1152</th>\n",
       "      <td>elonmusk</td>\n",
       "      <td>1124484529274494977</td>\n",
       "      <td>SHOP</td>\n",
       "      <td>258.057920</td>\n",
       "      <td>0.000000e+00</td>\n",
       "    </tr>\n",
       "    <tr>\n",
       "      <th>1097</th>\n",
       "      <td>realDonaldTrump</td>\n",
       "      <td>1325173848396898305</td>\n",
       "      <td>SHOP</td>\n",
       "      <td>276.944257</td>\n",
       "      <td>0.000000e+00</td>\n",
       "    </tr>\n",
       "    <tr>\n",
       "      <th>1403</th>\n",
       "      <td>richardbranson</td>\n",
       "      <td>1174626364500119554</td>\n",
       "      <td>WYNN</td>\n",
       "      <td>251.539964</td>\n",
       "      <td>0.000000e+00</td>\n",
       "    </tr>\n",
       "    <tr>\n",
       "      <th>874</th>\n",
       "      <td>elonmusk</td>\n",
       "      <td>1124484529274494977</td>\n",
       "      <td>MSFT</td>\n",
       "      <td>132.003911</td>\n",
       "      <td>0.000000e+00</td>\n",
       "    </tr>\n",
       "    <tr>\n",
       "      <th>995</th>\n",
       "      <td>realDonaldTrump</td>\n",
       "      <td>1161441560153743366</td>\n",
       "      <td>PINS</td>\n",
       "      <td>144.079196</td>\n",
       "      <td>0.000000e+00</td>\n",
       "    </tr>\n",
       "    <tr>\n",
       "      <th>1425</th>\n",
       "      <td>elonmusk</td>\n",
       "      <td>1131393271400259584</td>\n",
       "      <td>XOM</td>\n",
       "      <td>124.511086</td>\n",
       "      <td>0.000000e+00</td>\n",
       "    </tr>\n",
       "    <tr>\n",
       "      <th>938</th>\n",
       "      <td>realDonaldTrump</td>\n",
       "      <td>952183452366929920</td>\n",
       "      <td>NIO</td>\n",
       "      <td>257.486599</td>\n",
       "      <td>0.000000e+00</td>\n",
       "    </tr>\n",
       "    <tr>\n",
       "      <th>1175</th>\n",
       "      <td>richardbranson</td>\n",
       "      <td>1008844336111472640</td>\n",
       "      <td>SHOP</td>\n",
       "      <td>252.310519</td>\n",
       "      <td>0.000000e+00</td>\n",
       "    </tr>\n",
       "    <tr>\n",
       "      <th>956</th>\n",
       "      <td>elonmusk</td>\n",
       "      <td>943866038281633794</td>\n",
       "      <td>NIO</td>\n",
       "      <td>257.486599</td>\n",
       "      <td>0.000000e+00</td>\n",
       "    </tr>\n",
       "    <tr>\n",
       "      <th>955</th>\n",
       "      <td>elonmusk</td>\n",
       "      <td>999352110645886976</td>\n",
       "      <td>NIO</td>\n",
       "      <td>257.486599</td>\n",
       "      <td>0.000000e+00</td>\n",
       "    </tr>\n",
       "    <tr>\n",
       "      <th>402</th>\n",
       "      <td>richardbranson</td>\n",
       "      <td>1335873162907701253</td>\n",
       "      <td>DAL</td>\n",
       "      <td>122.766647</td>\n",
       "      <td>5.499669e-162</td>\n",
       "    </tr>\n",
       "    <tr>\n",
       "      <th>1125</th>\n",
       "      <td>elonmusk</td>\n",
       "      <td>1270212554166394880</td>\n",
       "      <td>SHOP</td>\n",
       "      <td>153.406789</td>\n",
       "      <td>3.292827e-160</td>\n",
       "    </tr>\n",
       "    <tr>\n",
       "      <th>892</th>\n",
       "      <td>richardbranson</td>\n",
       "      <td>1134446680680599552</td>\n",
       "      <td>MSFT</td>\n",
       "      <td>77.882463</td>\n",
       "      <td>1.200904e-144</td>\n",
       "    </tr>\n",
       "    <tr>\n",
       "      <th>776</th>\n",
       "      <td>realDonaldTrump</td>\n",
       "      <td>1167767578854473728</td>\n",
       "      <td>LVS</td>\n",
       "      <td>132.255322</td>\n",
       "      <td>1.047288e-130</td>\n",
       "    </tr>\n",
       "    <tr>\n",
       "      <th>873</th>\n",
       "      <td>elonmusk</td>\n",
       "      <td>1127276637366640640</td>\n",
       "      <td>MSFT</td>\n",
       "      <td>69.056860</td>\n",
       "      <td>3.859427e-114</td>\n",
       "    </tr>\n",
       "    <tr>\n",
       "      <th>872</th>\n",
       "      <td>elonmusk</td>\n",
       "      <td>1127276856476987392</td>\n",
       "      <td>MSFT</td>\n",
       "      <td>69.056860</td>\n",
       "      <td>3.859427e-114</td>\n",
       "    </tr>\n",
       "    <tr>\n",
       "      <th>1288</th>\n",
       "      <td>elonmusk</td>\n",
       "      <td>949073163475931138</td>\n",
       "      <td>SNAP</td>\n",
       "      <td>125.150766</td>\n",
       "      <td>3.950915e-113</td>\n",
       "    </tr>\n",
       "  </tbody>\n",
       "</table>\n",
       "</div>"
      ],
      "text/plain": [
       "               handle             tweet_id ticker       gamma         pvalue\n",
       "1174   richardbranson  1009013331603152896   SHOP  252.310519   0.000000e+00\n",
       "858          elonmusk  1158963624418746369   MSFT  118.901431   0.000000e+00\n",
       "1173   richardbranson  1009057004554420224   SHOP  252.310519   0.000000e+00\n",
       "1152         elonmusk  1124484529274494977   SHOP  258.057920   0.000000e+00\n",
       "1097  realDonaldTrump  1325173848396898305   SHOP  276.944257   0.000000e+00\n",
       "1403   richardbranson  1174626364500119554   WYNN  251.539964   0.000000e+00\n",
       "874          elonmusk  1124484529274494977   MSFT  132.003911   0.000000e+00\n",
       "995   realDonaldTrump  1161441560153743366   PINS  144.079196   0.000000e+00\n",
       "1425         elonmusk  1131393271400259584    XOM  124.511086   0.000000e+00\n",
       "938   realDonaldTrump   952183452366929920    NIO  257.486599   0.000000e+00\n",
       "1175   richardbranson  1008844336111472640   SHOP  252.310519   0.000000e+00\n",
       "956          elonmusk   943866038281633794    NIO  257.486599   0.000000e+00\n",
       "955          elonmusk   999352110645886976    NIO  257.486599   0.000000e+00\n",
       "402    richardbranson  1335873162907701253    DAL  122.766647  5.499669e-162\n",
       "1125         elonmusk  1270212554166394880   SHOP  153.406789  3.292827e-160\n",
       "892    richardbranson  1134446680680599552   MSFT   77.882463  1.200904e-144\n",
       "776   realDonaldTrump  1167767578854473728    LVS  132.255322  1.047288e-130\n",
       "873          elonmusk  1127276637366640640   MSFT   69.056860  3.859427e-114\n",
       "872          elonmusk  1127276856476987392   MSFT   69.056860  3.859427e-114\n",
       "1288         elonmusk   949073163475931138   SNAP  125.150766  3.950915e-113"
      ]
     },
     "execution_count": 160,
     "metadata": {},
     "output_type": "execute_result"
    }
   ],
   "source": [
    "# --- 4. run study ------------------------------------------------------------\n",
    "result_nosentiment_df = run_event_study(tweets_df, prices_df, tickers_topics_df, use_finbert=False)\n",
    "\n",
    "# e.g. keep only strongly significant results\n",
    "sig_nosentiment = result_nosentiment_df[result_nosentiment_df['pvalue'] < 0.05]\n",
    "\n",
    "sig_nosentiment.sort_values('pvalue').head(20)"
   ]
  },
  {
   "cell_type": "code",
   "execution_count": 161,
   "id": "ea14d907-bc7e-453f-ab20-42cd4c8cb0c1",
   "metadata": {},
   "outputs": [
    {
     "data": {
      "text/plain": [
       "214"
      ]
     },
     "execution_count": 161,
     "metadata": {},
     "output_type": "execute_result"
    }
   ],
   "source": [
    "len(sig_nosentiment)"
   ]
  },
  {
   "cell_type": "code",
   "execution_count": 177,
   "id": "3fc23edd-f6c9-4796-a2cc-850596b82730",
   "metadata": {},
   "outputs": [
    {
     "data": {
      "text/html": [
       "<div>\n",
       "<style scoped>\n",
       "    .dataframe tbody tr th:only-of-type {\n",
       "        vertical-align: middle;\n",
       "    }\n",
       "\n",
       "    .dataframe tbody tr th {\n",
       "        vertical-align: top;\n",
       "    }\n",
       "\n",
       "    .dataframe thead th {\n",
       "        text-align: right;\n",
       "    }\n",
       "</style>\n",
       "<table border=\"1\" class=\"dataframe\">\n",
       "  <thead>\n",
       "    <tr style=\"text-align: right;\">\n",
       "      <th></th>\n",
       "      <th>tweet_id</th>\n",
       "      <th>score</th>\n",
       "      <th>handle</th>\n",
       "      <th>timestamp</th>\n",
       "      <th>ticker</th>\n",
       "    </tr>\n",
       "  </thead>\n",
       "  <tbody>\n",
       "    <tr>\n",
       "      <th>0</th>\n",
       "      <td>1243075957294055424</td>\n",
       "      <td>19.945234</td>\n",
       "      <td>@elonmusk</td>\n",
       "      <td>2020-03-26 06:56:00</td>\n",
       "      <td>AAPL</td>\n",
       "    </tr>\n",
       "    <tr>\n",
       "      <th>0</th>\n",
       "      <td>1243075957294055424</td>\n",
       "      <td>19.945234</td>\n",
       "      <td>@elonmusk</td>\n",
       "      <td>2020-03-26 06:56:00</td>\n",
       "      <td>BAC</td>\n",
       "    </tr>\n",
       "    <tr>\n",
       "      <th>0</th>\n",
       "      <td>1243075957294055424</td>\n",
       "      <td>19.945234</td>\n",
       "      <td>@elonmusk</td>\n",
       "      <td>2020-03-26 06:56:00</td>\n",
       "      <td>DIS</td>\n",
       "    </tr>\n",
       "    <tr>\n",
       "      <th>0</th>\n",
       "      <td>1243075957294055424</td>\n",
       "      <td>19.945234</td>\n",
       "      <td>@elonmusk</td>\n",
       "      <td>2020-03-26 06:56:00</td>\n",
       "      <td>KO</td>\n",
       "    </tr>\n",
       "    <tr>\n",
       "      <th>0</th>\n",
       "      <td>1243075957294055424</td>\n",
       "      <td>19.945234</td>\n",
       "      <td>@elonmusk</td>\n",
       "      <td>2020-03-26 06:56:00</td>\n",
       "      <td>LDOS</td>\n",
       "    </tr>\n",
       "  </tbody>\n",
       "</table>\n",
       "</div>"
      ],
      "text/plain": [
       "              tweet_id      score     handle           timestamp ticker\n",
       "0  1243075957294055424  19.945234  @elonmusk 2020-03-26 06:56:00   AAPL\n",
       "0  1243075957294055424  19.945234  @elonmusk 2020-03-26 06:56:00    BAC\n",
       "0  1243075957294055424  19.945234  @elonmusk 2020-03-26 06:56:00    DIS\n",
       "0  1243075957294055424  19.945234  @elonmusk 2020-03-26 06:56:00     KO\n",
       "0  1243075957294055424  19.945234  @elonmusk 2020-03-26 06:56:00   LDOS"
      ]
     },
     "execution_count": 177,
     "metadata": {},
     "output_type": "execute_result"
    }
   ],
   "source": [
    "top_volatility_df = pd.read_csv('../data/top_volatility_tweets_v2.csv').rename(columns={'ticker': 'SYM_ROOT'})\n",
    "\n",
    "top_volatility_df['timestamp'] = pd.to_datetime(top_volatility_df['timestamp'])\n",
    "\n",
    "top_volatility_df['ticker_list'] = top_volatility_df['SYM_ROOT'].apply(lambda x: [t.strip() for t in x.split(',')])\n",
    "\n",
    "top_volatility_df = top_volatility_df.explode('ticker_list').rename(columns={'ticker_list': 'ticker'})\n",
    "del top_volatility_df['SYM_ROOT']\n",
    "\n",
    "top_volatility_df.head()"
   ]
  },
  {
   "cell_type": "code",
   "execution_count": 193,
   "id": "5781f74e-f71e-493d-9899-1ce8385d53f7",
   "metadata": {},
   "outputs": [
    {
     "data": {
      "text/html": [
       "<div>\n",
       "<style scoped>\n",
       "    .dataframe tbody tr th:only-of-type {\n",
       "        vertical-align: middle;\n",
       "    }\n",
       "\n",
       "    .dataframe tbody tr th {\n",
       "        vertical-align: top;\n",
       "    }\n",
       "\n",
       "    .dataframe thead th {\n",
       "        text-align: right;\n",
       "    }\n",
       "</style>\n",
       "<table border=\"1\" class=\"dataframe\">\n",
       "  <thead>\n",
       "    <tr style=\"text-align: right;\">\n",
       "      <th></th>\n",
       "      <th>handle</th>\n",
       "      <th>tweet_id</th>\n",
       "      <th>ticker</th>\n",
       "      <th>gamma</th>\n",
       "      <th>pvalue</th>\n",
       "      <th>score</th>\n",
       "    </tr>\n",
       "  </thead>\n",
       "  <tbody>\n",
       "    <tr>\n",
       "      <th>0</th>\n",
       "      <td>richardbranson</td>\n",
       "      <td>1335873162907701253</td>\n",
       "      <td>AAL</td>\n",
       "      <td>0.000000</td>\n",
       "      <td>NaN</td>\n",
       "      <td>5.223565</td>\n",
       "    </tr>\n",
       "    <tr>\n",
       "      <th>1</th>\n",
       "      <td>richardbranson</td>\n",
       "      <td>1246087905593917441</td>\n",
       "      <td>AAL</td>\n",
       "      <td>-0.976909</td>\n",
       "      <td>8.448350e-01</td>\n",
       "      <td>-0.044711</td>\n",
       "    </tr>\n",
       "    <tr>\n",
       "      <th>2</th>\n",
       "      <td>richardbranson</td>\n",
       "      <td>1187256464664154113</td>\n",
       "      <td>AAL</td>\n",
       "      <td>35.683927</td>\n",
       "      <td>6.843743e-12</td>\n",
       "      <td>0.468481</td>\n",
       "    </tr>\n",
       "    <tr>\n",
       "      <th>3</th>\n",
       "      <td>richardbranson</td>\n",
       "      <td>1181940457766559745</td>\n",
       "      <td>AAL</td>\n",
       "      <td>0.000000</td>\n",
       "      <td>NaN</td>\n",
       "      <td>4.520996</td>\n",
       "    </tr>\n",
       "    <tr>\n",
       "      <th>4</th>\n",
       "      <td>richardbranson</td>\n",
       "      <td>1174626364500119554</td>\n",
       "      <td>AAL</td>\n",
       "      <td>-0.526822</td>\n",
       "      <td>9.263120e-01</td>\n",
       "      <td>1.702097</td>\n",
       "    </tr>\n",
       "  </tbody>\n",
       "</table>\n",
       "</div>"
      ],
      "text/plain": [
       "           handle             tweet_id ticker      gamma        pvalue  \\\n",
       "0  richardbranson  1335873162907701253    AAL   0.000000           NaN   \n",
       "1  richardbranson  1246087905593917441    AAL  -0.976909  8.448350e-01   \n",
       "2  richardbranson  1187256464664154113    AAL  35.683927  6.843743e-12   \n",
       "3  richardbranson  1181940457766559745    AAL   0.000000           NaN   \n",
       "4  richardbranson  1174626364500119554    AAL  -0.526822  9.263120e-01   \n",
       "\n",
       "      score  \n",
       "0  5.223565  \n",
       "1 -0.044711  \n",
       "2  0.468481  \n",
       "3  4.520996  \n",
       "4  1.702097  "
      ]
     },
     "execution_count": 193,
     "metadata": {},
     "output_type": "execute_result"
    }
   ],
   "source": [
    "combined_df = result_df.merge(\n",
    "    top_volatility_df[['tweet_id', 'score', 'ticker']],\n",
    "    on=['tweet_id', 'ticker'],\n",
    "    how='inner'\n",
    ")\n",
    "\n",
    "combined_df.head()"
   ]
  },
  {
   "cell_type": "code",
   "execution_count": 194,
   "id": "a1f91956-7cd1-4741-b3a0-f029c8937136",
   "metadata": {},
   "outputs": [
    {
     "data": {
      "text/plain": [
       "175"
      ]
     },
     "execution_count": 194,
     "metadata": {},
     "output_type": "execute_result"
    }
   ],
   "source": [
    "len(combined_df)"
   ]
  }
 ],
 "metadata": {
  "kernelspec": {
   "display_name": "Python 3 (ipykernel)",
   "language": "python",
   "name": "python3"
  },
  "language_info": {
   "codemirror_mode": {
    "name": "ipython",
    "version": 3
   },
   "file_extension": ".py",
   "mimetype": "text/x-python",
   "name": "python",
   "nbconvert_exporter": "python",
   "pygments_lexer": "ipython3",
   "version": "3.9.6"
  }
 },
 "nbformat": 4,
 "nbformat_minor": 5
}
