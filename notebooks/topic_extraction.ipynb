{
 "cells": [
  {
   "cell_type": "code",
   "execution_count": 2,
   "id": "13f2f44d-1073-4b1d-9511-a02e5c50875d",
   "metadata": {},
   "outputs": [],
   "source": [
    "\"\"\"\n",
    "Topic Extraction:  ranks each tweet in a pre-defined list of topics.\n",
    "\"\"\"\n",
    "import pandas as pd\n",
    "from transformers import pipeline\n",
    "from tqdm import tqdm"
   ]
  },
  {
   "cell_type": "code",
   "execution_count": 2,
   "id": "675a5fa6-3bda-4997-a903-0012b333e3e7",
   "metadata": {},
   "outputs": [
    {
     "name": "stderr",
     "output_type": "stream",
     "text": [
      "Device set to use mps:0\n"
     ]
    }
   ],
   "source": [
    "classifier = pipeline('zero-shot-classification', model='facebook/bart-large-mnli')\n",
    "\n",
    "candidate_labels = ['Healthcare and Pharmaceuticals', 'Technology', 'Energy', 'Financials',\n",
    "                    'Automotive', 'Agriculture', 'Airlines and Travel',\n",
    "                    'Cryptocurrency and Fintech',\n",
    "                    'Defense and Aerospace', 'Arts and Entertainment']"
   ]
  },
  {
   "cell_type": "code",
   "execution_count": 3,
   "id": "f4427122-8096-485d-a689-44523e01e8a6",
   "metadata": {},
   "outputs": [],
   "source": [
    "def classify_tweet(text):\n",
    "    \"\"\"\n",
    "    Scores how likely a tweet refers to a topic.\n",
    "    \"\"\"\n",
    "    # pylint: disable=W0718\n",
    "    try:\n",
    "        result = classifier(text, candidate_labels, multi_label=True)\n",
    "\n",
    "        return dict(zip(result['labels'], result['scores']))\n",
    "    except Exception as e:\n",
    "        print(f'Error classifying tweet: {e}')\n",
    "        return {}\n",
    "    # pylint: enable=W0718"
   ]
  },
  {
   "cell_type": "code",
   "execution_count": 4,
   "id": "28d4381e-32a2-453e-a3c8-376c4d8600fe",
   "metadata": {},
   "outputs": [
    {
     "data": {
      "text/html": [
       "<div>\n",
       "<style scoped>\n",
       "    .dataframe tbody tr th:only-of-type {\n",
       "        vertical-align: middle;\n",
       "    }\n",
       "\n",
       "    .dataframe tbody tr th {\n",
       "        vertical-align: top;\n",
       "    }\n",
       "\n",
       "    .dataframe thead th {\n",
       "        text-align: right;\n",
       "    }\n",
       "</style>\n",
       "<table border=\"1\" class=\"dataframe\">\n",
       "  <thead>\n",
       "    <tr style=\"text-align: right;\">\n",
       "      <th></th>\n",
       "      <th>id</th>\n",
       "      <th>user_id</th>\n",
       "      <th>handle</th>\n",
       "      <th>clean_text</th>\n",
       "      <th>lang</th>\n",
       "      <th>timestamp</th>\n",
       "      <th>sentiment_label</th>\n",
       "      <th>sentiment_score</th>\n",
       "    </tr>\n",
       "  </thead>\n",
       "  <tbody>\n",
       "    <tr>\n",
       "      <th>0</th>\n",
       "      <td>1603456812723933194</td>\n",
       "      <td>12.0</td>\n",
       "      <td>jack</td>\n",
       "      <td>RT @ODELL: @nobsbitcoin love to see it, if yal...</td>\n",
       "      <td>en</td>\n",
       "      <td>2022-12-15 18:27:49.597000+00:00</td>\n",
       "      <td>Neutral</td>\n",
       "      <td>0.977740</td>\n",
       "    </tr>\n",
       "    <tr>\n",
       "      <th>1</th>\n",
       "      <td>1600412216687149056</td>\n",
       "      <td>12.0</td>\n",
       "      <td>jack</td>\n",
       "      <td>RT @TheGuySwann: It would be so amazing to see...</td>\n",
       "      <td>en</td>\n",
       "      <td>2022-12-07 08:49:41.336000+00:00</td>\n",
       "      <td>Positive</td>\n",
       "      <td>0.999987</td>\n",
       "    </tr>\n",
       "    <tr>\n",
       "      <th>2</th>\n",
       "      <td>1595502702854692866</td>\n",
       "      <td>12.0</td>\n",
       "      <td>jack</td>\n",
       "      <td>RT @kendricklamar: big steppers tour   (direct...</td>\n",
       "      <td>en</td>\n",
       "      <td>2022-11-23 19:41:02.024000+00:00</td>\n",
       "      <td>Neutral</td>\n",
       "      <td>0.999613</td>\n",
       "    </tr>\n",
       "    <tr>\n",
       "      <th>3</th>\n",
       "      <td>1589450807216599040</td>\n",
       "      <td>12.0</td>\n",
       "      <td>jack</td>\n",
       "      <td>@litcapital @elonmusk Sure</td>\n",
       "      <td>en</td>\n",
       "      <td>2022-11-07 02:52:57.665000+00:00</td>\n",
       "      <td>Neutral</td>\n",
       "      <td>0.985752</td>\n",
       "    </tr>\n",
       "    <tr>\n",
       "      <th>4</th>\n",
       "      <td>1582442966521503745</td>\n",
       "      <td>12.0</td>\n",
       "      <td>jack</td>\n",
       "      <td>RT @bluesky: Bluesky is building a social prot...</td>\n",
       "      <td>en</td>\n",
       "      <td>2022-10-18 18:46:18.244000+00:00</td>\n",
       "      <td>Neutral</td>\n",
       "      <td>0.999923</td>\n",
       "    </tr>\n",
       "  </tbody>\n",
       "</table>\n",
       "</div>"
      ],
      "text/plain": [
       "                    id  user_id handle  \\\n",
       "0  1603456812723933194     12.0   jack   \n",
       "1  1600412216687149056     12.0   jack   \n",
       "2  1595502702854692866     12.0   jack   \n",
       "3  1589450807216599040     12.0   jack   \n",
       "4  1582442966521503745     12.0   jack   \n",
       "\n",
       "                                          clean_text lang  \\\n",
       "0  RT @ODELL: @nobsbitcoin love to see it, if yal...   en   \n",
       "1  RT @TheGuySwann: It would be so amazing to see...   en   \n",
       "2  RT @kendricklamar: big steppers tour   (direct...   en   \n",
       "3                         @litcapital @elonmusk Sure   en   \n",
       "4  RT @bluesky: Bluesky is building a social prot...   en   \n",
       "\n",
       "                          timestamp sentiment_label  sentiment_score  \n",
       "0  2022-12-15 18:27:49.597000+00:00         Neutral         0.977740  \n",
       "1  2022-12-07 08:49:41.336000+00:00        Positive         0.999987  \n",
       "2  2022-11-23 19:41:02.024000+00:00         Neutral         0.999613  \n",
       "3  2022-11-07 02:52:57.665000+00:00         Neutral         0.985752  \n",
       "4  2022-10-18 18:46:18.244000+00:00         Neutral         0.999923  "
      ]
     },
     "execution_count": 4,
     "metadata": {},
     "output_type": "execute_result"
    }
   ],
   "source": [
    "tweets = pd.read_csv('../data/tweets_with_sentiment.csv')\n",
    "tweets.head()"
   ]
  },
  {
   "cell_type": "code",
   "execution_count": null,
   "id": "8f9f00f5-1a9e-41da-8461-161404042365",
   "metadata": {},
   "outputs": [
    {
     "name": "stderr",
     "output_type": "stream",
     "text": [
      " 38%|██████████████████████████████                                                  | 1903/5059 [07:43<12:07,  4.34it/s]"
     ]
    }
   ],
   "source": [
    "tqdm.pandas()\n",
    "tweets['topic_scores'] = tweets['clean_text'].progress_apply(classify_tweet)"
   ]
  },
  {
   "cell_type": "code",
   "execution_count": null,
   "id": "181c874f-d6a8-4247-8428-0df8f457fffe",
   "metadata": {},
   "outputs": [],
   "source": [
    "tweets['top_topic'] = tweets['topic_scores'].apply(lambda d: max(d, key=d.get) if d else None)\n",
    "\n",
    "tweets = pd.concat([tweets, tweets['topic_scores'].apply(pd.Series)], axis=1)\n",
    "del tweets['topic_scores']"
   ]
  },
  {
   "cell_type": "code",
   "execution_count": null,
   "id": "bff93d08-ca6a-433b-accc-6dd775ce2e42",
   "metadata": {},
   "outputs": [],
   "source": [
    "tweets.head()"
   ]
  },
  {
   "cell_type": "code",
   "execution_count": null,
   "id": "a7106391-ee37-42c7-b060-a8d347c716c0",
   "metadata": {},
   "outputs": [],
   "source": [
    "tweets.to_csv('../data/tweets_with_sentiment_and_topic.csv')"
   ]
  },
  {
   "cell_type": "code",
   "execution_count": null,
   "id": "9521c3c4-2884-461a-bfd4-fe0c389735c9",
   "metadata": {
    "editable": true,
    "slideshow": {
     "slide_type": ""
    },
    "tags": []
   },
   "outputs": [],
   "source": []
  }
 ],
 "metadata": {
  "kernelspec": {
   "display_name": "Python 3 (ipykernel)",
   "language": "python",
   "name": "python3"
  },
  "language_info": {
   "codemirror_mode": {
    "name": "ipython",
    "version": 3
   },
   "file_extension": ".py",
   "mimetype": "text/x-python",
   "name": "python",
   "nbconvert_exporter": "python",
   "pygments_lexer": "ipython3",
   "version": "3.9.6"
  }
 },
 "nbformat": 4,
 "nbformat_minor": 5
}
