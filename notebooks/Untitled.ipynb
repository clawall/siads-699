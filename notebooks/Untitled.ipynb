{
 "cells": [
  {
   "cell_type": "code",
   "execution_count": 1,
   "id": "13f2f44d-1073-4b1d-9511-a02e5c50875d",
   "metadata": {},
   "outputs": [],
   "source": [
    "import pandas as pd"
   ]
  },
  {
   "cell_type": "code",
   "execution_count": 3,
   "id": "2ea8dc36-d477-4c0a-b58f-c6847f6b1bcf",
   "metadata": {},
   "outputs": [
    {
     "name": "stderr",
     "output_type": "stream",
     "text": [
      "/var/folders/6x/z_x1293938b_qn5ylrnb86d40000gn/T/ipykernel_19985/987137882.py:1: DtypeWarning: Columns (1,5,9,10,11,13,17,23,25,34,36,37,38,39,40,41,42,43,44,45) have mixed types. Specify dtype option on import or set low_memory=False.\n",
      "  df = pd.read_csv('../data/03_raw_df.csv')\n"
     ]
    }
   ],
   "source": [
    "df = pd.read_csv('../data/03_raw_df.csv')"
   ]
  },
  {
   "cell_type": "code",
   "execution_count": 26,
   "id": "675a5fa6-3bda-4997-a903-0012b333e3e7",
   "metadata": {},
   "outputs": [
    {
     "data": {
      "text/plain": [
       "184269"
      ]
     },
     "execution_count": 26,
     "metadata": {},
     "output_type": "execute_result"
    }
   ],
   "source": [
    "len(df)"
   ]
  },
  {
   "cell_type": "code",
   "execution_count": 17,
   "id": "4a187ed0-4efa-40ad-a435-a31721e67731",
   "metadata": {},
   "outputs": [
    {
     "data": {
      "text/plain": [
       "Index(['id', 'geo', 'lang', 'text', 'user', 'place', 'id_str', 'source',\n",
       "       'entities', 'favorited', 'retweeted', 'truncated', 'created_at',\n",
       "       'coordinates', 'contributors', 'retweet_count', 'favorite_count',\n",
       "       'is_quote_status', 'in_reply_to_user_id', 'in_reply_to_status_id',\n",
       "       'in_reply_to_screen_name', 'in_reply_to_user_id_str',\n",
       "       'in_reply_to_status_id_str', 'extended_entities', 'possibly_sensitive',\n",
       "       'quoted_status', 'quoted_status_id', 'quoted_status_id_str',\n",
       "       'retweeted_status', 'quote_count', 'reply_count', 'filter_level',\n",
       "       'timestamp_ms', 'display_text_range', 'quoted_status_permalink',\n",
       "       'extended_tweet', 'urls', 'deleted', 'hashtags', 'retrieved',\n",
       "       'user_mentions', 'legacy_imported', 'media', 'withheld_scope',\n",
       "       'withheld_copyright', 'withheld_in_countries'],\n",
       "      dtype='object')"
      ]
     },
     "execution_count": 17,
     "metadata": {},
     "output_type": "execute_result"
    }
   ],
   "source": [
    "df.columns"
   ]
  },
  {
   "cell_type": "code",
   "execution_count": 41,
   "id": "bf9c64eb-1603-499d-a38e-4cb7f4ab5514",
   "metadata": {},
   "outputs": [
    {
     "data": {
      "text/html": [
       "<div>\n",
       "<style scoped>\n",
       "    .dataframe tbody tr th:only-of-type {\n",
       "        vertical-align: middle;\n",
       "    }\n",
       "\n",
       "    .dataframe tbody tr th {\n",
       "        vertical-align: top;\n",
       "    }\n",
       "\n",
       "    .dataframe thead th {\n",
       "        text-align: right;\n",
       "    }\n",
       "</style>\n",
       "<table border=\"1\" class=\"dataframe\">\n",
       "  <thead>\n",
       "    <tr style=\"text-align: right;\">\n",
       "      <th></th>\n",
       "      <th>id</th>\n",
       "      <th>geo</th>\n",
       "      <th>lang</th>\n",
       "      <th>text</th>\n",
       "      <th>user</th>\n",
       "      <th>place</th>\n",
       "      <th>id_str</th>\n",
       "      <th>source</th>\n",
       "      <th>entities</th>\n",
       "      <th>favorited</th>\n",
       "      <th>...</th>\n",
       "      <th>urls</th>\n",
       "      <th>deleted</th>\n",
       "      <th>hashtags</th>\n",
       "      <th>retrieved</th>\n",
       "      <th>user_mentions</th>\n",
       "      <th>legacy_imported</th>\n",
       "      <th>media</th>\n",
       "      <th>withheld_scope</th>\n",
       "      <th>withheld_copyright</th>\n",
       "      <th>withheld_in_countries</th>\n",
       "    </tr>\n",
       "  </thead>\n",
       "  <tbody>\n",
       "    <tr>\n",
       "      <th>0</th>\n",
       "      <td>1642747470257201153</td>\n",
       "      <td>NaN</td>\n",
       "      <td>es</td>\n",
       "      <td>@DavidSacks Concur</td>\n",
       "      <td>{'id': 44196397, 'url': None, 'lang': None, 'n...</td>\n",
       "      <td>NaN</td>\n",
       "      <td>1642747470257201153</td>\n",
       "      <td>&lt;a href=\"http://twitter.com/download/iphone\" r...</td>\n",
       "      <td>{'urls': [], 'symbols': [], 'hashtags': [], 'u...</td>\n",
       "      <td>False</td>\n",
       "      <td>...</td>\n",
       "      <td>NaN</td>\n",
       "      <td>NaN</td>\n",
       "      <td>NaN</td>\n",
       "      <td>NaN</td>\n",
       "      <td>NaN</td>\n",
       "      <td>NaN</td>\n",
       "      <td>NaN</td>\n",
       "      <td>NaN</td>\n",
       "      <td>NaN</td>\n",
       "      <td>NaN</td>\n",
       "    </tr>\n",
       "    <tr>\n",
       "      <th>1</th>\n",
       "      <td>1642742984348438529</td>\n",
       "      <td>NaN</td>\n",
       "      <td>qme</td>\n",
       "      <td>@TheBabylonBee 🤣</td>\n",
       "      <td>{'id': 44196397, 'url': None, 'lang': None, 'n...</td>\n",
       "      <td>NaN</td>\n",
       "      <td>1642742984348438529</td>\n",
       "      <td>&lt;a href=\"http://twitter.com/download/iphone\" r...</td>\n",
       "      <td>{'urls': [], 'symbols': [], 'hashtags': [], 'u...</td>\n",
       "      <td>False</td>\n",
       "      <td>...</td>\n",
       "      <td>NaN</td>\n",
       "      <td>NaN</td>\n",
       "      <td>NaN</td>\n",
       "      <td>NaN</td>\n",
       "      <td>NaN</td>\n",
       "      <td>NaN</td>\n",
       "      <td>NaN</td>\n",
       "      <td>NaN</td>\n",
       "      <td>NaN</td>\n",
       "      <td>NaN</td>\n",
       "    </tr>\n",
       "    <tr>\n",
       "      <th>2</th>\n",
       "      <td>1642710694301929473</td>\n",
       "      <td>NaN</td>\n",
       "      <td>hi</td>\n",
       "      <td>MetamorphosisAI https://t.co/GvZ2etBfPL</td>\n",
       "      <td>{'id': 44196397, 'url': None, 'lang': None, 'n...</td>\n",
       "      <td>NaN</td>\n",
       "      <td>1642710694301929473</td>\n",
       "      <td>&lt;a href=\"http://twitter.com/download/iphone\" r...</td>\n",
       "      <td>{'urls': [], 'media': [{'id': 1642710687716900...</td>\n",
       "      <td>False</td>\n",
       "      <td>...</td>\n",
       "      <td>NaN</td>\n",
       "      <td>NaN</td>\n",
       "      <td>NaN</td>\n",
       "      <td>NaN</td>\n",
       "      <td>NaN</td>\n",
       "      <td>NaN</td>\n",
       "      <td>NaN</td>\n",
       "      <td>NaN</td>\n",
       "      <td>NaN</td>\n",
       "      <td>NaN</td>\n",
       "    </tr>\n",
       "    <tr>\n",
       "      <th>3</th>\n",
       "      <td>1642709295203774465</td>\n",
       "      <td>NaN</td>\n",
       "      <td>en</td>\n",
       "      <td>@boringcompany @TUM_Boring Well done!</td>\n",
       "      <td>{'id': 44196397, 'url': None, 'lang': None, 'n...</td>\n",
       "      <td>NaN</td>\n",
       "      <td>1642709295203774465</td>\n",
       "      <td>&lt;a href=\"http://twitter.com/download/iphone\" r...</td>\n",
       "      <td>{'urls': [], 'symbols': [], 'hashtags': [], 'u...</td>\n",
       "      <td>False</td>\n",
       "      <td>...</td>\n",
       "      <td>NaN</td>\n",
       "      <td>NaN</td>\n",
       "      <td>NaN</td>\n",
       "      <td>NaN</td>\n",
       "      <td>NaN</td>\n",
       "      <td>NaN</td>\n",
       "      <td>NaN</td>\n",
       "      <td>NaN</td>\n",
       "      <td>NaN</td>\n",
       "      <td>NaN</td>\n",
       "    </tr>\n",
       "    <tr>\n",
       "      <th>4</th>\n",
       "      <td>1642696342832312321</td>\n",
       "      <td>NaN</td>\n",
       "      <td>en</td>\n",
       "      <td>@ylecun Actually, airplanes used to crash freq...</td>\n",
       "      <td>{'id': 44196397, 'url': None, 'lang': None, 'n...</td>\n",
       "      <td>NaN</td>\n",
       "      <td>1642696342832312321</td>\n",
       "      <td>&lt;a href=\"http://twitter.com/download/iphone\" r...</td>\n",
       "      <td>{'urls': [{'url': 'https://t.co/NQMeup9xTq', '...</td>\n",
       "      <td>False</td>\n",
       "      <td>...</td>\n",
       "      <td>NaN</td>\n",
       "      <td>NaN</td>\n",
       "      <td>NaN</td>\n",
       "      <td>NaN</td>\n",
       "      <td>NaN</td>\n",
       "      <td>NaN</td>\n",
       "      <td>NaN</td>\n",
       "      <td>NaN</td>\n",
       "      <td>NaN</td>\n",
       "      <td>NaN</td>\n",
       "    </tr>\n",
       "  </tbody>\n",
       "</table>\n",
       "<p>5 rows × 46 columns</p>\n",
       "</div>"
      ],
      "text/plain": [
       "                    id  geo lang  \\\n",
       "0  1642747470257201153  NaN   es   \n",
       "1  1642742984348438529  NaN  qme   \n",
       "2  1642710694301929473  NaN   hi   \n",
       "3  1642709295203774465  NaN   en   \n",
       "4  1642696342832312321  NaN   en   \n",
       "\n",
       "                                                text  \\\n",
       "0                                 @DavidSacks Concur   \n",
       "1                                   @TheBabylonBee 🤣   \n",
       "2            MetamorphosisAI https://t.co/GvZ2etBfPL   \n",
       "3              @boringcompany @TUM_Boring Well done!   \n",
       "4  @ylecun Actually, airplanes used to crash freq...   \n",
       "\n",
       "                                                user place  \\\n",
       "0  {'id': 44196397, 'url': None, 'lang': None, 'n...   NaN   \n",
       "1  {'id': 44196397, 'url': None, 'lang': None, 'n...   NaN   \n",
       "2  {'id': 44196397, 'url': None, 'lang': None, 'n...   NaN   \n",
       "3  {'id': 44196397, 'url': None, 'lang': None, 'n...   NaN   \n",
       "4  {'id': 44196397, 'url': None, 'lang': None, 'n...   NaN   \n",
       "\n",
       "                id_str                                             source  \\\n",
       "0  1642747470257201153  <a href=\"http://twitter.com/download/iphone\" r...   \n",
       "1  1642742984348438529  <a href=\"http://twitter.com/download/iphone\" r...   \n",
       "2  1642710694301929473  <a href=\"http://twitter.com/download/iphone\" r...   \n",
       "3  1642709295203774465  <a href=\"http://twitter.com/download/iphone\" r...   \n",
       "4  1642696342832312321  <a href=\"http://twitter.com/download/iphone\" r...   \n",
       "\n",
       "                                            entities favorited  ... urls  \\\n",
       "0  {'urls': [], 'symbols': [], 'hashtags': [], 'u...     False  ...  NaN   \n",
       "1  {'urls': [], 'symbols': [], 'hashtags': [], 'u...     False  ...  NaN   \n",
       "2  {'urls': [], 'media': [{'id': 1642710687716900...     False  ...  NaN   \n",
       "3  {'urls': [], 'symbols': [], 'hashtags': [], 'u...     False  ...  NaN   \n",
       "4  {'urls': [{'url': 'https://t.co/NQMeup9xTq', '...     False  ...  NaN   \n",
       "\n",
       "  deleted hashtags retrieved  user_mentions  legacy_imported  media  \\\n",
       "0     NaN      NaN       NaN            NaN              NaN    NaN   \n",
       "1     NaN      NaN       NaN            NaN              NaN    NaN   \n",
       "2     NaN      NaN       NaN            NaN              NaN    NaN   \n",
       "3     NaN      NaN       NaN            NaN              NaN    NaN   \n",
       "4     NaN      NaN       NaN            NaN              NaN    NaN   \n",
       "\n",
       "  withheld_scope  withheld_copyright  withheld_in_countries  \n",
       "0            NaN                 NaN                    NaN  \n",
       "1            NaN                 NaN                    NaN  \n",
       "2            NaN                 NaN                    NaN  \n",
       "3            NaN                 NaN                    NaN  \n",
       "4            NaN                 NaN                    NaN  \n",
       "\n",
       "[5 rows x 46 columns]"
      ]
     },
     "execution_count": 41,
     "metadata": {},
     "output_type": "execute_result"
    }
   ],
   "source": [
    "df.head()"
   ]
  },
  {
   "cell_type": "code",
   "execution_count": 40,
   "id": "35dad007-abef-4eff-bf20-0129515b0cc2",
   "metadata": {},
   "outputs": [
    {
     "data": {
      "text/plain": [
       "count                                                 12541\n",
       "unique                                                11451\n",
       "top       {'media': [{'id': 1368279257852567552, 'url': ...\n",
       "freq                                                      2\n",
       "Name: extended_entities, dtype: object"
      ]
     },
     "execution_count": 40,
     "metadata": {},
     "output_type": "execute_result"
    }
   ],
   "source": [
    "df['extended_entities'].describe()"
   ]
  }
 ],
 "metadata": {
  "kernelspec": {
   "display_name": "Python 3 (ipykernel)",
   "language": "python",
   "name": "python3"
  },
  "language_info": {
   "codemirror_mode": {
    "name": "ipython",
    "version": 3
   },
   "file_extension": ".py",
   "mimetype": "text/x-python",
   "name": "python",
   "nbconvert_exporter": "python",
   "pygments_lexer": "ipython3",
   "version": "3.9.6"
  }
 },
 "nbformat": 4,
 "nbformat_minor": 5
}
