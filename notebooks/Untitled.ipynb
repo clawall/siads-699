{
 "cells": [
  {
   "cell_type": "code",
   "execution_count": 1,
   "id": "13f2f44d-1073-4b1d-9511-a02e5c50875d",
   "metadata": {},
   "outputs": [],
   "source": [
    "import pandas as pd"
   ]
  },
  {
   "cell_type": "code",
   "execution_count": 2,
   "id": "675a5fa6-3bda-4997-a903-0012b333e3e7",
   "metadata": {
    "scrolled": true
   },
   "outputs": [
    {
     "name": "stderr",
     "output_type": "stream",
     "text": [
      "/var/folders/6x/z_x1293938b_qn5ylrnb86d40000gn/T/ipykernel_10956/1628410027.py:4: DtypeWarning: Columns (8) have mixed types. Specify dtype option on import or set low_memory=False.\n",
      "  for chunk in pd.read_csv('../data/khyo9nd4xhpobdzx.csv', chunksize=chunksize, dtype={\n",
      "/var/folders/6x/z_x1293938b_qn5ylrnb86d40000gn/T/ipykernel_10956/1628410027.py:4: DtypeWarning: Columns (8) have mixed types. Specify dtype option on import or set low_memory=False.\n",
      "  for chunk in pd.read_csv('../data/khyo9nd4xhpobdzx.csv', chunksize=chunksize, dtype={\n",
      "/var/folders/6x/z_x1293938b_qn5ylrnb86d40000gn/T/ipykernel_10956/1628410027.py:4: DtypeWarning: Columns (8) have mixed types. Specify dtype option on import or set low_memory=False.\n",
      "  for chunk in pd.read_csv('../data/khyo9nd4xhpobdzx.csv', chunksize=chunksize, dtype={\n",
      "/var/folders/6x/z_x1293938b_qn5ylrnb86d40000gn/T/ipykernel_10956/1628410027.py:4: DtypeWarning: Columns (8) have mixed types. Specify dtype option on import or set low_memory=False.\n",
      "  for chunk in pd.read_csv('../data/khyo9nd4xhpobdzx.csv', chunksize=chunksize, dtype={\n",
      "/var/folders/6x/z_x1293938b_qn5ylrnb86d40000gn/T/ipykernel_10956/1628410027.py:4: DtypeWarning: Columns (8) have mixed types. Specify dtype option on import or set low_memory=False.\n",
      "  for chunk in pd.read_csv('../data/khyo9nd4xhpobdzx.csv', chunksize=chunksize, dtype={\n",
      "/var/folders/6x/z_x1293938b_qn5ylrnb86d40000gn/T/ipykernel_10956/1628410027.py:4: DtypeWarning: Columns (8) have mixed types. Specify dtype option on import or set low_memory=False.\n",
      "  for chunk in pd.read_csv('../data/khyo9nd4xhpobdzx.csv', chunksize=chunksize, dtype={\n",
      "/var/folders/6x/z_x1293938b_qn5ylrnb86d40000gn/T/ipykernel_10956/1628410027.py:4: DtypeWarning: Columns (8) have mixed types. Specify dtype option on import or set low_memory=False.\n",
      "  for chunk in pd.read_csv('../data/khyo9nd4xhpobdzx.csv', chunksize=chunksize, dtype={\n",
      "/var/folders/6x/z_x1293938b_qn5ylrnb86d40000gn/T/ipykernel_10956/1628410027.py:4: DtypeWarning: Columns (8) have mixed types. Specify dtype option on import or set low_memory=False.\n",
      "  for chunk in pd.read_csv('../data/khyo9nd4xhpobdzx.csv', chunksize=chunksize, dtype={\n",
      "/var/folders/6x/z_x1293938b_qn5ylrnb86d40000gn/T/ipykernel_10956/1628410027.py:4: DtypeWarning: Columns (8) have mixed types. Specify dtype option on import or set low_memory=False.\n",
      "  for chunk in pd.read_csv('../data/khyo9nd4xhpobdzx.csv', chunksize=chunksize, dtype={\n"
     ]
    }
   ],
   "source": [
    "chunksize = 10**5\n",
    "results = []\n",
    "\n",
    "for chunk in pd.read_csv('../data/khyo9nd4xhpobdzx.csv', chunksize=chunksize, dtype={\n",
    "    'SYM_SUFFIX': str,\n",
    "    'SYM_ROOT': str,\n",
    "    'EX': str,\n",
    "    'TR_SCOND': str\n",
    "}):\n",
    "# for chunk in pd.read_csv('../data/khyo9nd4xhpobdzx.csv', chunksize=chunksize):\n",
    "    chunk['timestamp'] = pd.to_datetime(chunk['DATE'] + ' ' + chunk['TIME_M'])\n",
    "    \n",
    "    # chunk.set_index('timestamp', inplace=True)\n",
    "\n",
    "    # resampled = chunk.resample('1min').PRICE.mean()\n",
    "    chunk['PRICE'] = pd.to_numeric(chunk['PRICE'], errors='coerce')\n",
    "    \n",
    "    chunk = chunk[['timestamp', 'SYM_ROOT', 'PRICE']]\n",
    "\n",
    "    chunk.set_index('timestamp', inplace=True)\n",
    "\n",
    "    resampled = (\n",
    "        chunk\n",
    "        .groupby('SYM_ROOT')\n",
    "        .resample('1min')\n",
    "        .agg({'PRICE': 'mean'})\n",
    "        .reset_index()\n",
    "    )\n",
    "\n",
    "    results.append(resampled)\n",
    "    # break"
   ]
  },
  {
   "cell_type": "code",
   "execution_count": 3,
   "id": "68927311-bd37-43d3-bb6e-a0b9f8221837",
   "metadata": {},
   "outputs": [],
   "source": [
    "final = pd.concat(results)"
   ]
  },
  {
   "cell_type": "code",
   "execution_count": 4,
   "id": "135c10a2-2764-4121-8eee-42f1faea9fcd",
   "metadata": {},
   "outputs": [],
   "source": [
    "final = (\n",
    "    final\n",
    "    .groupby(['timestamp', 'SYM_ROOT'])['PRICE']\n",
    "    .mean()\n",
    "    .reset_index()\n",
    ")\n",
    "\n",
    "final = final.rename(columns={'PRICE': 'avg_price'})"
   ]
  },
  {
   "cell_type": "code",
   "execution_count": 5,
   "id": "cd4d696b-bd6a-4312-9ac8-7edeccbed940",
   "metadata": {},
   "outputs": [
    {
     "data": {
      "text/html": [
       "<div>\n",
       "<style scoped>\n",
       "    .dataframe tbody tr th:only-of-type {\n",
       "        vertical-align: middle;\n",
       "    }\n",
       "\n",
       "    .dataframe tbody tr th {\n",
       "        vertical-align: top;\n",
       "    }\n",
       "\n",
       "    .dataframe thead th {\n",
       "        text-align: right;\n",
       "    }\n",
       "</style>\n",
       "<table border=\"1\" class=\"dataframe\">\n",
       "  <thead>\n",
       "    <tr style=\"text-align: right;\">\n",
       "      <th></th>\n",
       "      <th>timestamp</th>\n",
       "      <th>SYM_ROOT</th>\n",
       "      <th>avg_price</th>\n",
       "    </tr>\n",
       "  </thead>\n",
       "  <tbody>\n",
       "    <tr>\n",
       "      <th>0</th>\n",
       "      <td>2018-01-02 04:00:00</td>\n",
       "      <td>AAPL</td>\n",
       "      <td>169.190909</td>\n",
       "    </tr>\n",
       "    <tr>\n",
       "      <th>1</th>\n",
       "      <td>2018-01-02 04:00:00</td>\n",
       "      <td>AMZN</td>\n",
       "      <td>1170.662500</td>\n",
       "    </tr>\n",
       "    <tr>\n",
       "      <th>2</th>\n",
       "      <td>2018-01-02 04:00:00</td>\n",
       "      <td>BA</td>\n",
       "      <td>295.000000</td>\n",
       "    </tr>\n",
       "    <tr>\n",
       "      <th>3</th>\n",
       "      <td>2018-01-02 04:00:00</td>\n",
       "      <td>C</td>\n",
       "      <td>74.450000</td>\n",
       "    </tr>\n",
       "    <tr>\n",
       "      <th>4</th>\n",
       "      <td>2018-01-02 04:00:00</td>\n",
       "      <td>DIS</td>\n",
       "      <td>107.510000</td>\n",
       "    </tr>\n",
       "  </tbody>\n",
       "</table>\n",
       "</div>"
      ],
      "text/plain": [
       "            timestamp SYM_ROOT    avg_price\n",
       "0 2018-01-02 04:00:00     AAPL   169.190909\n",
       "1 2018-01-02 04:00:00     AMZN  1170.662500\n",
       "2 2018-01-02 04:00:00       BA   295.000000\n",
       "3 2018-01-02 04:00:00        C    74.450000\n",
       "4 2018-01-02 04:00:00      DIS   107.510000"
      ]
     },
     "execution_count": 5,
     "metadata": {},
     "output_type": "execute_result"
    }
   ],
   "source": [
    "final.head()"
   ]
  },
  {
   "cell_type": "code",
   "execution_count": 6,
   "id": "a4cc90ba-00f9-4a6e-9730-6d7078a8b97b",
   "metadata": {},
   "outputs": [
    {
     "data": {
      "text/html": [
       "<div>\n",
       "<style scoped>\n",
       "    .dataframe tbody tr th:only-of-type {\n",
       "        vertical-align: middle;\n",
       "    }\n",
       "\n",
       "    .dataframe tbody tr th {\n",
       "        vertical-align: top;\n",
       "    }\n",
       "\n",
       "    .dataframe thead th {\n",
       "        text-align: right;\n",
       "    }\n",
       "</style>\n",
       "<table border=\"1\" class=\"dataframe\">\n",
       "  <thead>\n",
       "    <tr style=\"text-align: right;\">\n",
       "      <th></th>\n",
       "      <th>timestamp</th>\n",
       "      <th>SYM_ROOT</th>\n",
       "      <th>avg_price</th>\n",
       "    </tr>\n",
       "  </thead>\n",
       "  <tbody>\n",
       "    <tr>\n",
       "      <th>23895537</th>\n",
       "      <td>2018-12-31 19:59:00</td>\n",
       "      <td>NVAX</td>\n",
       "      <td>1.76</td>\n",
       "    </tr>\n",
       "    <tr>\n",
       "      <th>23895538</th>\n",
       "      <td>2018-12-31 19:59:00</td>\n",
       "      <td>SQ</td>\n",
       "      <td>56.15</td>\n",
       "    </tr>\n",
       "    <tr>\n",
       "      <th>23895539</th>\n",
       "      <td>2018-12-31 19:59:00</td>\n",
       "      <td>TSLA</td>\n",
       "      <td>333.30</td>\n",
       "    </tr>\n",
       "    <tr>\n",
       "      <th>23895540</th>\n",
       "      <td>2018-12-31 19:59:00</td>\n",
       "      <td>WYNN</td>\n",
       "      <td>98.63</td>\n",
       "    </tr>\n",
       "    <tr>\n",
       "      <th>23895541</th>\n",
       "      <td>2018-12-31 19:59:00</td>\n",
       "      <td>XOM</td>\n",
       "      <td>68.19</td>\n",
       "    </tr>\n",
       "  </tbody>\n",
       "</table>\n",
       "</div>"
      ],
      "text/plain": [
       "                   timestamp SYM_ROOT  avg_price\n",
       "23895537 2018-12-31 19:59:00     NVAX       1.76\n",
       "23895538 2018-12-31 19:59:00       SQ      56.15\n",
       "23895539 2018-12-31 19:59:00     TSLA     333.30\n",
       "23895540 2018-12-31 19:59:00     WYNN      98.63\n",
       "23895541 2018-12-31 19:59:00      XOM      68.19"
      ]
     },
     "execution_count": 6,
     "metadata": {},
     "output_type": "execute_result"
    }
   ],
   "source": [
    "final.tail()"
   ]
  },
  {
   "cell_type": "code",
   "execution_count": 7,
   "id": "66b546a0-b08d-4523-bdf7-74ad9f50dbbb",
   "metadata": {},
   "outputs": [
    {
     "data": {
      "text/plain": [
       "23895542"
      ]
     },
     "execution_count": 7,
     "metadata": {},
     "output_type": "execute_result"
    }
   ],
   "source": [
    "len(final)"
   ]
  },
  {
   "cell_type": "code",
   "execution_count": 8,
   "id": "0f3d4be3-b9b5-434d-b57f-72152bdb77bc",
   "metadata": {},
   "outputs": [
    {
     "data": {
      "text/html": [
       "<div>\n",
       "<style scoped>\n",
       "    .dataframe tbody tr th:only-of-type {\n",
       "        vertical-align: middle;\n",
       "    }\n",
       "\n",
       "    .dataframe tbody tr th {\n",
       "        vertical-align: top;\n",
       "    }\n",
       "\n",
       "    .dataframe thead th {\n",
       "        text-align: right;\n",
       "    }\n",
       "</style>\n",
       "<table border=\"1\" class=\"dataframe\">\n",
       "  <thead>\n",
       "    <tr style=\"text-align: right;\">\n",
       "      <th></th>\n",
       "      <th>timestamp</th>\n",
       "      <th>avg_price</th>\n",
       "    </tr>\n",
       "  </thead>\n",
       "  <tbody>\n",
       "    <tr>\n",
       "      <th>count</th>\n",
       "      <td>23895542</td>\n",
       "      <td>5.347726e+06</td>\n",
       "    </tr>\n",
       "    <tr>\n",
       "      <th>mean</th>\n",
       "      <td>2018-07-03 07:25:42.463943424</td>\n",
       "      <td>1.947901e+02</td>\n",
       "    </tr>\n",
       "    <tr>\n",
       "      <th>min</th>\n",
       "      <td>2018-01-02 04:00:00</td>\n",
       "      <td>1.000000e-04</td>\n",
       "    </tr>\n",
       "    <tr>\n",
       "      <th>25%</th>\n",
       "      <td>2018-04-02 10:40:00</td>\n",
       "      <td>4.646500e+01</td>\n",
       "    </tr>\n",
       "    <tr>\n",
       "      <th>50%</th>\n",
       "      <td>2018-07-03 09:14:00</td>\n",
       "      <td>8.175564e+01</td>\n",
       "    </tr>\n",
       "    <tr>\n",
       "      <th>75%</th>\n",
       "      <td>2018-10-03 03:02:00</td>\n",
       "      <td>1.627000e+02</td>\n",
       "    </tr>\n",
       "    <tr>\n",
       "      <th>max</th>\n",
       "      <td>2018-12-31 19:59:00</td>\n",
       "      <td>2.049861e+03</td>\n",
       "    </tr>\n",
       "    <tr>\n",
       "      <th>std</th>\n",
       "      <td>NaN</td>\n",
       "      <td>3.476683e+02</td>\n",
       "    </tr>\n",
       "  </tbody>\n",
       "</table>\n",
       "</div>"
      ],
      "text/plain": [
       "                           timestamp     avg_price\n",
       "count                       23895542  5.347726e+06\n",
       "mean   2018-07-03 07:25:42.463943424  1.947901e+02\n",
       "min              2018-01-02 04:00:00  1.000000e-04\n",
       "25%              2018-04-02 10:40:00  4.646500e+01\n",
       "50%              2018-07-03 09:14:00  8.175564e+01\n",
       "75%              2018-10-03 03:02:00  1.627000e+02\n",
       "max              2018-12-31 19:59:00  2.049861e+03\n",
       "std                              NaN  3.476683e+02"
      ]
     },
     "execution_count": 8,
     "metadata": {},
     "output_type": "execute_result"
    }
   ],
   "source": [
    "final.describe()"
   ]
  },
  {
   "cell_type": "code",
   "execution_count": 9,
   "id": "5940ab09-2a71-48fc-aa48-ef48fe0e695b",
   "metadata": {},
   "outputs": [],
   "source": [
    "final.to_parquet(\n",
    "    '../data/taq/',\n",
    "    engine='pyarrow',\n",
    "    index=False,\n",
    "    partition_cols=['SYM_ROOT']  # You can use any column here\n",
    ")"
   ]
  },
  {
   "cell_type": "code",
   "execution_count": null,
   "id": "b97fb53f-16b7-41e2-9375-1b6731b8c0bf",
   "metadata": {},
   "outputs": [],
   "source": []
  }
 ],
 "metadata": {
  "kernelspec": {
   "display_name": "Python 3 (ipykernel)",
   "language": "python",
   "name": "python3"
  },
  "language_info": {
   "codemirror_mode": {
    "name": "ipython",
    "version": 3
   },
   "file_extension": ".py",
   "mimetype": "text/x-python",
   "name": "python",
   "nbconvert_exporter": "python",
   "pygments_lexer": "ipython3",
   "version": "3.9.6"
  }
 },
 "nbformat": 4,
 "nbformat_minor": 5
}
